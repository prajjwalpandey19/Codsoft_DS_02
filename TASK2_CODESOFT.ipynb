{
  "nbformat": 4,
  "nbformat_minor": 0,
  "metadata": {
    "colab": {
      "provenance": []
    },
    "kernelspec": {
      "name": "python3",
      "display_name": "Python 3"
    },
    "language_info": {
      "name": "python"
    }
  },
  "cells": [
    {
      "cell_type": "code",
      "execution_count": null,
      "metadata": {
        "id": "3QROpNB59P1R"
      },
      "outputs": [],
      "source": [
        "import numpy as np\n",
        "import pandas as pd\n",
        "import matplotlib.pyplot as plt\n",
        "import seaborn as sns\n",
        "import plotly.express as px\n"
      ]
    },
    {
      "cell_type": "code",
      "source": [
        "df_movie = pd.read_csv('/content/IMDb Movies India.csv', encoding='latin-1')"
      ],
      "metadata": {
        "id": "VcL43FRgLaDw"
      },
      "execution_count": null,
      "outputs": []
    },
    {
      "cell_type": "code",
      "source": [
        "df_movie.head()"
      ],
      "metadata": {
        "colab": {
          "base_uri": "https://localhost:8080/",
          "height": 293
        },
        "id": "SshhuOcULxr2",
        "outputId": "eacdf728-f565-462f-ac1c-5c354df58fa9"
      },
      "execution_count": null,
      "outputs": [
        {
          "output_type": "execute_result",
          "data": {
            "text/plain": [
              "                                 Name    Year Duration            Genre  \\\n",
              "0                                         NaN      NaN            Drama   \n",
              "1  #Gadhvi (He thought he was Gandhi) -2019.0  109 min            Drama   \n",
              "2                         #Homecoming -2021.0   90 min   Drama, Musical   \n",
              "3                             #Yaaram -2019.0  110 min  Comedy, Romance   \n",
              "4                   ...And Once Again -2010.0  105 min            Drama   \n",
              "\n",
              "   Rating Votes            Director       Actor 1             Actor 2  \\\n",
              "0     NaN   NaN       J.S. Randhawa      Manmauji              Birbal   \n",
              "1     7.0     8       Gaurav Bakshi  Rasika Dugal      Vivek Ghamande   \n",
              "2     NaN   NaN  Soumyajit Majumdar  Sayani Gupta   Plabita Borthakur   \n",
              "3     4.4    35          Ovais Khan       Prateik          Ishita Raj   \n",
              "4     NaN   NaN        Amol Palekar  Rajat Kapoor  Rituparna Sengupta   \n",
              "\n",
              "           Actor 3  \n",
              "0  Rajendra Bhatia  \n",
              "1    Arvind Jangid  \n",
              "2       Roy Angana  \n",
              "3  Siddhant Kapoor  \n",
              "4      Antara Mali  "
            ],
            "text/html": [
              "\n",
              "  <div id=\"df-49fd4bc0-73d5-4701-a760-92b17ad0ffec\" class=\"colab-df-container\">\n",
              "    <div>\n",
              "<style scoped>\n",
              "    .dataframe tbody tr th:only-of-type {\n",
              "        vertical-align: middle;\n",
              "    }\n",
              "\n",
              "    .dataframe tbody tr th {\n",
              "        vertical-align: top;\n",
              "    }\n",
              "\n",
              "    .dataframe thead th {\n",
              "        text-align: right;\n",
              "    }\n",
              "</style>\n",
              "<table border=\"1\" class=\"dataframe\">\n",
              "  <thead>\n",
              "    <tr style=\"text-align: right;\">\n",
              "      <th></th>\n",
              "      <th>Name</th>\n",
              "      <th>Year</th>\n",
              "      <th>Duration</th>\n",
              "      <th>Genre</th>\n",
              "      <th>Rating</th>\n",
              "      <th>Votes</th>\n",
              "      <th>Director</th>\n",
              "      <th>Actor 1</th>\n",
              "      <th>Actor 2</th>\n",
              "      <th>Actor 3</th>\n",
              "    </tr>\n",
              "  </thead>\n",
              "  <tbody>\n",
              "    <tr>\n",
              "      <th>0</th>\n",
              "      <td></td>\n",
              "      <td>NaN</td>\n",
              "      <td>NaN</td>\n",
              "      <td>Drama</td>\n",
              "      <td>NaN</td>\n",
              "      <td>NaN</td>\n",
              "      <td>J.S. Randhawa</td>\n",
              "      <td>Manmauji</td>\n",
              "      <td>Birbal</td>\n",
              "      <td>Rajendra Bhatia</td>\n",
              "    </tr>\n",
              "    <tr>\n",
              "      <th>1</th>\n",
              "      <td>#Gadhvi (He thought he was Gandhi)</td>\n",
              "      <td>-2019.0</td>\n",
              "      <td>109 min</td>\n",
              "      <td>Drama</td>\n",
              "      <td>7.0</td>\n",
              "      <td>8</td>\n",
              "      <td>Gaurav Bakshi</td>\n",
              "      <td>Rasika Dugal</td>\n",
              "      <td>Vivek Ghamande</td>\n",
              "      <td>Arvind Jangid</td>\n",
              "    </tr>\n",
              "    <tr>\n",
              "      <th>2</th>\n",
              "      <td>#Homecoming</td>\n",
              "      <td>-2021.0</td>\n",
              "      <td>90 min</td>\n",
              "      <td>Drama, Musical</td>\n",
              "      <td>NaN</td>\n",
              "      <td>NaN</td>\n",
              "      <td>Soumyajit Majumdar</td>\n",
              "      <td>Sayani Gupta</td>\n",
              "      <td>Plabita Borthakur</td>\n",
              "      <td>Roy Angana</td>\n",
              "    </tr>\n",
              "    <tr>\n",
              "      <th>3</th>\n",
              "      <td>#Yaaram</td>\n",
              "      <td>-2019.0</td>\n",
              "      <td>110 min</td>\n",
              "      <td>Comedy, Romance</td>\n",
              "      <td>4.4</td>\n",
              "      <td>35</td>\n",
              "      <td>Ovais Khan</td>\n",
              "      <td>Prateik</td>\n",
              "      <td>Ishita Raj</td>\n",
              "      <td>Siddhant Kapoor</td>\n",
              "    </tr>\n",
              "    <tr>\n",
              "      <th>4</th>\n",
              "      <td>...And Once Again</td>\n",
              "      <td>-2010.0</td>\n",
              "      <td>105 min</td>\n",
              "      <td>Drama</td>\n",
              "      <td>NaN</td>\n",
              "      <td>NaN</td>\n",
              "      <td>Amol Palekar</td>\n",
              "      <td>Rajat Kapoor</td>\n",
              "      <td>Rituparna Sengupta</td>\n",
              "      <td>Antara Mali</td>\n",
              "    </tr>\n",
              "  </tbody>\n",
              "</table>\n",
              "</div>\n",
              "    <div class=\"colab-df-buttons\">\n",
              "\n",
              "  <div class=\"colab-df-container\">\n",
              "    <button class=\"colab-df-convert\" onclick=\"convertToInteractive('df-49fd4bc0-73d5-4701-a760-92b17ad0ffec')\"\n",
              "            title=\"Convert this dataframe to an interactive table.\"\n",
              "            style=\"display:none;\">\n",
              "\n",
              "  <svg xmlns=\"http://www.w3.org/2000/svg\" height=\"24px\" viewBox=\"0 -960 960 960\">\n",
              "    <path d=\"M120-120v-720h720v720H120Zm60-500h600v-160H180v160Zm220 220h160v-160H400v160Zm0 220h160v-160H400v160ZM180-400h160v-160H180v160Zm440 0h160v-160H620v160ZM180-180h160v-160H180v160Zm440 0h160v-160H620v160Z\"/>\n",
              "  </svg>\n",
              "    </button>\n",
              "\n",
              "  <style>\n",
              "    .colab-df-container {\n",
              "      display:flex;\n",
              "      gap: 12px;\n",
              "    }\n",
              "\n",
              "    .colab-df-convert {\n",
              "      background-color: #E8F0FE;\n",
              "      border: none;\n",
              "      border-radius: 50%;\n",
              "      cursor: pointer;\n",
              "      display: none;\n",
              "      fill: #1967D2;\n",
              "      height: 32px;\n",
              "      padding: 0 0 0 0;\n",
              "      width: 32px;\n",
              "    }\n",
              "\n",
              "    .colab-df-convert:hover {\n",
              "      background-color: #E2EBFA;\n",
              "      box-shadow: 0px 1px 2px rgba(60, 64, 67, 0.3), 0px 1px 3px 1px rgba(60, 64, 67, 0.15);\n",
              "      fill: #174EA6;\n",
              "    }\n",
              "\n",
              "    .colab-df-buttons div {\n",
              "      margin-bottom: 4px;\n",
              "    }\n",
              "\n",
              "    [theme=dark] .colab-df-convert {\n",
              "      background-color: #3B4455;\n",
              "      fill: #D2E3FC;\n",
              "    }\n",
              "\n",
              "    [theme=dark] .colab-df-convert:hover {\n",
              "      background-color: #434B5C;\n",
              "      box-shadow: 0px 1px 3px 1px rgba(0, 0, 0, 0.15);\n",
              "      filter: drop-shadow(0px 1px 2px rgba(0, 0, 0, 0.3));\n",
              "      fill: #FFFFFF;\n",
              "    }\n",
              "  </style>\n",
              "\n",
              "    <script>\n",
              "      const buttonEl =\n",
              "        document.querySelector('#df-49fd4bc0-73d5-4701-a760-92b17ad0ffec button.colab-df-convert');\n",
              "      buttonEl.style.display =\n",
              "        google.colab.kernel.accessAllowed ? 'block' : 'none';\n",
              "\n",
              "      async function convertToInteractive(key) {\n",
              "        const element = document.querySelector('#df-49fd4bc0-73d5-4701-a760-92b17ad0ffec');\n",
              "        const dataTable =\n",
              "          await google.colab.kernel.invokeFunction('convertToInteractive',\n",
              "                                                    [key], {});\n",
              "        if (!dataTable) return;\n",
              "\n",
              "        const docLinkHtml = 'Like what you see? Visit the ' +\n",
              "          '<a target=\"_blank\" href=https://colab.research.google.com/notebooks/data_table.ipynb>data table notebook</a>'\n",
              "          + ' to learn more about interactive tables.';\n",
              "        element.innerHTML = '';\n",
              "        dataTable['output_type'] = 'display_data';\n",
              "        await google.colab.output.renderOutput(dataTable, element);\n",
              "        const docLink = document.createElement('div');\n",
              "        docLink.innerHTML = docLinkHtml;\n",
              "        element.appendChild(docLink);\n",
              "      }\n",
              "    </script>\n",
              "  </div>\n",
              "\n",
              "\n",
              "<div id=\"df-dcc2c397-61f2-4222-850b-7d10d57ef4db\">\n",
              "  <button class=\"colab-df-quickchart\" onclick=\"quickchart('df-dcc2c397-61f2-4222-850b-7d10d57ef4db')\"\n",
              "            title=\"Suggest charts\"\n",
              "            style=\"display:none;\">\n",
              "\n",
              "<svg xmlns=\"http://www.w3.org/2000/svg\" height=\"24px\"viewBox=\"0 0 24 24\"\n",
              "     width=\"24px\">\n",
              "    <g>\n",
              "        <path d=\"M19 3H5c-1.1 0-2 .9-2 2v14c0 1.1.9 2 2 2h14c1.1 0 2-.9 2-2V5c0-1.1-.9-2-2-2zM9 17H7v-7h2v7zm4 0h-2V7h2v10zm4 0h-2v-4h2v4z\"/>\n",
              "    </g>\n",
              "</svg>\n",
              "  </button>\n",
              "\n",
              "<style>\n",
              "  .colab-df-quickchart {\n",
              "      --bg-color: #E8F0FE;\n",
              "      --fill-color: #1967D2;\n",
              "      --hover-bg-color: #E2EBFA;\n",
              "      --hover-fill-color: #174EA6;\n",
              "      --disabled-fill-color: #AAA;\n",
              "      --disabled-bg-color: #DDD;\n",
              "  }\n",
              "\n",
              "  [theme=dark] .colab-df-quickchart {\n",
              "      --bg-color: #3B4455;\n",
              "      --fill-color: #D2E3FC;\n",
              "      --hover-bg-color: #434B5C;\n",
              "      --hover-fill-color: #FFFFFF;\n",
              "      --disabled-bg-color: #3B4455;\n",
              "      --disabled-fill-color: #666;\n",
              "  }\n",
              "\n",
              "  .colab-df-quickchart {\n",
              "    background-color: var(--bg-color);\n",
              "    border: none;\n",
              "    border-radius: 50%;\n",
              "    cursor: pointer;\n",
              "    display: none;\n",
              "    fill: var(--fill-color);\n",
              "    height: 32px;\n",
              "    padding: 0;\n",
              "    width: 32px;\n",
              "  }\n",
              "\n",
              "  .colab-df-quickchart:hover {\n",
              "    background-color: var(--hover-bg-color);\n",
              "    box-shadow: 0 1px 2px rgba(60, 64, 67, 0.3), 0 1px 3px 1px rgba(60, 64, 67, 0.15);\n",
              "    fill: var(--button-hover-fill-color);\n",
              "  }\n",
              "\n",
              "  .colab-df-quickchart-complete:disabled,\n",
              "  .colab-df-quickchart-complete:disabled:hover {\n",
              "    background-color: var(--disabled-bg-color);\n",
              "    fill: var(--disabled-fill-color);\n",
              "    box-shadow: none;\n",
              "  }\n",
              "\n",
              "  .colab-df-spinner {\n",
              "    border: 2px solid var(--fill-color);\n",
              "    border-color: transparent;\n",
              "    border-bottom-color: var(--fill-color);\n",
              "    animation:\n",
              "      spin 1s steps(1) infinite;\n",
              "  }\n",
              "\n",
              "  @keyframes spin {\n",
              "    0% {\n",
              "      border-color: transparent;\n",
              "      border-bottom-color: var(--fill-color);\n",
              "      border-left-color: var(--fill-color);\n",
              "    }\n",
              "    20% {\n",
              "      border-color: transparent;\n",
              "      border-left-color: var(--fill-color);\n",
              "      border-top-color: var(--fill-color);\n",
              "    }\n",
              "    30% {\n",
              "      border-color: transparent;\n",
              "      border-left-color: var(--fill-color);\n",
              "      border-top-color: var(--fill-color);\n",
              "      border-right-color: var(--fill-color);\n",
              "    }\n",
              "    40% {\n",
              "      border-color: transparent;\n",
              "      border-right-color: var(--fill-color);\n",
              "      border-top-color: var(--fill-color);\n",
              "    }\n",
              "    60% {\n",
              "      border-color: transparent;\n",
              "      border-right-color: var(--fill-color);\n",
              "    }\n",
              "    80% {\n",
              "      border-color: transparent;\n",
              "      border-right-color: var(--fill-color);\n",
              "      border-bottom-color: var(--fill-color);\n",
              "    }\n",
              "    90% {\n",
              "      border-color: transparent;\n",
              "      border-bottom-color: var(--fill-color);\n",
              "    }\n",
              "  }\n",
              "</style>\n",
              "\n",
              "  <script>\n",
              "    async function quickchart(key) {\n",
              "      const quickchartButtonEl =\n",
              "        document.querySelector('#' + key + ' button');\n",
              "      quickchartButtonEl.disabled = true;  // To prevent multiple clicks.\n",
              "      quickchartButtonEl.classList.add('colab-df-spinner');\n",
              "      try {\n",
              "        const charts = await google.colab.kernel.invokeFunction(\n",
              "            'suggestCharts', [key], {});\n",
              "      } catch (error) {\n",
              "        console.error('Error during call to suggestCharts:', error);\n",
              "      }\n",
              "      quickchartButtonEl.classList.remove('colab-df-spinner');\n",
              "      quickchartButtonEl.classList.add('colab-df-quickchart-complete');\n",
              "    }\n",
              "    (() => {\n",
              "      let quickchartButtonEl =\n",
              "        document.querySelector('#df-dcc2c397-61f2-4222-850b-7d10d57ef4db button');\n",
              "      quickchartButtonEl.style.display =\n",
              "        google.colab.kernel.accessAllowed ? 'block' : 'none';\n",
              "    })();\n",
              "  </script>\n",
              "</div>\n",
              "\n",
              "    </div>\n",
              "  </div>\n"
            ],
            "application/vnd.google.colaboratory.intrinsic+json": {
              "type": "dataframe",
              "variable_name": "df_movie",
              "summary": "{\n  \"name\": \"df_movie\",\n  \"rows\": 15509,\n  \"fields\": [\n    {\n      \"column\": \"Name\",\n      \"properties\": {\n        \"dtype\": \"string\",\n        \"num_unique_values\": 13838,\n        \"samples\": [\n          \"Tumsa Nahin Dekha\",\n          \"Thanedaar\",\n          \"Farzande Hind\"\n        ],\n        \"semantic_type\": \"\",\n        \"description\": \"\"\n      }\n    },\n    {\n      \"column\": \"Year\",\n      \"properties\": {\n        \"dtype\": \"number\",\n        \"std\": 25.41668864585217,\n        \"min\": -2022.0,\n        \"max\": -1913.0,\n        \"num_unique_values\": 102,\n        \"samples\": [\n          -1974.0,\n          -1963.0,\n          -1971.0\n        ],\n        \"semantic_type\": \"\",\n        \"description\": \"\"\n      }\n    },\n    {\n      \"column\": \"Duration\",\n      \"properties\": {\n        \"dtype\": \"category\",\n        \"num_unique_values\": 182,\n        \"samples\": [\n          \"168 min\",\n          \"99 min\",\n          \"179 min\"\n        ],\n        \"semantic_type\": \"\",\n        \"description\": \"\"\n      }\n    },\n    {\n      \"column\": \"Genre\",\n      \"properties\": {\n        \"dtype\": \"category\",\n        \"num_unique_values\": 485,\n        \"samples\": [\n          \"Family, Mystery\",\n          \"Comedy, Fantasy, Musical\",\n          \"Action, Adventure, Crime\"\n        ],\n        \"semantic_type\": \"\",\n        \"description\": \"\"\n      }\n    },\n    {\n      \"column\": \"Rating\",\n      \"properties\": {\n        \"dtype\": \"number\",\n        \"std\": 1.3817771548659665,\n        \"min\": 1.1,\n        \"max\": 10.0,\n        \"num_unique_values\": 84,\n        \"samples\": [\n          1.4,\n          7.0,\n          2.9\n        ],\n        \"semantic_type\": \"\",\n        \"description\": \"\"\n      }\n    },\n    {\n      \"column\": \"Votes\",\n      \"properties\": {\n        \"dtype\": \"category\",\n        \"num_unique_values\": 2034,\n        \"samples\": [\n          \"837\",\n          \"101\",\n          \"2,566\"\n        ],\n        \"semantic_type\": \"\",\n        \"description\": \"\"\n      }\n    },\n    {\n      \"column\": \"Director\",\n      \"properties\": {\n        \"dtype\": \"category\",\n        \"num_unique_values\": 5938,\n        \"samples\": [\n          \"Param Hans Chitra\",\n          \"Vickram\",\n          \"Zaigham Ali Syed\"\n        ],\n        \"semantic_type\": \"\",\n        \"description\": \"\"\n      }\n    },\n    {\n      \"column\": \"Actor 1\",\n      \"properties\": {\n        \"dtype\": \"category\",\n        \"num_unique_values\": 4718,\n        \"samples\": [\n          \"Abhishek Bachchan\",\n          \"Giri Babu\",\n          \"Ajay Bafna\"\n        ],\n        \"semantic_type\": \"\",\n        \"description\": \"\"\n      }\n    },\n    {\n      \"column\": \"Actor 2\",\n      \"properties\": {\n        \"dtype\": \"category\",\n        \"num_unique_values\": 4891,\n        \"samples\": [\n          \"Bipasha Basu\",\n          \"Mukul Dev\",\n          \"Arjun Kapoor\"\n        ],\n        \"semantic_type\": \"\",\n        \"description\": \"\"\n      }\n    },\n    {\n      \"column\": \"Actor 3\",\n      \"properties\": {\n        \"dtype\": \"category\",\n        \"num_unique_values\": 4820,\n        \"samples\": [\n          \"Damandeep Singh\",\n          \"Kamini Kaushal\",\n          \"Babu\"\n        ],\n        \"semantic_type\": \"\",\n        \"description\": \"\"\n      }\n    }\n  ]\n}"
            }
          },
          "metadata": {},
          "execution_count": 3
        }
      ]
    },
    {
      "cell_type": "code",
      "source": [
        "df_movie.shape"
      ],
      "metadata": {
        "colab": {
          "base_uri": "https://localhost:8080/"
        },
        "id": "7LDFIYm1L3_1",
        "outputId": "da490c6d-f197-46d6-e0b0-8fb74cc0ebb7"
      },
      "execution_count": null,
      "outputs": [
        {
          "output_type": "execute_result",
          "data": {
            "text/plain": [
              "(15509, 10)"
            ]
          },
          "metadata": {},
          "execution_count": 4
        }
      ]
    },
    {
      "cell_type": "code",
      "source": [
        "df_movie.describe()"
      ],
      "metadata": {
        "colab": {
          "base_uri": "https://localhost:8080/",
          "height": 300
        },
        "id": "eRXmpM88L-g-",
        "outputId": "fed7d930-218a-40d2-ea09-30801efe56be"
      },
      "execution_count": null,
      "outputs": [
        {
          "output_type": "execute_result",
          "data": {
            "text/plain": [
              "               Year       Rating\n",
              "count  14981.000000  7919.000000\n",
              "mean   -1987.012215     5.841621\n",
              "std       25.416689     1.381777\n",
              "min    -2022.000000     1.100000\n",
              "25%    -2009.000000     4.900000\n",
              "50%    -1991.000000     6.000000\n",
              "75%    -1968.000000     6.800000\n",
              "max    -1913.000000    10.000000"
            ],
            "text/html": [
              "\n",
              "  <div id=\"df-87bc052c-9b7c-4f7e-8d6d-d9ca440e83b7\" class=\"colab-df-container\">\n",
              "    <div>\n",
              "<style scoped>\n",
              "    .dataframe tbody tr th:only-of-type {\n",
              "        vertical-align: middle;\n",
              "    }\n",
              "\n",
              "    .dataframe tbody tr th {\n",
              "        vertical-align: top;\n",
              "    }\n",
              "\n",
              "    .dataframe thead th {\n",
              "        text-align: right;\n",
              "    }\n",
              "</style>\n",
              "<table border=\"1\" class=\"dataframe\">\n",
              "  <thead>\n",
              "    <tr style=\"text-align: right;\">\n",
              "      <th></th>\n",
              "      <th>Year</th>\n",
              "      <th>Rating</th>\n",
              "    </tr>\n",
              "  </thead>\n",
              "  <tbody>\n",
              "    <tr>\n",
              "      <th>count</th>\n",
              "      <td>14981.000000</td>\n",
              "      <td>7919.000000</td>\n",
              "    </tr>\n",
              "    <tr>\n",
              "      <th>mean</th>\n",
              "      <td>-1987.012215</td>\n",
              "      <td>5.841621</td>\n",
              "    </tr>\n",
              "    <tr>\n",
              "      <th>std</th>\n",
              "      <td>25.416689</td>\n",
              "      <td>1.381777</td>\n",
              "    </tr>\n",
              "    <tr>\n",
              "      <th>min</th>\n",
              "      <td>-2022.000000</td>\n",
              "      <td>1.100000</td>\n",
              "    </tr>\n",
              "    <tr>\n",
              "      <th>25%</th>\n",
              "      <td>-2009.000000</td>\n",
              "      <td>4.900000</td>\n",
              "    </tr>\n",
              "    <tr>\n",
              "      <th>50%</th>\n",
              "      <td>-1991.000000</td>\n",
              "      <td>6.000000</td>\n",
              "    </tr>\n",
              "    <tr>\n",
              "      <th>75%</th>\n",
              "      <td>-1968.000000</td>\n",
              "      <td>6.800000</td>\n",
              "    </tr>\n",
              "    <tr>\n",
              "      <th>max</th>\n",
              "      <td>-1913.000000</td>\n",
              "      <td>10.000000</td>\n",
              "    </tr>\n",
              "  </tbody>\n",
              "</table>\n",
              "</div>\n",
              "    <div class=\"colab-df-buttons\">\n",
              "\n",
              "  <div class=\"colab-df-container\">\n",
              "    <button class=\"colab-df-convert\" onclick=\"convertToInteractive('df-87bc052c-9b7c-4f7e-8d6d-d9ca440e83b7')\"\n",
              "            title=\"Convert this dataframe to an interactive table.\"\n",
              "            style=\"display:none;\">\n",
              "\n",
              "  <svg xmlns=\"http://www.w3.org/2000/svg\" height=\"24px\" viewBox=\"0 -960 960 960\">\n",
              "    <path d=\"M120-120v-720h720v720H120Zm60-500h600v-160H180v160Zm220 220h160v-160H400v160Zm0 220h160v-160H400v160ZM180-400h160v-160H180v160Zm440 0h160v-160H620v160ZM180-180h160v-160H180v160Zm440 0h160v-160H620v160Z\"/>\n",
              "  </svg>\n",
              "    </button>\n",
              "\n",
              "  <style>\n",
              "    .colab-df-container {\n",
              "      display:flex;\n",
              "      gap: 12px;\n",
              "    }\n",
              "\n",
              "    .colab-df-convert {\n",
              "      background-color: #E8F0FE;\n",
              "      border: none;\n",
              "      border-radius: 50%;\n",
              "      cursor: pointer;\n",
              "      display: none;\n",
              "      fill: #1967D2;\n",
              "      height: 32px;\n",
              "      padding: 0 0 0 0;\n",
              "      width: 32px;\n",
              "    }\n",
              "\n",
              "    .colab-df-convert:hover {\n",
              "      background-color: #E2EBFA;\n",
              "      box-shadow: 0px 1px 2px rgba(60, 64, 67, 0.3), 0px 1px 3px 1px rgba(60, 64, 67, 0.15);\n",
              "      fill: #174EA6;\n",
              "    }\n",
              "\n",
              "    .colab-df-buttons div {\n",
              "      margin-bottom: 4px;\n",
              "    }\n",
              "\n",
              "    [theme=dark] .colab-df-convert {\n",
              "      background-color: #3B4455;\n",
              "      fill: #D2E3FC;\n",
              "    }\n",
              "\n",
              "    [theme=dark] .colab-df-convert:hover {\n",
              "      background-color: #434B5C;\n",
              "      box-shadow: 0px 1px 3px 1px rgba(0, 0, 0, 0.15);\n",
              "      filter: drop-shadow(0px 1px 2px rgba(0, 0, 0, 0.3));\n",
              "      fill: #FFFFFF;\n",
              "    }\n",
              "  </style>\n",
              "\n",
              "    <script>\n",
              "      const buttonEl =\n",
              "        document.querySelector('#df-87bc052c-9b7c-4f7e-8d6d-d9ca440e83b7 button.colab-df-convert');\n",
              "      buttonEl.style.display =\n",
              "        google.colab.kernel.accessAllowed ? 'block' : 'none';\n",
              "\n",
              "      async function convertToInteractive(key) {\n",
              "        const element = document.querySelector('#df-87bc052c-9b7c-4f7e-8d6d-d9ca440e83b7');\n",
              "        const dataTable =\n",
              "          await google.colab.kernel.invokeFunction('convertToInteractive',\n",
              "                                                    [key], {});\n",
              "        if (!dataTable) return;\n",
              "\n",
              "        const docLinkHtml = 'Like what you see? Visit the ' +\n",
              "          '<a target=\"_blank\" href=https://colab.research.google.com/notebooks/data_table.ipynb>data table notebook</a>'\n",
              "          + ' to learn more about interactive tables.';\n",
              "        element.innerHTML = '';\n",
              "        dataTable['output_type'] = 'display_data';\n",
              "        await google.colab.output.renderOutput(dataTable, element);\n",
              "        const docLink = document.createElement('div');\n",
              "        docLink.innerHTML = docLinkHtml;\n",
              "        element.appendChild(docLink);\n",
              "      }\n",
              "    </script>\n",
              "  </div>\n",
              "\n",
              "\n",
              "<div id=\"df-3fcee35c-054a-4510-b73d-f290f09174ce\">\n",
              "  <button class=\"colab-df-quickchart\" onclick=\"quickchart('df-3fcee35c-054a-4510-b73d-f290f09174ce')\"\n",
              "            title=\"Suggest charts\"\n",
              "            style=\"display:none;\">\n",
              "\n",
              "<svg xmlns=\"http://www.w3.org/2000/svg\" height=\"24px\"viewBox=\"0 0 24 24\"\n",
              "     width=\"24px\">\n",
              "    <g>\n",
              "        <path d=\"M19 3H5c-1.1 0-2 .9-2 2v14c0 1.1.9 2 2 2h14c1.1 0 2-.9 2-2V5c0-1.1-.9-2-2-2zM9 17H7v-7h2v7zm4 0h-2V7h2v10zm4 0h-2v-4h2v4z\"/>\n",
              "    </g>\n",
              "</svg>\n",
              "  </button>\n",
              "\n",
              "<style>\n",
              "  .colab-df-quickchart {\n",
              "      --bg-color: #E8F0FE;\n",
              "      --fill-color: #1967D2;\n",
              "      --hover-bg-color: #E2EBFA;\n",
              "      --hover-fill-color: #174EA6;\n",
              "      --disabled-fill-color: #AAA;\n",
              "      --disabled-bg-color: #DDD;\n",
              "  }\n",
              "\n",
              "  [theme=dark] .colab-df-quickchart {\n",
              "      --bg-color: #3B4455;\n",
              "      --fill-color: #D2E3FC;\n",
              "      --hover-bg-color: #434B5C;\n",
              "      --hover-fill-color: #FFFFFF;\n",
              "      --disabled-bg-color: #3B4455;\n",
              "      --disabled-fill-color: #666;\n",
              "  }\n",
              "\n",
              "  .colab-df-quickchart {\n",
              "    background-color: var(--bg-color);\n",
              "    border: none;\n",
              "    border-radius: 50%;\n",
              "    cursor: pointer;\n",
              "    display: none;\n",
              "    fill: var(--fill-color);\n",
              "    height: 32px;\n",
              "    padding: 0;\n",
              "    width: 32px;\n",
              "  }\n",
              "\n",
              "  .colab-df-quickchart:hover {\n",
              "    background-color: var(--hover-bg-color);\n",
              "    box-shadow: 0 1px 2px rgba(60, 64, 67, 0.3), 0 1px 3px 1px rgba(60, 64, 67, 0.15);\n",
              "    fill: var(--button-hover-fill-color);\n",
              "  }\n",
              "\n",
              "  .colab-df-quickchart-complete:disabled,\n",
              "  .colab-df-quickchart-complete:disabled:hover {\n",
              "    background-color: var(--disabled-bg-color);\n",
              "    fill: var(--disabled-fill-color);\n",
              "    box-shadow: none;\n",
              "  }\n",
              "\n",
              "  .colab-df-spinner {\n",
              "    border: 2px solid var(--fill-color);\n",
              "    border-color: transparent;\n",
              "    border-bottom-color: var(--fill-color);\n",
              "    animation:\n",
              "      spin 1s steps(1) infinite;\n",
              "  }\n",
              "\n",
              "  @keyframes spin {\n",
              "    0% {\n",
              "      border-color: transparent;\n",
              "      border-bottom-color: var(--fill-color);\n",
              "      border-left-color: var(--fill-color);\n",
              "    }\n",
              "    20% {\n",
              "      border-color: transparent;\n",
              "      border-left-color: var(--fill-color);\n",
              "      border-top-color: var(--fill-color);\n",
              "    }\n",
              "    30% {\n",
              "      border-color: transparent;\n",
              "      border-left-color: var(--fill-color);\n",
              "      border-top-color: var(--fill-color);\n",
              "      border-right-color: var(--fill-color);\n",
              "    }\n",
              "    40% {\n",
              "      border-color: transparent;\n",
              "      border-right-color: var(--fill-color);\n",
              "      border-top-color: var(--fill-color);\n",
              "    }\n",
              "    60% {\n",
              "      border-color: transparent;\n",
              "      border-right-color: var(--fill-color);\n",
              "    }\n",
              "    80% {\n",
              "      border-color: transparent;\n",
              "      border-right-color: var(--fill-color);\n",
              "      border-bottom-color: var(--fill-color);\n",
              "    }\n",
              "    90% {\n",
              "      border-color: transparent;\n",
              "      border-bottom-color: var(--fill-color);\n",
              "    }\n",
              "  }\n",
              "</style>\n",
              "\n",
              "  <script>\n",
              "    async function quickchart(key) {\n",
              "      const quickchartButtonEl =\n",
              "        document.querySelector('#' + key + ' button');\n",
              "      quickchartButtonEl.disabled = true;  // To prevent multiple clicks.\n",
              "      quickchartButtonEl.classList.add('colab-df-spinner');\n",
              "      try {\n",
              "        const charts = await google.colab.kernel.invokeFunction(\n",
              "            'suggestCharts', [key], {});\n",
              "      } catch (error) {\n",
              "        console.error('Error during call to suggestCharts:', error);\n",
              "      }\n",
              "      quickchartButtonEl.classList.remove('colab-df-spinner');\n",
              "      quickchartButtonEl.classList.add('colab-df-quickchart-complete');\n",
              "    }\n",
              "    (() => {\n",
              "      let quickchartButtonEl =\n",
              "        document.querySelector('#df-3fcee35c-054a-4510-b73d-f290f09174ce button');\n",
              "      quickchartButtonEl.style.display =\n",
              "        google.colab.kernel.accessAllowed ? 'block' : 'none';\n",
              "    })();\n",
              "  </script>\n",
              "</div>\n",
              "\n",
              "    </div>\n",
              "  </div>\n"
            ],
            "application/vnd.google.colaboratory.intrinsic+json": {
              "type": "dataframe",
              "summary": "{\n  \"name\": \"df_movie\",\n  \"rows\": 8,\n  \"fields\": [\n    {\n      \"column\": \"Year\",\n      \"properties\": {\n        \"dtype\": \"number\",\n        \"std\": 5937.609745721985,\n        \"min\": -2022.0,\n        \"max\": 14981.0,\n        \"num_unique_values\": 8,\n        \"samples\": [\n          -1987.0122154729324,\n          -1991.0,\n          14981.0\n        ],\n        \"semantic_type\": \"\",\n        \"description\": \"\"\n      }\n    },\n    {\n      \"column\": \"Rating\",\n      \"properties\": {\n        \"dtype\": \"number\",\n        \"std\": 2797.9713272009612,\n        \"min\": 1.1,\n        \"max\": 7919.0,\n        \"num_unique_values\": 8,\n        \"samples\": [\n          5.841621416845562,\n          6.0,\n          7919.0\n        ],\n        \"semantic_type\": \"\",\n        \"description\": \"\"\n      }\n    }\n  ]\n}"
            }
          },
          "metadata": {},
          "execution_count": 5
        }
      ]
    },
    {
      "cell_type": "code",
      "source": [
        "df_movie.isnull().sum()"
      ],
      "metadata": {
        "colab": {
          "base_uri": "https://localhost:8080/"
        },
        "id": "UKiXJWWgMDZk",
        "outputId": "c28502b7-48bb-4ca1-b6c8-1c3376fe1707"
      },
      "execution_count": null,
      "outputs": [
        {
          "output_type": "execute_result",
          "data": {
            "text/plain": [
              "Name           0\n",
              "Year         528\n",
              "Duration    8269\n",
              "Genre       1877\n",
              "Rating      7590\n",
              "Votes       7589\n",
              "Director     525\n",
              "Actor 1     1617\n",
              "Actor 2     2384\n",
              "Actor 3     3144\n",
              "dtype: int64"
            ]
          },
          "metadata": {},
          "execution_count": 6
        }
      ]
    },
    {
      "cell_type": "code",
      "source": [
        "df_movie.info()"
      ],
      "metadata": {
        "colab": {
          "base_uri": "https://localhost:8080/"
        },
        "id": "sTnbV32fMFVr",
        "outputId": "42859b57-054a-4c10-a973-93c8634a10a9"
      },
      "execution_count": null,
      "outputs": [
        {
          "output_type": "stream",
          "name": "stdout",
          "text": [
            "<class 'pandas.core.frame.DataFrame'>\n",
            "RangeIndex: 15509 entries, 0 to 15508\n",
            "Data columns (total 10 columns):\n",
            " #   Column    Non-Null Count  Dtype  \n",
            "---  ------    --------------  -----  \n",
            " 0   Name      15509 non-null  object \n",
            " 1   Year      14981 non-null  float64\n",
            " 2   Duration  7240 non-null   object \n",
            " 3   Genre     13632 non-null  object \n",
            " 4   Rating    7919 non-null   float64\n",
            " 5   Votes     7920 non-null   object \n",
            " 6   Director  14984 non-null  object \n",
            " 7   Actor 1   13892 non-null  object \n",
            " 8   Actor 2   13125 non-null  object \n",
            " 9   Actor 3   12365 non-null  object \n",
            "dtypes: float64(2), object(8)\n",
            "memory usage: 1.2+ MB\n"
          ]
        }
      ]
    },
    {
      "cell_type": "code",
      "source": [
        "df_movie.duplicated().sum()"
      ],
      "metadata": {
        "colab": {
          "base_uri": "https://localhost:8080/"
        },
        "id": "Mm_Br6WbMKug",
        "outputId": "00adfd5d-be65-47ed-c685-eb998d46f7e5"
      },
      "execution_count": null,
      "outputs": [
        {
          "output_type": "execute_result",
          "data": {
            "text/plain": [
              "6"
            ]
          },
          "metadata": {},
          "execution_count": 8
        }
      ]
    },
    {
      "cell_type": "code",
      "source": [
        "df_movie.dropna(inplace=True)"
      ],
      "metadata": {
        "id": "oNulJeXgMOpQ"
      },
      "execution_count": null,
      "outputs": []
    },
    {
      "cell_type": "code",
      "source": [
        "df_movie.shape"
      ],
      "metadata": {
        "colab": {
          "base_uri": "https://localhost:8080/"
        },
        "id": "YQ3s_OOAMU_v",
        "outputId": "e6d101d4-520f-4cfb-db82-82810ae68c82"
      },
      "execution_count": null,
      "outputs": [
        {
          "output_type": "execute_result",
          "data": {
            "text/plain": [
              "(5659, 10)"
            ]
          },
          "metadata": {},
          "execution_count": 10
        }
      ]
    },
    {
      "cell_type": "code",
      "source": [
        "df_movie.isnull().sum()"
      ],
      "metadata": {
        "colab": {
          "base_uri": "https://localhost:8080/"
        },
        "id": "TWKZltMbMc4Z",
        "outputId": "17d12a5c-2710-4692-de21-2692098ff1d1"
      },
      "execution_count": null,
      "outputs": [
        {
          "output_type": "execute_result",
          "data": {
            "text/plain": [
              "Name        0\n",
              "Year        0\n",
              "Duration    0\n",
              "Genre       0\n",
              "Rating      0\n",
              "Votes       0\n",
              "Director    0\n",
              "Actor 1     0\n",
              "Actor 2     0\n",
              "Actor 3     0\n",
              "dtype: int64"
            ]
          },
          "metadata": {},
          "execution_count": 11
        }
      ]
    },
    {
      "cell_type": "code",
      "source": [
        "df_movie.drop_duplicates(inplace=True)"
      ],
      "metadata": {
        "id": "uX0xnxmbMkqP"
      },
      "execution_count": null,
      "outputs": []
    },
    {
      "cell_type": "code",
      "source": [
        "df_movie.shape"
      ],
      "metadata": {
        "colab": {
          "base_uri": "https://localhost:8080/"
        },
        "id": "Z0VTqUp9M-im",
        "outputId": "7798cf67-c194-4ba8-ce30-615518ec55a9"
      },
      "execution_count": null,
      "outputs": [
        {
          "output_type": "execute_result",
          "data": {
            "text/plain": [
              "(5659, 10)"
            ]
          },
          "metadata": {},
          "execution_count": 15
        }
      ]
    },
    {
      "cell_type": "code",
      "source": [
        "df_movie.columns"
      ],
      "metadata": {
        "colab": {
          "base_uri": "https://localhost:8080/"
        },
        "id": "5wSmx1gIMsMv",
        "outputId": "7294519f-59a9-43f0-ab93-69d17b6bca20"
      },
      "execution_count": null,
      "outputs": [
        {
          "output_type": "execute_result",
          "data": {
            "text/plain": [
              "Index(['Name', 'Year', 'Duration', 'Genre', 'Rating', 'Votes', 'Director',\n",
              "       'Actor 1', 'Actor 2', 'Actor 3'],\n",
              "      dtype='object')"
            ]
          },
          "metadata": {},
          "execution_count": 16
        }
      ]
    },
    {
      "cell_type": "code",
      "source": [
        "df_movie['Duration'] = pd.to_numeric(df_movie['Duration'].str.replace('min',''))"
      ],
      "metadata": {
        "id": "UOcyhBBfNKq7"
      },
      "execution_count": null,
      "outputs": []
    },
    {
      "cell_type": "code",
      "source": [
        "df_movie['Genre'] = df_movie['Genre'].str.split(',')\n",
        "df_movie = df_movie.explode('Genre')\n",
        "df_movie['Genre'].fillna(df_movie['Genre'].mode()[0], inplace=True)"
      ],
      "metadata": {
        "id": "Vte-gBeMNPHi"
      },
      "execution_count": null,
      "outputs": []
    },
    {
      "cell_type": "code",
      "source": [
        "df_movie['Votes'] = pd.to_numeric(df_movie['Votes'].str.replace(',',''))\n",
        "\n"
      ],
      "metadata": {
        "id": "LRWNZaFVNVKq"
      },
      "execution_count": null,
      "outputs": []
    },
    {
      "cell_type": "code",
      "source": [
        "year = px.histogram(df_movie,x = 'Year', histnorm='probability density',nbins = 30)\n",
        "year.show()\n",
        "\n"
      ],
      "metadata": {
        "colab": {
          "base_uri": "https://localhost:8080/",
          "height": 542
        },
        "id": "azSZWLRKNdfN",
        "outputId": "8287f065-6167-4b45-95b7-fcf78e55ef8e"
      },
      "execution_count": null,
      "outputs": [
        {
          "output_type": "display_data",
          "data": {
            "text/html": [
              "<html>\n",
              "<head><meta charset=\"utf-8\" /></head>\n",
              "<body>\n",
              "    <div>            <script src=\"https://cdnjs.cloudflare.com/ajax/libs/mathjax/2.7.5/MathJax.js?config=TeX-AMS-MML_SVG\"></script><script type=\"text/javascript\">if (window.MathJax && window.MathJax.Hub && window.MathJax.Hub.Config) {window.MathJax.Hub.Config({SVG: {font: \"STIX-Web\"}});}</script>                <script type=\"text/javascript\">window.PlotlyConfig = {MathJaxConfig: 'local'};</script>\n",
              "        <script charset=\"utf-8\" src=\"https://cdn.plot.ly/plotly-2.24.1.min.js\"></script>                <div id=\"c0098485-b698-4dbf-bb40-66c8798a0aa4\" class=\"plotly-graph-div\" style=\"height:525px; width:100%;\"></div>            <script type=\"text/javascript\">                                    window.PLOTLYENV=window.PLOTLYENV || {};                                    if (document.getElementById(\"c0098485-b698-4dbf-bb40-66c8798a0aa4\")) {                    Plotly.newPlot(                        \"c0098485-b698-4dbf-bb40-66c8798a0aa4\",                        [{\"alignmentgroup\":\"True\",\"bingroup\":\"x\",\"histnorm\":\"probability density\",\"hovertemplate\":\"Year=%{x}\\u003cbr\\u003eprobability density=%{y}\\u003cextra\\u003e\\u003c\\u002fextra\\u003e\",\"legendgroup\":\"\",\"marker\":{\"color\":\"#636efa\",\"pattern\":{\"shape\":\"\"}},\"name\":\"\",\"nbinsx\":30,\"offsetgroup\":\"\",\"orientation\":\"v\",\"showlegend\":false,\"x\":[-2019.0,-2019.0,-2019.0,-1997.0,-1997.0,-1997.0,-2005.0,-2005.0,-2005.0,-2012.0,-2012.0,-2012.0,-2014.0,-2014.0,-2014.0,-2004.0,-2016.0,-1991.0,-1991.0,-1991.0,-2012.0,-2012.0,-2012.0,-2018.0,-2018.0,-2010.0,-2010.0,-2010.0,-1958.0,-1958.0,-1958.0,-2021.0,-2021.0,-2017.0,-2017.0,-2009.0,-2009.0,-2009.0,-2005.0,-1993.0,-2002.0,-2002.0,-2014.0,-2004.0,-2008.0,-2008.0,-2008.0,-2016.0,-2016.0,-2012.0,-2012.0,-2012.0,-2018.0,-2018.0,-2018.0,-1994.0,-1994.0,-1994.0,-2007.0,-2007.0,-2007.0,-2019.0,-2017.0,-2012.0,-2012.0,-2012.0,-2003.0,-2003.0,-2003.0,-2014.0,-2014.0,-2014.0,-2018.0,-2018.0,-1998.0,-1998.0,-1998.0,-2017.0,-2018.0,-1979.0,-1979.0,-2019.0,-2002.0,-2002.0,-2002.0,-1974.0,-2014.0,-2014.0,-2012.0,-2012.0,-2003.0,-2003.0,-2019.0,-2009.0,-2009.0,-2018.0,-2015.0,-2015.0,-2015.0,-2015.0,-2015.0,-2006.0,-2006.0,-2006.0,-1981.0,-1981.0,-2020.0,-2020.0,-2019.0,-1985.0,-2013.0,-2013.0,-2013.0,-2019.0,-2011.0,-2011.0,-2011.0,-2016.0,-2012.0,-2012.0,-2012.0,-2012.0,-1974.0,-1974.0,-2011.0,-2011.0,-2011.0,-2014.0,-2007.0,-2005.0,-2005.0,-1988.0,-2016.0,-2016.0,-2006.0,-2011.0,-2011.0,-2011.0,-1987.0,-1987.0,-1987.0,-2019.0,-2019.0,-2019.0,-2019.0,-2009.0,-2009.0,-2009.0,-2021.0,-2021.0,-2021.0,-2003.0,-2003.0,-2017.0,-2009.0,-2009.0,-2009.0,-2019.0,-2019.0,-2005.0,-2005.0,-2016.0,-2017.0,-2016.0,-2016.0,-2005.0,-2005.0,-2010.0,-2010.0,-2010.0,-2016.0,-2016.0,-2016.0,-2020.0,-2020.0,-2017.0,-2017.0,-2019.0,-2019.0,-2013.0,-2013.0,-2016.0,-2005.0,-2005.0,-2019.0,-2008.0,-2008.0,-2008.0,-1999.0,-1999.0,-1999.0,-2018.0,-2009.0,-2009.0,-2009.0,-1973.0,-1973.0,-1973.0,-1994.0,-1994.0,-2017.0,-2016.0,-2004.0,-1968.0,-1968.0,-1968.0,-2018.0,-1982.0,-1982.0,-1982.0,-1977.0,-2019.0,-1982.0,-2013.0,-2013.0,-2013.0,-1950.0,-1950.0,-1968.0,-1968.0,-1993.0,-1993.0,-1993.0,-1991.0,-1969.0,-1969.0,-1969.0,-1993.0,-1993.0,-2009.0,-1977.0,-1977.0,-2016.0,-1977.0,-1977.0,-1948.0,-1948.0,-1994.0,-1994.0,-1994.0,-1994.0,-1987.0,-1990.0,-1990.0,-1993.0,-1988.0,-1988.0,-1989.0,-2001.0,-2009.0,-2009.0,-2009.0,-2000.0,-2000.0,-2000.0,-1953.0,-1953.0,-1953.0,-1978.0,-1978.0,-1993.0,-1993.0,-1977.0,-1987.0,-1963.0,-1963.0,-2003.0,-1990.0,-1990.0,-1990.0,-1985.0,-1985.0,-1992.0,-1992.0,-1976.0,-1976.0,-2000.0,-2000.0,-1991.0,-1991.0,-1984.0,-1984.0,-1988.0,-1988.0,-1990.0,-1984.0,-1984.0,-1984.0,-1993.0,-2007.0,-2007.0,-2007.0,-1968.0,-1968.0,-1986.0,-1986.0,-1986.0,-1988.0,-1988.0,-1989.0,-1989.0,-1989.0,-1989.0,-1989.0,-1989.0,-1989.0,-1989.0,-1989.0,-1979.0,-1979.0,-1966.0,-1990.0,-1990.0,-1997.0,-1975.0,-1975.0,-1975.0,-1980.0,-1980.0,-1980.0,-2010.0,-2010.0,-2010.0,-2012.0,-2001.0,-2001.0,-2007.0,-2018.0,-2018.0,-2001.0,-2001.0,-2001.0,-2008.0,-2008.0,-2008.0,-1967.0,-1967.0,-1967.0,-1982.0,-1982.0,-1982.0,-1984.0,-1970.0,-1970.0,-1970.0,-2004.0,-2004.0,-2004.0,-2003.0,-1980.0,-1980.0,-1980.0,-1975.0,-1975.0,-1985.0,-1952.0,-1990.0,-2019.0,-1993.0,-1993.0,-1993.0,-2002.0,-2002.0,-2002.0,-1972.0,-1972.0,-1970.0,-1970.0,-1970.0,-1994.0,-2009.0,-2009.0,-2009.0,-1971.0,-1971.0,-1971.0,-1976.0,-1976.0,-1974.0,-1974.0,-1977.0,-1977.0,-1977.0,-2006.0,-2006.0,-1964.0,-1964.0,-1964.0,-2002.0,-2002.0,-2002.0,-1980.0,-1980.0,-1980.0,-1981.0,-1981.0,-2003.0,-2003.0,-2003.0,-1985.0,-1997.0,-2011.0,-2011.0,-1974.0,-1954.0,-1954.0,-1954.0,-1962.0,-1962.0,-1962.0,-2007.0,-2007.0,-2007.0,-1999.0,-1999.0,-1957.0,-1957.0,-1980.0,-1980.0,-1980.0,-2010.0,-1962.0,-2001.0,-2001.0,-2001.0,-2005.0,-2005.0,-2005.0,-1977.0,-1990.0,-1990.0,-1990.0,-2013.0,-2013.0,-2013.0,-2011.0,-2011.0,-1968.0,-2014.0,-2018.0,-2018.0,-2018.0,-2009.0,-1984.0,-1984.0,-1965.0,-1992.0,-1992.0,-1992.0,-1993.0,-1966.0,-1966.0,-1997.0,-1996.0,-1996.0,-1995.0,-1995.0,-1995.0,-2006.0,-2006.0,-2006.0,-1979.0,-1994.0,-1994.0,-1994.0,-2006.0,-2006.0,-2006.0,-2013.0,-2013.0,-2013.0,-1998.0,-1998.0,-1974.0,-1974.0,-1956.0,-1964.0,-1964.0,-1964.0,-1999.0,-1966.0,-1966.0,-2011.0,-2011.0,-2011.0,-1995.0,-1995.0,-1995.0,-1984.0,-1957.0,-2012.0,-1995.0,-1995.0,-2004.0,-2004.0,-2004.0,-2015.0,-2015.0,-2015.0,-1994.0,-1994.0,-2004.0,-2004.0,-2004.0,-2004.0,-2004.0,-2013.0,-2013.0,-1980.0,-1980.0,-1980.0,-1955.0,-1955.0,-1955.0,-1995.0,-1977.0,-1977.0,-1977.0,-1968.0,-1968.0,-1973.0,-1973.0,-1991.0,-1991.0,-1991.0,-1989.0,-1989.0,-1989.0,-1970.0,-1970.0,-1984.0,-2010.0,-2010.0,-2010.0,-1973.0,-1973.0,-1998.0,-1998.0,-1998.0,-1936.0,-1936.0,-1936.0,-2009.0,-2009.0,-2009.0,-2019.0,-2019.0,-2019.0,-2014.0,-2014.0,-2014.0,-2010.0,-2010.0,-2010.0,-2010.0,-2010.0,-2010.0,-1958.0,-1958.0,-1958.0,-1976.0,-1976.0,-1976.0,-1965.0,-1965.0,-1965.0,-1954.0,-1954.0,-1954.0,-2001.0,-2001.0,-2007.0,-2010.0,-2010.0,-2010.0,-1983.0,-1983.0,-1955.0,-1990.0,-1990.0,-1990.0,-2017.0,-2017.0,-2017.0,-1983.0,-2019.0,-1978.0,-1980.0,-1980.0,-1980.0,-1985.0,-1985.0,-1985.0,-2016.0,-2016.0,-2016.0,-2004.0,-2004.0,-2004.0,-1997.0,-1997.0,-1997.0,-1986.0,-1986.0,-1966.0,-1966.0,-1951.0,-1951.0,-2001.0,-2001.0,-1991.0,-1991.0,-1950.0,-1950.0,-2014.0,-2014.0,-1983.0,-1983.0,-1972.0,-1972.0,-1972.0,-1977.0,-1977.0,-1977.0,-2012.0,-2012.0,-2012.0,-1985.0,-1985.0,-1988.0,-1988.0,-1988.0,-1997.0,-1990.0,-1990.0,-1990.0,-1990.0,-1990.0,-1990.0,-2012.0,-2012.0,-2012.0,-1997.0,-1981.0,-1981.0,-1996.0,-1996.0,-1996.0,-1997.0,-2000.0,-2002.0,-2002.0,-2002.0,-1980.0,-1980.0,-1980.0,-2009.0,-2009.0,-2009.0,-2019.0,-2019.0,-1995.0,-1979.0,-1979.0,-1981.0,-1981.0,-2006.0,-2006.0,-1979.0,-1979.0,-2016.0,-2016.0,-2015.0,-2010.0,-2010.0,-2010.0,-1996.0,-1996.0,-2009.0,-2009.0,-2009.0,-1985.0,-1985.0,-2004.0,-2004.0,-2004.0,-2018.0,-2018.0,-2018.0,-2012.0,-2012.0,-2012.0,-2012.0,-2009.0,-2009.0,-2009.0,-2017.0,-1974.0,-1974.0,-1996.0,-1996.0,-1996.0,-2021.0,-2021.0,-2017.0,-2001.0,-2001.0,-2001.0,-1991.0,-1991.0,-1991.0,-2004.0,-2004.0,-2020.0,-2020.0,-2020.0,-2013.0,-2013.0,-1965.0,-1991.0,-1991.0,-1991.0,-1979.0,-1979.0,-1979.0,-2014.0,-1995.0,-1999.0,-2002.0,-2002.0,-1989.0,-1989.0,-2001.0,-2001.0,-2001.0,-2006.0,-2006.0,-2006.0,-2017.0,-2017.0,-2017.0,-1977.0,-1977.0,-1952.0,-1952.0,-2009.0,-2009.0,-2009.0,-1985.0,-1985.0,-1985.0,-2006.0,-2006.0,-2006.0,-2019.0,-1973.0,-1979.0,-1979.0,-1979.0,-2001.0,-2001.0,-2001.0,-1951.0,-1951.0,-1951.0,-1980.0,-1980.0,-1980.0,-2019.0,-2019.0,-1966.0,-1966.0,-1966.0,-1954.0,-1954.0,-1954.0,-1977.0,-1977.0,-2017.0,-1953.0,-2015.0,-2015.0,-2015.0,-2015.0,-2015.0,-2020.0,-1984.0,-1984.0,-2009.0,-2009.0,-2009.0,-2010.0,-2010.0,-2010.0,-1997.0,-1986.0,-1986.0,-2015.0,-2011.0,-2011.0,-2011.0,-1994.0,-1994.0,-1967.0,-1967.0,-1967.0,-2016.0,-1975.0,-1975.0,-1954.0,-1954.0,-1954.0,-1958.0,-1958.0,-1936.0,-1972.0,-1972.0,-1972.0,-2020.0,-1961.0,-1978.0,-1978.0,-1978.0,-1977.0,-1977.0,-1977.0,-2019.0,-2019.0,-1990.0,-1952.0,-1952.0,-1952.0,-2013.0,-2001.0,-2001.0,-2001.0,-1974.0,-1974.0,-1990.0,-2014.0,-2014.0,-1986.0,-2001.0,-2001.0,-2001.0,-2021.0,-2021.0,-1966.0,-1966.0,-1986.0,-1986.0,-2005.0,-1967.0,-1967.0,-1967.0,-2016.0,-2016.0,-2017.0,-1973.0,-1973.0,-1973.0,-1971.0,-1971.0,-1952.0,-1952.0,-1952.0,-1977.0,-1977.0,-1959.0,-1959.0,-1959.0,-1993.0,-1993.0,-1993.0,-1975.0,-1975.0,-1999.0,-1953.0,-1953.0,-1953.0,-2016.0,-2016.0,-2003.0,-2003.0,-2003.0,-1949.0,-1949.0,-1949.0,-1971.0,-1971.0,-1994.0,-1994.0,-1994.0,-1994.0,-1994.0,-1994.0,-1990.0,-1990.0,-1985.0,-1985.0,-1985.0,-1983.0,-1983.0,-2018.0,-2018.0,-2018.0,-1975.0,-1975.0,-1975.0,-1986.0,-1986.0,-1984.0,-1984.0,-1995.0,-1995.0,-1995.0,-1992.0,-1992.0,-1992.0,-1996.0,-1996.0,-1998.0,-1998.0,-1998.0,-2011.0,-2011.0,-1982.0,-2005.0,-1995.0,-1995.0,-2020.0,-2020.0,-2015.0,-2015.0,-1960.0,-1960.0,-1960.0,-1952.0,-1952.0,-1952.0,-1973.0,-1973.0,-1973.0,-1967.0,-1967.0,-1967.0,-1987.0,-1994.0,-1994.0,-1969.0,-2010.0,-2010.0,-2010.0,-2005.0,-1969.0,-1969.0,-1969.0,-2003.0,-2003.0,-2003.0,-2009.0,-2009.0,-2009.0,-1985.0,-2006.0,-2006.0,-2006.0,-1968.0,-1968.0,-1968.0,-2013.0,-2013.0,-1997.0,-2013.0,-2013.0,-1974.0,-1986.0,-1986.0,-1993.0,-1993.0,-1993.0,-1946.0,-1946.0,-1946.0,-1982.0,-1978.0,-1978.0,-2016.0,-1971.0,-1992.0,-1992.0,-1975.0,-1975.0,-1975.0,-1989.0,-1982.0,-1972.0,-2000.0,-2000.0,-2006.0,-1948.0,-1948.0,-1948.0,-1973.0,-1973.0,-1968.0,-1968.0,-1968.0,-1962.0,-1962.0,-1962.0,-2002.0,-2002.0,-2002.0,-1969.0,-1969.0,-2008.0,-2008.0,-1991.0,-2021.0,-1994.0,-2006.0,-2006.0,-1971.0,-2003.0,-1966.0,-1966.0,-1972.0,-1960.0,-1960.0,-2006.0,-2006.0,-1977.0,-1977.0,-2007.0,-2007.0,-2007.0,-2015.0,-2015.0,-2015.0,-1993.0,-2005.0,-2005.0,-2005.0,-2010.0,-2010.0,-2010.0,-2007.0,-2007.0,-1960.0,-2006.0,-2006.0,-2006.0,-1977.0,-1977.0,-2007.0,-2007.0,-1996.0,-1996.0,-1975.0,-1975.0,-1975.0,-1980.0,-1980.0,-1980.0,-1975.0,-1975.0,-1972.0,-1972.0,-1972.0,-1974.0,-1957.0,-1964.0,-1964.0,-1964.0,-1969.0,-1969.0,-1969.0,-1994.0,-1983.0,-1983.0,-1985.0,-1985.0,-1985.0,-2001.0,-2001.0,-2001.0,-1999.0,-1999.0,-1999.0,-2019.0,-2019.0,-2012.0,-2012.0,-2012.0,-1953.0,-1953.0,-2003.0,-2003.0,-2003.0,-1996.0,-1996.0,-2010.0,-2010.0,-2010.0,-1967.0,-1967.0,-1983.0,-1983.0,-1982.0,-1982.0,-2019.0,-2019.0,-2019.0,-1978.0,-1988.0,-1988.0,-2006.0,-2006.0,-2006.0,-1950.0,-1950.0,-1965.0,-1965.0,-1965.0,-2004.0,-2004.0,-2004.0,-2012.0,-2012.0,-2018.0,-2018.0,-1984.0,-1984.0,-1984.0,-1993.0,-1993.0,-1952.0,-1952.0,-2017.0,-2010.0,-2018.0,-2001.0,-2001.0,-2001.0,-1986.0,-1962.0,-1962.0,-1962.0,-2000.0,-2020.0,-2012.0,-2012.0,-2018.0,-2020.0,-2005.0,-2005.0,-2005.0,-2007.0,-1990.0,-1990.0,-1978.0,-1978.0,-2020.0,-2010.0,-2020.0,-2020.0,-2013.0,-2013.0,-2013.0,-1968.0,-1968.0,-1993.0,-1998.0,-1998.0,-1998.0,-1979.0,-1979.0,-1979.0,-2007.0,-2013.0,-2013.0,-2013.0,-1940.0,-1967.0,-1967.0,-1988.0,-1998.0,-2016.0,-2016.0,-2010.0,-1997.0,-1997.0,-1997.0,-1978.0,-1987.0,-1987.0,-1987.0,-1986.0,-1986.0,-1986.0,-2017.0,-2017.0,-1983.0,-1951.0,-1951.0,-1951.0,-1990.0,-1984.0,-1984.0,-1984.0,-1964.0,-1964.0,-1964.0,-2002.0,-2002.0,-2002.0,-2007.0,-2007.0,-2007.0,-2020.0,-2016.0,-2019.0,-2019.0,-1969.0,-1969.0,-1982.0,-1964.0,-1964.0,-1991.0,-2000.0,-2000.0,-2000.0,-2001.0,-1955.0,-1955.0,-1955.0,-1978.0,-1978.0,-1978.0,-1990.0,-1990.0,-1940.0,-2016.0,-2016.0,-2016.0,-2017.0,-2012.0,-2012.0,-2012.0,-2017.0,-2021.0,-2021.0,-2018.0,-2018.0,-2018.0,-2009.0,-2009.0,-2009.0,-2006.0,-2006.0,-2006.0,-1999.0,-1999.0,-1999.0,-2017.0,-2017.0,-2017.0,-2000.0,-2000.0,-2000.0,-2016.0,-2016.0,-2016.0,-2018.0,-2018.0,-2020.0,-2020.0,-2020.0,-1990.0,-1990.0,-1990.0,-2001.0,-2017.0,-2019.0,-2015.0,-1990.0,-1990.0,-1990.0,-1955.0,-1955.0,-1955.0,-2016.0,-2016.0,-2016.0,-2017.0,-2017.0,-1957.0,-1957.0,-1957.0,-2018.0,-2012.0,-2012.0,-2012.0,-1986.0,-2013.0,-2013.0,-1962.0,-1962.0,-1962.0,-1953.0,-1953.0,-1953.0,-2003.0,-2003.0,-2018.0,-2018.0,-2018.0,-1951.0,-1951.0,-1951.0,-1968.0,-1968.0,-1968.0,-1984.0,-1995.0,-1995.0,-1995.0,-1993.0,-1993.0,-1993.0,-1972.0,-1972.0,-1972.0,-2014.0,-2014.0,-2014.0,-1985.0,-1985.0,-1950.0,-1986.0,-1985.0,-1985.0,-2017.0,-2017.0,-2017.0,-2015.0,-2015.0,-2008.0,-2008.0,-2008.0,-2005.0,-2005.0,-2005.0,-2008.0,-2008.0,-2008.0,-1970.0,-1970.0,-1970.0,-2017.0,-1984.0,-1984.0,-2003.0,-2009.0,-2009.0,-2009.0,-1973.0,-1973.0,-1973.0,-1951.0,-1951.0,-1966.0,-1966.0,-1966.0,-2000.0,-2000.0,-2000.0,-1978.0,-1978.0,-1983.0,-1983.0,-1983.0,-1999.0,-1999.0,-1999.0,-1989.0,-1998.0,-1998.0,-1998.0,-2018.0,-2018.0,-2002.0,-2002.0,-2002.0,-1987.0,-1993.0,-1993.0,-1969.0,-1969.0,-1969.0,-1945.0,-1945.0,-1986.0,-1974.0,-2019.0,-2019.0,-2019.0,-1980.0,-1980.0,-2015.0,-2015.0,-2015.0,-2014.0,-1982.0,-1982.0,-2010.0,-2010.0,-2010.0,-1998.0,-2016.0,-2016.0,-2015.0,-2015.0,-2019.0,-1971.0,-2017.0,-2017.0,-2017.0,-2013.0,-1989.0,-1982.0,-1982.0,-1938.0,-2003.0,-2003.0,-2019.0,-1990.0,-1951.0,-1966.0,-1966.0,-1967.0,-1967.0,-1968.0,-2019.0,-1941.0,-1967.0,-1967.0,-1967.0,-1965.0,-1965.0,-1985.0,-1964.0,-1954.0,-1954.0,-1954.0,-2020.0,-2020.0,-2020.0,-1952.0,-1952.0,-1952.0,-2021.0,-2013.0,-2013.0,-2013.0,-2015.0,-2015.0,-2015.0,-1976.0,-2015.0,-2015.0,-2015.0,-1996.0,-1996.0,-2015.0,-2017.0,-2019.0,-1985.0,-1985.0,-1971.0,-1976.0,-1976.0,-1976.0,-2012.0,-2017.0,-1968.0,-1992.0,-1992.0,-2014.0,-1968.0,-1968.0,-1968.0,-2020.0,-2006.0,-2006.0,-2009.0,-1997.0,-1973.0,-1973.0,-1962.0,-2010.0,-2010.0,-2010.0,-1990.0,-1990.0,-1990.0,-1998.0,-1998.0,-1998.0,-1969.0,-1969.0,-1969.0,-1983.0,-1983.0,-1973.0,-1973.0,-1992.0,-1957.0,-1957.0,-1963.0,-1963.0,-1963.0,-1955.0,-1955.0,-1955.0,-1980.0,-1980.0,-1980.0,-1994.0,-1994.0,-1994.0,-2013.0,-2013.0,-2014.0,-2014.0,-2014.0,-2015.0,-2015.0,-1991.0,-1991.0,-2016.0,-2016.0,-2016.0,-2017.0,-2017.0,-2017.0,-2021.0,-1950.0,-1955.0,-1955.0,-2009.0,-2009.0,-2009.0,-2005.0,-2005.0,-2004.0,-2004.0,-2004.0,-2015.0,-2015.0,-2015.0,-2012.0,-2012.0,-2012.0,-1959.0,-2015.0,-2015.0,-1976.0,-1976.0,-1976.0,-1998.0,-1998.0,-1998.0,-2019.0,-2019.0,-1949.0,-1949.0,-1949.0,-1995.0,-1995.0,-1981.0,-1981.0,-1960.0,-1960.0,-1960.0,-1998.0,-2006.0,-2006.0,-2006.0,-2001.0,-2001.0,-2001.0,-1942.0,-1942.0,-1960.0,-1960.0,-1960.0,-1956.0,-1956.0,-1956.0,-1981.0,-1981.0,-2019.0,-2019.0,-2019.0,-1979.0,-1979.0,-2019.0,-2018.0,-1989.0,-1989.0,-2000.0,-1972.0,-1972.0,-1972.0,-1950.0,-1950.0,-1949.0,-1949.0,-1982.0,-1982.0,-2014.0,-2011.0,-2011.0,-2011.0,-1993.0,-1993.0,-1993.0,-1993.0,-1993.0,-2013.0,-1962.0,-1962.0,-1962.0,-1989.0,-1989.0,-2016.0,-2016.0,-2016.0,-2017.0,-2017.0,-2017.0,-2017.0,-2005.0,-2016.0,-2016.0,-2016.0,-1972.0,-1972.0,-1983.0,-1983.0,-1992.0,-1992.0,-1992.0,-1982.0,-1982.0,-1974.0,-1974.0,-1974.0,-1999.0,-1999.0,-1999.0,-1964.0,-1964.0,-2001.0,-2001.0,-2010.0,-2010.0,-1985.0,-1985.0,-1980.0,-1980.0,-1980.0,-1981.0,-1981.0,-1981.0,-1978.0,-1978.0,-2013.0,-2013.0,-2013.0,-1992.0,-1992.0,-1983.0,-1983.0,-1997.0,-1997.0,-1994.0,-1994.0,-1969.0,-1964.0,-1964.0,-1964.0,-1952.0,-1952.0,-1995.0,-1995.0,-2005.0,-2005.0,-1985.0,-1985.0,-1992.0,-2017.0,-2014.0,-2014.0,-2014.0,-1960.0,-2015.0,-2015.0,-2015.0,-2013.0,-2013.0,-2013.0,-2017.0,-2017.0,-1982.0,-1982.0,-2015.0,-2015.0,-2015.0,-2015.0,-2015.0,-2013.0,-2013.0,-2013.0,-2018.0,-1991.0,-1991.0,-1991.0,-1957.0,-1961.0,-1961.0,-2018.0,-2018.0,-2013.0,-1956.0,-1956.0,-1956.0,-2006.0,-2006.0,-2006.0,-2001.0,-2005.0,-2005.0,-2005.0,-2005.0,-2005.0,-1986.0,-1986.0,-1970.0,-1985.0,-1985.0,-1985.0,-1994.0,-1997.0,-1997.0,-1969.0,-1969.0,-1997.0,-1972.0,-1972.0,-1972.0,-2000.0,-2000.0,-1959.0,-1959.0,-1956.0,-2001.0,-1994.0,-1994.0,-1994.0,-1996.0,-1996.0,-1996.0,-1980.0,-1980.0,-1980.0,-1979.0,-1979.0,-1979.0,-1976.0,-1976.0,-2001.0,-2001.0,-2017.0,-2017.0,-2017.0,-2020.0,-2020.0,-2020.0,-1976.0,-1976.0,-2017.0,-2019.0,-2019.0,-2019.0,-2002.0,-2002.0,-2002.0,-1942.0,-1942.0,-1942.0,-2017.0,-1985.0,-1985.0,-1985.0,-2018.0,-2018.0,-2018.0,-2010.0,-2010.0,-2010.0,-1981.0,-1981.0,-1998.0,-1988.0,-2003.0,-1982.0,-1965.0,-1965.0,-1965.0,-2007.0,-2007.0,-2011.0,-2011.0,-1935.0,-2011.0,-2011.0,-2011.0,-2016.0,-2012.0,-2012.0,-2012.0,-2018.0,-1984.0,-2001.0,-1958.0,-1958.0,-2007.0,-2007.0,-2007.0,-2017.0,-2017.0,-2017.0,-2003.0,-2003.0,-2003.0,-2010.0,-2010.0,-2010.0,-1965.0,-1965.0,-1965.0,-1999.0,-2012.0,-2012.0,-2012.0,-2020.0,-2020.0,-2020.0,-2014.0,-2014.0,-2014.0,-2008.0,-2008.0,-2008.0,-1963.0,-1999.0,-2014.0,-2011.0,-2011.0,-2011.0,-2018.0,-2016.0,-1989.0,-1989.0,-1989.0,-2011.0,-2011.0,-2011.0,-1977.0,-1969.0,-1969.0,-2000.0,-2000.0,-2000.0,-1974.0,-1974.0,-1974.0,-1937.0,-2007.0,-2007.0,-2007.0,-2012.0,-2000.0,-1982.0,-1982.0,-1982.0,-1989.0,-1989.0,-1989.0,-2009.0,-2009.0,-2018.0,-1963.0,-1963.0,-1963.0,-2011.0,-2011.0,-2011.0,-1980.0,-2013.0,-1984.0,-1984.0,-2001.0,-2017.0,-1966.0,-1954.0,-2017.0,-2017.0,-2017.0,-2019.0,-2012.0,-1966.0,-1988.0,-1988.0,-1999.0,-1999.0,-1999.0,-1981.0,-1981.0,-2005.0,-2008.0,-2008.0,-2008.0,-1959.0,-1959.0,-1959.0,-2004.0,-2004.0,-2004.0,-2015.0,-2015.0,-1971.0,-1971.0,-1971.0,-2020.0,-2019.0,-2019.0,-1973.0,-1973.0,-1973.0,-2005.0,-2005.0,-2005.0,-2018.0,-2018.0,-2019.0,-2019.0,-2012.0,-2012.0,-2012.0,-2009.0,-2009.0,-2009.0,-2017.0,-2017.0,-2017.0,-2009.0,-2013.0,-2013.0,-2013.0,-1963.0,-2005.0,-2005.0,-2005.0,-1973.0,-1973.0,-1973.0,-2014.0,-2014.0,-2014.0,-2005.0,-2011.0,-2011.0,-2011.0,-2017.0,-2017.0,-2012.0,-2012.0,-1992.0,-1992.0,-1992.0,-2016.0,-2016.0,-2014.0,-2011.0,-2009.0,-2009.0,-2009.0,-1993.0,-1993.0,-1960.0,-1960.0,-1960.0,-2019.0,-2019.0,-2019.0,-1980.0,-1980.0,-1998.0,-1998.0,-1998.0,-2019.0,-2019.0,-2019.0,-2013.0,-2008.0,-2008.0,-2008.0,-1972.0,-1972.0,-1972.0,-2015.0,-2015.0,-2015.0,-2001.0,-2001.0,-2003.0,-2003.0,-2001.0,-2001.0,-2001.0,-1954.0,-1954.0,-1954.0,-1997.0,-1997.0,-1997.0,-2002.0,-2013.0,-2013.0,-2013.0,-2021.0,-1965.0,-1961.0,-1961.0,-2018.0,-1968.0,-1968.0,-1968.0,-2010.0,-2010.0,-2010.0,-2011.0,-2011.0,-2011.0,-2015.0,-2015.0,-2015.0,-2004.0,-2004.0,-2004.0,-2018.0,-2018.0,-2018.0,-2015.0,-2015.0,-2015.0,-2001.0,-2011.0,-2017.0,-2017.0,-2017.0,-2016.0,-2016.0,-2007.0,-1971.0,-1971.0,-1971.0,-2016.0,-2016.0,-2016.0,-1966.0,-1966.0,-1966.0,-2000.0,-2000.0,-2020.0,-2020.0,-2020.0,-2018.0,-2014.0,-1976.0,-1976.0,-1976.0,-2005.0,-2005.0,-2013.0,-2013.0,-2013.0,-2012.0,-2010.0,-2010.0,-2010.0,-2015.0,-2020.0,-2020.0,-2005.0,-2005.0,-2005.0,-2005.0,-2005.0,-2019.0,-2019.0,-2019.0,-2008.0,-2008.0,-2008.0,-2005.0,-2005.0,-2005.0,-1956.0,-1956.0,-1956.0,-1967.0,-1967.0,-1967.0,-2019.0,-2019.0,-2019.0,-2013.0,-2003.0,-2003.0,-2003.0,-2015.0,-2000.0,-2000.0,-2000.0,-2017.0,-2007.0,-2007.0,-2007.0,-1986.0,-1986.0,-1991.0,-1991.0,-2020.0,-2020.0,-2020.0,-1986.0,-1971.0,-1971.0,-1971.0,-2009.0,-2009.0,-2019.0,-2019.0,-2019.0,-2007.0,-2007.0,-2007.0,-2009.0,-2009.0,-2009.0,-2015.0,-2012.0,-2001.0,-1996.0,-1996.0,-2005.0,-2005.0,-2005.0,-1989.0,-1989.0,-1989.0,-2003.0,-2012.0,-2012.0,-1994.0,-1994.0,-1994.0,-1977.0,-2012.0,-2012.0,-1985.0,-2016.0,-2014.0,-2014.0,-1977.0,-1977.0,-1977.0,-1997.0,-1997.0,-1997.0,-2019.0,-2019.0,-2004.0,-2007.0,-2007.0,-2007.0,-2007.0,-2007.0,-2007.0,-1977.0,-1977.0,-1977.0,-1981.0,-2012.0,-2012.0,-2012.0,-2012.0,-1978.0,-1978.0,-1978.0,-2014.0,-2009.0,-2009.0,-2009.0,-2015.0,-2000.0,-2000.0,-2012.0,-2012.0,-1977.0,-1977.0,-1977.0,-2011.0,-2011.0,-2003.0,-2016.0,-2012.0,-2011.0,-2011.0,-2002.0,-2002.0,-2002.0,-1977.0,-1977.0,-2003.0,-2003.0,-1976.0,-1976.0,-1958.0,-1958.0,-1958.0,-2020.0,-2020.0,-1992.0,-1992.0,-1992.0,-2003.0,-1986.0,-1986.0,-1986.0,-2008.0,-2008.0,-2008.0,-2000.0,-2000.0,-2000.0,-2019.0,-2019.0,-2019.0,-2010.0,-2010.0,-2010.0,-1959.0,-1965.0,-1965.0,-1965.0,-2005.0,-2005.0,-2006.0,-1967.0,-1967.0,-1967.0,-2005.0,-1969.0,-1999.0,-1967.0,-1989.0,-1989.0,-1989.0,-2001.0,-2001.0,-1948.0,-1993.0,-1993.0,-1993.0,-2007.0,-2007.0,-2007.0,-1935.0,-1984.0,-2002.0,-1957.0,-1957.0,-1957.0,-1980.0,-1961.0,-1961.0,-1955.0,-1955.0,-1955.0,-1975.0,-1976.0,-1976.0,-1976.0,-2004.0,-2004.0,-2004.0,-1974.0,-1974.0,-2015.0,-2010.0,-2010.0,-2010.0,-2013.0,-2013.0,-1981.0,-1981.0,-1981.0,-1983.0,-2011.0,-2011.0,-2011.0,-2017.0,-1994.0,-1994.0,-1994.0,-2014.0,-2018.0,-2007.0,-2007.0,-2007.0,-2017.0,-2017.0,-2017.0,-2015.0,-2005.0,-1981.0,-1981.0,-1981.0,-1992.0,-1965.0,-1965.0,-2013.0,-2013.0,-2013.0,-1970.0,-2005.0,-1981.0,-1981.0,-1981.0,-1977.0,-1977.0,-1977.0,-2020.0,-2020.0,-1960.0,-1960.0,-2020.0,-2020.0,-2019.0,-1952.0,-1952.0,-1961.0,-1961.0,-2019.0,-2019.0,-2007.0,-2007.0,-2012.0,-2012.0,-2012.0,-2013.0,-2016.0,-2013.0,-2013.0,-2013.0,-2019.0,-2019.0,-2019.0,-1998.0,-1998.0,-1998.0,-1996.0,-1961.0,-1961.0,-1961.0,-1996.0,-1996.0,-1996.0,-1959.0,-1971.0,-1971.0,-1976.0,-1976.0,-1967.0,-1967.0,-2001.0,-2001.0,-2001.0,-2016.0,-2016.0,-2016.0,-2019.0,-2005.0,-2005.0,-2005.0,-2018.0,-2018.0,-2018.0,-2016.0,-2014.0,-2014.0,-2014.0,-2011.0,-2011.0,-2011.0,-1998.0,-1998.0,-1998.0,-1962.0,-1962.0,-1962.0,-2015.0,-2006.0,-2006.0,-2006.0,-2006.0,-2009.0,-2009.0,-2020.0,-2020.0,-2016.0,-2019.0,-1976.0,-1976.0,-2011.0,-2011.0,-2011.0,-2012.0,-2012.0,-2012.0,-2005.0,-2005.0,-2005.0,-2020.0,-2000.0,-2019.0,-2019.0,-1993.0,-1993.0,-1993.0,-2015.0,-1954.0,-1954.0,-2013.0,-2013.0,-2013.0,-2002.0,-2002.0,-2002.0,-1974.0,-1974.0,-1974.0,-1990.0,-1990.0,-1977.0,-1977.0,-1977.0,-1956.0,-1956.0,-1956.0,-2003.0,-2003.0,-2003.0,-1972.0,-1972.0,-2001.0,-2001.0,-2001.0,-1975.0,-1975.0,-1975.0,-1982.0,-1982.0,-1980.0,-1975.0,-1975.0,-2003.0,-2020.0,-2019.0,-2019.0,-1974.0,-1997.0,-2016.0,-2016.0,-2006.0,-2006.0,-2006.0,-1975.0,-1975.0,-1975.0,-2003.0,-2003.0,-2003.0,-2003.0,-2003.0,-2003.0,-2015.0,-2014.0,-2014.0,-2010.0,-2010.0,-2020.0,-2020.0,-2020.0,-1989.0,-1989.0,-1989.0,-2010.0,-2010.0,-2010.0,-2013.0,-2016.0,-2016.0,-2016.0,-2012.0,-2012.0,-2012.0,-2015.0,-2008.0,-2008.0,-2008.0,-2006.0,-2020.0,-2020.0,-1988.0,-1988.0,-1988.0,-2013.0,-2013.0,-2013.0,-2017.0,-2017.0,-2017.0,-2019.0,-2019.0,-2019.0,-2002.0,-2002.0,-2002.0,-1974.0,-1974.0,-1974.0,-1986.0,-2021.0,-2021.0,-2008.0,-2008.0,-2008.0,-2020.0,-2009.0,-2009.0,-1983.0,-1983.0,-1983.0,-1995.0,-1995.0,-1995.0,-1991.0,-1991.0,-1991.0,-2020.0,-2020.0,-2020.0,-2006.0,-1992.0,-1992.0,-1992.0,-2014.0,-2020.0,-2000.0,-2011.0,-2011.0,-2011.0,-2016.0,-2016.0,-2014.0,-2014.0,-2014.0,-1994.0,-1994.0,-1994.0,-2010.0,-2010.0,-2010.0,-2016.0,-2016.0,-2016.0,-1992.0,-2011.0,-2011.0,-2019.0,-2019.0,-2005.0,-2005.0,-2005.0,-2021.0,-2021.0,-2021.0,-1997.0,-1997.0,-1997.0,-1966.0,-1966.0,-1966.0,-1953.0,-1952.0,-1952.0,-1973.0,-1973.0,-1973.0,-1999.0,-1999.0,-1999.0,-1964.0,-1964.0,-2012.0,-2005.0,-2005.0,-2018.0,-2018.0,-1997.0,-1997.0,-1997.0,-2019.0,-2014.0,-2014.0,-2014.0,-2010.0,-2010.0,-2010.0,-2010.0,-2010.0,-2010.0,-2012.0,-2012.0,-2012.0,-2019.0,-2019.0,-2019.0,-1987.0,-1987.0,-1979.0,-1979.0,-1979.0,-1999.0,-1980.0,-1980.0,-2017.0,-2017.0,-2017.0,-2009.0,-2009.0,-2017.0,-1975.0,-1975.0,-2015.0,-2015.0,-2015.0,-1998.0,-1950.0,-1999.0,-1999.0,-1999.0,-1986.0,-1986.0,-1977.0,-1977.0,-2000.0,-2000.0,-2000.0,-2000.0,-2000.0,-2000.0,-2000.0,-1993.0,-1993.0,-2011.0,-2011.0,-2011.0,-1978.0,-2011.0,-2011.0,-2011.0,-1993.0,-1993.0,-1985.0,-1987.0,-1987.0,-1987.0,-1997.0,-1997.0,-1995.0,-1995.0,-1995.0,-1991.0,-1991.0,-1991.0,-1998.0,-2016.0,-2016.0,-2016.0,-2012.0,-2012.0,-2012.0,-2019.0,-2019.0,-2005.0,-2018.0,-1996.0,-1996.0,-1996.0,-2020.0,-2020.0,-2020.0,-1982.0,-2005.0,-1988.0,-2019.0,-2019.0,-2007.0,-2007.0,-2007.0,-1997.0,-2003.0,-2006.0,-1949.0,-1949.0,-1949.0,-1970.0,-1970.0,-1993.0,-1993.0,-1993.0,-2014.0,-2014.0,-1978.0,-2002.0,-2006.0,-2006.0,-2006.0,-2008.0,-2008.0,-2018.0,-2018.0,-1972.0,-1972.0,-1972.0,-1996.0,-1996.0,-1970.0,-1950.0,-1950.0,-1950.0,-2008.0,-2008.0,-2001.0,-1997.0,-1997.0,-1997.0,-1982.0,-1982.0,-1982.0,-1992.0,-1992.0,-1992.0,-2013.0,-2013.0,-2013.0,-1975.0,-1988.0,-1988.0,-1988.0,-2017.0,-2016.0,-2013.0,-2013.0,-2009.0,-2009.0,-2009.0,-2019.0,-2019.0,-2019.0,-2008.0,-2008.0,-2008.0,-2016.0,-2016.0,-2006.0,-2006.0,-2016.0,-2016.0,-2017.0,-2017.0,-2018.0,-2014.0,-2014.0,-2016.0,-2016.0,-1987.0,-2014.0,-2014.0,-2014.0,-1992.0,-1992.0,-1951.0,-1951.0,-2001.0,-2001.0,-1976.0,-1976.0,-1976.0,-1975.0,-1975.0,-1975.0,-1992.0,-1992.0,-1992.0,-2013.0,-2013.0,-2013.0,-1997.0,-1997.0,-1990.0,-1990.0,-1990.0,-1987.0,-1987.0,-2000.0,-2000.0,-2005.0,-2005.0,-2005.0,-2002.0,-2002.0,-2002.0,-2007.0,-2009.0,-2009.0,-2009.0,-1957.0,-1957.0,-2014.0,-1985.0,-1985.0,-2018.0,-2011.0,-2011.0,-2011.0,-2011.0,-2011.0,-2012.0,-2012.0,-2012.0,-2009.0,-2012.0,-2012.0,-2012.0,-2012.0,-2007.0,-2007.0,-2007.0,-2002.0,-1980.0,-2008.0,-2008.0,-1982.0,-1982.0,-1982.0,-1991.0,-1991.0,-1991.0,-2011.0,-2011.0,-2014.0,-1958.0,-2015.0,-2015.0,-2015.0,-2009.0,-2009.0,-2009.0,-2004.0,-2009.0,-2009.0,-2005.0,-1966.0,-1966.0,-1966.0,-1978.0,-1978.0,-2002.0,-2002.0,-2002.0,-1936.0,-1936.0,-1955.0,-1955.0,-1955.0,-2002.0,-2002.0,-2002.0,-2019.0,-2004.0,-2004.0,-2004.0,-2019.0,-2019.0,-2019.0,-2019.0,-1956.0,-1956.0,-1998.0,-2018.0,-2000.0,-2000.0,-1997.0,-1997.0,-2018.0,-2018.0,-2000.0,-2000.0,-2006.0,-2006.0,-2006.0,-2007.0,-2007.0,-2007.0,-1973.0,-1973.0,-1973.0,-1980.0,-2007.0,-2007.0,-1993.0,-1993.0,-1993.0,-1981.0,-1981.0,-1981.0,-2008.0,-2008.0,-2016.0,-1975.0,-1975.0,-1991.0,-1991.0,-2015.0,-1977.0,-1977.0,-1977.0,-1992.0,-1992.0,-1986.0,-1986.0,-1986.0,-1997.0,-1997.0,-1975.0,-1975.0,-1975.0,-1961.0,-2011.0,-2011.0,-2011.0,-1950.0,-1950.0,-2017.0,-2017.0,-2001.0,-2001.0,-2020.0,-2010.0,-2007.0,-2007.0,-2007.0,-2007.0,-2007.0,-2007.0,-1951.0,-1951.0,-1979.0,-1979.0,-1979.0,-1959.0,-2004.0,-2004.0,-2004.0,-2006.0,-2006.0,-2006.0,-2013.0,-2013.0,-2013.0,-2008.0,-2008.0,-2008.0,-2009.0,-2009.0,-2003.0,-1975.0,-1989.0,-1989.0,-1981.0,-2002.0,-2002.0,-2002.0,-1973.0,-1973.0,-1973.0,-2003.0,-2003.0,-2003.0,-2019.0,-2019.0,-2019.0,-1982.0,-1982.0,-1982.0,-1940.0,-1940.0,-2012.0,-1989.0,-1989.0,-1991.0,-1990.0,-1990.0,-1990.0,-1992.0,-1992.0,-1978.0,-1978.0,-1978.0,-1968.0,-2020.0,-2020.0,-2020.0,-2009.0,-2009.0,-2009.0,-2001.0,-2001.0,-2001.0,-1959.0,-1959.0,-2015.0,-2015.0,-2015.0,-1974.0,-1974.0,-1966.0,-1966.0,-1966.0,-2006.0,-2006.0,-2006.0,-2007.0,-2007.0,-2007.0,-1963.0,-1963.0,-1963.0,-1993.0,-1993.0,-1993.0,-1991.0,-1991.0,-1991.0,-2002.0,-2002.0,-1963.0,-1963.0,-1963.0,-1992.0,-1992.0,-2005.0,-2005.0,-2017.0,-2018.0,-2018.0,-1992.0,-1992.0,-2003.0,-2003.0,-2003.0,-2014.0,-2014.0,-2014.0,-2008.0,-2008.0,-2005.0,-2005.0,-1993.0,-1993.0,-1999.0,-1999.0,-1999.0,-2004.0,-2004.0,-2004.0,-2004.0,-1967.0,-1967.0,-2003.0,-2003.0,-2000.0,-2016.0,-1998.0,-1998.0,-1993.0,-1993.0,-1993.0,-1962.0,-1962.0,-1996.0,-1996.0,-1997.0,-1997.0,-1997.0,-2011.0,-2011.0,-2011.0,-2016.0,-2016.0,-1987.0,-2002.0,-2002.0,-2002.0,-1982.0,-1994.0,-1994.0,-1977.0,-1977.0,-1977.0,-1953.0,-1987.0,-1987.0,-1996.0,-1996.0,-1996.0,-1947.0,-1947.0,-1999.0,-1999.0,-1999.0,-1966.0,-1966.0,-1966.0,-2015.0,-2015.0,-1950.0,-1950.0,-1950.0,-1986.0,-1986.0,-1986.0,-1994.0,-1994.0,-1994.0,-2015.0,-2015.0,-2015.0,-1995.0,-1995.0,-1980.0,-2016.0,-2016.0,-2016.0,-2015.0,-1982.0,-1982.0,-1982.0,-1990.0,-1990.0,-1990.0,-2014.0,-2014.0,-2016.0,-2016.0,-2016.0,-1984.0,-1984.0,-1993.0,-1993.0,-1967.0,-1967.0,-1976.0,-1957.0,-1957.0,-1957.0,-1980.0,-1980.0,-1980.0,-1969.0,-1969.0,-1969.0,-1953.0,-1971.0,-1971.0,-2015.0,-1982.0,-1982.0,-2010.0,-2010.0,-1968.0,-1968.0,-1972.0,-1975.0,-1975.0,-1968.0,-1968.0,-1968.0,-2009.0,-2009.0,-2016.0,-2016.0,-2016.0,-1978.0,-1978.0,-1978.0,-1974.0,-1974.0,-1998.0,-1958.0,-1958.0,-1974.0,-1974.0,-1974.0,-1980.0,-1980.0,-1989.0,-1989.0,-1969.0,-1969.0,-1971.0,-1977.0,-1959.0,-1959.0,-1959.0,-1988.0,-2014.0,-2017.0,-2017.0,-2004.0,-2004.0,-1940.0,-1969.0,-1969.0,-1998.0,-1998.0,-2015.0,-2015.0,-2019.0,-2019.0,-2019.0,-2019.0,-2006.0,-2006.0,-2006.0,-1978.0,-1978.0,-1978.0,-2011.0,-2011.0,-2011.0,-2008.0,-2008.0,-2016.0,-2016.0,-2016.0,-2006.0,-2006.0,-2006.0,-1990.0,-1990.0,-1990.0,-2017.0,-1964.0,-1964.0,-1971.0,-1964.0,-2020.0,-2020.0,-1977.0,-1977.0,-1977.0,-1983.0,-1983.0,-2006.0,-2007.0,-2007.0,-2007.0,-1974.0,-1989.0,-1964.0,-1964.0,-1964.0,-1986.0,-1986.0,-2019.0,-2005.0,-2005.0,-2005.0,-2011.0,-2011.0,-2011.0,-2018.0,-2015.0,-2014.0,-1947.0,-1947.0,-1947.0,-1999.0,-2013.0,-1931.0,-2014.0,-2014.0,-2019.0,-2019.0,-2009.0,-2009.0,-2009.0,-2013.0,-1990.0,-2015.0,-2015.0,-2015.0,-2019.0,-2019.0,-2019.0,-1994.0,-1994.0,-1992.0,-1992.0,-1992.0,-2003.0,-1994.0,-1994.0,-2015.0,-1949.0,-1949.0,-1964.0,-1964.0,-1964.0,-2010.0,-2010.0,-2010.0,-2016.0,-2016.0,-2016.0,-1967.0,-1967.0,-1967.0,-2000.0,-2000.0,-2000.0,-1977.0,-1977.0,-1977.0,-1998.0,-2003.0,-2003.0,-2003.0,-2015.0,-2015.0,-2015.0,-2011.0,-2011.0,-2011.0,-1984.0,-1984.0,-1979.0,-1979.0,-1937.0,-2015.0,-2015.0,-2010.0,-2010.0,-1998.0,-1998.0,-1998.0,-2002.0,-1983.0,-1983.0,-1983.0,-2002.0,-2020.0,-2020.0,-2007.0,-1966.0,-1966.0,-1966.0,-1976.0,-1976.0,-1976.0,-2010.0,-2010.0,-1998.0,-1998.0,-1998.0,-1990.0,-1990.0,-1957.0,-1996.0,-1992.0,-1992.0,-1995.0,-1995.0,-1995.0,-1971.0,-1973.0,-1973.0,-1973.0,-2009.0,-2009.0,-2009.0,-1998.0,-1998.0,-1998.0,-2014.0,-2012.0,-2012.0,-2001.0,-2001.0,-2019.0,-2019.0,-1994.0,-1994.0,-1994.0,-1989.0,-1989.0,-1989.0,-2001.0,-2001.0,-2019.0,-2019.0,-2019.0,-1946.0,-1946.0,-2018.0,-1972.0,-2005.0,-2005.0,-2005.0,-2000.0,-2003.0,-1981.0,-1981.0,-1986.0,-1986.0,-1978.0,-1978.0,-1983.0,-1980.0,-1980.0,-1980.0,-1980.0,-2020.0,-1972.0,-1972.0,-1986.0,-2007.0,-2007.0,-2007.0,-2002.0,-1985.0,-1985.0,-1963.0,-1963.0,-1963.0,-2003.0,-1989.0,-1990.0,-1990.0,-1981.0,-1981.0,-1981.0,-1957.0,-1991.0,-2017.0,-1972.0,-1972.0,-1972.0,-2004.0,-2004.0,-2004.0,-1981.0,-1981.0,-1981.0,-1993.0,-1992.0,-1992.0,-1983.0,-1983.0,-1968.0,-1968.0,-1968.0,-2005.0,-2005.0,-2005.0,-2007.0,-2007.0,-1992.0,-1992.0,-2019.0,-2019.0,-2019.0,-1986.0,-2012.0,-2012.0,-2012.0,-1970.0,-1990.0,-1990.0,-1990.0,-1971.0,-1971.0,-1971.0,-2015.0,-2015.0,-2015.0,-1986.0,-1960.0,-1960.0,-1960.0,-1969.0,-1969.0,-1969.0,-1968.0,-1968.0,-1968.0,-1963.0,-1957.0,-1957.0,-1957.0,-2020.0,-2020.0,-1965.0,-1965.0,-1965.0,-1976.0,-1976.0,-1976.0,-2004.0,-2004.0,-2009.0,-2009.0,-2009.0,-1969.0,-1969.0,-2000.0,-2015.0,-2018.0,-2018.0,-1996.0,-1996.0,-2012.0,-2012.0,-2012.0,-2013.0,-2013.0,-2013.0,-1949.0,-2009.0,-2008.0,-2008.0,-2009.0,-2009.0,-2009.0,-1956.0,-2012.0,-2012.0,-2018.0,-2014.0,-2007.0,-2007.0,-2007.0,-2019.0,-2019.0,-2019.0,-2019.0,-1994.0,-1994.0,-1994.0,-1971.0,-1971.0,-1971.0,-2005.0,-2005.0,-1947.0,-2008.0,-2008.0,-2008.0,-1984.0,-1984.0,-2005.0,-2005.0,-2005.0,-2002.0,-2002.0,-2020.0,-2020.0,-2012.0,-2012.0,-2012.0,-2003.0,-2003.0,-2003.0,-2007.0,-2007.0,-2007.0,-2018.0,-2001.0,-2001.0,-2001.0,-2020.0,-2020.0,-2020.0,-2015.0,-2015.0,-2015.0,-2011.0,-2011.0,-1985.0,-1985.0,-2019.0,-2019.0,-2013.0,-2013.0,-2013.0,-1976.0,-1976.0,-1976.0,-1988.0,-1988.0,-1988.0,-2019.0,-2019.0,-2019.0,-2019.0,-2019.0,-2006.0,-2006.0,-2006.0,-2017.0,-2016.0,-2016.0,-2016.0,-2006.0,-2006.0,-2006.0,-1975.0,-1975.0,-1975.0,-1965.0,-1965.0,-1983.0,-1983.0,-1996.0,-1996.0,-1996.0,-2005.0,-2005.0,-1977.0,-1977.0,-1967.0,-1967.0,-1967.0,-1989.0,-1957.0,-1957.0,-2008.0,-2008.0,-2009.0,-2009.0,-2009.0,-2019.0,-2019.0,-1933.0,-1933.0,-1943.0,-2012.0,-2012.0,-2012.0,-2021.0,-1963.0,-1963.0,-1963.0,-2016.0,-2016.0,-2016.0,-2012.0,-2012.0,-2012.0,-1954.0,-1954.0,-2016.0,-2016.0,-2004.0,-2004.0,-2004.0,-1981.0,-1981.0,-1981.0,-2006.0,-2006.0,-2002.0,-2002.0,-1983.0,-1983.0,-1983.0,-2005.0,-2012.0,-2019.0,-2014.0,-2014.0,-2014.0,-2008.0,-2008.0,-2008.0,-2017.0,-2017.0,-1996.0,-1996.0,-2013.0,-2013.0,-2021.0,-2010.0,-2013.0,-2013.0,-2015.0,-2015.0,-1991.0,-1990.0,-1990.0,-1990.0,-2016.0,-2016.0,-2000.0,-2000.0,-2000.0,-2014.0,-2017.0,-2017.0,-2017.0,-2021.0,-2021.0,-2016.0,-2007.0,-2007.0,-2007.0,-2007.0,-1953.0,-1953.0,-1953.0,-2020.0,-2020.0,-2003.0,-2003.0,-2003.0,-2011.0,-2011.0,-2011.0,-2016.0,-2016.0,-2016.0,-2007.0,-1959.0,-2015.0,-2015.0,-2015.0,-2012.0,-2009.0,-2009.0,-2009.0,-2019.0,-2019.0,-2016.0,-2016.0,-2016.0,-2016.0,-2018.0,-1980.0,-1980.0,-1980.0,-2008.0,-2008.0,-2008.0,-2007.0,-2009.0,-2009.0,-2009.0,-2018.0,-2018.0,-2016.0,-2016.0,-2014.0,-2014.0,-2013.0,-2013.0,-2013.0,-2020.0,-2020.0,-2020.0,-2017.0,-1960.0,-1960.0,-1960.0,-2005.0,-2012.0,-2017.0,-1973.0,-1973.0,-1966.0,-1966.0,-1966.0,-2015.0,-2015.0,-2015.0,-2007.0,-2001.0,-2001.0,-2001.0,-1995.0,-1995.0,-1995.0,-2006.0,-1999.0,-1999.0,-1989.0,-1989.0,-1989.0,-2000.0,-2000.0,-2004.0,-2012.0,-2012.0,-2012.0,-2009.0,-1978.0,-2004.0,-2004.0,-2004.0,-1971.0,-1971.0,-1971.0,-1995.0,-1995.0,-1995.0,-1993.0,-1993.0,-1993.0,-2011.0,-2011.0,-2011.0,-2007.0,-2007.0,-2007.0,-2017.0,-2017.0,-2017.0,-2018.0,-1982.0,-1982.0,-1982.0,-2011.0,-2011.0,-2011.0,-2007.0,-2007.0,-2007.0,-2016.0,-2016.0,-2016.0,-1986.0,-1986.0,-1986.0,-2000.0,-2000.0,-2000.0,-2014.0,-2014.0,-2016.0,-2006.0,-2006.0,-2006.0,-1980.0,-1978.0,-1978.0,-1983.0,-1988.0,-1988.0,-1988.0,-2003.0,-2003.0,-2003.0,-2013.0,-2013.0,-2012.0,-2012.0,-2012.0,-2006.0,-2006.0,-2006.0,-1984.0,-1984.0,-2018.0,-1972.0,-1972.0,-1972.0,-2005.0,-1955.0,-1972.0,-1972.0,-1972.0,-2005.0,-2018.0,-2018.0,-1993.0,-1993.0,-1993.0,-1974.0,-2011.0,-2014.0,-1968.0,-1968.0,-2007.0,-2007.0,-2007.0,-2016.0,-1979.0,-1979.0,-1979.0,-2002.0,-1989.0,-2004.0,-2004.0,-2004.0,-1992.0,-1975.0,-1975.0,-1975.0,-1993.0,-1980.0,-1980.0,-1973.0,-1973.0,-1973.0,-2002.0,-2002.0,-2002.0,-1986.0,-2018.0,-2018.0,-1989.0,-1989.0,-1989.0,-1985.0,-1985.0,-2008.0,-2008.0,-2008.0,-2013.0,-2013.0,-2013.0,-1978.0,-1978.0,-1963.0,-1963.0,-1998.0,-1998.0,-1998.0,-1985.0,-1984.0,-1988.0,-1988.0,-1970.0,-1970.0,-2004.0,-2004.0,-1990.0,-1992.0,-1992.0,-1989.0,-1967.0,-1987.0,-1987.0,-1948.0,-1948.0,-1988.0,-1988.0,-1988.0,-1961.0,-1961.0,-1961.0,-1977.0,-1977.0,-1998.0,-1976.0,-1976.0,-1996.0,-1996.0,-2008.0,-2008.0,-1990.0,-1990.0,-1990.0,-2016.0,-2016.0,-2016.0,-1982.0,-1982.0,-1982.0,-1992.0,-1992.0,-2019.0,-2019.0,-2020.0,-1997.0,-1997.0,-1997.0,-2012.0,-2019.0,-2019.0,-2020.0,-2020.0,-1998.0,-1998.0,-1998.0,-1973.0,-1973.0,-1956.0,-1956.0,-1997.0,-1997.0,-1997.0,-1985.0,-1985.0,-1981.0,-1981.0,-2007.0,-1984.0,-2020.0,-2020.0,-2020.0,-2013.0,-2013.0,-2004.0,-2000.0,-2016.0,-2007.0,-2007.0,-2007.0,-2013.0,-2013.0,-2013.0,-1968.0,-1968.0,-2019.0,-2008.0,-2008.0,-2008.0,-1963.0,-1983.0,-1999.0,-1999.0,-1999.0,-2018.0,-2018.0,-2018.0,-1968.0,-1968.0,-1968.0,-2010.0,-2010.0,-2010.0,-2010.0,-2010.0,-2017.0,-2017.0,-2017.0,-2008.0,-2008.0,-2008.0,-2006.0,-2006.0,-2006.0,-2019.0,-2019.0,-2007.0,-2007.0,-2019.0,-2008.0,-2008.0,-2008.0,-1989.0,-1989.0,-1989.0,-1959.0,-1959.0,-2013.0,-2013.0,-2013.0,-1979.0,-1970.0,-1970.0,-1970.0,-1994.0,-1994.0,-1994.0,-1982.0,-1982.0,-1948.0,-1972.0,-1972.0,-1972.0,-2013.0,-2013.0,-2013.0,-2015.0,-2015.0,-1993.0,-1993.0,-1993.0,-2017.0,-2001.0,-2001.0,-1963.0,-1963.0,-2013.0,-2013.0,-2013.0,-2016.0,-2016.0,-2016.0,-2012.0,-1979.0,-1979.0,-1971.0,-1971.0,-1971.0,-1995.0,-1995.0,-2015.0,-2015.0,-2015.0,-1997.0,-1997.0,-1997.0,-2017.0,-1965.0,-1965.0,-1965.0,-2020.0,-2020.0,-2020.0,-2020.0,-2020.0,-2014.0,-2014.0,-2009.0,-2009.0,-2009.0,-2012.0,-2020.0,-2020.0,-2019.0,-2019.0,-2019.0,-1965.0,-1965.0,-1965.0,-2008.0,-2008.0,-2019.0,-2019.0,-2019.0,-1963.0,-1963.0,-1993.0,-1993.0,-1993.0,-1993.0,-1993.0,-2002.0,-2002.0,-2002.0,-1970.0,-1967.0,-1990.0,-1988.0,-1969.0,-1969.0,-1969.0,-1998.0,-1998.0,-1998.0,-1995.0,-2014.0,-2014.0,-2014.0,-1995.0,-1961.0,-1961.0,-1961.0,-2020.0,-2020.0,-2020.0,-2020.0,-2019.0,-2019.0,-1997.0,-1997.0,-1997.0,-2016.0,-2016.0,-1989.0,-1980.0,-1980.0,-1980.0,-2003.0,-2007.0,-1988.0,-1988.0,-2010.0,-1981.0,-1981.0,-1993.0,-1993.0,-1993.0,-1969.0,-2015.0,-2015.0,-2015.0,-2010.0,-2010.0,-1962.0,-2008.0,-2008.0,-2002.0,-2002.0,-2002.0,-2003.0,-2003.0,-2003.0,-2011.0,-1974.0,-1974.0,-2002.0,-1971.0,-1971.0,-1971.0,-1982.0,-1982.0,-1982.0,-1995.0,-1995.0,-1995.0,-1986.0,-1986.0,-1986.0,-1990.0,-1990.0,-1990.0,-2020.0,-2000.0,-2000.0,-1998.0,-2014.0,-2016.0,-2015.0,-2014.0,-2014.0,-2014.0,-2011.0,-2011.0,-1984.0,-1984.0,-1984.0,-1977.0,-1977.0,-1977.0,-2020.0,-2020.0,-2020.0,-1956.0,-1956.0,-1956.0,-2017.0,-2017.0,-2021.0,-2021.0,-1962.0,-1962.0,-1962.0,-2018.0,-2018.0,-2008.0,-2008.0,-1996.0,-1996.0,-1956.0,-1978.0,-2000.0,-2000.0,-2000.0,-1985.0,-2018.0,-2018.0,-2018.0,-2015.0,-2015.0,-1997.0,-1997.0,-1997.0,-2018.0,-1967.0,-1967.0,-1967.0,-1963.0,-1963.0,-1944.0,-1944.0,-2004.0,-2004.0,-2004.0,-1979.0,-1979.0,-2012.0,-2019.0,-1984.0,-2005.0,-2017.0,-2017.0,-1974.0,-2019.0,-2019.0,-2016.0,-2016.0,-2014.0,-2014.0,-2020.0,-2020.0,-2011.0,-2011.0,-2014.0,-2014.0,-2014.0,-2018.0,-1964.0,-1964.0,-1964.0,-1985.0,-1985.0,-1995.0,-1995.0,-1995.0,-1991.0,-2000.0,-2000.0,-2000.0,-1979.0,-1979.0,-1979.0,-1950.0,-2018.0,-2015.0,-2015.0,-2020.0,-2020.0,-2020.0,-1967.0,-1967.0,-1967.0,-1971.0,-1971.0,-1976.0,-1976.0,-1976.0,-1982.0,-2004.0,-2004.0,-2008.0,-2008.0,-2008.0,-2000.0,-2000.0,-1962.0,-1962.0,-1962.0,-2014.0,-2014.0,-2018.0,-1999.0,-1999.0,-1999.0,-1968.0,-1968.0,-1968.0,-1971.0,-1971.0,-1971.0,-1993.0,-2012.0,-2012.0,-2014.0,-2014.0,-2015.0,-2015.0,-2018.0,-2018.0,-2018.0,-1967.0,-1989.0,-1989.0,-2002.0,-2002.0,-2002.0,-2007.0,-2007.0,-2007.0,-1988.0,-1988.0,-1988.0,-2004.0,-2004.0,-2004.0,-1998.0,-1991.0,-2011.0,-2011.0,-2011.0,-2020.0,-2004.0,-2003.0,-2003.0,-2003.0,-2014.0,-2014.0,-2014.0,-2015.0,-2015.0,-2004.0,-2004.0,-2004.0,-2003.0,-2003.0,-1968.0,-1998.0,-2003.0,-2014.0,-2014.0,-2014.0,-1970.0,-1970.0,-1970.0,-1992.0,-1992.0,-1999.0,-1999.0,-1999.0,-1982.0,-2018.0,-2008.0,-2008.0,-1999.0,-1999.0,-1999.0,-2021.0,-2010.0,-2010.0,-2010.0,-2010.0,-2016.0,-2016.0,-2016.0,-2010.0,-2010.0,-2010.0,-2010.0,-1991.0,-1991.0,-1991.0,-1976.0,-1976.0,-1976.0,-2000.0,-2000.0,-2000.0,-1964.0,-1983.0,-1983.0,-1983.0,-2015.0,-2015.0,-2015.0,-1998.0,-1998.0,-1998.0,-1988.0,-1988.0,-1988.0,-1997.0,-1997.0,-1997.0,-2008.0,-2008.0,-2008.0,-2012.0,-2014.0,-2014.0,-2015.0,-2015.0,-2015.0,-2000.0,-2000.0,-2000.0,-2018.0,-2007.0,-2007.0,-2018.0,-2018.0,-2010.0,-2010.0,-2010.0,-1987.0,-1987.0,-2018.0,-2014.0,-2014.0,-2014.0,-2008.0,-2008.0,-1965.0,-1965.0,-1965.0,-1970.0,-1970.0,-1970.0,-1996.0,-1996.0,-1996.0,-1987.0,-1987.0,-1987.0,-1996.0,-1996.0,-1983.0,-1983.0,-1983.0,-1998.0,-2013.0,-2013.0,-2013.0,-2017.0,-2017.0,-2017.0,-2017.0,-1973.0,-1973.0,-1973.0,-2002.0,-1977.0,-1987.0,-1987.0,-1987.0,-2010.0,-2010.0,-2010.0,-1988.0,-1988.0,-1988.0,-2004.0,-2004.0,-2004.0,-2015.0,-2015.0,-1999.0,-1999.0,-1999.0,-1985.0,-1985.0,-1970.0,-1970.0,-2014.0,-2014.0,-2003.0,-2003.0,-2005.0,-2005.0,-2020.0,-1973.0,-1973.0,-1973.0,-1992.0,-1992.0,-2007.0,-2007.0,-2007.0,-2018.0,-2018.0,-2018.0,-2017.0,-2013.0,-1985.0,-1985.0,-1985.0,-2011.0,-2011.0,-2011.0,-2006.0,-1999.0,-1999.0,-1999.0,-1981.0,-1981.0,-2017.0,-2018.0,-2018.0,-2018.0,-2018.0,-2018.0,-2016.0,-2016.0,-2019.0,-1991.0,-2000.0,-2000.0,-2009.0,-2010.0,-2010.0,-2012.0,-2012.0,-2012.0,-2016.0,-2016.0,-2016.0,-2019.0,-2019.0,-2019.0,-1958.0,-1958.0,-1999.0,-1987.0,-1987.0,-1995.0,-1995.0,-1995.0,-1971.0,-1971.0,-1971.0,-2004.0,-2004.0,-2004.0,-2008.0,-2008.0,-1991.0,-1991.0,-1991.0,-1999.0,-1999.0,-1994.0,-1994.0,-1994.0,-1989.0,-1989.0,-1989.0,-2019.0,-1999.0,-1999.0,-1999.0,-1985.0,-1985.0,-1985.0,-1961.0,-1961.0,-1961.0,-1995.0,-1995.0,-1995.0,-1946.0,-2014.0,-1994.0,-1994.0,-1994.0,-1993.0,-1993.0,-1993.0,-1993.0,-1993.0,-1993.0,-2001.0,-2001.0,-2001.0,-2004.0,-2004.0,-2004.0,-2002.0,-2002.0,-2002.0,-1977.0,-1977.0,-1977.0,-1951.0,-1980.0,-1980.0,-1980.0,-1985.0,-1985.0,-1980.0,-1980.0,-2002.0,-2002.0,-1999.0,-1999.0,-1995.0,-1995.0,-1995.0,-1983.0,-1990.0,-1990.0,-1990.0,-1988.0,-2000.0,-2000.0,-2000.0,-2004.0,-2004.0,-2004.0,-2010.0,-2010.0,-2010.0,-2005.0,-1971.0,-2015.0,-2015.0,-1999.0,-1999.0,-1999.0,-2011.0,-2011.0,-2011.0,-2002.0,-2002.0,-1945.0,-1945.0,-2019.0,-2019.0,-2019.0,-2003.0,-1980.0,-1980.0,-1980.0,-2006.0,-2006.0,-2006.0,-2006.0,-2007.0,-2014.0,-2014.0,-2014.0,-2002.0,-2002.0,-2002.0,-1983.0,-1974.0,-1974.0,-1974.0,-2014.0,-2014.0,-2014.0,-2003.0,-2003.0,-2003.0,-2015.0,-2015.0,-2018.0,-2018.0,-2018.0,-1998.0,-1998.0,-1998.0,-2006.0,-2019.0,-2004.0,-2004.0,-2004.0,-2010.0,-2010.0,-2010.0,-2019.0,-2010.0,-2010.0,-2010.0,-2015.0,-2015.0,-2020.0,-2020.0,-2015.0,-2018.0,-2018.0,-2018.0,-2005.0,-2013.0,-2010.0,-2010.0,-2010.0,-2020.0,-2015.0,-2015.0,-2006.0,-2006.0,-2006.0,-2013.0,-2013.0,-2013.0,-2012.0,-2018.0,-2018.0,-2014.0,-2014.0,-2014.0,-2010.0,-2010.0,-2017.0,-1994.0,-1994.0,-1989.0,-1989.0,-1986.0,-1986.0,-1954.0,-1954.0,-1954.0,-2007.0,-1974.0,-1987.0,-1987.0,-1987.0,-1977.0,-1977.0,-1994.0,-1994.0,-1994.0,-1974.0,-1974.0,-1994.0,-1994.0,-2012.0,-2017.0,-2017.0,-2003.0,-2003.0,-2003.0,-2001.0,-2001.0,-2001.0,-2015.0,-2015.0,-2015.0,-2015.0,-2015.0,-2015.0,-2019.0,-2019.0,-2019.0,-1996.0,-2020.0,-2020.0,-1958.0,-1932.0,-1932.0,-1989.0,-1989.0,-2017.0,-2017.0,-1977.0,-1977.0,-2013.0,-2013.0,-2013.0,-1984.0,-1984.0,-1984.0,-1935.0,-1966.0,-1966.0,-1966.0,-1994.0,-1994.0,-1986.0,-1986.0,-1997.0,-1997.0,-1997.0,-2004.0,-2004.0,-1982.0,-1982.0,-1982.0,-1959.0,-1959.0,-1959.0,-1974.0,-1974.0,-1980.0,-1980.0,-2005.0,-2005.0,-2005.0,-1994.0,-1994.0,-1994.0,-1955.0,-1955.0,-1955.0,-1987.0,-2012.0,-1991.0,-1991.0,-1991.0,-1991.0,-1991.0,-2018.0,-1969.0,-1969.0,-2003.0,-2003.0,-2003.0,-1992.0,-1992.0,-1992.0,-2001.0,-2001.0,-2004.0,-2004.0,-1974.0,-1974.0,-1999.0,-1999.0,-1999.0,-1973.0,-2005.0,-2005.0,-2006.0,-2006.0,-2017.0,-2017.0,-2017.0,-1996.0,-1996.0,-2019.0,-1964.0,-2008.0,-2012.0,-2012.0,-2012.0,-2013.0,-1974.0,-1974.0,-2013.0,-2013.0,-1997.0,-1997.0,-1997.0,-2016.0,-2004.0,-2017.0,-2017.0,-2015.0,-2015.0,-1994.0,-2018.0,-2018.0,-2018.0,-2003.0,-2003.0,-2015.0,-2018.0,-2018.0,-2010.0,-2010.0,-2010.0,-1992.0,-1992.0,-1992.0,-2010.0,-2010.0,-2010.0,-2017.0,-2017.0,-1998.0,-1998.0,-1998.0,-2015.0,-2013.0,-2013.0,-1962.0,-1962.0,-2003.0,-2003.0,-2003.0,-2010.0,-1987.0,-1987.0,-1997.0,-1997.0,-1997.0,-1981.0,-1981.0,-2014.0,-2014.0,-2014.0,-2012.0,-1969.0,-1969.0,-1969.0,-2001.0,-2001.0,-2001.0,-2017.0,-2017.0,-2017.0,-1968.0,-1968.0,-1991.0,-1991.0,-1990.0,-1990.0,-1990.0,-2017.0,-1989.0,-1989.0,-2004.0,-2004.0,-2004.0,-1993.0,-1993.0,-1952.0,-1952.0,-1967.0,-1967.0,-1967.0,-1969.0,-2003.0,-2003.0,-2003.0,-1960.0,-1960.0,-1960.0,-1996.0,-1996.0,-1996.0,-1987.0,-1975.0,-1985.0,-1990.0,-1992.0,-1992.0,-1992.0,-1992.0,-1992.0,-1992.0,-1999.0,-1999.0,-1983.0,-1983.0,-1983.0,-2006.0,-2006.0,-2006.0,-1998.0,-1998.0,-1998.0,-2010.0,-2010.0,-2010.0,-2018.0,-2008.0,-2008.0,-2008.0,-1971.0,-1976.0,-1976.0,-1976.0,-2006.0,-2006.0,-2006.0,-1983.0,-1983.0,-1983.0,-1979.0,-1979.0,-1979.0,-2002.0,-2002.0,-2002.0,-2015.0,-2015.0,-1999.0,-1999.0,-1999.0,-1972.0,-1972.0,-1972.0,-1989.0,-1989.0,-2017.0,-2017.0,-2017.0,-1965.0,-1965.0,-1961.0,-1961.0,-1961.0,-1963.0,-1963.0,-2012.0,-2012.0,-2016.0,-2007.0,-2007.0,-2007.0,-1967.0,-1967.0,-2019.0,-2019.0,-2019.0,-2018.0,-2018.0,-2013.0,-2013.0,-2019.0,-1977.0,-1977.0,-1978.0,-2017.0,-2017.0,-2017.0,-1984.0,-1984.0,-1984.0,-2001.0,-2001.0,-2001.0,-1955.0,-1955.0,-1955.0,-2007.0,-2007.0,-2007.0,-1969.0,-1969.0,-1999.0,-2019.0,-2016.0,-2016.0,-2014.0,-2014.0,-2015.0,-2015.0,-2007.0,-2007.0,-2007.0,-2015.0,-2015.0,-2015.0,-1994.0,-1994.0,-1951.0,-2020.0,-2020.0,-2020.0,-1975.0,-1975.0,-1990.0,-2009.0,-2009.0,-2009.0,-1995.0,-2009.0,-1973.0,-1973.0,-1989.0,-1989.0,-1977.0,-1977.0,-1977.0,-2003.0,-2003.0,-2003.0,-2013.0,-1980.0,-2018.0,-2018.0,-1995.0,-1995.0,-1977.0,-2012.0,-2012.0,-2012.0,-1987.0,-1987.0,-2021.0,-2021.0,-1950.0,-1950.0,-1995.0,-1995.0,-1994.0,-1994.0,-2006.0,-2006.0,-2003.0,-2003.0,-2003.0,-1986.0,-1986.0,-1972.0,-1972.0,-2016.0,-2012.0,-2012.0,-2012.0,-1936.0,-2012.0,-2012.0,-2012.0,-2018.0,-2008.0,-2008.0,-2008.0,-1979.0,-1979.0,-1979.0,-1965.0,-1965.0,-1985.0,-1985.0,-1985.0,-2009.0,-2009.0,-2009.0,-2017.0,-1984.0,-1984.0,-1984.0,-2020.0,-2020.0,-1970.0,-1970.0,-1970.0,-1942.0,-1968.0,-1987.0,-2006.0,-2006.0,-2006.0,-1989.0,-1959.0,-1990.0,-1990.0,-2013.0,-2013.0,-2013.0,-2015.0,-2015.0,-2015.0,-1980.0,-2012.0,-2012.0,-2012.0,-2017.0,-1992.0,-1992.0,-2002.0,-2002.0,-1991.0,-1979.0,-1990.0,-1990.0,-1981.0,-1969.0,-1969.0,-1984.0,-1996.0,-1996.0,-1983.0,-1986.0,-1986.0,-1986.0,-1991.0,-1982.0,-1982.0,-1990.0,-1990.0,-1976.0,-1976.0,-1970.0,-1970.0,-1970.0,-1936.0,-1997.0,-1997.0,-1997.0,-1967.0,-1967.0,-1967.0,-2018.0,-2018.0,-2019.0,-1955.0,-1955.0,-1955.0,-2003.0,-2003.0,-2003.0,-1953.0,-1953.0,-1953.0,-2012.0,-1973.0,-1973.0,-2019.0,-2019.0,-1941.0,-1962.0,-1962.0,-2007.0,-2007.0,-2007.0,-1998.0,-1998.0,-2010.0,-2010.0,-2010.0,-2019.0,-1985.0,-1991.0,-1991.0,-1961.0,-1961.0,-1961.0,-1964.0,-1964.0,-2017.0,-1938.0,-1938.0,-2014.0,-1991.0,-1991.0,-1969.0,-2006.0,-2017.0,-2000.0,-2000.0,-2000.0,-1960.0,-1960.0,-1960.0,-2003.0,-2003.0,-2003.0,-2012.0,-2012.0,-2012.0,-2005.0,-2005.0,-2005.0,-2011.0,-2011.0,-2011.0,-1992.0,-1992.0,-1992.0,-2008.0,-2008.0,-2008.0,-1999.0,-2012.0,-2012.0,-2012.0,-2001.0,-2001.0,-1950.0,-1950.0,-1950.0,-2003.0,-2003.0,-2005.0,-2005.0,-1967.0,-1967.0,-1967.0,-1966.0,-1966.0,-1966.0,-1971.0,-1965.0,-1965.0,-1965.0,-2013.0,-2013.0,-2013.0,-1980.0,-1980.0,-1980.0,-2007.0,-2007.0,-2007.0,-1957.0,-1957.0,-1982.0,-1982.0,-1970.0,-1970.0,-1970.0,-2012.0,-2012.0,-2012.0,-2013.0,-2013.0,-2017.0,-2017.0,-2000.0,-2000.0,-2000.0,-2019.0,-2000.0,-2000.0,-2000.0,-1973.0,-1973.0,-1989.0,-1989.0,-1989.0,-2007.0,-2007.0,-2007.0,-2007.0,-2007.0,-2007.0,-1994.0,-1994.0,-1968.0,-1997.0,-1997.0,-1997.0,-1980.0,-1980.0,-1997.0,-1997.0,-2019.0,-2019.0,-2019.0,-1997.0,-1997.0,-1997.0,-2017.0,-2017.0,-2016.0,-1973.0,-1973.0,-1973.0,-1975.0,-1975.0,-1975.0,-2004.0,-2004.0,-2017.0,-2017.0,-2017.0,-2019.0,-2021.0,-1996.0,-1996.0,-1996.0,-2000.0,-2000.0,-2000.0,-1989.0,-1989.0,-2000.0,-2000.0,-2000.0,-1998.0,-1961.0,-1961.0,-1961.0,-2019.0,-2019.0,-2019.0,-2017.0,-1979.0,-1992.0,-1992.0,-1992.0,-2016.0,-2016.0,-1990.0,-1990.0,-1990.0,-2005.0,-2005.0,-2005.0,-1979.0,-1979.0,-1996.0,-1989.0,-1989.0,-2019.0,-2007.0,-2007.0,-2007.0,-1983.0,-1983.0,-1983.0,-1980.0,-1980.0,-1980.0,-2000.0,-2000.0,-1944.0,-1944.0,-2019.0,-1981.0,-1980.0,-1980.0,-1980.0,-2017.0,-2017.0,-2017.0,-2002.0,-2021.0,-2021.0,-2021.0,-1987.0,-1987.0,-2013.0,-2013.0,-2021.0,-2021.0,-2021.0,-2015.0,-1959.0,-2017.0,-1965.0,-1965.0,-1965.0,-2005.0,-2005.0,-2005.0,-2018.0,-2018.0,-1979.0,-1979.0,-1979.0,-1999.0,-1999.0,-1999.0,-1975.0,-1975.0,-2018.0,-2018.0,-2020.0,-2020.0,-2020.0,-2000.0,-1981.0,-1981.0,-2010.0,-2010.0,-2010.0,-2004.0,-1975.0,-1987.0,-1987.0,-1982.0,-1982.0,-2014.0,-2014.0,-2014.0,-2020.0,-1989.0,-1989.0,-2002.0,-2002.0,-2002.0,-1990.0,-1987.0,-2015.0,-2003.0,-2018.0,-1970.0,-1970.0,-1970.0,-2021.0,-2016.0,-2016.0,-2016.0,-2006.0,-2006.0,-1994.0,-1994.0,-1994.0,-2001.0,-2001.0,-2001.0,-1998.0,-1998.0,-1998.0,-1999.0,-1999.0,-1976.0,-1976.0,-2019.0,-2019.0,-2019.0,-1963.0,-1963.0,-1988.0,-2000.0,-2006.0,-2006.0,-2006.0,-1961.0,-1988.0,-1988.0,-1988.0,-2011.0,-2011.0,-1999.0,-1999.0,-1999.0,-2006.0,-2006.0,-2019.0,-2019.0,-2019.0,-1981.0,-2017.0,-2017.0,-2017.0,-1996.0,-1996.0,-1996.0,-1998.0,-1998.0,-2019.0,-2017.0,-1990.0,-2003.0,-2003.0,-2012.0,-2012.0,-2016.0,-2016.0,-2008.0,-2008.0,-1989.0,-1981.0,-1981.0,-1973.0,-1973.0,-1968.0,-1968.0,-1968.0,-2014.0,-2014.0,-2014.0,-1963.0,-2000.0,-2000.0,-2000.0,-1984.0,-1984.0,-2013.0,-2013.0,-1999.0,-2007.0,-2007.0,-2013.0,-2010.0,-2010.0,-2010.0,-2012.0,-2012.0,-2012.0,-1971.0,-1971.0,-1971.0,-1959.0,-2003.0,-2003.0,-2003.0,-1992.0,-2009.0,-2009.0,-2009.0,-2005.0,-2005.0,-2005.0,-1960.0,-1960.0,-1960.0,-1989.0,-1989.0,-1960.0,-1960.0,-1960.0,-1986.0,-1986.0,-1958.0,-1958.0,-1958.0,-1980.0,-1977.0,-1977.0,-1977.0,-1993.0,-1993.0,-1993.0,-2019.0,-2019.0,-1951.0,-1951.0,-1980.0,-1980.0,-1980.0,-2002.0,-1959.0,-1959.0,-2018.0,-1976.0,-1976.0,-1976.0,-1996.0,-1996.0,-1948.0,-1997.0,-1981.0,-2005.0,-2005.0,-2005.0,-2001.0,-2012.0,-2012.0,-2013.0,-2013.0,-2009.0,-2009.0,-2009.0,-2009.0,-2009.0,-2009.0,-1984.0,-1989.0,-1997.0,-1963.0,-1963.0,-1963.0,-1999.0,-1999.0,-2019.0,-1949.0,-1949.0,-1959.0,-1971.0,-1959.0,-1959.0,-1959.0,-1994.0,-1994.0,-2000.0,-1960.0,-1960.0,-1960.0,-1994.0,-1994.0,-1989.0,-1989.0,-1989.0,-2019.0,-1988.0,-1988.0,-1968.0,-1968.0,-2017.0,-2013.0,-2013.0,-2013.0,-2016.0,-2016.0,-2016.0,-2005.0,-2005.0,-2005.0,-1993.0,-1993.0,-1993.0,-1994.0,-1995.0,-1995.0,-1995.0,-2014.0,-1983.0,-1983.0,-1983.0,-1998.0,-1998.0,-2018.0,-1985.0,-1985.0,-1984.0,-1984.0,-2014.0,-2014.0,-1977.0,-1977.0,-1986.0,-1986.0,-1986.0,-2009.0,-2008.0,-2008.0,-2008.0,-1985.0,-2000.0,-2000.0,-1979.0,-1979.0,-2010.0,-2010.0,-2010.0,-1999.0,-1999.0,-2014.0,-2014.0,-1978.0,-1978.0,-1978.0,-2018.0,-2018.0,-2018.0,-1980.0,-1980.0,-1980.0,-2002.0,-2002.0,-2002.0,-2008.0,-2008.0,-2008.0,-2019.0,-1992.0,-1992.0,-2005.0,-1988.0,-1988.0,-1988.0,-1984.0,-1984.0,-1993.0,-1993.0,-1974.0,-1974.0,-1991.0,-1973.0,-1973.0,-1973.0,-2018.0,-2018.0,-1964.0,-1964.0,-1964.0,-2001.0,-2001.0,-2001.0,-1957.0,-1957.0,-1983.0,-1983.0,-2018.0,-1971.0,-1971.0,-1970.0,-1970.0,-1970.0,-1981.0,-1981.0,-1981.0,-2013.0,-2013.0,-2006.0,-2015.0,-2015.0,-2015.0,-2004.0,-1987.0,-1987.0,-1991.0,-1991.0,-1991.0,-2015.0,-2015.0,-2015.0,-1997.0,-1997.0,-1997.0,-1997.0,-1997.0,-1999.0,-1999.0,-1983.0,-1959.0,-1959.0,-1983.0,-1983.0,-1993.0,-1993.0,-1993.0,-2018.0,-2018.0,-1973.0,-1998.0,-1998.0,-1998.0,-2020.0,-2020.0,-2002.0,-2002.0,-2002.0,-2016.0,-2019.0,-2019.0,-2019.0,-2012.0,-2012.0,-2020.0,-2020.0,-2020.0,-1976.0,-1976.0,-1976.0,-1984.0,-2018.0,-2004.0,-2004.0,-2004.0,-1993.0,-1993.0,-1993.0,-1976.0,-1976.0,-1976.0,-2007.0,-2007.0,-2007.0,-1993.0,-1993.0,-1993.0,-2004.0,-2019.0,-2019.0,-1986.0,-1986.0,-2017.0,-2005.0,-2005.0,-1970.0,-1970.0,-2019.0,-2019.0,-1996.0,-1996.0,-1996.0,-2015.0,-2015.0,-2015.0,-2006.0,-2006.0,-2006.0,-1942.0,-1942.0,-1979.0,-1979.0,-2019.0,-2019.0,-1965.0,-1965.0,-1984.0,-1980.0,-2007.0,-2011.0,-2011.0,-1990.0,-1990.0,-1990.0,-1988.0,-1988.0,-1978.0,-1978.0,-2010.0,-2010.0,-2010.0,-2000.0,-2000.0,-2000.0,-1989.0,-1989.0,-1958.0,-1941.0,-2018.0,-1992.0,-1992.0,-1992.0,-2003.0,-2003.0,-2003.0,-1975.0,-1975.0,-1975.0,-1977.0,-1977.0,-2016.0,-2016.0,-2008.0,-2008.0,-2010.0,-2010.0,-2010.0,-2010.0,-2010.0,-1992.0,-1992.0,-1992.0,-2000.0,-2000.0,-2000.0,-2012.0,-2012.0,-1996.0,-1996.0,-1996.0,-1968.0,-1968.0,-1970.0,-1970.0,-1970.0,-1989.0,-1989.0,-2017.0,-2017.0,-2017.0,-2012.0,-2012.0,-1999.0,-1999.0,-1999.0,-2014.0,-2014.0,-1981.0,-1981.0,-1988.0,-1988.0,-1988.0,-1991.0,-1991.0,-1991.0,-1981.0,-1974.0,-1974.0,-1996.0,-1977.0,-1977.0,-1999.0,-1989.0,-1991.0,-1999.0,-2006.0,-2006.0,-2006.0,-1958.0,-1974.0,-1974.0,-1974.0,-2015.0,-2007.0,-2007.0,-1980.0,-1980.0,-1980.0,-1992.0,-1992.0,-1992.0,-2020.0,-2020.0,-2020.0,-1983.0,-2010.0,-2010.0,-2010.0,-1982.0,-1982.0,-1994.0,-1994.0,-1994.0,-1987.0,-1964.0,-1964.0,-1964.0,-1992.0,-2005.0,-1975.0,-1975.0,-2003.0,-2003.0,-2003.0,-1997.0,-2014.0,-2014.0,-2014.0,-1980.0,-1980.0,-1980.0,-2020.0,-2003.0,-2003.0,-2003.0,-2016.0,-2016.0,-2014.0,-2014.0,-2014.0,-2008.0,-2008.0,-2008.0,-2014.0,-2014.0,-2014.0,-1992.0,-1992.0,-1992.0,-1977.0,-1977.0,-1963.0,-1963.0,-1962.0,-1962.0,-1962.0,-1993.0,-1993.0,-1993.0,-1986.0,-1986.0,-2019.0,-2019.0,-2004.0,-2004.0,-2004.0,-2015.0,-2015.0,-2017.0,-2009.0,-2009.0,-2009.0,-1974.0,-1974.0,-1974.0,-1937.0,-1990.0,-1990.0,-1990.0,-1995.0,-1995.0,-1995.0,-2004.0,-2004.0,-2008.0,-2008.0,-2008.0,-1943.0,-1956.0,-1956.0,-1956.0,-2012.0,-2012.0,-2012.0,-1986.0,-1986.0,-2005.0,-2005.0,-2005.0,-2004.0,-1978.0,-2009.0,-2009.0,-2009.0,-2019.0,-2019.0,-2019.0,-1983.0,-1983.0,-1977.0,-2010.0,-2010.0,-2010.0,-2002.0,-2002.0,-2010.0,-2010.0,-2010.0,-1960.0,-1960.0,-1960.0,-1993.0,-1993.0,-1964.0,-1964.0,-1964.0,-1991.0,-1999.0,-1999.0,-1999.0,-2005.0,-2005.0,-2005.0,-2003.0,-2003.0,-2021.0,-1976.0,-1976.0,-2005.0,-2005.0,-2002.0,-2002.0,-2002.0,-2003.0,-2003.0,-2003.0,-1986.0,-1986.0,-1978.0,-1974.0,-1974.0,-1974.0,-2020.0,-1972.0,-2001.0,-2020.0,-2020.0,-2020.0,-2014.0,-2014.0,-1997.0,-1997.0,-1997.0,-1981.0,-1981.0,-1981.0,-2002.0,-2002.0,-1997.0,-1997.0,-1997.0,-1994.0,-1994.0,-1994.0,-2010.0,-2010.0,-2010.0,-2008.0,-2008.0,-2008.0,-2018.0,-2017.0,-1993.0,-1996.0,-1996.0,-1996.0,-1997.0,-2012.0,-2012.0,-2012.0,-2004.0,-2004.0,-2020.0,-2020.0,-2020.0,-1990.0,-1990.0,-1990.0,-2000.0,-2000.0,-2000.0,-1981.0,-1981.0,-1981.0,-2006.0,-2006.0,-2006.0,-2013.0,-2013.0,-2013.0,-1993.0,-1993.0,-1993.0,-2011.0,-2011.0,-2003.0,-2003.0,-2018.0,-2007.0,-2001.0,-2001.0,-2001.0,-1998.0,-1998.0,-1998.0,-2015.0,-2015.0,-2003.0,-2003.0,-2003.0,-2018.0,-2002.0,-2002.0,-2002.0,-2018.0,-2005.0,-2005.0,-2006.0,-1981.0,-1981.0,-1981.0,-1998.0,-1998.0,-1998.0,-1987.0,-1985.0,-2014.0,-2014.0,-2017.0,-2017.0,-2017.0,-1955.0,-1955.0,-1993.0,-1993.0,-2000.0,-2000.0,-2000.0,-1974.0,-1974.0,-2007.0,-1991.0,-1991.0,-1991.0,-2009.0,-2009.0,-2009.0,-2000.0,-2000.0,-2000.0,-2008.0,-2008.0,-2008.0,-2010.0,-2018.0,-2014.0,-2014.0,-2014.0,-2000.0,-2000.0,-2007.0,-2007.0,-2007.0,-2011.0,-2011.0,-2011.0,-2002.0,-2002.0,-2005.0,-2005.0,-2016.0,-2012.0,-2001.0,-2001.0,-2001.0,-2005.0,-2005.0,-2004.0,-2004.0,-2004.0,-1994.0,-1994.0,-2011.0,-2007.0,-2007.0,-2007.0,-2019.0,-2019.0,-2019.0,-2016.0,-2016.0,-2016.0,-2017.0,-2017.0,-2017.0,-1992.0,-1992.0,-1992.0,-1981.0,-1981.0,-1981.0,-1999.0,-1999.0,-1999.0,-1966.0,-2014.0,-1981.0,-2006.0,-2011.0,-2011.0,-2011.0,-1953.0,-1975.0,-1975.0,-2010.0,-2010.0,-2010.0,-2001.0,-2001.0,-2001.0,-2006.0,-2006.0,-2006.0,-2013.0,-2017.0,-2017.0,-2017.0,-1997.0,-1997.0,-2010.0,-2010.0,-2010.0,-2021.0,-2021.0,-2021.0,-1979.0,-1979.0,-2005.0,-2005.0,-1953.0,-2018.0,-2018.0,-2001.0,-2001.0,-2001.0,-1958.0,-1958.0,-2014.0,-2014.0,-2004.0,-2004.0,-2013.0,-1984.0,-1984.0,-1984.0,-1971.0,-1971.0,-1991.0,-1982.0,-2014.0,-2004.0,-2004.0,-2004.0,-1999.0,-1999.0,-1966.0,-1978.0,-1971.0,-1960.0,-2002.0,-2002.0,-2002.0,-2012.0,-1992.0,-1992.0,-1992.0,-2010.0,-2010.0,-2010.0,-1991.0,-1991.0,-1991.0,-2016.0,-2011.0,-2011.0,-2011.0,-1989.0,-1989.0,-1989.0,-2018.0,-2019.0,-2019.0,-2013.0,-2013.0,-2013.0,-2018.0,-1967.0,-1967.0,-1967.0,-1997.0,-1997.0,-1997.0,-2010.0,-1993.0,-2020.0,-2020.0,-2020.0,-2012.0,-2012.0,-2012.0,-2012.0,-1964.0,-1964.0,-1964.0,-1939.0,-1939.0,-2008.0,-2008.0,-2014.0,-2014.0,-1990.0,-1990.0,-1990.0,-2016.0,-2016.0,-2016.0,-2002.0,-2002.0,-2002.0,-2004.0,-2004.0,-2004.0,-2009.0,-2009.0,-2009.0,-2004.0,-2017.0,-2017.0,-2013.0,-2013.0,-2013.0,-1988.0,-2017.0,-2017.0,-2017.0,-2010.0,-2007.0,-2007.0,-2007.0,-2014.0,-2014.0,-2017.0,-2012.0,-2012.0,-2007.0,-2007.0,-2019.0,-2019.0,-2018.0,-2012.0,-2012.0,-2012.0,-1939.0,-1939.0,-2012.0,-2012.0,-2019.0,-2007.0,-2007.0,-2014.0,-2014.0,-2014.0,-2016.0,-2016.0,-2016.0,-2016.0,-2013.0,-2019.0,-2001.0,-2001.0,-2001.0,-2020.0,-2020.0,-2014.0,-1996.0,-1996.0,-1996.0,-1973.0,-1973.0,-2003.0,-2003.0,-2003.0,-2015.0,-2015.0,-2012.0,-2012.0,-1987.0,-1987.0,-1987.0,-1997.0,-2019.0,-2007.0,-2007.0,-2005.0,-2005.0,-2005.0,-2009.0,-2009.0,-2009.0,-2020.0,-2020.0,-2020.0,-2009.0,-2009.0,-2012.0,-2014.0,-2014.0,-2014.0,-2017.0,-2017.0,-2017.0,-2011.0,-2011.0,-2011.0,-2020.0,-2020.0,-2013.0,-2013.0,-1993.0,-1993.0,-1993.0,-2019.0,-2019.0,-1991.0,-1991.0,-1991.0,-1986.0,-1986.0,-2020.0,-2020.0,-2009.0,-2009.0,-2009.0,-2016.0,-2017.0,-2017.0,-2017.0,-2003.0,-2003.0,-1997.0,-2011.0,-2011.0,-2011.0,-2015.0,-2011.0,-2011.0,-2009.0,-2016.0,-2016.0,-2009.0,-2009.0,-2006.0,-2006.0,-2006.0,-2004.0,-2004.0,-2004.0,-1966.0,-1966.0,-1966.0,-2006.0,-2016.0,-2001.0,-2001.0,-2001.0,-2009.0,-2009.0,-2009.0,-1989.0,-1989.0,-1959.0,-2018.0,-2018.0,-2020.0,-2020.0,-2016.0,-2016.0,-2018.0,-2021.0,-2021.0,-2021.0,-1981.0,-1981.0,-1981.0,-2008.0,-2008.0,-2008.0,-2018.0,-2011.0,-2011.0,-2018.0,-2018.0,-2018.0,-2012.0,-2012.0,-2018.0,-2018.0,-2016.0,-2016.0,-2008.0,-2010.0,-2010.0,-2010.0,-2019.0,-2019.0,-2019.0,-2009.0,-2009.0,-2009.0,-2009.0,-2015.0,-2017.0,-2017.0,-2017.0,-2014.0,-2005.0,-2005.0,-2005.0,-2020.0,-2020.0,-2020.0,-2019.0,-2019.0,-2018.0,-2018.0,-2018.0,-2018.0,-2011.0,-2011.0,-2017.0,-2012.0,-2015.0,-2015.0,-2012.0,-2012.0,-2019.0,-2014.0,-2014.0,-2014.0,-2014.0,-2014.0,-2014.0,-2014.0,-2016.0,-2016.0,-2016.0,-1962.0,-1962.0,-1962.0,-1992.0,-1992.0,-1957.0,-1957.0,-1976.0,-1976.0,-1970.0,-1960.0,-1960.0,-1986.0,-1985.0,-1999.0,-2002.0,-2002.0,-1996.0,-1996.0,-1996.0,-1964.0,-2018.0,-1980.0,-1980.0,-2008.0,-2008.0,-2008.0,-1984.0,-1995.0,-1995.0,-1995.0,-2018.0,-1984.0,-1984.0,-2017.0,-2013.0,-2013.0,-2013.0,-2021.0,-2021.0,-2014.0,-2017.0,-2017.0,-2017.0,-2016.0,-2016.0,-2016.0,-2021.0,-1994.0,-1994.0,-1994.0,-1959.0,-1959.0,-2019.0,-2019.0,-2009.0,-2009.0,-1974.0,-1974.0,-1974.0,-2004.0,-2004.0,-2004.0,-2006.0,-1958.0,-1958.0,-1958.0,-2016.0,-2016.0,-2009.0,-2009.0,-2009.0,-2015.0,-2015.0,-2013.0,-2013.0,-2013.0,-2004.0,-1996.0,-1979.0,-1985.0,-1985.0,-1985.0,-1989.0,-1989.0,-1983.0,-1983.0,-1983.0,-1981.0,-1981.0,-1981.0,-1965.0,-1965.0,-1965.0,-2013.0,-2013.0,-2013.0,-2013.0,-2013.0,-2013.0,-1985.0,-1985.0,-1985.0,-1949.0,-1949.0,-1949.0,-1970.0,-1970.0,-1970.0,-1987.0,-1998.0,-1998.0,-1998.0,-2012.0,-2012.0,-2008.0,-2008.0,-2008.0,-1990.0,-1990.0,-1990.0,-2016.0,-2007.0,-2015.0,-1969.0,-1969.0,-2013.0,-2013.0,-1957.0,-1957.0,-1995.0,-1995.0,-2005.0,-2005.0,-2005.0,-2015.0,-2015.0,-2015.0,-1981.0,-1981.0,-2014.0,-2014.0,-1983.0,-1983.0,-1989.0,-1986.0,-1962.0,-1962.0,-2004.0,-2004.0,-2004.0,-2015.0,-1994.0,-1994.0,-2013.0,-2013.0,-2013.0,-2021.0,-2003.0,-2003.0,-2003.0,-1998.0,-1998.0,-1971.0,-1971.0,-1971.0,-2014.0,-2014.0,-2014.0,-1999.0,-1978.0,-1978.0,-2017.0,-2019.0,-2019.0,-1988.0,-2005.0,-2005.0,-2005.0,-2002.0,-2002.0,-2005.0,-2005.0,-2005.0,-1987.0,-2017.0,-1991.0,-1967.0,-2021.0,-1998.0,-1998.0,-1998.0,-2001.0,-2001.0,-2001.0,-2019.0,-2019.0,-2019.0,-2006.0,-2020.0,-2020.0,-2020.0,-2010.0,-2010.0,-2010.0,-1994.0,-1966.0,-1966.0,-1969.0,-1969.0,-1971.0,-1971.0,-2004.0,-1972.0,-1972.0,-1999.0,-1973.0,-1973.0,-1973.0,-1983.0,-1983.0,-1983.0,-1983.0,-1983.0,-2005.0,-2005.0,-2005.0,-2013.0,-2013.0,-1981.0,-1981.0,-2007.0,-2007.0,-2007.0,-2019.0,-2019.0,-2019.0,-2015.0,-2015.0,-2015.0,-2014.0,-2014.0,-1976.0,-1976.0,-1976.0,-1962.0,-1962.0,-1980.0,-1980.0,-2007.0,-2007.0,-2007.0,-1974.0,-1974.0,-1974.0,-2018.0,-2018.0,-2017.0,-2017.0,-1960.0,-1960.0,-1979.0,-1979.0,-1979.0,-1974.0,-2003.0,-2003.0,-2003.0,-1984.0,-1984.0,-1985.0,-1985.0,-1985.0,-1998.0,-2018.0,-2018.0,-2014.0,-2014.0,-2014.0,-2019.0,-2019.0,-2019.0,-2014.0,-2007.0,-2007.0,-2007.0,-1955.0,-1955.0,-1955.0,-2019.0,-2019.0,-2019.0,-2003.0,-2003.0,-2019.0,-2017.0,-2002.0,-1987.0,-1987.0,-2019.0,-2019.0,-2014.0,-2014.0,-2014.0,-1971.0,-1971.0,-2015.0,-2017.0,-2014.0,-2014.0,-2002.0,-2002.0,-2002.0,-1950.0,-1984.0,-1984.0,-1984.0,-2005.0,-2005.0,-2005.0,-2020.0,-2020.0,-2020.0,-2009.0,-2009.0,-2009.0,-1983.0,-1996.0,-1996.0,-1996.0,-1986.0,-1999.0,-1999.0,-1999.0,-1991.0,-1991.0,-1991.0,-1970.0,-1970.0,-1970.0,-2001.0,-1985.0,-1985.0,-1985.0,-2004.0,-2004.0,-2004.0,-2011.0,-2011.0,-2011.0,-2017.0,-2016.0,-2013.0,-2013.0,-1985.0,-1985.0,-2013.0,-2013.0,-2003.0,-1975.0,-1975.0,-2011.0,-2011.0,-2011.0,-2018.0,-1998.0,-2003.0,-1983.0,-1983.0,-2002.0,-2012.0,-2012.0,-2012.0,-2001.0,-1993.0,-1993.0,-1993.0,-1958.0,-1958.0,-1972.0,-1954.0,-1954.0,-1954.0,-2005.0,-1975.0,-1934.0,-1983.0,-1983.0,-1976.0,-2009.0,-2009.0,-2009.0,-2018.0,-2020.0,-2010.0,-2010.0,-1942.0,-1981.0,-1981.0,-1981.0,-1979.0,-1979.0,-1992.0,-2015.0,-2015.0,-1991.0,-1991.0,-2018.0,-1982.0,-1971.0,-1971.0,-1971.0,-1976.0,-1976.0,-2008.0,-2008.0,-1998.0,-1962.0,-1962.0,-1962.0,-1967.0,-2018.0,-1948.0,-1948.0,-1948.0,-1971.0,-1971.0,-2000.0,-2000.0,-2000.0,-1997.0,-1997.0,-1956.0,-1956.0,-1956.0,-1961.0,-1961.0,-1964.0,-1964.0,-2010.0,-1971.0,-2006.0,-2006.0,-1995.0,-1995.0,-1973.0,-1992.0,-1971.0,-1971.0,-1986.0,-1968.0,-1968.0,-1970.0,-1970.0,-1989.0,-1990.0,-1990.0,-1978.0,-1978.0,-1978.0,-2020.0,-1985.0,-1966.0,-1966.0,-1966.0,-1988.0,-1984.0,-1985.0,-1985.0,-2000.0,-1971.0,-1988.0,-2008.0,-2008.0,-2008.0,-1972.0,-1972.0,-2011.0,-2011.0,-2011.0,-2013.0,-2013.0,-2013.0,-1998.0,-2012.0,-2013.0,-2013.0,-1970.0,-1970.0,-1968.0,-1968.0,-1972.0,-1972.0,-1972.0,-2006.0,-2006.0,-2006.0,-2009.0,-2009.0,-2009.0,-1963.0,-1963.0,-1963.0,-2018.0,-1992.0,-1992.0,-1965.0,-1965.0,-2002.0,-2002.0,-2002.0,-1981.0,-1981.0,-1981.0,-1984.0,-1984.0,-1969.0,-1969.0,-2004.0,-2004.0,-2004.0,-1979.0,-1979.0,-2003.0,-1985.0,-1985.0,-2006.0,-2006.0,-2006.0,-2018.0,-2001.0,-2017.0,-2017.0,-2017.0,-1989.0,-1989.0,-1989.0,-2011.0,-2011.0,-2013.0,-2013.0,-2012.0,-1967.0,-1967.0,-1967.0,-2019.0,-2019.0,-1972.0,-1972.0,-1972.0,-2010.0,-2010.0,-2020.0,-2011.0,-2011.0,-2011.0,-1975.0,-1975.0,-1975.0,-2011.0,-1999.0,-1999.0,-2010.0,-2010.0,-2010.0,-1986.0,-1986.0,-2004.0,-2017.0,-2017.0,-2017.0,-1954.0,-1954.0,-1954.0,-2017.0,-1957.0,-2016.0,-2016.0,-2016.0,-1949.0,-1949.0,-1998.0,-1998.0,-1998.0,-1936.0,-1957.0,-2012.0,-2012.0,-2012.0,-1935.0,-1989.0,-2015.0,-2015.0,-2015.0,-2016.0,-2005.0,-2005.0,-2018.0,-2018.0,-2018.0,-2016.0,-2008.0,-2008.0,-2008.0,-2000.0,-2000.0,-2000.0,-2019.0,-2019.0,-2004.0,-2008.0,-2008.0,-2008.0,-2002.0,-2018.0,-2001.0,-2001.0,-1989.0,-1989.0,-2006.0,-2006.0,-2016.0,-2011.0,-2011.0,-2011.0,-2016.0,-2016.0,-2016.0,-1985.0,-1997.0,-1997.0,-1998.0,-1965.0,-1965.0,-1997.0,-1997.0,-1994.0,-1994.0,-1994.0,-2000.0,-2000.0,-2000.0,-2015.0,-2015.0,-1984.0,-2014.0,-2009.0,-2016.0,-2016.0,-2016.0,-1994.0,-1994.0,-1994.0,-1987.0,-1987.0,-2019.0,-2001.0,-2001.0,-2001.0,-2013.0,-2013.0,-2017.0,-2017.0,-2017.0,-1972.0,-1972.0,-1972.0,-2008.0,-2008.0,-2011.0,-2011.0,-2011.0,-2015.0,-2015.0,-2015.0,-2013.0,-2013.0,-2013.0,-2001.0,-2001.0,-2001.0,-2015.0,-1970.0,-1970.0,-1970.0,-2021.0,-2004.0,-2004.0,-2009.0,-2021.0,-1999.0,-1999.0,-1957.0,-1957.0,-1957.0,-1975.0,-1975.0,-2007.0,-2007.0,-2007.0,-2014.0,-2014.0,-2014.0,-2004.0,-2005.0,-2005.0,-1955.0,-1955.0,-1955.0,-1997.0,-1997.0,-1997.0,-1994.0,-1994.0,-1994.0,-1996.0,-1992.0,-1992.0,-1992.0,-2007.0,-2007.0,-2007.0,-1987.0,-1987.0,-1987.0,-1961.0,-1961.0,-1961.0,-2017.0,-1979.0,-1979.0,-1979.0,-1996.0,-1996.0,-1996.0,-1974.0,-1974.0,-1952.0,-2010.0,-2008.0,-2008.0,-2008.0,-1957.0,-1957.0,-1957.0,-1987.0,-2015.0,-2015.0,-2015.0,-1964.0,-1964.0,-1964.0,-2017.0,-1977.0,-1997.0,-1997.0,-1997.0,-1997.0,-1997.0,-2015.0,-2015.0,-2020.0,-2020.0,-2020.0,-2015.0,-2015.0,-2015.0,-2016.0,-2016.0,-2016.0,-2015.0,-2015.0,-2015.0,-2017.0,-2017.0,-2017.0,-2017.0,-2019.0,-2019.0,-2018.0,-2003.0,-1986.0,-1986.0,-1986.0,-1983.0,-1983.0,-1963.0,-1963.0,-1963.0,-2001.0,-2001.0,-1992.0,-2011.0,-2011.0,-2011.0,-2004.0,-2004.0,-2008.0,-2008.0,-2008.0,-1988.0,-1977.0,-1977.0,-1977.0,-2018.0,-1988.0,-2016.0,-2016.0,-2016.0,-2014.0,-2014.0,-2014.0,-2015.0,-2016.0,-2008.0,-2014.0,-2014.0,-2003.0,-2003.0,-2008.0,-2013.0,-2013.0,-2013.0,-2021.0,-2021.0,-2003.0,-2003.0,-2003.0,-2005.0,-2012.0,-2011.0,-2011.0,-2011.0,-2011.0,-2011.0,-1955.0,-1955.0,-1955.0,-1972.0,-2003.0,-2003.0,-2014.0,-2017.0,-2017.0,-2017.0,-1999.0,-1999.0,-1999.0,-1979.0,-1979.0,-1979.0,-1993.0,-1993.0,-1993.0,-1978.0,-1978.0,-1987.0,-1987.0,-1987.0,-1978.0,-1978.0,-2004.0,-2004.0,-2004.0,-2011.0,-2011.0,-2011.0,-2013.0,-2013.0,-2013.0,-1957.0,-2004.0,-2004.0,-2004.0,-2019.0,-2019.0,-2019.0,-2004.0,-2004.0,-1992.0,-1992.0,-2017.0,-1993.0,-1993.0,-1995.0,-1995.0,-1995.0,-2017.0,-2015.0,-2018.0,-2005.0,-2005.0,-2020.0,-2020.0,-2013.0,-2013.0,-2013.0,-1984.0,-1984.0,-1984.0,-2006.0,-2006.0,-2006.0,-2016.0,-2007.0,-2008.0,-2008.0,-2011.0,-2011.0,-2011.0,-2017.0,-2010.0,-1970.0,-2010.0,-2005.0,-2005.0,-2005.0,-2012.0,-2018.0,-2018.0,-2015.0,-2015.0,-2015.0,-2011.0,-2002.0,-2002.0,-2002.0,-2004.0,-2004.0,-2004.0,-1992.0,-1976.0,-1972.0,-1972.0,-1972.0,-1991.0,-1995.0,-1995.0,-1979.0,-1979.0,-1986.0,-1986.0,-1986.0,-2005.0,-2005.0,-2016.0,-2016.0,-1987.0,-1987.0,-2017.0,-2017.0,-1991.0,-1991.0,-1977.0,-1994.0,-1994.0,-1994.0,-2013.0,-2013.0,-1989.0,-1971.0,-1968.0,-1982.0,-1982.0,-1948.0,-2000.0,-2000.0,-1954.0,-1954.0,-1954.0,-1976.0,-1976.0,-1976.0,-1986.0,-1986.0,-1967.0,-1967.0,-2021.0,-1973.0,-1973.0,-2005.0,-2005.0,-2005.0,-1979.0,-1979.0,-1943.0,-1981.0,-1981.0,-1981.0,-1962.0,-1962.0,-2006.0,-2006.0,-2006.0,-2010.0,-2010.0,-2010.0,-2009.0,-2009.0,-2009.0,-1996.0,-1996.0,-1996.0,-1982.0,-1982.0,-1982.0,-1973.0,-2018.0,-2018.0,-2018.0,-2007.0,-2007.0,-2007.0,-2018.0,-1982.0,-1982.0,-2010.0,-2010.0,-2010.0,-2014.0,-2007.0,-2007.0,-2007.0,-1969.0,-1969.0,-1969.0,-2018.0,-2018.0,-2018.0,-2007.0,-2007.0,-2007.0,-1955.0,-1981.0,-1981.0,-1991.0,-1991.0,-2017.0,-1963.0,-1940.0,-1978.0,-1978.0,-1981.0,-1981.0,-1981.0,-1997.0,-1997.0,-1997.0,-1986.0,-1986.0,-1992.0,-2013.0,-2013.0,-1986.0,-1986.0,-1954.0,-1954.0,-1954.0,-1969.0,-1969.0,-2015.0,-1957.0,-1957.0,-1957.0,-2011.0,-2011.0,-1962.0,-1951.0,-1999.0,-1955.0,-1955.0,-1979.0,-1979.0,-1953.0,-1953.0,-1957.0,-1957.0,-1957.0,-2013.0,-2013.0,-2013.0,-2005.0,-1959.0,-1959.0,-1959.0,-2018.0,-2018.0,-1956.0,-1957.0,-1957.0,-1957.0,-1978.0,-1978.0,-1978.0,-1974.0,-1974.0,-1990.0,-1971.0,-1971.0,-2001.0,-2001.0,-2001.0,-2003.0,-1990.0,-2005.0,-1995.0,-1995.0,-1995.0,-1961.0,-1961.0,-1961.0,-2021.0,-2005.0,-2005.0,-2005.0,-1946.0,-1947.0,-1947.0,-1947.0,-1968.0,-1968.0,-1968.0,-1957.0,-2003.0,-1966.0,-1966.0,-2016.0,-2016.0,-2016.0,-1980.0,-1980.0,-2007.0,-2007.0,-2007.0,-1990.0,-2014.0,-2005.0,-2005.0,-2005.0,-1966.0,-1966.0,-1956.0,-1956.0,-1956.0,-1986.0,-1986.0,-2009.0,-2009.0,-2009.0,-2017.0,-2017.0,-2015.0,-2000.0,-2000.0,-1989.0,-1989.0,-1989.0,-2017.0,-2017.0,-1958.0,-1958.0,-2015.0,-2015.0,-1996.0,-1996.0,-1996.0,-1996.0,-1996.0,-1973.0,-1973.0,-2018.0,-2018.0,-2018.0,-1974.0,-2019.0,-1938.0,-2019.0,-2011.0,-1983.0,-1983.0,-1983.0,-2007.0,-1965.0,-1980.0,-1980.0,-1989.0,-1989.0,-1989.0,-1975.0,-1975.0,-1992.0,-1992.0,-1992.0,-2005.0,-2005.0,-2005.0,-2020.0,-2020.0,-2020.0,-2011.0,-2011.0,-2011.0,-2010.0,-2010.0,-2010.0,-2007.0,-2007.0,-2007.0,-2018.0,-2021.0,-2021.0,-2017.0,-2017.0,-2017.0,-1979.0,-1979.0,-1979.0,-1967.0,-1967.0,-1967.0,-2011.0,-2011.0,-2011.0,-2019.0,-2019.0,-2011.0,-2011.0,-2019.0,-2019.0,-2018.0,-2018.0,-2018.0,-1991.0,-1991.0,-1991.0,-1990.0,-1999.0,-2020.0,-2020.0,-2020.0,-2014.0,-2014.0,-2012.0,-2008.0,-2002.0,-2018.0,-2018.0,-2019.0,-2017.0,-2019.0,-2019.0,-2006.0,-1995.0,-2008.0,-2008.0,-2017.0,-2017.0,-1988.0,-2002.0,-2002.0,-2007.0,-2007.0,-2007.0,-2017.0,-2017.0,-2017.0,-2012.0,-2012.0,-2012.0,-2006.0,-2006.0,-2006.0,-2020.0,-2020.0,-2018.0,-2018.0,-2015.0,-2010.0,-2010.0,-2010.0,-2013.0,-2013.0,-2013.0,-2001.0,-2001.0,-2001.0,-2014.0,-2014.0,-2014.0,-1971.0,-1971.0,-2019.0,-2019.0,-2019.0,-2004.0,-2018.0,-2016.0,-2016.0,-2008.0,-2008.0,-1999.0,-1999.0,-1989.0,-1989.0,-1965.0,-1965.0,-1965.0,-2013.0,-2013.0,-2013.0,-2003.0,-2003.0,-1961.0,-1961.0,-1961.0,-1968.0,-1968.0,-2020.0,-2020.0,-2020.0,-2014.0,-2014.0,-2014.0,-1977.0,-1985.0,-1985.0,-1985.0,-2015.0,-2003.0,-2003.0,-2003.0,-2012.0,-2008.0,-2008.0,-2008.0,-2015.0,-2015.0,-2019.0,-2019.0,-2019.0,-2009.0,-2009.0,-2001.0,-2012.0,-2012.0,-2012.0,-2003.0,-2003.0,-1981.0,-1981.0,-1995.0,-1995.0,-2003.0,-2003.0,-2003.0,-1988.0,-1988.0,-1988.0,-1990.0,-1988.0,-2013.0,-1984.0,-2010.0,-2010.0,-1992.0,-1992.0,-1992.0,-1985.0,-2018.0,-2018.0,-1973.0,-1985.0,-2018.0,-2018.0,-2018.0,-2005.0,-1968.0,-1968.0,-1968.0,-1941.0,-2019.0,-2019.0,-2014.0,-2014.0,-2018.0,-2018.0,-2005.0,-2021.0,-2021.0,-2020.0,-2019.0,-2019.0,-2019.0,-1977.0,-1977.0,-2005.0,-2005.0,-2005.0,-1959.0,-1959.0,-2019.0,-2019.0,-2019.0,-2018.0,-1956.0,-2004.0,-2004.0,-2004.0,-1969.0,-1969.0,-1969.0,-1984.0,-2018.0,-2019.0,-2019.0,-2019.0,-1986.0,-1986.0,-1967.0,-1967.0,-1967.0,-1977.0,-1977.0,-2018.0,-2018.0,-2018.0,-1992.0,-1992.0,-1974.0,-1974.0,-1974.0,-2018.0,-2010.0,-2010.0,-2010.0,-2008.0,-2008.0,-1958.0,-1958.0,-1992.0,-1992.0,-2020.0,-2020.0,-2019.0,-2019.0,-2019.0,-2010.0,-1996.0,-2000.0,-1953.0,-1953.0,-1996.0,-1996.0,-2010.0,-2010.0,-2010.0,-2015.0,-1987.0,-1987.0,-1987.0,-1995.0,-1994.0,-1994.0,-1994.0,-1993.0,-1993.0,-1993.0,-2014.0,-2014.0,-1971.0,-1971.0,-1963.0,-1963.0,-1963.0,-2003.0,-2003.0,-1989.0,-1989.0,-2015.0,-1972.0,-1992.0,-1992.0,-1992.0,-1997.0,-1997.0,-1997.0,-1957.0,-1957.0,-1957.0,-1970.0,-2020.0,-2018.0,-2018.0,-2018.0,-2018.0,-2018.0,-1972.0,-1972.0,-1972.0,-1989.0,-1989.0,-1989.0,-1989.0,-2005.0,-2005.0,-2005.0,-1968.0,-1968.0,-2018.0,-2018.0,-2018.0,-1985.0,-2007.0,-2007.0,-2007.0,-1984.0,-1958.0,-1958.0,-1977.0,-1977.0,-1977.0,-1971.0,-1971.0,-2003.0,-2003.0,-2003.0,-2005.0,-2005.0,-1961.0,-1961.0,-2018.0,-2018.0,-2018.0,-1985.0,-1985.0,-1993.0,-2011.0,-1971.0,-1971.0,-1971.0,-1949.0,-1949.0,-2017.0,-1985.0,-1966.0,-1966.0,-1966.0,-1978.0,-1978.0,-2019.0,-2019.0,-2014.0,-2011.0,-2011.0,-1953.0,-1980.0,-2004.0,-2013.0,-2003.0,-1974.0,-1974.0,-1991.0,-1991.0,-1991.0,-1967.0,-1967.0,-1967.0,-1970.0,-1961.0,-1980.0,-1968.0,-1968.0,-1968.0,-2010.0,-2010.0,-2010.0,-1957.0,-1957.0,-1957.0,-2009.0,-2009.0,-2008.0,-2008.0,-1995.0,-1995.0,-2012.0,-2012.0,-1986.0,-1986.0,-2010.0,-2010.0,-1993.0,-1993.0,-1993.0,-2005.0,-1993.0,-1993.0,-1993.0,-1955.0,-1955.0,-1955.0,-2008.0,-2019.0,-2017.0,-2017.0,-2017.0,-1999.0,-1999.0,-1999.0,-1987.0,-1987.0,-1987.0,-1988.0,-1988.0,-1984.0,-1984.0,-1978.0,-1978.0,-1985.0,-1973.0,-1973.0,-1973.0,-2018.0,-2018.0,-2018.0,-1978.0,-1978.0,-2015.0,-2015.0,-2015.0,-2010.0,-2010.0,-2010.0,-2013.0,-2013.0,-2011.0,-2011.0,-2011.0,-2017.0,-2017.0,-2017.0,-2017.0,-2000.0,-2000.0,-2000.0,-2006.0,-2006.0,-1974.0,-2004.0,-2018.0,-1958.0,-1958.0,-2008.0,-1993.0,-1993.0,-1980.0,-1980.0,-1980.0,-2016.0,-2016.0,-2016.0,-1945.0,-1993.0,-1993.0,-1991.0,-1991.0,-1991.0,-1966.0,-1966.0,-1966.0,-1978.0,-1978.0,-1993.0,-1964.0,-1964.0,-2008.0,-2008.0,-2008.0,-2010.0,-2010.0,-2010.0,-2013.0,-2019.0,-2019.0,-2017.0,-2017.0,-2019.0,-1984.0,-1984.0,-1966.0,-2013.0,-2013.0,-1985.0,-1985.0,-1985.0,-2016.0,-2016.0,-2015.0,-2015.0,-2003.0,-1972.0,-2016.0,-2016.0,-2016.0,-2016.0,-2017.0,-2017.0,-2002.0,-2002.0,-2021.0,-2021.0,-1972.0,-1972.0,-1972.0,-1958.0,-1958.0,-1958.0,-1985.0,-1934.0,-1934.0,-2014.0,-2014.0,-2014.0,-2014.0,-2018.0,-2018.0,-2004.0,-2004.0,-2004.0,-1993.0,-1993.0,-1993.0,-2018.0,-2012.0,-2012.0,-2012.0,-2019.0,-2019.0,-2015.0,-2015.0,-1992.0,-1992.0,-1992.0,-2004.0,-2004.0,-2004.0,-1992.0,-1990.0,-1990.0,-1993.0,-2013.0,-2013.0,-2013.0,-1995.0,-1995.0,-2004.0,-2004.0,-1964.0,-1964.0,-1964.0,-1981.0,-1965.0,-1965.0,-1965.0,-2017.0,-2017.0,-2017.0,-2004.0,-2004.0,-2004.0,-1958.0,-1958.0,-2017.0,-1973.0,-2013.0,-2013.0,-2013.0,-1991.0,-1991.0,-1991.0,-2017.0,-2003.0,-2003.0,-2019.0,-2019.0,-2019.0,-2004.0,-2019.0,-2019.0,-2006.0,-1990.0,-1990.0,-2020.0,-2020.0,-2020.0,-1987.0,-1987.0,-1987.0,-1991.0,-1991.0,-1991.0,-1991.0,-2010.0,-2010.0,-1981.0,-1994.0,-1971.0,-1971.0,-1995.0,-1995.0,-1995.0,-1998.0,-1998.0,-1992.0,-1992.0,-1992.0,-1981.0,-1937.0,-1937.0,-1937.0,-1975.0,-1975.0,-1975.0,-1974.0,-1974.0,-1974.0,-1962.0,-1962.0,-1989.0,-1989.0,-1970.0,-1970.0,-1970.0,-1991.0,-1991.0,-2015.0,-2015.0,-2015.0,-1982.0,-1982.0,-1982.0,-1974.0,-1974.0,-1983.0,-1983.0,-1994.0,-1994.0,-1996.0,-1996.0,-1996.0,-1997.0,-2004.0,-2004.0,-2004.0,-2010.0,-2010.0,-2010.0,-1997.0,-1997.0,-1997.0,-1943.0,-1997.0,-2005.0,-2005.0,-2005.0,-1978.0,-1978.0,-1978.0,-1973.0,-1973.0,-1973.0,-1962.0,-1962.0,-1962.0,-1994.0,-1981.0,-1981.0,-1981.0,-2016.0,-2018.0,-2016.0,-2016.0,-2016.0,-2003.0,-2003.0,-2003.0,-1983.0,-1983.0,-1983.0,-1983.0,-1983.0,-1983.0,-1986.0,-1986.0,-1986.0,-1970.0,-1970.0,-1984.0,-1984.0,-1984.0,-1978.0,-1978.0,-1978.0,-1989.0,-2014.0,-2014.0,-1965.0,-1965.0,-1972.0,-2002.0,-2002.0,-2002.0,-2010.0,-2010.0,-2011.0,-2011.0,-2011.0,-2015.0,-2015.0,-2015.0,-1973.0,-1993.0,-1993.0,-1987.0,-1987.0,-2019.0,-2006.0,-2006.0,-2006.0,-2003.0,-2003.0,-1998.0,-1998.0,-1998.0,-1999.0,-1999.0,-1999.0,-2005.0,-2005.0,-2005.0,-1998.0,-1998.0,-1998.0,-2001.0,-2001.0,-2001.0,-2014.0,-2001.0,-2001.0,-2001.0,-1957.0,-1957.0,-1957.0,-2002.0,-2002.0,-2003.0,-1981.0,-1981.0,-1991.0,-1991.0,-1969.0,-1992.0,-1985.0,-1985.0,-1990.0,-1990.0,-1990.0,-1990.0,-1988.0,-1988.0,-1969.0,-1969.0,-1969.0,-1969.0,-1969.0,-1969.0,-1991.0,-1986.0,-1986.0,-1987.0,-1987.0,-1987.0,-1990.0,-1990.0,-1990.0,-1987.0,-1987.0,-1987.0,-1971.0,-1971.0,-1986.0,-1986.0,-1966.0,-1966.0,-2006.0,-2006.0,-2006.0,-1985.0,-1985.0,-1985.0,-1984.0,-1975.0,-1975.0,-1975.0,-1984.0,-1984.0,-2017.0,-2017.0,-2012.0,-1988.0,-1988.0,-1988.0,-2001.0,-2001.0,-1986.0,-1986.0,-1983.0,-1983.0,-1983.0,-1988.0,-1988.0,-1988.0,-2003.0,-2003.0,-2003.0,-1998.0,-1998.0,-1998.0,-2013.0,-2013.0,-2013.0,-2009.0,-2009.0,-2009.0,-1980.0,-1980.0,-1980.0,-2013.0,-2013.0,-2013.0,-2011.0,-2011.0,-2011.0,-2017.0,-2017.0,-2017.0,-1979.0,-1979.0,-2017.0,-2017.0,-2017.0,-1958.0,-1958.0,-2019.0,-1975.0,-1975.0,-1989.0,-1989.0,-1989.0,-2007.0,-2007.0,-2007.0,-1976.0,-1972.0,-1972.0,-2013.0,-2013.0,-1995.0,-1995.0,-1972.0,-1972.0,-1992.0,-2020.0,-2020.0,-2020.0,-1967.0,-1967.0,-2021.0,-2021.0,-2009.0,-2009.0,-1987.0,-1987.0,-2010.0,-2010.0,-2010.0,-1967.0,-1967.0,-1981.0,-1981.0,-1981.0,-2002.0,-2002.0,-2002.0,-2012.0,-2012.0,-2012.0,-2016.0,-2016.0,-2016.0,-2009.0,-2009.0,-2009.0,-2018.0,-2018.0,-2018.0,-2008.0,-2008.0,-2008.0,-2013.0,-2013.0,-2008.0,-2008.0,-2008.0,-2013.0,-2013.0,-2013.0,-2018.0,-2018.0,-2018.0,-1983.0,-2018.0,-1954.0,-2021.0,-2021.0,-2021.0,-2009.0,-2009.0,-2009.0,-2017.0,-2017.0,-2017.0,-1990.0,-2008.0,-2008.0,-2008.0,-2003.0,-2003.0,-1995.0,-1995.0,-2011.0,-2011.0,-2011.0,-2014.0,-2015.0,-2015.0,-2017.0,-1969.0,-1953.0,-1978.0,-2001.0,-2018.0,-2018.0,-2018.0,-2016.0,-2016.0,-1955.0,-1955.0,-1955.0,-2019.0,-2019.0,-2015.0,-2015.0,-2004.0,-2004.0,-1956.0,-1956.0,-1956.0,-1982.0,-1982.0,-1959.0,-1995.0,-1995.0,-1995.0,-2018.0,-1968.0,-1968.0,-1968.0,-1994.0,-1994.0,-1994.0,-2003.0,-2003.0,-1952.0,-1996.0,-1996.0,-1996.0,-1997.0,-1997.0,-2000.0,-2000.0,-2000.0,-2014.0,-2014.0,-1969.0,-1999.0,-1999.0,-2013.0,-2013.0,-2013.0,-2013.0,-2013.0,-1996.0,-1996.0,-1996.0,-1964.0,-1964.0,-1964.0,-2018.0,-2018.0,-2018.0,-2010.0,-2010.0,-2010.0,-1974.0,-1974.0,-1992.0,-1951.0,-1951.0,-1936.0,-1992.0,-1992.0,-1992.0,-2000.0,-2000.0,-2000.0,-1962.0,-1962.0,-1972.0,-1972.0,-1972.0,-2004.0,-2004.0,-2010.0,-2010.0,-2010.0,-2010.0,-2010.0,-2010.0,-2012.0,-1994.0,-2019.0,-1981.0,-1981.0,-1977.0,-1996.0,-1996.0,-1984.0,-1984.0,-1984.0,-2017.0,-1967.0,-1967.0,-1967.0,-1980.0,-1980.0,-1980.0,-1977.0,-2007.0,-2007.0,-2007.0,-1995.0,-1995.0,-1995.0,-2019.0,-1989.0,-1989.0,-1989.0,-1943.0,-1943.0,-1943.0,-2017.0,-2020.0,-1984.0,-1985.0,-1985.0,-1985.0,-1985.0,-2008.0,-2008.0,-2008.0,-2010.0,-2010.0,-2010.0,-2017.0,-2017.0,-2013.0,-2013.0,-2013.0,-1988.0,-1988.0,-1988.0,-2010.0,-2010.0,-2010.0,-1991.0,-1991.0,-1991.0,-2005.0,-2005.0,-2005.0,-1985.0,-2013.0,-2013.0,-2013.0,-2019.0,-2019.0,-1944.0,-2015.0,-1996.0,-1996.0,-1996.0,-2015.0,-2017.0,-1993.0,-1993.0,-1983.0,-2006.0,-2006.0,-2006.0,-1982.0,-1982.0,-1995.0,-1995.0,-1995.0,-2019.0,-2013.0,-2013.0,-2013.0,-2017.0,-2017.0,-2017.0,-2013.0,-2013.0,-1975.0,-1975.0,-1975.0,-1959.0,-1959.0,-2019.0,-2010.0,-2010.0,-2010.0,-2015.0,-2015.0,-2015.0,-2015.0,-2015.0,-2015.0,-1986.0,-1986.0,-2007.0,-2007.0,-2007.0,-2013.0,-2013.0,-2013.0,-2011.0,-2011.0,-2011.0,-2018.0,-2018.0,-2018.0,-1944.0,-1944.0,-2004.0,-1995.0,-1995.0,-1995.0,-2011.0,-2011.0,-2011.0,-2016.0,-2016.0,-2009.0,-2009.0,-2009.0,-1980.0,-1980.0,-1980.0,-2007.0,-2007.0,-2007.0,-2007.0,-2007.0,-2007.0,-2017.0,-2018.0,-2021.0,-2000.0,-2000.0,-2000.0,-2020.0,-2006.0,-2001.0,-2001.0,-2005.0,-2007.0,-2007.0,-2019.0,-1962.0,-1962.0,-1962.0,-2019.0,-1974.0,-1974.0,-1971.0,-1971.0,-1971.0,-2002.0,-1996.0,-1996.0,-1988.0,-2018.0,-2005.0,-2001.0,-2014.0,-2014.0,-2014.0,-2017.0,-2017.0,-2010.0,-2010.0,-2010.0,-1988.0,-1979.0,-2013.0,-2013.0,-2013.0,-1965.0,-1965.0,-2002.0,-2002.0,-2007.0,-2007.0,-2007.0,-2019.0,-2014.0,-2014.0,-1972.0,-2012.0,-2012.0,-2012.0,-2014.0,-2021.0,-2002.0,-2003.0,-2009.0,-2009.0,-2009.0,-2009.0,-2009.0,-2008.0,-2008.0,-2008.0,-2019.0,-2014.0,-2014.0,-2014.0,-1995.0,-1995.0,-1995.0,-2016.0,-2016.0,-2008.0,-2008.0,-2009.0,-2009.0,-1999.0,-1999.0,-2011.0,-2011.0,-2011.0,-1981.0,-1981.0,-2006.0,-2006.0,-2006.0,-2016.0,-2016.0,-2016.0,-2005.0,-2005.0,-2005.0,-2010.0,-2010.0,-2010.0,-1988.0,-2019.0,-2019.0,-2019.0,-1991.0,-2021.0,-2021.0,-1981.0,-1981.0,-1981.0,-2015.0,-1993.0,-1993.0,-1993.0,-1970.0,-1970.0,-1970.0,-2018.0,-2018.0,-1974.0,-1974.0,-1974.0,-1942.0,-1974.0,-1974.0,-1974.0,-1990.0,-1990.0,-1990.0,-2016.0,-1992.0,-1992.0,-2012.0,-2012.0,-2012.0,-2015.0,-2015.0,-2015.0,-2008.0,-2008.0,-2008.0,-1993.0,-2004.0,-2004.0,-2004.0,-1989.0,-1989.0,-1989.0,-1997.0,-2017.0,-2017.0,-2004.0,-2004.0,-2004.0,-2015.0,-2020.0,-2020.0,-2020.0,-1962.0,-1962.0,-1962.0,-2017.0,-2017.0,-2009.0,-2009.0,-2009.0,-1991.0,-1991.0,-1991.0,-2012.0,-2012.0,-1982.0,-2016.0,-2016.0,-2016.0,-1966.0,-1966.0,-1967.0,-1967.0,-1967.0,-1964.0,-1964.0,-1964.0,-1994.0,-1994.0,-2019.0,-1985.0,-1985.0,-1985.0,-1991.0,-1991.0,-1991.0,-1978.0,-1978.0,-1978.0,-1996.0,-1996.0,-1994.0,-2016.0,-2016.0,-2016.0,-1979.0,-1979.0,-2019.0,-2019.0,-2017.0,-2017.0,-2008.0,-2016.0,-2016.0,-1984.0,-2013.0,-2013.0,-2015.0,-1969.0,-1969.0,-1969.0,-1998.0,-1998.0,-2016.0,-1982.0,-1968.0,-1968.0,-1991.0,-1991.0,-1991.0,-2002.0,-2002.0,-2002.0,-1992.0,-2015.0,-2006.0,-2006.0,-2006.0,-2007.0,-2007.0,-2007.0,-1989.0,-2003.0,-2003.0,-2003.0,-1966.0,-1966.0,-1966.0,-1975.0,-1975.0,-1975.0,-1998.0,-2020.0,-2015.0,-2015.0,-1980.0,-1980.0,-1994.0,-1994.0,-2017.0,-1995.0,-1995.0,-1995.0,-1976.0,-2003.0,-1979.0,-1979.0,-1979.0,-1970.0,-1970.0,-1970.0,-1969.0,-1969.0,-1969.0,-1989.0,-1989.0,-2017.0,-2017.0,-2006.0,-1991.0,-1991.0,-1991.0,-2020.0,-2020.0,-2012.0,-2012.0,-2012.0,-1958.0,-1968.0,-1968.0,-2010.0,-2010.0,-1983.0,-1983.0,-1970.0,-1970.0,-1951.0,-1988.0,-1958.0,-1958.0,-1996.0,-1996.0,-1996.0,-2013.0,-2013.0,-2011.0,-2011.0,-2011.0,-2018.0,-2018.0,-2018.0,-2013.0,-2013.0,-2013.0,-1981.0,-2011.0,-2011.0,-2011.0,-1962.0,-1962.0,-1993.0,-1993.0,-2021.0,-2021.0,-2021.0,-1993.0,-1993.0,-1993.0,-2002.0,-2002.0,-1969.0,-1969.0,-1969.0,-1986.0,-1982.0,-1982.0,-1982.0,-1998.0,-1998.0,-1975.0,-1975.0,-2007.0,-2007.0,-1988.0,-1988.0,-2005.0,-2005.0,-2005.0,-2017.0,-2007.0,-2007.0,-2007.0,-1989.0,-1989.0,-2017.0,-1997.0,-1980.0,-1950.0,-1972.0,-1972.0,-1972.0,-1970.0,-1998.0,-1999.0,-1999.0,-1959.0,-1959.0,-1959.0,-2003.0,-2003.0,-2003.0,-2017.0,-1979.0,-1983.0,-1983.0,-1983.0,-1961.0,-1961.0,-1961.0,-1982.0,-1982.0,-1982.0,-2014.0,-2014.0,-1958.0,-1958.0,-1958.0,-1964.0,-1964.0,-1986.0,-1986.0,-1986.0,-1997.0,-1997.0,-1997.0,-1991.0,-1991.0,-2016.0,-2016.0,-2009.0,-2009.0,-2009.0,-2016.0,-2016.0,-2016.0,-2005.0,-2021.0,-2021.0,-2021.0,-2006.0,-2006.0,-1964.0,-1964.0,-1964.0,-1952.0,-1952.0,-1952.0,-1994.0,-1994.0,-1992.0,-1992.0,-1999.0,-1999.0,-1999.0,-1950.0,-1993.0,-1993.0,-1964.0,-1964.0,-1943.0,-1943.0,-1972.0,-1972.0,-1972.0,-1985.0,-2018.0,-2018.0,-2018.0,-2009.0,-2009.0,-2009.0,-2009.0,-2009.0,-1976.0,-1976.0,-1981.0,-1981.0,-1996.0,-1940.0,-1940.0,-1982.0,-1982.0,-1937.0,-2016.0,-2016.0,-2016.0,-1993.0,-1993.0,-1989.0,-1989.0,-2002.0,-2002.0,-1975.0,-1992.0,-1992.0,-1968.0,-1996.0,-1996.0,-1996.0,-1969.0,-2018.0,-1961.0,-1961.0,-1961.0,-1966.0,-1966.0,-1966.0,-1968.0,-1968.0,-2016.0,-2016.0,-2016.0,-2016.0,-2016.0,-1993.0,-1993.0,-1993.0,-2021.0,-2021.0,-2021.0,-1996.0,-1985.0,-1999.0,-1999.0,-1979.0,-1979.0,-1950.0,-1950.0,-2017.0,-1960.0,-2006.0,-2006.0,-2005.0,-2005.0,-2005.0,-2005.0,-2017.0,-2017.0,-2017.0,-2008.0,-2008.0,-2008.0,-1979.0,-1979.0,-1986.0,-1984.0,-1984.0,-1980.0,-2019.0,-2019.0,-2008.0,-2008.0,-2011.0,-2011.0,-2011.0,-2003.0,-2003.0,-1982.0,-1982.0,-1982.0,-1998.0,-1998.0,-1998.0,-2013.0,-2013.0,-2013.0,-2013.0,-1982.0,-1982.0,-1969.0,-1978.0,-1978.0,-2000.0,-2000.0,-2018.0,-2018.0,-2018.0,-1991.0,-1991.0,-2004.0,-2004.0,-1995.0,-1973.0,-1973.0,-1991.0,-1991.0,-1991.0,-1991.0,-1991.0,-1991.0,-2001.0,-1999.0,-1996.0,-1986.0,-1982.0,-1982.0,-1982.0,-1970.0,-1970.0,-1970.0,-1966.0,-1966.0,-1979.0,-1979.0,-1979.0,-2007.0,-2007.0,-2012.0,-2020.0,-2020.0,-2020.0,-1951.0,-1951.0,-2020.0,-2019.0,-2006.0,-2006.0,-2021.0,-2021.0,-2021.0,-2019.0,-2015.0,-2015.0,-2012.0,-2017.0,-2017.0,-2021.0,-2021.0,-2019.0,-2019.0,-2019.0,-2018.0,-2018.0,-2017.0,-2017.0,-1955.0,-1972.0,-1972.0,-1972.0,-2010.0,-2010.0,-2010.0,-1994.0,-1994.0,-2005.0,-2005.0,-2005.0,-1996.0,-2020.0,-2020.0,-2019.0,-2017.0,-2006.0,-2006.0,-2006.0,-1972.0,-2019.0,-2014.0,-2014.0,-2017.0,-2017.0,-2005.0,-2006.0,-2006.0,-2006.0,-2018.0,-2021.0,-2021.0,-1980.0,-1980.0,-1980.0,-2015.0,-2015.0,-2015.0,-2010.0,-2010.0,-2010.0,-2005.0,-2005.0,-1949.0,-1949.0,-1949.0,-2005.0,-2005.0,-2005.0,-2011.0,-2011.0,-2011.0,-2015.0,-2011.0,-2011.0,-2011.0,-1948.0,-1948.0,-1965.0,-1965.0,-1965.0,-2002.0,-2002.0,-2002.0,-1988.0,-1988.0,-1953.0,-2012.0,-2012.0,-1946.0,-1946.0,-1946.0,-2006.0,-2010.0,-2010.0,-1949.0,-1974.0,-1974.0,-1974.0,-2011.0,-2011.0,-2011.0,-2006.0,-1990.0,-2011.0,-2011.0,-2011.0,-2007.0,-2007.0,-2007.0,-2020.0,-2020.0,-1965.0,-1965.0,-2002.0,-2002.0,-1982.0,-1982.0,-1982.0,-1993.0,-1993.0,-1993.0,-1947.0,-2020.0,-2020.0,-1978.0,-1978.0,-1978.0,-1998.0,-1998.0,-1961.0,-1961.0,-1961.0,-1954.0,-1954.0,-2015.0,-1974.0,-1974.0,-1990.0,-1990.0,-1990.0,-2012.0,-2012.0,-2012.0,-1976.0,-1966.0,-1966.0,-1966.0,-1976.0,-1976.0,-1976.0,-1991.0,-1991.0,-1991.0,-1984.0,-1997.0,-1984.0,-1984.0,-1984.0,-1957.0,-1957.0,-1957.0,-1970.0,-1970.0,-1976.0,-2015.0,-2015.0,-2015.0,-1984.0,-2002.0,-2002.0,-2002.0,-1981.0,-1981.0,-2019.0,-1971.0,-1971.0,-1971.0,-1969.0,-1969.0,-1986.0,-1986.0,-1986.0,-2004.0,-2004.0,-1996.0,-1996.0,-1969.0,-1969.0,-1986.0,-1986.0,-1986.0,-1982.0,-2016.0,-2016.0,-2008.0,-2008.0,-2008.0,-1950.0,-1986.0,-2011.0,-1964.0,-1947.0,-2020.0,-2020.0,-1956.0,-1956.0,-1956.0,-2017.0,-1999.0,-1990.0,-1990.0,-1990.0,-2000.0,-2000.0,-1968.0,-1968.0,-2020.0,-2020.0,-2020.0,-2000.0,-2000.0,-2000.0,-1963.0,-1963.0,-1963.0,-1991.0,-1991.0,-1953.0,-2005.0,-1979.0,-1979.0,-2020.0,-2020.0,-2012.0,-1977.0,-1977.0,-2001.0,-2001.0,-2012.0,-1989.0,-1989.0,-1989.0,-2006.0,-2006.0,-2006.0,-1985.0,-1985.0,-1985.0,-1988.0,-1988.0,-1988.0,-2016.0,-2016.0,-2016.0,-2004.0,-2004.0,-2012.0,-2012.0,-2018.0,-1961.0,-1961.0,-1992.0,-1992.0,-1992.0,-1975.0,-1975.0,-1975.0,-1999.0,-1999.0,-1999.0,-2006.0,-1988.0,-2007.0,-2007.0,-2007.0,-2013.0,-2013.0,-2013.0,-1972.0,-2010.0,-2010.0,-2016.0,-2016.0,-2013.0,-2013.0,-2013.0,-2016.0,-2016.0,-2016.0,-2009.0,-2009.0,-2013.0,-2007.0,-2007.0,-2007.0,-1981.0,-1981.0,-2013.0,-2013.0,-1955.0,-1955.0,-1955.0,-1962.0,-1962.0,-1962.0,-1971.0,-1971.0,-1971.0,-2017.0,-1993.0,-1993.0,-1985.0,-1985.0,-1960.0,-1960.0,-1960.0,-1982.0,-1982.0,-1982.0,-1968.0,-1968.0,-2013.0,-2013.0,-1983.0,-1983.0,-2017.0,-2017.0,-2020.0,-2020.0,-2020.0,-2013.0,-2013.0,-2013.0,-2017.0,-2017.0,-2017.0,-2020.0,-2004.0,-2004.0,-2004.0,-2014.0,-2019.0,-2011.0,-2011.0,-1990.0,-2013.0,-2009.0,-2009.0,-2009.0,-1999.0,-1999.0,-1989.0,-1989.0,-2004.0,-2015.0,-2021.0,-2021.0,-2005.0,-1981.0,-1981.0,-1981.0,-1999.0,-1999.0,-1999.0,-2018.0,-2018.0,-2002.0,-2002.0,-2018.0,-2018.0,-2018.0,-2017.0,-2017.0,-2017.0,-2019.0,-2019.0,-2019.0,-1987.0,-1987.0,-1960.0,-1960.0,-2015.0,-2015.0,-2008.0,-2008.0,-2008.0,-2013.0,-2013.0,-2011.0,-2011.0,-2011.0,-2019.0,-2019.0,-2014.0,-2014.0,-2014.0,-1986.0,-1986.0,-1986.0,-2005.0,-2005.0,-2005.0,-2018.0,-2018.0,-1993.0,-1993.0,-1993.0,-2007.0,-2008.0,-2005.0,-2005.0,-1980.0,-1980.0,-2007.0,-2007.0,-2007.0,-2006.0,-2016.0,-2013.0,-2013.0,-2013.0,-2012.0,-2021.0,-2021.0,-2021.0,-1973.0,-1973.0,-2000.0,-2000.0,-2000.0,-1999.0,-1999.0,-2013.0,-2013.0,-2013.0,-2002.0,-2002.0,-2002.0,-2005.0,-2005.0,-2005.0,-1948.0,-1948.0,-1985.0,-1985.0,-1985.0,-1958.0,-1958.0,-2014.0,-1998.0,-1998.0,-1998.0,-1958.0,-1958.0,-1958.0,-1979.0,-1956.0,-1956.0,-1956.0,-2009.0,-2009.0,-1964.0,-2012.0,-2012.0,-2013.0,-2013.0,-2013.0,-2014.0,-2014.0,-2019.0,-2019.0,-2019.0,-1958.0,-1958.0,-1988.0,-1988.0,-2018.0,-2018.0,-2012.0,-2012.0,-2012.0,-2018.0,-2018.0,-2020.0,-2018.0,-2018.0,-2018.0,-1988.0,-1999.0,-1999.0,-2008.0,-2008.0,-2008.0,-2013.0,-2010.0,-2010.0,-2010.0,-2011.0,-2011.0,-2008.0,-2008.0,-1983.0,-1983.0,-1983.0,-1989.0,-1989.0,-2006.0,-1982.0,-2014.0,-2013.0,-2013.0,-2013.0,-2007.0,-2007.0,-2007.0,-1999.0,-1999.0,-1968.0,-1968.0,-1968.0,-1975.0,-1975.0,-2004.0,-2004.0,-1960.0,-1960.0,-2003.0,-2003.0,-2011.0,-2011.0,-2011.0,-1989.0,-1989.0,-1989.0,-2014.0,-2014.0,-2014.0,-1956.0,-1956.0,-2007.0,-2007.0,-2012.0,-1991.0,-1991.0,-2009.0,-2009.0,-2007.0,-2007.0,-2007.0,-1961.0,-2018.0,-2018.0,-2020.0,-2020.0,-1995.0,-2009.0,-2009.0,-2009.0,-1938.0,-2010.0,-2010.0,-2010.0,-2014.0,-2012.0,-2012.0,-2012.0,-2019.0,-2019.0,-2019.0,-2003.0,-2003.0,-2003.0,-2001.0,-2001.0,-2001.0,-1954.0,-1971.0,-1971.0,-1971.0,-1966.0,-1966.0,-1966.0,-2005.0,-2005.0,-2005.0,-2005.0,-2000.0,-2000.0,-2000.0,-1979.0,-1979.0,-1979.0,-1994.0,-1994.0,-1994.0,-1968.0,-1968.0,-1986.0,-1970.0,-1970.0,-2018.0,-2018.0,-1960.0,-1960.0,-2014.0,-2014.0,-2004.0,-2004.0,-2004.0,-2000.0,-2000.0,-2016.0,-2016.0,-2016.0,-2008.0,-2008.0,-2008.0,-2018.0,-2018.0,-1983.0,-1982.0,-1982.0,-1982.0,-2006.0,-2006.0,-1979.0,-1979.0,-1979.0,-2008.0,-2008.0,-2008.0,-1949.0,-1968.0,-1968.0,-1968.0,-2013.0,-2013.0,-2013.0,-2017.0,-2017.0,-1984.0,-1984.0,-2009.0,-2004.0,-2004.0,-2004.0,-2005.0,-2016.0,-1976.0,-2003.0,-2003.0,-2003.0,-2014.0,-2019.0,-2019.0,-2013.0,-2013.0,-2013.0,-2014.0,-2014.0,-2014.0,-1994.0,-1994.0,-1987.0,-1987.0,-1987.0,-2008.0,-2008.0,-2008.0,-2002.0,-2002.0,-2002.0,-1985.0,-1985.0,-1985.0,-1966.0,-1966.0,-1966.0,-1973.0,-1973.0,-2020.0,-1979.0,-1979.0,-1979.0,-1995.0,-1995.0,-1995.0,-2014.0,-2014.0,-2014.0,-1985.0,-1985.0,-1985.0,-1992.0,-1992.0,-1987.0,-2004.0,-1977.0,-2007.0,-1982.0,-1982.0,-1990.0,-1978.0,-1978.0,-1978.0,-1986.0,-1980.0,-1980.0,-1980.0,-1983.0,-1983.0,-2017.0,-2017.0,-2017.0,-2021.0,-2021.0,-2018.0,-2007.0,-2007.0,-2007.0,-1999.0,-1999.0,-1999.0,-2020.0,-2020.0,-1995.0,-1995.0,-2004.0,-2004.0,-2004.0,-1999.0,-2013.0,-2013.0,-2013.0,-2003.0,-1990.0,-1993.0,-1993.0,-1992.0,-1992.0,-1992.0,-1986.0,-1986.0,-1986.0,-1993.0,-1993.0,-2020.0,-2020.0,-1956.0,-1956.0,-2003.0,-2003.0,-2003.0,-2005.0,-2005.0,-2005.0,-1981.0,-1981.0,-2019.0,-1995.0,-1995.0,-1995.0,-1980.0,-1958.0,-2012.0,-2012.0,-2012.0,-2003.0,-2003.0,-2003.0,-1996.0,-1996.0,-1969.0,-1969.0,-2009.0,-2009.0,-2009.0,-2020.0,-2020.0,-2020.0,-2015.0,-2015.0,-2015.0,-1988.0,-1988.0,-2014.0,-2014.0,-1998.0,-1952.0,-2015.0,-2015.0,-2015.0,-1986.0,-1972.0,-1972.0,-1972.0,-1955.0,-1955.0,-2005.0,-2005.0,-2005.0,-2020.0,-2020.0,-2020.0,-2021.0,-1943.0,-1943.0,-1943.0,-2011.0,-2011.0,-2011.0,-2015.0,-2015.0,-2015.0,-1976.0,-1976.0,-2000.0,-1967.0,-1967.0,-1990.0,-1990.0,-1990.0,-1995.0,-1995.0,-1995.0,-2019.0,-2013.0,-1979.0,-1979.0,-1984.0,-1997.0,-1997.0,-1997.0,-1995.0,-1984.0,-1984.0,-1984.0,-2000.0,-2000.0,-1995.0,-1995.0,-2019.0,-1970.0,-1965.0,-1965.0,-1965.0,-1966.0,-2002.0,-2002.0,-2002.0,-2008.0,-2008.0,-2008.0,-2008.0,-2008.0,-2006.0,-2006.0,-2006.0,-2004.0,-2004.0,-2017.0,-1985.0,-1985.0,-1985.0,-1980.0,-1980.0,-1954.0,-1954.0,-1973.0,-2006.0,-2006.0,-2006.0,-1977.0,-1977.0,-1977.0,-2016.0,-2016.0,-2016.0,-2009.0,-2009.0,-1968.0,-1973.0,-1973.0,-1973.0,-1965.0,-1965.0,-2010.0,-2010.0,-2010.0,-1965.0,-1965.0,-1965.0,-1938.0,-2016.0,-2010.0,-2010.0,-1965.0,-1965.0,-1965.0,-1994.0,-1994.0,-1982.0,-1982.0,-2006.0,-2006.0,-2006.0,-1966.0,-1966.0,-1966.0,-1966.0,-1966.0,-1966.0,-2003.0,-1994.0,-1994.0,-1985.0,-2011.0,-2011.0,-2011.0,-2005.0,-2005.0,-2005.0,-2019.0,-2017.0,-2017.0,-2000.0,-2000.0,-2009.0,-2009.0,-2009.0,-2001.0,-2015.0,-2016.0,-2016.0,-2016.0,-2010.0,-2010.0,-2016.0,-1989.0,-1963.0,-1963.0,-1963.0,-2010.0,-2001.0,-2001.0,-2001.0,-2011.0,-2011.0,-2011.0,-1971.0,-1971.0,-1996.0,-1996.0,-1996.0,-2012.0,-2012.0,-2012.0,-1978.0,-2009.0,-2009.0,-1984.0,-2018.0,-2018.0,-2014.0,-2020.0,-2020.0,-2020.0,-1982.0,-1982.0,-1985.0,-1985.0,-1985.0,-2012.0,-2012.0,-2012.0,-1993.0,-1993.0,-2016.0,-2016.0,-2016.0,-2018.0,-2015.0,-2015.0,-2015.0,-1988.0,-1988.0,-1988.0,-2012.0,-2012.0,-2012.0,-2019.0,-2019.0,-1999.0,-1999.0,-1999.0,-2002.0,-2002.0,-1990.0,-1990.0,-1990.0,-1983.0,-1983.0,-2011.0,-2009.0,-2009.0,-2020.0,-2010.0,-2010.0,-2010.0,-2016.0,-2001.0,-2001.0,-2001.0,-1979.0,-1979.0,-2019.0,-2019.0,-2005.0,-2015.0,-2015.0,-1989.0,-2014.0,-2014.0,-2014.0,-2013.0,-2013.0,-2013.0,-2016.0,-2016.0,-2016.0,-2021.0,-2021.0,-2021.0,-2005.0,-2005.0,-2005.0,-2016.0,-2016.0,-2019.0,-2019.0,-2017.0,-2017.0,-2017.0,-2013.0,-1980.0,-1980.0,-1977.0,-1977.0,-1977.0,-1976.0,-1941.0,-2007.0,-2007.0,-2007.0,-2018.0,-1988.0,-1988.0,-1988.0,-2014.0,-2011.0,-2011.0,-2011.0,-2013.0,-1995.0,-1995.0,-2017.0,-2019.0,-2019.0,-2019.0,-2009.0,-1953.0,-1953.0,-2005.0,-2005.0,-2005.0,-2010.0,-2010.0,-2010.0,-2010.0,-2010.0,-2010.0,-2017.0,-2008.0,-2015.0,-2009.0,-2009.0,-2009.0,-1994.0,-1994.0,-2017.0,-2017.0,-2017.0,-2021.0,-2021.0,-2021.0,-2014.0,-2014.0,-2014.0,-2013.0,-1979.0,-1979.0,-1979.0,-2007.0,-2019.0,-2019.0,-2019.0,-2020.0,-2020.0,-2014.0,-2014.0,-2014.0,-2003.0,-2003.0,-2003.0,-2020.0,-2019.0,-2019.0,-2017.0,-2017.0,-2020.0,-2014.0,-2014.0,-2017.0,-2011.0,-2011.0,-2010.0,-2017.0,-2018.0,-2020.0,-2006.0,-2006.0,-2006.0,-2019.0,-2016.0,-2014.0,-2014.0,-2014.0,-2002.0,-2002.0,-2002.0,-2008.0,-2008.0,-2008.0,-2019.0,-2019.0,-1931.0,-1931.0,-2013.0,-2013.0,-2014.0,-2014.0,-2014.0,-2015.0,-2015.0,-2015.0,-2013.0,-2013.0,-1994.0,-1994.0,-1995.0,-2011.0,-2011.0,-2001.0,-2001.0,-1980.0,-2007.0,-2007.0,-2007.0,-2016.0,-2018.0,-2018.0,-2015.0,-2019.0,-2019.0,-2019.0,-2021.0,-2021.0,-2021.0,-2009.0,-2000.0,-2000.0,-2000.0,-1935.0,-1935.0,-2020.0,-2017.0,-2017.0,-2017.0,-2020.0,-2000.0,-2014.0,-1952.0,-1952.0,-1952.0,-2015.0,-2015.0,-2015.0,-1992.0,-1992.0,-2014.0,-2020.0,-2019.0,-2019.0,-2019.0,-2015.0,-2015.0,-2015.0,-2015.0,-1968.0,-1968.0,-2019.0,-2019.0,-2017.0,-2015.0,-2015.0,-2015.0,-1996.0,-1996.0,-1996.0,-2009.0,-2009.0,-2009.0,-2017.0,-2019.0,-2019.0,-2019.0,-2015.0,-1980.0,-1980.0,-1970.0,-1970.0,-1970.0,-2011.0,-2007.0,-2007.0,-2007.0,-2017.0,-2017.0,-2013.0,-2010.0,-2010.0,-2010.0,-2014.0,-2014.0,-2014.0,-2015.0,-2015.0,-2010.0,-2010.0,-2010.0,-2001.0,-2001.0,-2002.0,-2002.0,-2002.0,-2009.0,-2021.0,-2021.0,-2021.0,-2021.0,-2021.0,-2018.0,-2018.0,-2013.0,-2013.0,-2015.0,-2015.0,-2014.0,-2014.0,-1967.0,-1967.0,-1967.0,-2019.0,-2019.0,-2019.0,-1981.0,-1981.0,-1981.0,-1987.0,-1987.0,-2016.0,-2016.0,-1992.0,-2008.0,-2008.0,-2008.0,-1990.0,-1990.0,-1990.0,-2017.0,-2017.0,-1980.0,-1953.0,-1953.0,-1983.0,-2018.0,-2015.0,-2009.0,-2009.0,-2009.0,-1978.0,-1978.0,-1978.0,-2018.0,-2018.0,-2016.0,-2017.0,-2017.0,-2017.0,-2014.0,-2017.0,-2015.0,-2015.0,-2015.0,-2005.0,-2021.0,-2021.0,-2019.0,-1977.0,-1992.0,-1992.0,-1992.0,-1998.0,-1998.0,-1998.0,-2018.0,-2018.0,-2014.0,-2014.0,-2014.0,-2014.0,-2014.0,-2016.0,-2016.0,-2016.0,-2000.0,-2000.0,-2000.0,-2018.0,-2018.0,-2010.0,-2010.0,-1984.0,-1984.0,-1988.0,-1988.0,-2017.0,-2017.0,-2006.0,-2006.0,-2006.0,-2018.0,-1989.0,-1989.0,-1975.0,-1975.0,-1937.0,-2010.0,-2010.0,-2010.0,-1978.0,-2016.0,-2005.0,-2005.0,-2020.0,-2020.0,-2020.0,-2019.0,-2019.0,-2019.0,-2014.0,-2014.0,-2014.0,-2019.0,-1989.0,-1989.0,-2016.0,-2016.0,-2016.0,-2007.0,-2015.0,-2015.0,-2015.0,-1998.0,-1998.0,-2016.0,-2016.0,-2011.0,-2011.0,-2011.0,-2021.0,-2021.0,-1989.0,-1989.0,-1989.0,-1985.0,-1995.0,-1995.0,-1991.0,-2014.0,-2014.0,-1988.0,-1978.0,-2011.0,-1978.0,-1978.0,-1978.0,-1985.0,-1985.0,-1985.0,-1994.0,-2020.0,-1996.0,-1996.0,-1996.0,-2017.0,-2017.0,-2021.0,-2021.0,-2021.0,-2003.0,-2015.0,-2015.0,-1971.0,-1971.0,-2008.0,-2016.0,-2016.0,-2001.0,-2001.0,-1970.0,-1970.0,-2011.0,-1990.0,-1990.0,-1990.0,-2009.0,-2009.0,-2010.0,-2010.0,-2002.0,-2002.0,-2002.0,-2004.0,-2004.0,-2004.0,-2018.0,-2018.0,-2018.0,-1982.0,-1982.0,-1978.0,-2017.0,-2017.0,-2002.0,-2002.0,-2002.0,-1957.0,-1957.0,-2004.0,-2004.0,-1969.0,-1969.0,-1969.0,-1996.0,-1996.0,-2011.0,-2011.0,-2011.0,-2017.0,-2016.0,-2016.0,-2012.0,-2013.0,-1992.0,-2017.0,-2008.0,-2008.0,-2011.0,-2017.0,-1997.0,-1997.0,-1997.0,-2010.0,-2018.0,-1976.0,-1976.0,-2016.0,-2016.0,-2016.0,-2013.0,-2013.0,-2013.0,-2008.0,-2008.0,-1959.0,-1959.0,-1959.0,-1974.0,-1974.0,-2019.0,-1975.0,-2019.0,-2019.0,-2019.0,-1970.0,-1970.0,-2006.0,-2006.0,-2006.0,-1992.0,-1992.0,-1992.0,-1982.0,-2014.0,-2014.0,-2006.0,-2006.0,-2015.0,-2015.0,-2015.0,-2007.0,-2007.0,-1980.0,-2014.0,-2014.0,-2014.0,-2014.0,-2014.0,-2014.0,-1996.0,-1996.0,-2017.0,-2019.0,-2019.0,-2019.0,-2006.0,-2006.0,-2006.0,-2020.0,-2020.0,-2019.0,-1971.0,-1967.0,-1967.0,-1967.0,-2019.0,-1955.0,-1955.0,-1955.0,-2018.0,-2018.0,-2018.0,-2019.0,-2019.0,-1970.0,-1960.0,-1960.0,-1960.0,-1989.0,-1982.0,-1982.0,-1982.0,-1963.0,-1963.0,-1963.0,-1998.0,-1998.0,-2015.0,-1984.0,-1984.0,-1984.0,-2011.0,-2011.0,-1987.0,-1987.0,-2006.0,-2006.0,-2006.0,-2004.0,-2004.0,-2015.0,-2015.0,-2020.0,-2020.0,-2020.0,-2005.0,-2005.0,-2005.0,-2009.0,-2005.0,-2005.0,-2005.0,-1968.0,-1968.0,-1968.0,-1999.0,-1999.0,-1999.0,-2004.0,-2004.0,-1955.0,-1974.0,-1974.0,-2018.0,-2018.0,-2018.0,-1988.0,-1988.0,-1988.0,-1982.0,-1982.0,-1962.0,-1962.0,-1962.0,-2006.0,-2006.0,-2006.0,-1946.0,-2000.0,-2021.0,-1992.0,-1992.0,-1992.0,-1975.0,-1989.0,-1989.0,-1989.0,-2001.0,-2011.0,-2011.0,-2010.0,-2010.0,-2010.0,-1970.0,-1970.0,-1970.0,-2001.0,-2001.0,-2008.0,-2008.0,-2008.0,-1994.0,-1994.0,-2009.0,-2017.0,-2017.0,-2017.0,-1988.0,-1988.0,-1988.0,-2016.0,-2016.0,-2016.0,-2018.0,-2018.0,-2018.0,-1995.0,-1995.0,-2019.0,-1993.0,-1975.0,-2004.0,-2004.0,-2004.0,-2011.0,-2011.0,-2011.0,-1989.0,-1989.0,-1989.0,-2008.0,-2008.0,-2008.0,-2017.0,-2017.0,-2017.0,-1989.0,-1989.0,-2012.0,-2012.0,-1972.0,-1972.0,-1972.0,-2017.0,-2017.0,-2017.0,-2009.0,-2009.0,-1982.0,-1982.0,-2006.0,-1990.0,-1986.0,-2005.0,-2009.0,-1988.0,-1988.0,-1988.0,-1994.0,-1994.0,-1994.0,-1982.0,-2011.0,-2011.0,-2011.0,-1986.0,-1986.0,-1986.0,-2009.0,-2009.0,-2020.0,-1998.0,-1998.0,-1998.0,-2017.0,-2021.0,-1997.0,-1997.0,-1997.0,-2020.0,-2020.0,-1992.0,-2005.0,-2005.0,-2008.0,-2008.0,-2008.0,-1991.0,-1991.0,-1991.0,-2011.0,-2011.0,-2011.0,-2013.0,-2013.0,-2018.0,-2018.0,-1996.0,-1992.0,-1992.0,-1992.0,-2006.0,-2006.0,-2006.0,-1998.0,-1998.0,-2018.0,-2018.0,-2010.0,-2010.0,-2010.0,-2014.0,-2014.0,-2014.0,-2002.0,-2002.0,-2002.0,-1988.0,-1972.0,-1972.0,-1972.0,-2008.0,-2008.0,-2008.0,-1985.0,-1985.0,-2016.0,-1967.0,-1967.0,-1967.0,-2015.0,-2015.0,-2016.0,-2016.0,-2016.0,-1998.0,-1998.0,-1998.0,-2013.0,-2009.0,-2009.0,-2009.0,-2017.0,-2009.0,-2009.0,-2009.0,-1984.0,-1984.0,-1984.0,-2020.0,-2020.0,-1965.0,-1965.0,-1993.0,-1993.0,-1993.0,-1988.0,-1988.0,-1988.0,-1981.0,-1981.0,-1981.0,-2005.0,-2005.0,-2005.0,-2019.0,-2019.0,-2019.0,-2013.0,-2013.0,-1981.0,-1981.0,-1954.0,-1954.0,-2013.0,-2013.0,-1975.0,-1975.0,-2016.0,-2016.0,-1987.0,-1987.0,-1987.0,-2005.0,-2016.0,-2016.0,-2016.0,-2010.0,-2010.0,-2010.0,-2006.0,-2017.0,-2015.0,-2015.0,-2007.0,-2007.0,-2015.0,-2015.0,-2015.0,-2015.0,-2015.0,-2015.0,-2020.0,-2020.0,-2020.0,-2018.0,-2018.0,-2018.0,-2020.0,-2012.0,-2012.0,-2012.0,-2018.0,-2018.0,-2008.0,-2008.0,-2009.0,-2019.0,-2006.0,-2013.0,-2013.0,-2013.0,-2009.0,-2009.0,-2009.0,-2008.0,-2008.0,-1989.0,-1989.0,-1989.0,-2018.0,-1998.0,-1998.0,-1998.0,-2017.0,-2004.0,-2018.0,-2018.0,-2011.0,-2011.0,-2019.0,-2019.0,-2012.0,-2018.0,-2018.0,-2003.0,-2003.0,-2003.0,-2020.0,-2006.0,-2006.0,-1983.0,-1983.0,-1983.0,-1964.0,-1964.0,-1964.0,-2006.0,-2006.0,-2006.0,-1974.0,-2004.0,-1989.0,-2013.0,-2013.0,-2021.0,-2003.0,-2003.0,-2020.0,-2015.0,-2015.0,-2015.0,-2003.0,-2008.0,-2008.0,-2008.0,-2014.0,-2014.0,-2014.0,-1992.0,-1992.0,-2001.0,-2001.0,-2001.0,-1984.0,-2014.0,-2014.0,-1994.0,-1994.0,-1972.0,-1972.0,-1972.0,-2020.0,-2020.0,-2020.0,-2015.0,-1981.0,-1981.0,-1981.0,-2014.0,-2014.0,-1977.0,-1985.0,-2015.0,-2020.0,-1958.0,-1958.0,-1958.0,-1969.0,-1969.0,-1969.0,-2005.0,-2005.0,-2012.0,-2012.0,-2012.0,-1992.0,-1992.0,-1992.0,-2014.0,-2001.0,-2001.0,-2013.0,-2013.0,-2018.0,-2018.0,-2018.0,-1995.0,-1995.0,-1995.0,-1996.0,-2015.0,-1975.0,-1975.0,-1975.0,-1988.0,-1988.0,-2006.0,-2011.0,-2016.0,-2016.0,-2016.0,-2020.0,-1984.0,-1984.0,-2003.0,-2003.0,-2002.0,-2002.0,-1963.0,-1963.0,-2014.0,-2014.0,-2014.0,-1994.0,-1994.0,-1994.0,-2011.0,-2011.0,-1972.0,-1972.0,-2014.0,-2014.0,-2003.0,-2017.0,-2017.0,-2017.0,-2002.0,-2002.0,-2002.0,-1999.0,-1999.0,-1999.0,-2001.0,-2013.0,-2013.0,-2013.0,-2012.0,-1980.0,-2018.0,-2002.0,-2002.0,-2002.0,-2004.0,-2004.0,-2004.0,-1996.0,-1996.0,-2001.0,-2001.0,-2001.0,-1992.0,-1963.0,-1963.0,-1963.0,-2019.0,-2019.0,-2019.0,-2011.0,-2011.0,-2011.0,-2019.0,-1982.0,-1982.0,-1982.0,-1982.0,-1982.0,-1982.0,-2001.0,-2001.0,-1966.0,-1966.0,-1966.0,-2005.0,-1977.0,-1977.0,-1997.0,-1997.0,-1997.0,-1997.0,-1997.0,-1997.0,-1991.0,-1991.0,-2016.0,-2016.0,-2014.0,-2014.0,-2001.0,-2001.0,-2018.0,-2016.0,-1985.0,-1985.0,-1985.0,-2021.0,-2021.0,-2021.0,-2004.0,-2004.0,-2004.0,-1979.0,-1979.0,-1979.0,-2008.0,-2008.0,-2008.0,-1994.0,-1994.0,-1985.0,-1985.0,-1990.0,-1990.0,-1998.0,-1988.0,-1988.0,-1994.0,-1994.0,-1994.0,-1993.0,-1993.0,-1993.0,-1993.0,-1980.0,-1980.0,-1988.0,-1988.0,-1995.0,-1995.0,-1995.0,-1977.0,-1977.0,-1977.0,-1981.0,-1981.0,-1985.0,-1985.0,-1985.0,-1994.0,-1994.0,-1994.0,-2003.0,-2003.0,-2003.0,-1972.0,-1972.0,-1972.0,-1984.0,-1984.0,-1975.0,-1975.0,-2005.0,-2005.0,-1943.0,-1973.0,-1973.0,-1973.0,-2013.0,-2013.0,-2013.0,-1993.0,-1993.0,-1993.0,-2013.0,-1983.0,-1983.0,-1983.0,-1972.0,-2014.0,-2005.0,-2005.0,-2005.0,-1974.0,-1974.0,-2018.0,-2018.0,-2018.0,-1994.0,-1994.0,-2014.0,-2014.0,-2014.0,-1964.0,-1964.0,-1997.0,-1997.0,-2013.0,-2013.0,-2013.0,-1958.0,-1958.0,-1958.0,-1960.0,-2006.0,-2006.0,-2006.0,-1975.0,-1975.0,-1986.0,-1986.0,-1964.0,-1964.0,-1964.0,-1940.0,-1976.0,-1976.0,-2000.0,-2013.0,-2013.0,-1965.0,-1988.0,-1988.0,-1988.0,-2013.0,-2002.0,-2002.0,-2011.0,-2011.0,-2012.0,-2019.0,-2000.0,-2011.0,-2011.0,-2011.0,-2018.0,-1998.0,-1998.0,-1998.0,-1975.0,-1975.0,-1975.0,-2015.0,-2001.0,-2001.0,-2001.0,-1989.0,-1989.0,-1989.0,-1999.0,-1999.0,-1998.0,-1998.0],\"xaxis\":\"x\",\"yaxis\":\"y\",\"type\":\"histogram\"}],                        {\"template\":{\"data\":{\"histogram2dcontour\":[{\"type\":\"histogram2dcontour\",\"colorbar\":{\"outlinewidth\":0,\"ticks\":\"\"},\"colorscale\":[[0.0,\"#0d0887\"],[0.1111111111111111,\"#46039f\"],[0.2222222222222222,\"#7201a8\"],[0.3333333333333333,\"#9c179e\"],[0.4444444444444444,\"#bd3786\"],[0.5555555555555556,\"#d8576b\"],[0.6666666666666666,\"#ed7953\"],[0.7777777777777778,\"#fb9f3a\"],[0.8888888888888888,\"#fdca26\"],[1.0,\"#f0f921\"]]}],\"choropleth\":[{\"type\":\"choropleth\",\"colorbar\":{\"outlinewidth\":0,\"ticks\":\"\"}}],\"histogram2d\":[{\"type\":\"histogram2d\",\"colorbar\":{\"outlinewidth\":0,\"ticks\":\"\"},\"colorscale\":[[0.0,\"#0d0887\"],[0.1111111111111111,\"#46039f\"],[0.2222222222222222,\"#7201a8\"],[0.3333333333333333,\"#9c179e\"],[0.4444444444444444,\"#bd3786\"],[0.5555555555555556,\"#d8576b\"],[0.6666666666666666,\"#ed7953\"],[0.7777777777777778,\"#fb9f3a\"],[0.8888888888888888,\"#fdca26\"],[1.0,\"#f0f921\"]]}],\"heatmap\":[{\"type\":\"heatmap\",\"colorbar\":{\"outlinewidth\":0,\"ticks\":\"\"},\"colorscale\":[[0.0,\"#0d0887\"],[0.1111111111111111,\"#46039f\"],[0.2222222222222222,\"#7201a8\"],[0.3333333333333333,\"#9c179e\"],[0.4444444444444444,\"#bd3786\"],[0.5555555555555556,\"#d8576b\"],[0.6666666666666666,\"#ed7953\"],[0.7777777777777778,\"#fb9f3a\"],[0.8888888888888888,\"#fdca26\"],[1.0,\"#f0f921\"]]}],\"heatmapgl\":[{\"type\":\"heatmapgl\",\"colorbar\":{\"outlinewidth\":0,\"ticks\":\"\"},\"colorscale\":[[0.0,\"#0d0887\"],[0.1111111111111111,\"#46039f\"],[0.2222222222222222,\"#7201a8\"],[0.3333333333333333,\"#9c179e\"],[0.4444444444444444,\"#bd3786\"],[0.5555555555555556,\"#d8576b\"],[0.6666666666666666,\"#ed7953\"],[0.7777777777777778,\"#fb9f3a\"],[0.8888888888888888,\"#fdca26\"],[1.0,\"#f0f921\"]]}],\"contourcarpet\":[{\"type\":\"contourcarpet\",\"colorbar\":{\"outlinewidth\":0,\"ticks\":\"\"}}],\"contour\":[{\"type\":\"contour\",\"colorbar\":{\"outlinewidth\":0,\"ticks\":\"\"},\"colorscale\":[[0.0,\"#0d0887\"],[0.1111111111111111,\"#46039f\"],[0.2222222222222222,\"#7201a8\"],[0.3333333333333333,\"#9c179e\"],[0.4444444444444444,\"#bd3786\"],[0.5555555555555556,\"#d8576b\"],[0.6666666666666666,\"#ed7953\"],[0.7777777777777778,\"#fb9f3a\"],[0.8888888888888888,\"#fdca26\"],[1.0,\"#f0f921\"]]}],\"surface\":[{\"type\":\"surface\",\"colorbar\":{\"outlinewidth\":0,\"ticks\":\"\"},\"colorscale\":[[0.0,\"#0d0887\"],[0.1111111111111111,\"#46039f\"],[0.2222222222222222,\"#7201a8\"],[0.3333333333333333,\"#9c179e\"],[0.4444444444444444,\"#bd3786\"],[0.5555555555555556,\"#d8576b\"],[0.6666666666666666,\"#ed7953\"],[0.7777777777777778,\"#fb9f3a\"],[0.8888888888888888,\"#fdca26\"],[1.0,\"#f0f921\"]]}],\"mesh3d\":[{\"type\":\"mesh3d\",\"colorbar\":{\"outlinewidth\":0,\"ticks\":\"\"}}],\"scatter\":[{\"fillpattern\":{\"fillmode\":\"overlay\",\"size\":10,\"solidity\":0.2},\"type\":\"scatter\"}],\"parcoords\":[{\"type\":\"parcoords\",\"line\":{\"colorbar\":{\"outlinewidth\":0,\"ticks\":\"\"}}}],\"scatterpolargl\":[{\"type\":\"scatterpolargl\",\"marker\":{\"colorbar\":{\"outlinewidth\":0,\"ticks\":\"\"}}}],\"bar\":[{\"error_x\":{\"color\":\"#2a3f5f\"},\"error_y\":{\"color\":\"#2a3f5f\"},\"marker\":{\"line\":{\"color\":\"#E5ECF6\",\"width\":0.5},\"pattern\":{\"fillmode\":\"overlay\",\"size\":10,\"solidity\":0.2}},\"type\":\"bar\"}],\"scattergeo\":[{\"type\":\"scattergeo\",\"marker\":{\"colorbar\":{\"outlinewidth\":0,\"ticks\":\"\"}}}],\"scatterpolar\":[{\"type\":\"scatterpolar\",\"marker\":{\"colorbar\":{\"outlinewidth\":0,\"ticks\":\"\"}}}],\"histogram\":[{\"marker\":{\"pattern\":{\"fillmode\":\"overlay\",\"size\":10,\"solidity\":0.2}},\"type\":\"histogram\"}],\"scattergl\":[{\"type\":\"scattergl\",\"marker\":{\"colorbar\":{\"outlinewidth\":0,\"ticks\":\"\"}}}],\"scatter3d\":[{\"type\":\"scatter3d\",\"line\":{\"colorbar\":{\"outlinewidth\":0,\"ticks\":\"\"}},\"marker\":{\"colorbar\":{\"outlinewidth\":0,\"ticks\":\"\"}}}],\"scattermapbox\":[{\"type\":\"scattermapbox\",\"marker\":{\"colorbar\":{\"outlinewidth\":0,\"ticks\":\"\"}}}],\"scatterternary\":[{\"type\":\"scatterternary\",\"marker\":{\"colorbar\":{\"outlinewidth\":0,\"ticks\":\"\"}}}],\"scattercarpet\":[{\"type\":\"scattercarpet\",\"marker\":{\"colorbar\":{\"outlinewidth\":0,\"ticks\":\"\"}}}],\"carpet\":[{\"aaxis\":{\"endlinecolor\":\"#2a3f5f\",\"gridcolor\":\"white\",\"linecolor\":\"white\",\"minorgridcolor\":\"white\",\"startlinecolor\":\"#2a3f5f\"},\"baxis\":{\"endlinecolor\":\"#2a3f5f\",\"gridcolor\":\"white\",\"linecolor\":\"white\",\"minorgridcolor\":\"white\",\"startlinecolor\":\"#2a3f5f\"},\"type\":\"carpet\"}],\"table\":[{\"cells\":{\"fill\":{\"color\":\"#EBF0F8\"},\"line\":{\"color\":\"white\"}},\"header\":{\"fill\":{\"color\":\"#C8D4E3\"},\"line\":{\"color\":\"white\"}},\"type\":\"table\"}],\"barpolar\":[{\"marker\":{\"line\":{\"color\":\"#E5ECF6\",\"width\":0.5},\"pattern\":{\"fillmode\":\"overlay\",\"size\":10,\"solidity\":0.2}},\"type\":\"barpolar\"}],\"pie\":[{\"automargin\":true,\"type\":\"pie\"}]},\"layout\":{\"autotypenumbers\":\"strict\",\"colorway\":[\"#636efa\",\"#EF553B\",\"#00cc96\",\"#ab63fa\",\"#FFA15A\",\"#19d3f3\",\"#FF6692\",\"#B6E880\",\"#FF97FF\",\"#FECB52\"],\"font\":{\"color\":\"#2a3f5f\"},\"hovermode\":\"closest\",\"hoverlabel\":{\"align\":\"left\"},\"paper_bgcolor\":\"white\",\"plot_bgcolor\":\"#E5ECF6\",\"polar\":{\"bgcolor\":\"#E5ECF6\",\"angularaxis\":{\"gridcolor\":\"white\",\"linecolor\":\"white\",\"ticks\":\"\"},\"radialaxis\":{\"gridcolor\":\"white\",\"linecolor\":\"white\",\"ticks\":\"\"}},\"ternary\":{\"bgcolor\":\"#E5ECF6\",\"aaxis\":{\"gridcolor\":\"white\",\"linecolor\":\"white\",\"ticks\":\"\"},\"baxis\":{\"gridcolor\":\"white\",\"linecolor\":\"white\",\"ticks\":\"\"},\"caxis\":{\"gridcolor\":\"white\",\"linecolor\":\"white\",\"ticks\":\"\"}},\"coloraxis\":{\"colorbar\":{\"outlinewidth\":0,\"ticks\":\"\"}},\"colorscale\":{\"sequential\":[[0.0,\"#0d0887\"],[0.1111111111111111,\"#46039f\"],[0.2222222222222222,\"#7201a8\"],[0.3333333333333333,\"#9c179e\"],[0.4444444444444444,\"#bd3786\"],[0.5555555555555556,\"#d8576b\"],[0.6666666666666666,\"#ed7953\"],[0.7777777777777778,\"#fb9f3a\"],[0.8888888888888888,\"#fdca26\"],[1.0,\"#f0f921\"]],\"sequentialminus\":[[0.0,\"#0d0887\"],[0.1111111111111111,\"#46039f\"],[0.2222222222222222,\"#7201a8\"],[0.3333333333333333,\"#9c179e\"],[0.4444444444444444,\"#bd3786\"],[0.5555555555555556,\"#d8576b\"],[0.6666666666666666,\"#ed7953\"],[0.7777777777777778,\"#fb9f3a\"],[0.8888888888888888,\"#fdca26\"],[1.0,\"#f0f921\"]],\"diverging\":[[0,\"#8e0152\"],[0.1,\"#c51b7d\"],[0.2,\"#de77ae\"],[0.3,\"#f1b6da\"],[0.4,\"#fde0ef\"],[0.5,\"#f7f7f7\"],[0.6,\"#e6f5d0\"],[0.7,\"#b8e186\"],[0.8,\"#7fbc41\"],[0.9,\"#4d9221\"],[1,\"#276419\"]]},\"xaxis\":{\"gridcolor\":\"white\",\"linecolor\":\"white\",\"ticks\":\"\",\"title\":{\"standoff\":15},\"zerolinecolor\":\"white\",\"automargin\":true,\"zerolinewidth\":2},\"yaxis\":{\"gridcolor\":\"white\",\"linecolor\":\"white\",\"ticks\":\"\",\"title\":{\"standoff\":15},\"zerolinecolor\":\"white\",\"automargin\":true,\"zerolinewidth\":2},\"scene\":{\"xaxis\":{\"backgroundcolor\":\"#E5ECF6\",\"gridcolor\":\"white\",\"linecolor\":\"white\",\"showbackground\":true,\"ticks\":\"\",\"zerolinecolor\":\"white\",\"gridwidth\":2},\"yaxis\":{\"backgroundcolor\":\"#E5ECF6\",\"gridcolor\":\"white\",\"linecolor\":\"white\",\"showbackground\":true,\"ticks\":\"\",\"zerolinecolor\":\"white\",\"gridwidth\":2},\"zaxis\":{\"backgroundcolor\":\"#E5ECF6\",\"gridcolor\":\"white\",\"linecolor\":\"white\",\"showbackground\":true,\"ticks\":\"\",\"zerolinecolor\":\"white\",\"gridwidth\":2}},\"shapedefaults\":{\"line\":{\"color\":\"#2a3f5f\"}},\"annotationdefaults\":{\"arrowcolor\":\"#2a3f5f\",\"arrowhead\":0,\"arrowwidth\":1},\"geo\":{\"bgcolor\":\"white\",\"landcolor\":\"#E5ECF6\",\"subunitcolor\":\"white\",\"showland\":true,\"showlakes\":true,\"lakecolor\":\"white\"},\"title\":{\"x\":0.05},\"mapbox\":{\"style\":\"light\"}}},\"xaxis\":{\"anchor\":\"y\",\"domain\":[0.0,1.0],\"title\":{\"text\":\"Year\"}},\"yaxis\":{\"anchor\":\"x\",\"domain\":[0.0,1.0],\"title\":{\"text\":\"probability density\"}},\"legend\":{\"tracegroupgap\":0},\"margin\":{\"t\":60},\"barmode\":\"relative\"},                        {\"responsive\": true}                    ).then(function(){\n",
              "                            \n",
              "var gd = document.getElementById('c0098485-b698-4dbf-bb40-66c8798a0aa4');\n",
              "var x = new MutationObserver(function (mutations, observer) {{\n",
              "        var display = window.getComputedStyle(gd).display;\n",
              "        if (!display || display === 'none') {{\n",
              "            console.log([gd, 'removed!']);\n",
              "            Plotly.purge(gd);\n",
              "            observer.disconnect();\n",
              "        }}\n",
              "}});\n",
              "\n",
              "// Listen for the removal of the full notebook cells\n",
              "var notebookContainer = gd.closest('#notebook-container');\n",
              "if (notebookContainer) {{\n",
              "    x.observe(notebookContainer, {childList: true});\n",
              "}}\n",
              "\n",
              "// Listen for the clearing of the current output cell\n",
              "var outputEl = gd.closest('.output');\n",
              "if (outputEl) {{\n",
              "    x.observe(outputEl, {childList: true});\n",
              "}}\n",
              "\n",
              "                        })                };                            </script>        </div>\n",
              "</body>\n",
              "</html>"
            ]
          },
          "metadata": {}
        }
      ]
    },
    {
      "cell_type": "code",
      "source": [
        "avg_rating = df_movie.groupby(['Year','Genre'])['Rating'].mean().reset_index()\n",
        "top_genres = df_movie['Genre'].value_counts().head(10).index\n",
        "avg_rating = avg_rating[avg_rating['Genre'].isin(top_genres)]\n",
        "fig = px.line(avg_rating, x='Year', y='Rating', color='Genre')\n",
        "fig.update_layout(title='Averagee rating by top genres by year',xaxis_title='Average rating')\n",
        "fig.show()\n",
        "\n",
        "\n"
      ],
      "metadata": {
        "colab": {
          "base_uri": "https://localhost:8080/",
          "height": 542
        },
        "id": "Q5kudRQjNiss",
        "outputId": "55912788-b5ab-4ea4-fd9f-b7088791120c"
      },
      "execution_count": null,
      "outputs": [
        {
          "output_type": "display_data",
          "data": {
            "text/html": [
              "<html>\n",
              "<head><meta charset=\"utf-8\" /></head>\n",
              "<body>\n",
              "    <div>            <script src=\"https://cdnjs.cloudflare.com/ajax/libs/mathjax/2.7.5/MathJax.js?config=TeX-AMS-MML_SVG\"></script><script type=\"text/javascript\">if (window.MathJax && window.MathJax.Hub && window.MathJax.Hub.Config) {window.MathJax.Hub.Config({SVG: {font: \"STIX-Web\"}});}</script>                <script type=\"text/javascript\">window.PlotlyConfig = {MathJaxConfig: 'local'};</script>\n",
              "        <script charset=\"utf-8\" src=\"https://cdn.plot.ly/plotly-2.24.1.min.js\"></script>                <div id=\"8dc297b5-4a63-4c64-a5d8-2e3afcb7504c\" class=\"plotly-graph-div\" style=\"height:525px; width:100%;\"></div>            <script type=\"text/javascript\">                                    window.PLOTLYENV=window.PLOTLYENV || {};                                    if (document.getElementById(\"8dc297b5-4a63-4c64-a5d8-2e3afcb7504c\")) {                    Plotly.newPlot(                        \"8dc297b5-4a63-4c64-a5d8-2e3afcb7504c\",                        [{\"hovertemplate\":\"Genre= Comedy\\u003cbr\\u003eYear=%{x}\\u003cbr\\u003eRating=%{y}\\u003cextra\\u003e\\u003c\\u002fextra\\u003e\",\"legendgroup\":\" Comedy\",\"line\":{\"color\":\"#636efa\",\"dash\":\"solid\"},\"marker\":{\"symbol\":\"circle\"},\"mode\":\"lines\",\"name\":\" Comedy\",\"orientation\":\"v\",\"showlegend\":true,\"x\":[-2021.0,-2020.0,-2019.0,-2018.0,-2017.0,-2016.0,-2015.0,-2014.0,-2013.0,-2012.0,-2011.0,-2010.0,-2009.0,-2008.0,-2007.0,-2006.0,-2005.0,-2004.0,-2003.0,-2002.0,-2001.0,-2000.0,-1999.0,-1998.0,-1997.0,-1996.0,-1995.0,-1994.0,-1993.0,-1992.0,-1991.0,-1990.0,-1989.0,-1988.0,-1987.0,-1986.0,-1985.0,-1984.0,-1983.0,-1982.0,-1981.0,-1980.0,-1979.0,-1978.0,-1977.0,-1976.0,-1975.0,-1974.0,-1973.0,-1972.0,-1971.0,-1970.0,-1969.0,-1968.0,-1967.0,-1966.0,-1965.0,-1964.0,-1963.0,-1962.0,-1960.0,-1956.0,-1955.0],\"xaxis\":\"x\",\"y\":[7.6,5.025,4.13,5.933333333333334,5.228571428571429,4.3625,5.663636363636363,5.175,5.133333333333334,5.29,4.8999999999999995,5.271428571428571,4.9125,5.45,5.1,4.76,4.675000000000001,4.9,4.933333333333334,4.833333333333333,4.9399999999999995,4.75,5.15,5.7125,5.371428571428572,5.95,5.7,5.45,6.066666666666666,6.285714285714286,6.025,5.583333333333333,5.875,6.65,5.866666666666667,5.166666666666667,5.4,6.4,5.72,6.6000000000000005,6.4,6.575,5.55,6.800000000000001,6.25,6.466666666666666,6.233333333333333,6.433333333333334,5.0,6.5,6.62,6.58,6.55,4.65,5.0,6.5,5.85,6.4,7.4,6.85,6.8,5.7,6.800000000000001],\"yaxis\":\"y\",\"type\":\"scatter\"},{\"hovertemplate\":\"Genre= Crime\\u003cbr\\u003eYear=%{x}\\u003cbr\\u003eRating=%{y}\\u003cextra\\u003e\\u003c\\u002fextra\\u003e\",\"legendgroup\":\" Crime\",\"line\":{\"color\":\"#EF553B\",\"dash\":\"solid\"},\"marker\":{\"symbol\":\"circle\"},\"mode\":\"lines\",\"name\":\" Crime\",\"orientation\":\"v\",\"showlegend\":true,\"x\":[-2021.0,-2020.0,-2019.0,-2018.0,-2017.0,-2016.0,-2015.0,-2014.0,-2013.0,-2012.0,-2011.0,-2010.0,-2009.0,-2008.0,-2007.0,-2006.0,-2005.0,-2004.0,-2003.0,-2002.0,-2001.0,-2000.0,-1999.0,-1998.0,-1997.0,-1996.0,-1995.0,-1994.0,-1993.0,-1992.0,-1991.0,-1990.0,-1989.0,-1988.0,-1987.0,-1986.0,-1985.0,-1984.0,-1983.0,-1982.0,-1981.0,-1980.0,-1979.0,-1978.0,-1977.0,-1976.0,-1975.0,-1974.0,-1973.0,-1972.0,-1971.0,-1970.0,-1969.0,-1968.0,-1967.0,-1965.0,-1963.0,-1962.0,-1961.0,-1960.0,-1959.0,-1957.0,-1956.0,-1955.0,-1954.0,-1953.0,-1949.0],\"xaxis\":\"x\",\"y\":[5.275,7.090000000000001,5.958333333333333,5.65,6.35,6.18,6.2823529411764705,5.857142857142857,5.190476190476191,5.257142857142857,5.378571428571428,5.616666666666667,5.0249999999999995,5.119047619047619,5.09375,5.178947368421053,5.992307692307692,5.570588235294117,5.511111111111111,5.355555555555556,5.136363636363637,5.0600000000000005,5.741666666666667,5.990909090909091,5.8428571428571425,5.333333333333333,5.4125,4.972727272727273,5.6,5.5,4.6,5.406666666666666,5.4639999999999995,5.975,5.925000000000001,6.3,6.122222222222223,5.58,6.56,6.1571428571428575,6.4125,6.675,6.575,5.9399999999999995,6.16,6.220000000000001,6.08,6.033333333333334,5.84,6.0,6.25,5.7,6.38,5.966666666666666,5.933333333333334,6.3,7.0,5.7,6.15,7.3999999999999995,7.1,7.75,6.466666666666666,6.6,6.2,7.5,7.2],\"yaxis\":\"y\",\"type\":\"scatter\"},{\"hovertemplate\":\"Genre= Drama\\u003cbr\\u003eYear=%{x}\\u003cbr\\u003eRating=%{y}\\u003cextra\\u003e\\u003c\\u002fextra\\u003e\",\"legendgroup\":\" Drama\",\"line\":{\"color\":\"#00cc96\",\"dash\":\"solid\"},\"marker\":{\"symbol\":\"circle\"},\"mode\":\"lines\",\"name\":\" Drama\",\"orientation\":\"v\",\"showlegend\":true,\"x\":[-2021.0,-2020.0,-2019.0,-2018.0,-2017.0,-2016.0,-2015.0,-2014.0,-2013.0,-2012.0,-2011.0,-2010.0,-2009.0,-2008.0,-2007.0,-2006.0,-2005.0,-2004.0,-2003.0,-2002.0,-2001.0,-2000.0,-1999.0,-1998.0,-1997.0,-1996.0,-1995.0,-1994.0,-1993.0,-1992.0,-1991.0,-1990.0,-1989.0,-1988.0,-1987.0,-1986.0,-1985.0,-1984.0,-1983.0,-1982.0,-1981.0,-1980.0,-1979.0,-1978.0,-1977.0,-1976.0,-1975.0,-1974.0,-1973.0,-1972.0,-1971.0,-1970.0,-1969.0,-1968.0,-1967.0,-1966.0,-1965.0,-1964.0,-1963.0,-1962.0,-1961.0,-1960.0,-1959.0,-1958.0,-1957.0,-1956.0,-1955.0,-1954.0,-1953.0,-1952.0,-1951.0,-1950.0,-1949.0,-1948.0,-1947.0,-1946.0,-1943.0,-1942.0],\"xaxis\":\"x\",\"y\":[6.4,5.883333333333333,6.340277777777778,6.191111111111112,5.947727272727272,6.241176470588235,5.816129032258065,5.932608695652173,5.9035087719298245,6.164705882352941,5.589393939393939,5.587142857142857,5.656363636363637,5.490163934426229,5.695918367346939,5.576190476190476,5.8812500000000005,5.36,5.245238095238095,5.491666666666666,5.645714285714286,5.279411764705882,5.554545454545455,5.596875,5.570588235294117,5.3428571428571425,5.111428571428571,5.2775,5.502325581395349,5.8428571428571425,5.266666666666667,5.511428571428572,5.68108108108108,5.824137931034483,5.778947368421052,6.02962962962963,6.227586206896552,5.963636363636363,6.4750000000000005,6.3,6.372222222222223,6.6037037037037045,6.29,6.23125,6.086956521739131,6.1692307692307695,6.87,6.616666666666667,6.590909090909091,5.855555555555556,6.5249999999999995,6.7700000000000005,6.0,6.3538461538461535,6.506666666666666,6.75,6.642857142857143,6.411111111111111,6.459999999999999,6.1875,6.608333333333333,6.728571428571429,7.1,6.0,6.916666666666667,6.5875,6.822222222222222,6.6,7.333333333333333,7.166666666666667,6.8999999999999995,7.1,7.45,7.5,6.8,6.5,6.9,6.6],\"yaxis\":\"y\",\"type\":\"scatter\"},{\"hovertemplate\":\"Genre= Family\\u003cbr\\u003eYear=%{x}\\u003cbr\\u003eRating=%{y}\\u003cextra\\u003e\\u003c\\u002fextra\\u003e\",\"legendgroup\":\" Family\",\"line\":{\"color\":\"#ab63fa\",\"dash\":\"solid\"},\"marker\":{\"symbol\":\"circle\"},\"mode\":\"lines\",\"name\":\" Family\",\"orientation\":\"v\",\"showlegend\":true,\"x\":[-2021.0,-2020.0,-2019.0,-2018.0,-2017.0,-2016.0,-2015.0,-2014.0,-2013.0,-2012.0,-2011.0,-2010.0,-2009.0,-2008.0,-2007.0,-2006.0,-2005.0,-2004.0,-2003.0,-2002.0,-2001.0,-2000.0,-1999.0,-1998.0,-1997.0,-1996.0,-1995.0,-1994.0,-1993.0,-1992.0,-1991.0,-1990.0,-1989.0,-1988.0,-1987.0,-1986.0,-1985.0,-1984.0,-1983.0,-1982.0,-1981.0,-1980.0,-1979.0,-1978.0,-1977.0,-1976.0,-1975.0,-1974.0,-1973.0,-1972.0,-1971.0,-1970.0,-1969.0,-1968.0,-1967.0,-1966.0,-1965.0,-1964.0,-1963.0,-1962.0,-1961.0,-1959.0,-1958.0,-1957.0,-1955.0,-1954.0,-1953.0,-1951.0,-1950.0,-1949.0,-1948.0,-1943.0,-1942.0,-1937.0],\"xaxis\":\"x\",\"y\":[6.733333333333333,7.75,7.666666666666667,6.277777777777778,6.355555555555556,6.766666666666667,5.871428571428572,5.416666666666667,6.6499999999999995,6.181818181818182,6.214285714285714,6.144444444444444,6.0,5.071428571428571,6.377777777777777,5.65,5.985714285714286,5.633333333333333,5.2,6.34,5.066666666666666,6.633333333333333,6.2,4.7,6.666666666666667,5.5,5.1,5.949999999999999,5.8,4.8,4.1,4.35,6.111111111111111,5.333333333333333,5.8,6.720000000000001,6.15,6.033333333333334,6.557142857142857,6.58,6.82,6.32,6.029999999999999,6.855555555555556,6.928571428571429,6.42,6.414285714285714,6.7625,6.271428571428571,6.575,6.428571428571429,6.45,6.228571428571429,6.56,6.4,6.7,6.6000000000000005,6.875,6.6,6.575,6.6000000000000005,6.5,6.5,7.279999999999999,7.25,6.575,7.05,7.0,6.85,6.833333333333333,5.7,7.2,6.2,5.9],\"yaxis\":\"y\",\"type\":\"scatter\"},{\"hovertemplate\":\"Genre= Musical\\u003cbr\\u003eYear=%{x}\\u003cbr\\u003eRating=%{y}\\u003cextra\\u003e\\u003c\\u002fextra\\u003e\",\"legendgroup\":\" Musical\",\"line\":{\"color\":\"#FFA15A\",\"dash\":\"solid\"},\"marker\":{\"symbol\":\"circle\"},\"mode\":\"lines\",\"name\":\" Musical\",\"orientation\":\"v\",\"showlegend\":true,\"x\":[-2021.0,-2020.0,-2019.0,-2017.0,-2016.0,-2015.0,-2014.0,-2013.0,-2012.0,-2011.0,-2010.0,-2009.0,-2008.0,-2007.0,-2006.0,-2005.0,-2004.0,-2003.0,-2002.0,-2001.0,-2000.0,-1999.0,-1998.0,-1997.0,-1996.0,-1995.0,-1994.0,-1993.0,-1992.0,-1991.0,-1990.0,-1989.0,-1988.0,-1987.0,-1985.0,-1984.0,-1983.0,-1982.0,-1981.0,-1980.0,-1979.0,-1978.0,-1977.0,-1975.0,-1974.0,-1973.0,-1972.0,-1971.0,-1970.0,-1969.0,-1968.0,-1967.0,-1966.0,-1965.0,-1964.0,-1963.0,-1962.0,-1961.0,-1960.0,-1959.0,-1958.0,-1957.0,-1956.0,-1955.0,-1954.0,-1953.0,-1952.0,-1951.0,-1950.0,-1949.0,-1948.0,-1947.0,-1946.0,-1943.0,-1942.0,-1936.0],\"xaxis\":\"x\",\"y\":[5.25,5.966666666666666,3.4,4.55,6.0,3.95,5.3500000000000005,5.866666666666667,5.74,5.75,5.8,5.271428571428571,2.966666666666667,4.516666666666667,5.1499999999999995,5.3375,5.0600000000000005,4.975,5.454545454545454,5.6,5.466666666666667,6.05,6.15,5.88,6.15,5.466666666666666,6.75,6.300000000000001,5.225,6.257142857142858,7.166666666666667,6.4,7.85,6.475,6.625,6.8,5.966666666666666,6.933333333333334,6.859999999999999,6.633333333333333,7.2,7.7,6.85,6.566666666666666,6.671428571428572,7.116666666666667,7.24,6.955555555555556,6.566666666666666,7.05,6.8999999999999995,6.68,7.0,6.7,7.616666666666667,6.459999999999999,7.171428571428572,7.116666666666667,7.400000000000001,7.075,7.42,7.75,7.26,7.25,6.6,7.233333333333333,7.4,7.3999999999999995,7.4,7.7,6.4,7.7,7.3,7.5,6.8,6.5],\"yaxis\":\"y\",\"type\":\"scatter\"},{\"hovertemplate\":\"Genre= Romance\\u003cbr\\u003eYear=%{x}\\u003cbr\\u003eRating=%{y}\\u003cextra\\u003e\\u003c\\u002fextra\\u003e\",\"legendgroup\":\" Romance\",\"line\":{\"color\":\"#19d3f3\",\"dash\":\"solid\"},\"marker\":{\"symbol\":\"circle\"},\"mode\":\"lines\",\"name\":\" Romance\",\"orientation\":\"v\",\"showlegend\":true,\"x\":[-2021.0,-2020.0,-2019.0,-2018.0,-2017.0,-2016.0,-2015.0,-2014.0,-2013.0,-2012.0,-2011.0,-2010.0,-2009.0,-2008.0,-2007.0,-2006.0,-2005.0,-2004.0,-2003.0,-2002.0,-2001.0,-2000.0,-1999.0,-1998.0,-1997.0,-1996.0,-1995.0,-1994.0,-1993.0,-1992.0,-1991.0,-1990.0,-1989.0,-1988.0,-1987.0,-1986.0,-1985.0,-1984.0,-1983.0,-1982.0,-1981.0,-1980.0,-1979.0,-1978.0,-1977.0,-1976.0,-1975.0,-1974.0,-1973.0,-1972.0,-1971.0,-1970.0,-1969.0,-1968.0,-1967.0,-1966.0,-1965.0,-1964.0,-1963.0,-1962.0,-1961.0,-1960.0,-1959.0,-1958.0,-1957.0,-1956.0,-1955.0,-1954.0,-1953.0,-1952.0,-1951.0,-1950.0,-1949.0,-1948.0,-1947.0,-1946.0,-1944.0,-1943.0,-1939.0,-1938.0,-1937.0,-1936.0,-1933.0,-1932.0],\"xaxis\":\"x\",\"y\":[6.336363636363637,5.790909090909091,6.16774193548387,5.8310344827586205,5.709090909090909,4.824000000000001,5.411428571428572,5.382926829268293,5.6,5.251612903225807,5.544444444444444,5.416,5.2,5.303999999999999,5.182142857142857,5.014705882352941,4.79,4.678260869565217,5.489285714285714,4.929032258064517,5.453846153846154,5.180952380952381,5.031818181818182,5.61578947368421,5.05,5.58,4.817647058823529,5.15625,5.052,5.606896551724137,5.721052631578948,5.89,6.375,5.483333333333333,6.25,6.2875,6.216666666666666,6.1625,6.584615384615384,6.636363636363637,6.552941176470589,6.754545454545454,6.792857142857143,6.779999999999999,6.866666666666666,6.466666666666667,6.96,6.65625,6.75,6.363636363636363,6.721428571428571,6.86,6.471428571428571,6.535714285714286,6.728571428571429,6.572222222222222,6.966666666666667,6.82,6.545454545454546,6.845454545454545,6.5375,6.875,6.720000000000001,6.911111111111111,7.127272727272728,6.659999999999999,7.114285714285715,6.628571428571428,7.1000000000000005,7.3500000000000005,6.959999999999999,7.0,6.9799999999999995,7.140000000000001,7.550000000000001,7.1,7.166666666666667,7.5,6.4,5.2,5.9,6.35,6.2,6.0],\"yaxis\":\"y\",\"type\":\"scatter\"},{\"hovertemplate\":\"Genre= Thriller\\u003cbr\\u003eYear=%{x}\\u003cbr\\u003eRating=%{y}\\u003cextra\\u003e\\u003c\\u002fextra\\u003e\",\"legendgroup\":\" Thriller\",\"line\":{\"color\":\"#FF6692\",\"dash\":\"solid\"},\"marker\":{\"symbol\":\"circle\"},\"mode\":\"lines\",\"name\":\" Thriller\",\"orientation\":\"v\",\"showlegend\":true,\"x\":[-2021.0,-2020.0,-2019.0,-2018.0,-2017.0,-2016.0,-2015.0,-2014.0,-2013.0,-2012.0,-2011.0,-2010.0,-2009.0,-2008.0,-2007.0,-2006.0,-2005.0,-2004.0,-2003.0,-2002.0,-2001.0,-2000.0,-1999.0,-1998.0,-1997.0,-1996.0,-1995.0,-1994.0,-1993.0,-1992.0,-1991.0,-1990.0,-1989.0,-1988.0,-1987.0,-1986.0,-1985.0,-1984.0,-1983.0,-1982.0,-1981.0,-1980.0,-1979.0,-1978.0,-1977.0,-1976.0,-1975.0,-1974.0,-1973.0,-1972.0,-1971.0,-1970.0,-1969.0,-1968.0,-1967.0,-1966.0,-1965.0,-1964.0,-1962.0,-1960.0,-1959.0,-1958.0,-1957.0,-1954.0,-1952.0],\"xaxis\":\"x\",\"y\":[5.188888888888889,5.541176470588235,5.796428571428572,5.282608695652174,6.0360000000000005,6.291428571428571,5.938461538461539,5.391304347826087,5.52051282051282,5.121052631578947,5.715,5.23125,5.954545454545454,5.608333333333333,4.3,5.319999999999999,4.915,5.088888888888889,5.107142857142857,5.088888888888889,6.0875,5.34,5.6000000000000005,4.6,4.566666666666666,4.59,5.76,5.91,5.022222222222222,5.885714285714286,6.0,5.55,6.0,5.35,6.0,6.655555555555555,6.12,5.75,4.5,5.900000000000001,6.366666666666666,6.1571428571428575,6.433333333333334,7.1,5.733333333333333,6.35,6.071428571428571,6.68,6.155555555555555,6.5,6.65,6.675,6.566666666666666,6.725,6.840000000000001,6.0,6.825,6.566666666666666,6.8,6.5,6.7,6.233333333333333,6.8,6.6,7.2],\"yaxis\":\"y\",\"type\":\"scatter\"},{\"hovertemplate\":\"Genre=Action\\u003cbr\\u003eYear=%{x}\\u003cbr\\u003eRating=%{y}\\u003cextra\\u003e\\u003c\\u002fextra\\u003e\",\"legendgroup\":\"Action\",\"line\":{\"color\":\"#B6E880\",\"dash\":\"solid\"},\"marker\":{\"symbol\":\"circle\"},\"mode\":\"lines\",\"name\":\"Action\",\"orientation\":\"v\",\"showlegend\":true,\"x\":[-2021.0,-2020.0,-2019.0,-2018.0,-2017.0,-2016.0,-2015.0,-2014.0,-2013.0,-2012.0,-2011.0,-2010.0,-2009.0,-2008.0,-2007.0,-2006.0,-2005.0,-2004.0,-2003.0,-2002.0,-2001.0,-2000.0,-1999.0,-1998.0,-1997.0,-1996.0,-1995.0,-1994.0,-1993.0,-1992.0,-1991.0,-1990.0,-1989.0,-1988.0,-1987.0,-1986.0,-1985.0,-1984.0,-1983.0,-1982.0,-1981.0,-1980.0,-1979.0,-1978.0,-1977.0,-1976.0,-1975.0,-1974.0,-1973.0,-1972.0,-1971.0,-1970.0,-1969.0,-1968.0,-1967.0,-1966.0,-1965.0,-1964.0,-1963.0,-1962.0,-1961.0,-1960.0,-1959.0,-1958.0,-1957.0,-1956.0,-1955.0,-1954.0,-1953.0,-1952.0,-1951.0,-1940.0,-1939.0,-1935.0],\"xaxis\":\"x\",\"y\":[5.9125,5.808695652173912,5.755102040816326,5.814705882352941,5.935135135135135,5.6421052631578945,5.697297297297298,5.152777777777778,5.287804878048781,5.341666666666666,5.290909090909091,5.294117647058823,4.934210526315789,4.885185185185185,5.23,4.8,5.447826086956522,5.154761904761905,4.89375,5.181578947368421,5.387096774193548,4.9184210526315795,5.35945945945946,5.062162162162163,5.175675675675675,5.175675675675675,5.174418604651163,5.071428571428571,5.3,5.478378378378378,5.105128205128205,5.386842105263158,5.521739130434782,5.463636363636364,5.623809523809523,5.862962962962963,5.7,5.751724137931035,5.963157894736842,6.132000000000001,6.114814814814815,6.5086956521739125,6.078947368421052,6.2625,5.823076923076924,6.0625,6.371428571428572,6.369230769230769,6.22,5.785714285714286,6.214285714285714,6.207692307692308,6.211111111111111,6.2,6.016666666666667,6.257142857142857,6.257142857142857,5.7,6.14,5.666666666666667,5.866666666666667,6.640000000000001,6.225,6.033333333333334,6.8,6.2,6.3,6.15,5.949999999999999,6.95,6.550000000000001,6.1,6.6,4.5],\"yaxis\":\"y\",\"type\":\"scatter\"},{\"hovertemplate\":\"Genre=Comedy\\u003cbr\\u003eYear=%{x}\\u003cbr\\u003eRating=%{y}\\u003cextra\\u003e\\u003c\\u002fextra\\u003e\",\"legendgroup\":\"Comedy\",\"line\":{\"color\":\"#FF97FF\",\"dash\":\"solid\"},\"marker\":{\"symbol\":\"circle\"},\"mode\":\"lines\",\"name\":\"Comedy\",\"orientation\":\"v\",\"showlegend\":true,\"x\":[-2021.0,-2020.0,-2019.0,-2018.0,-2017.0,-2016.0,-2015.0,-2014.0,-2013.0,-2012.0,-2011.0,-2010.0,-2009.0,-2008.0,-2007.0,-2006.0,-2005.0,-2004.0,-2003.0,-2002.0,-2001.0,-2000.0,-1999.0,-1998.0,-1997.0,-1996.0,-1995.0,-1994.0,-1993.0,-1992.0,-1991.0,-1990.0,-1989.0,-1988.0,-1987.0,-1986.0,-1985.0,-1984.0,-1983.0,-1982.0,-1981.0,-1980.0,-1979.0,-1978.0,-1977.0,-1976.0,-1975.0,-1974.0,-1973.0,-1972.0,-1971.0,-1970.0,-1969.0,-1968.0,-1967.0,-1966.0,-1965.0,-1964.0,-1963.0,-1962.0,-1961.0,-1960.0,-1959.0,-1958.0,-1957.0,-1956.0,-1955.0,-1954.0,-1953.0,-1952.0,-1951.0,-1950.0,-1949.0,-1947.0,-1946.0,-1943.0],\"xaxis\":\"x\",\"y\":[6.1375,5.945161290322581,6.270833333333333,5.648936170212766,5.865909090909091,5.428571428571429,5.355102040816326,5.462790697674419,5.432258064516129,5.476190476190476,5.3954545454545455,5.686046511627907,5.648387096774194,5.105555555555556,5.683870967741935,5.696296296296297,5.503125,4.98,5.559090909090909,5.053846153846154,5.55,4.9399999999999995,5.183333333333334,5.808333333333334,5.918181818181818,5.6375,5.25,6.35,5.477777777777778,5.927272727272728,4.1,6.3,5.62,6.0600000000000005,6.133333333333333,6.677777777777778,6.57,6.459999999999999,6.754545454545454,6.62,6.8428571428571425,7.033333333333334,6.883333333333333,6.542857142857143,6.925,7.175000000000001,6.714285714285714,6.733333333333333,6.7,6.185714285714285,6.62,6.975,6.171428571428572,6.529999999999999,6.75,7.044444444444444,6.35,6.733333333333333,6.75,6.357142857142857,6.866666666666666,6.7,7.45,7.5,7.0,6.928571428571429,7.1875,6.966666666666666,6.7,7.4,6.65,7.1,6.4,7.4,6.5,6.9],\"yaxis\":\"y\",\"type\":\"scatter\"},{\"hovertemplate\":\"Genre=Drama\\u003cbr\\u003eYear=%{x}\\u003cbr\\u003eRating=%{y}\\u003cextra\\u003e\\u003c\\u002fextra\\u003e\",\"legendgroup\":\"Drama\",\"line\":{\"color\":\"#FECB52\",\"dash\":\"solid\"},\"marker\":{\"symbol\":\"circle\"},\"mode\":\"lines\",\"name\":\"Drama\",\"orientation\":\"v\",\"showlegend\":true,\"x\":[-2021.0,-2020.0,-2019.0,-2018.0,-2017.0,-2016.0,-2015.0,-2014.0,-2013.0,-2012.0,-2011.0,-2010.0,-2009.0,-2008.0,-2007.0,-2006.0,-2005.0,-2004.0,-2003.0,-2002.0,-2001.0,-2000.0,-1999.0,-1998.0,-1997.0,-1996.0,-1995.0,-1994.0,-1993.0,-1992.0,-1991.0,-1990.0,-1989.0,-1988.0,-1987.0,-1986.0,-1985.0,-1984.0,-1983.0,-1982.0,-1981.0,-1980.0,-1979.0,-1978.0,-1977.0,-1976.0,-1975.0,-1974.0,-1973.0,-1972.0,-1971.0,-1970.0,-1969.0,-1968.0,-1967.0,-1966.0,-1965.0,-1964.0,-1963.0,-1962.0,-1961.0,-1960.0,-1959.0,-1958.0,-1957.0,-1956.0,-1955.0,-1954.0,-1953.0,-1952.0,-1951.0,-1950.0,-1949.0,-1948.0,-1947.0,-1946.0,-1945.0,-1944.0,-1943.0,-1942.0,-1941.0,-1940.0,-1939.0,-1938.0,-1937.0,-1936.0,-1935.0,-1934.0,-1933.0,-1931.0],\"xaxis\":\"x\",\"y\":[7.045833333333333,6.890697674418605,6.551351351351352,6.575903614457831,6.2506329113924055,6.188679245283019,6.072727272727272,5.947826086956522,6.032692307692307,6.135483870967741,5.760000000000001,5.393548387096774,5.45,5.447826086956522,5.836111111111111,5.390625,5.596363636363637,5.242857142857143,5.506666666666666,5.2956521739130435,5.4879999999999995,5.872222222222223,5.5125,6.152941176470588,5.873684210526315,5.811111111111111,6.2444444444444445,5.542857142857143,5.35625,5.441666666666666,6.18125,5.550000000000001,6.16,6.319047619047619,5.933333333333334,5.982758620689655,6.361538461538462,6.3999999999999995,6.565217391304348,6.703846153846154,6.621052631578947,6.226086956521739,6.457894736842105,6.825,6.8950000000000005,6.494736842105263,6.513636363636365,6.77741935483871,6.4750000000000005,6.7625,6.75,6.8999999999999995,6.590476190476191,6.635294117647058,6.764705882352941,6.5249999999999995,6.794117647058823,6.89375,6.541666666666667,6.754545454545454,7.009090909090909,7.033333333333334,6.57,6.6000000000000005,7.2125,6.6,6.825,6.371428571428572,7.109999999999999,7.48888888888889,6.5125,6.785714285714286,6.875,6.8,6.866666666666667,7.0200000000000005,6.466666666666666,7.033333333333334,7.316666666666666,6.82,6.475,6.859999999999999,6.4,6.05,6.525,6.3500000000000005,6.633333333333333,8.5,6.2,5.75],\"yaxis\":\"y\",\"type\":\"scatter\"}],                        {\"template\":{\"data\":{\"histogram2dcontour\":[{\"type\":\"histogram2dcontour\",\"colorbar\":{\"outlinewidth\":0,\"ticks\":\"\"},\"colorscale\":[[0.0,\"#0d0887\"],[0.1111111111111111,\"#46039f\"],[0.2222222222222222,\"#7201a8\"],[0.3333333333333333,\"#9c179e\"],[0.4444444444444444,\"#bd3786\"],[0.5555555555555556,\"#d8576b\"],[0.6666666666666666,\"#ed7953\"],[0.7777777777777778,\"#fb9f3a\"],[0.8888888888888888,\"#fdca26\"],[1.0,\"#f0f921\"]]}],\"choropleth\":[{\"type\":\"choropleth\",\"colorbar\":{\"outlinewidth\":0,\"ticks\":\"\"}}],\"histogram2d\":[{\"type\":\"histogram2d\",\"colorbar\":{\"outlinewidth\":0,\"ticks\":\"\"},\"colorscale\":[[0.0,\"#0d0887\"],[0.1111111111111111,\"#46039f\"],[0.2222222222222222,\"#7201a8\"],[0.3333333333333333,\"#9c179e\"],[0.4444444444444444,\"#bd3786\"],[0.5555555555555556,\"#d8576b\"],[0.6666666666666666,\"#ed7953\"],[0.7777777777777778,\"#fb9f3a\"],[0.8888888888888888,\"#fdca26\"],[1.0,\"#f0f921\"]]}],\"heatmap\":[{\"type\":\"heatmap\",\"colorbar\":{\"outlinewidth\":0,\"ticks\":\"\"},\"colorscale\":[[0.0,\"#0d0887\"],[0.1111111111111111,\"#46039f\"],[0.2222222222222222,\"#7201a8\"],[0.3333333333333333,\"#9c179e\"],[0.4444444444444444,\"#bd3786\"],[0.5555555555555556,\"#d8576b\"],[0.6666666666666666,\"#ed7953\"],[0.7777777777777778,\"#fb9f3a\"],[0.8888888888888888,\"#fdca26\"],[1.0,\"#f0f921\"]]}],\"heatmapgl\":[{\"type\":\"heatmapgl\",\"colorbar\":{\"outlinewidth\":0,\"ticks\":\"\"},\"colorscale\":[[0.0,\"#0d0887\"],[0.1111111111111111,\"#46039f\"],[0.2222222222222222,\"#7201a8\"],[0.3333333333333333,\"#9c179e\"],[0.4444444444444444,\"#bd3786\"],[0.5555555555555556,\"#d8576b\"],[0.6666666666666666,\"#ed7953\"],[0.7777777777777778,\"#fb9f3a\"],[0.8888888888888888,\"#fdca26\"],[1.0,\"#f0f921\"]]}],\"contourcarpet\":[{\"type\":\"contourcarpet\",\"colorbar\":{\"outlinewidth\":0,\"ticks\":\"\"}}],\"contour\":[{\"type\":\"contour\",\"colorbar\":{\"outlinewidth\":0,\"ticks\":\"\"},\"colorscale\":[[0.0,\"#0d0887\"],[0.1111111111111111,\"#46039f\"],[0.2222222222222222,\"#7201a8\"],[0.3333333333333333,\"#9c179e\"],[0.4444444444444444,\"#bd3786\"],[0.5555555555555556,\"#d8576b\"],[0.6666666666666666,\"#ed7953\"],[0.7777777777777778,\"#fb9f3a\"],[0.8888888888888888,\"#fdca26\"],[1.0,\"#f0f921\"]]}],\"surface\":[{\"type\":\"surface\",\"colorbar\":{\"outlinewidth\":0,\"ticks\":\"\"},\"colorscale\":[[0.0,\"#0d0887\"],[0.1111111111111111,\"#46039f\"],[0.2222222222222222,\"#7201a8\"],[0.3333333333333333,\"#9c179e\"],[0.4444444444444444,\"#bd3786\"],[0.5555555555555556,\"#d8576b\"],[0.6666666666666666,\"#ed7953\"],[0.7777777777777778,\"#fb9f3a\"],[0.8888888888888888,\"#fdca26\"],[1.0,\"#f0f921\"]]}],\"mesh3d\":[{\"type\":\"mesh3d\",\"colorbar\":{\"outlinewidth\":0,\"ticks\":\"\"}}],\"scatter\":[{\"fillpattern\":{\"fillmode\":\"overlay\",\"size\":10,\"solidity\":0.2},\"type\":\"scatter\"}],\"parcoords\":[{\"type\":\"parcoords\",\"line\":{\"colorbar\":{\"outlinewidth\":0,\"ticks\":\"\"}}}],\"scatterpolargl\":[{\"type\":\"scatterpolargl\",\"marker\":{\"colorbar\":{\"outlinewidth\":0,\"ticks\":\"\"}}}],\"bar\":[{\"error_x\":{\"color\":\"#2a3f5f\"},\"error_y\":{\"color\":\"#2a3f5f\"},\"marker\":{\"line\":{\"color\":\"#E5ECF6\",\"width\":0.5},\"pattern\":{\"fillmode\":\"overlay\",\"size\":10,\"solidity\":0.2}},\"type\":\"bar\"}],\"scattergeo\":[{\"type\":\"scattergeo\",\"marker\":{\"colorbar\":{\"outlinewidth\":0,\"ticks\":\"\"}}}],\"scatterpolar\":[{\"type\":\"scatterpolar\",\"marker\":{\"colorbar\":{\"outlinewidth\":0,\"ticks\":\"\"}}}],\"histogram\":[{\"marker\":{\"pattern\":{\"fillmode\":\"overlay\",\"size\":10,\"solidity\":0.2}},\"type\":\"histogram\"}],\"scattergl\":[{\"type\":\"scattergl\",\"marker\":{\"colorbar\":{\"outlinewidth\":0,\"ticks\":\"\"}}}],\"scatter3d\":[{\"type\":\"scatter3d\",\"line\":{\"colorbar\":{\"outlinewidth\":0,\"ticks\":\"\"}},\"marker\":{\"colorbar\":{\"outlinewidth\":0,\"ticks\":\"\"}}}],\"scattermapbox\":[{\"type\":\"scattermapbox\",\"marker\":{\"colorbar\":{\"outlinewidth\":0,\"ticks\":\"\"}}}],\"scatterternary\":[{\"type\":\"scatterternary\",\"marker\":{\"colorbar\":{\"outlinewidth\":0,\"ticks\":\"\"}}}],\"scattercarpet\":[{\"type\":\"scattercarpet\",\"marker\":{\"colorbar\":{\"outlinewidth\":0,\"ticks\":\"\"}}}],\"carpet\":[{\"aaxis\":{\"endlinecolor\":\"#2a3f5f\",\"gridcolor\":\"white\",\"linecolor\":\"white\",\"minorgridcolor\":\"white\",\"startlinecolor\":\"#2a3f5f\"},\"baxis\":{\"endlinecolor\":\"#2a3f5f\",\"gridcolor\":\"white\",\"linecolor\":\"white\",\"minorgridcolor\":\"white\",\"startlinecolor\":\"#2a3f5f\"},\"type\":\"carpet\"}],\"table\":[{\"cells\":{\"fill\":{\"color\":\"#EBF0F8\"},\"line\":{\"color\":\"white\"}},\"header\":{\"fill\":{\"color\":\"#C8D4E3\"},\"line\":{\"color\":\"white\"}},\"type\":\"table\"}],\"barpolar\":[{\"marker\":{\"line\":{\"color\":\"#E5ECF6\",\"width\":0.5},\"pattern\":{\"fillmode\":\"overlay\",\"size\":10,\"solidity\":0.2}},\"type\":\"barpolar\"}],\"pie\":[{\"automargin\":true,\"type\":\"pie\"}]},\"layout\":{\"autotypenumbers\":\"strict\",\"colorway\":[\"#636efa\",\"#EF553B\",\"#00cc96\",\"#ab63fa\",\"#FFA15A\",\"#19d3f3\",\"#FF6692\",\"#B6E880\",\"#FF97FF\",\"#FECB52\"],\"font\":{\"color\":\"#2a3f5f\"},\"hovermode\":\"closest\",\"hoverlabel\":{\"align\":\"left\"},\"paper_bgcolor\":\"white\",\"plot_bgcolor\":\"#E5ECF6\",\"polar\":{\"bgcolor\":\"#E5ECF6\",\"angularaxis\":{\"gridcolor\":\"white\",\"linecolor\":\"white\",\"ticks\":\"\"},\"radialaxis\":{\"gridcolor\":\"white\",\"linecolor\":\"white\",\"ticks\":\"\"}},\"ternary\":{\"bgcolor\":\"#E5ECF6\",\"aaxis\":{\"gridcolor\":\"white\",\"linecolor\":\"white\",\"ticks\":\"\"},\"baxis\":{\"gridcolor\":\"white\",\"linecolor\":\"white\",\"ticks\":\"\"},\"caxis\":{\"gridcolor\":\"white\",\"linecolor\":\"white\",\"ticks\":\"\"}},\"coloraxis\":{\"colorbar\":{\"outlinewidth\":0,\"ticks\":\"\"}},\"colorscale\":{\"sequential\":[[0.0,\"#0d0887\"],[0.1111111111111111,\"#46039f\"],[0.2222222222222222,\"#7201a8\"],[0.3333333333333333,\"#9c179e\"],[0.4444444444444444,\"#bd3786\"],[0.5555555555555556,\"#d8576b\"],[0.6666666666666666,\"#ed7953\"],[0.7777777777777778,\"#fb9f3a\"],[0.8888888888888888,\"#fdca26\"],[1.0,\"#f0f921\"]],\"sequentialminus\":[[0.0,\"#0d0887\"],[0.1111111111111111,\"#46039f\"],[0.2222222222222222,\"#7201a8\"],[0.3333333333333333,\"#9c179e\"],[0.4444444444444444,\"#bd3786\"],[0.5555555555555556,\"#d8576b\"],[0.6666666666666666,\"#ed7953\"],[0.7777777777777778,\"#fb9f3a\"],[0.8888888888888888,\"#fdca26\"],[1.0,\"#f0f921\"]],\"diverging\":[[0,\"#8e0152\"],[0.1,\"#c51b7d\"],[0.2,\"#de77ae\"],[0.3,\"#f1b6da\"],[0.4,\"#fde0ef\"],[0.5,\"#f7f7f7\"],[0.6,\"#e6f5d0\"],[0.7,\"#b8e186\"],[0.8,\"#7fbc41\"],[0.9,\"#4d9221\"],[1,\"#276419\"]]},\"xaxis\":{\"gridcolor\":\"white\",\"linecolor\":\"white\",\"ticks\":\"\",\"title\":{\"standoff\":15},\"zerolinecolor\":\"white\",\"automargin\":true,\"zerolinewidth\":2},\"yaxis\":{\"gridcolor\":\"white\",\"linecolor\":\"white\",\"ticks\":\"\",\"title\":{\"standoff\":15},\"zerolinecolor\":\"white\",\"automargin\":true,\"zerolinewidth\":2},\"scene\":{\"xaxis\":{\"backgroundcolor\":\"#E5ECF6\",\"gridcolor\":\"white\",\"linecolor\":\"white\",\"showbackground\":true,\"ticks\":\"\",\"zerolinecolor\":\"white\",\"gridwidth\":2},\"yaxis\":{\"backgroundcolor\":\"#E5ECF6\",\"gridcolor\":\"white\",\"linecolor\":\"white\",\"showbackground\":true,\"ticks\":\"\",\"zerolinecolor\":\"white\",\"gridwidth\":2},\"zaxis\":{\"backgroundcolor\":\"#E5ECF6\",\"gridcolor\":\"white\",\"linecolor\":\"white\",\"showbackground\":true,\"ticks\":\"\",\"zerolinecolor\":\"white\",\"gridwidth\":2}},\"shapedefaults\":{\"line\":{\"color\":\"#2a3f5f\"}},\"annotationdefaults\":{\"arrowcolor\":\"#2a3f5f\",\"arrowhead\":0,\"arrowwidth\":1},\"geo\":{\"bgcolor\":\"white\",\"landcolor\":\"#E5ECF6\",\"subunitcolor\":\"white\",\"showland\":true,\"showlakes\":true,\"lakecolor\":\"white\"},\"title\":{\"x\":0.05},\"mapbox\":{\"style\":\"light\"}}},\"xaxis\":{\"anchor\":\"y\",\"domain\":[0.0,1.0],\"title\":{\"text\":\"Average rating\"}},\"yaxis\":{\"anchor\":\"x\",\"domain\":[0.0,1.0],\"title\":{\"text\":\"Rating\"}},\"legend\":{\"title\":{\"text\":\"Genre\"},\"tracegroupgap\":0},\"margin\":{\"t\":60},\"title\":{\"text\":\"Averagee rating by top genres by year\"}},                        {\"responsive\": true}                    ).then(function(){\n",
              "                            \n",
              "var gd = document.getElementById('8dc297b5-4a63-4c64-a5d8-2e3afcb7504c');\n",
              "var x = new MutationObserver(function (mutations, observer) {{\n",
              "        var display = window.getComputedStyle(gd).display;\n",
              "        if (!display || display === 'none') {{\n",
              "            console.log([gd, 'removed!']);\n",
              "            Plotly.purge(gd);\n",
              "            observer.disconnect();\n",
              "        }}\n",
              "}});\n",
              "\n",
              "// Listen for the removal of the full notebook cells\n",
              "var notebookContainer = gd.closest('#notebook-container');\n",
              "if (notebookContainer) {{\n",
              "    x.observe(notebookContainer, {childList: true});\n",
              "}}\n",
              "\n",
              "// Listen for the clearing of the current output cell\n",
              "var outputEl = gd.closest('.output');\n",
              "if (outputEl) {{\n",
              "    x.observe(outputEl, {childList: true});\n",
              "}}\n",
              "\n",
              "                        })                };                            </script>        </div>\n",
              "</body>\n",
              "</html>"
            ]
          },
          "metadata": {}
        }
      ]
    },
    {
      "cell_type": "code",
      "source": [
        "rating_fig = px.histogram(df_movie, x='Rating', histnorm='probability density',nbins = 30)\n",
        "rating_fig.update_layout(title='distribution of rating',title_x=0.5,title_pad=dict(t=20),title_font=dict(size=20),xaxis_title='Rating',yaxis_title='Probability density')\n",
        "rating_fig.show()\n"
      ],
      "metadata": {
        "colab": {
          "base_uri": "https://localhost:8080/",
          "height": 542
        },
        "id": "fal1Tw04Nsbi",
        "outputId": "197bd608-ea9e-41c0-af6d-18d881b4b224"
      },
      "execution_count": null,
      "outputs": [
        {
          "output_type": "display_data",
          "data": {
            "text/html": [
              "<html>\n",
              "<head><meta charset=\"utf-8\" /></head>\n",
              "<body>\n",
              "    <div>            <script src=\"https://cdnjs.cloudflare.com/ajax/libs/mathjax/2.7.5/MathJax.js?config=TeX-AMS-MML_SVG\"></script><script type=\"text/javascript\">if (window.MathJax && window.MathJax.Hub && window.MathJax.Hub.Config) {window.MathJax.Hub.Config({SVG: {font: \"STIX-Web\"}});}</script>                <script type=\"text/javascript\">window.PlotlyConfig = {MathJaxConfig: 'local'};</script>\n",
              "        <script charset=\"utf-8\" src=\"https://cdn.plot.ly/plotly-2.24.1.min.js\"></script>                <div id=\"b156a4c3-9232-4dd0-b6fb-9729baf9a932\" class=\"plotly-graph-div\" style=\"height:525px; width:100%;\"></div>            <script type=\"text/javascript\">                                    window.PLOTLYENV=window.PLOTLYENV || {};                                    if (document.getElementById(\"b156a4c3-9232-4dd0-b6fb-9729baf9a932\")) {                    Plotly.newPlot(                        \"b156a4c3-9232-4dd0-b6fb-9729baf9a932\",                        [{\"alignmentgroup\":\"True\",\"bingroup\":\"x\",\"histnorm\":\"probability density\",\"hovertemplate\":\"Rating=%{x}\\u003cbr\\u003eprobability density=%{y}\\u003cextra\\u003e\\u003c\\u002fextra\\u003e\",\"legendgroup\":\"\",\"marker\":{\"color\":\"#636efa\",\"pattern\":{\"shape\":\"\"}},\"name\":\"\",\"nbinsx\":30,\"offsetgroup\":\"\",\"orientation\":\"v\",\"showlegend\":false,\"x\":[7.0,4.4,4.4,4.7,4.7,4.7,7.4,7.4,7.4,5.6,5.6,5.6,4.0,4.0,4.0,6.2,5.9,6.5,6.5,6.5,5.7,5.7,5.7,7.4,7.4,6.3,6.3,6.3,7.2,7.2,7.2,4.4,4.4,6.6,6.6,7.3,7.3,7.3,7.1,5.6,6.9,6.9,3.5,4.5,6.4,6.4,6.4,4.1,4.1,4.8,4.8,4.8,4.5,4.5,4.5,7.2,7.2,7.2,8.1,8.1,8.1,4.0,5.5,6.8,6.8,6.8,5.0,5.0,5.0,6.9,6.9,6.9,6.2,6.2,3.5,3.5,3.5,6.1,6.1,7.7,7.7,6.1,5.1,5.1,5.1,6.9,5.0,5.0,3.3,3.3,7.8,7.8,6.9,8.4,8.4,6.9,4.3,4.3,5.8,5.8,5.8,5.7,5.7,5.7,7.5,7.5,5.7,5.7,5.6,5.6,3.6,3.6,3.6,6.3,7.3,7.3,7.3,4.8,7.8,7.8,7.8,5.7,6.5,6.5,4.6,4.6,4.6,4.2,6.2,5.3,5.3,5.0,5.7,5.7,6.2,6.1,6.1,6.1,4.1,4.1,4.1,5.3,5.3,5.3,5.3,5.4,5.4,5.4,6.6,6.6,6.6,4.7,4.7,5.3,7.3,7.3,7.3,7.4,7.4,4.8,4.8,8.1,6.3,7.5,7.5,6.8,6.8,4.5,4.5,4.5,3.0,3.0,3.0,6.3,6.3,6.2,6.2,8.0,8.0,7.3,6.0,3.1,3.8,3.8,7.9,8.1,8.1,8.1,5.5,5.5,5.5,8.0,5.0,5.0,5.0,7.2,7.2,7.2,4.4,4.4,2.7,6.8,2.4,5.5,5.5,5.5,7.4,5.5,5.5,5.5,5.1,7.6,6.4,5.4,5.4,5.4,6.7,6.7,6.8,6.8,6.5,6.5,6.5,6.7,6.2,6.2,6.2,5.0,5.0,7.6,5.4,5.4,4.2,5.3,5.3,7.4,7.4,4.6,4.6,4.6,4.1,5.3,4.8,4.8,4.8,3.4,3.4,5.0,3.1,5.0,5.0,5.0,4.2,4.2,4.2,7.2,7.2,7.2,6.0,6.0,6.0,6.0,6.8,5.5,5.6,5.6,3.1,4.7,4.7,4.7,5.1,5.1,5.3,5.3,3.5,3.5,4.3,4.3,3.1,3.1,5.8,5.8,5.0,5.0,3.3,5.6,5.6,5.6,4.4,6.2,6.2,6.2,6.7,6.7,7.1,7.1,7.1,5.2,5.2,4.1,4.1,4.1,5.0,5.0,5.0,4.9,4.9,4.9,6.3,6.3,6.9,7.3,7.3,2.8,6.3,6.3,6.3,7.9,7.9,7.9,7.0,7.0,7.0,5.4,7.2,7.2,3.0,7.7,7.7,4.8,4.8,4.8,7.7,7.7,7.7,6.5,6.5,6.5,6.4,6.4,6.4,6.4,6.4,6.4,6.4,5.7,5.7,5.7,5.6,6.4,6.4,6.4,8.1,8.1,6.1,7.4,4.8,6.6,6.7,6.7,6.7,7.4,7.4,7.4,6.4,6.4,6.5,6.5,6.5,4.2,5.1,5.1,5.1,6.6,6.6,6.6,5.7,5.7,7.0,7.0,6.3,6.3,6.3,3.6,3.6,6.3,6.3,6.3,3.1,3.1,3.1,5.6,5.6,5.6,5.2,5.2,4.5,4.5,4.5,6.1,6.1,6.2,6.2,6.7,6.6,6.6,6.6,6.6,6.6,6.6,4.6,4.6,4.6,5.4,5.4,6.5,6.5,5.3,5.3,5.3,7.1,6.7,3.8,3.8,3.8,4.3,4.3,4.3,5.5,6.3,6.3,6.3,7.0,7.0,7.0,3.7,3.7,7.3,6.1,5.2,5.2,5.2,3.8,4.8,4.8,5.5,6.8,6.8,6.8,4.5,7.2,7.2,6.4,3.9,3.9,5.2,5.2,5.2,4.4,4.4,4.4,4.5,5.8,5.8,5.8,4.2,4.2,4.2,3.8,3.8,3.8,6.4,6.4,7.0,7.0,5.1,6.1,6.1,6.1,5.4,6.6,6.6,4.4,4.4,4.4,5.0,5.0,5.0,6.6,7.6,4.0,4.8,4.8,7.8,7.8,7.8,5.8,5.8,5.8,4.0,4.0,4.6,4.6,4.6,3.2,3.2,6.3,6.3,6.4,6.4,6.4,4.8,4.8,4.8,7.0,5.4,5.4,5.4,6.8,6.8,7.9,7.9,7.0,7.0,7.0,4.6,4.6,4.6,6.7,6.7,5.8,4.0,4.0,4.0,6.8,6.8,4.0,4.0,4.0,6.5,6.5,6.5,5.0,5.0,5.0,4.5,4.5,4.5,3.3,3.3,3.3,4.2,4.2,4.2,3.6,3.6,3.6,6.9,6.9,6.9,6.4,6.4,6.4,6.6,6.6,6.6,6.7,6.7,6.7,5.4,5.4,4.7,6.8,6.8,6.8,7.3,7.3,5.0,6.9,6.9,6.9,3.3,3.3,3.3,5.5,6.6,4.7,6.2,6.2,6.2,4.6,4.6,4.6,5.8,5.8,5.8,4.6,4.6,4.6,4.5,4.5,4.5,6.6,6.6,6.5,6.5,7.8,7.8,3.6,3.6,5.9,5.9,7.1,7.1,6.3,6.3,6.4,6.4,6.6,6.6,6.6,5.7,5.7,5.7,5.2,5.2,5.2,7.1,7.1,5.1,5.1,5.1,3.1,5.6,5.6,5.6,7.7,7.7,7.7,6.9,6.9,6.9,7.8,6.0,6.0,6.1,6.1,6.1,3.6,4.6,4.6,4.6,4.6,6.2,6.2,6.2,2.9,2.9,2.9,7.2,7.2,5.9,4.1,4.1,7.0,7.0,7.0,7.0,5.7,5.7,8.0,8.0,6.6,5.0,5.0,5.0,6.6,6.6,4.1,4.1,4.1,6.9,6.9,6.6,6.6,6.6,5.3,5.3,5.3,4.4,4.4,4.2,4.2,6.4,6.4,6.4,5.8,6.5,6.5,3.7,3.7,3.7,6.7,6.7,6.9,6.4,6.4,6.4,5.3,5.3,5.3,5.0,5.0,6.9,6.9,6.9,6.3,6.3,6.6,5.0,5.0,5.0,7.7,7.7,7.7,5.5,7.0,5.6,5.1,5.1,5.3,5.3,5.8,5.8,5.8,4.8,4.8,4.8,3.6,3.6,3.6,6.7,6.7,5.9,5.9,4.6,4.6,4.6,6.4,6.4,6.4,3.8,3.8,3.8,6.9,6.8,6.6,6.6,6.6,3.7,3.7,3.7,7.0,7.0,7.0,7.5,7.5,7.5,5.5,5.9,6.4,6.4,6.4,6.2,6.2,6.2,6.7,6.7,6.5,6.3,7.8,7.8,3.8,3.8,3.8,7.9,4.8,4.8,6.2,6.2,6.2,6.1,6.1,6.1,4.3,5.4,5.4,3.7,4.0,4.0,4.0,4.7,4.7,6.5,6.5,6.5,6.6,7.0,7.0,6.8,6.8,6.8,6.6,6.6,6.1,8.2,8.2,8.2,4.4,6.5,4.9,4.9,4.9,7.5,7.5,7.5,2.8,2.8,4.2,6.9,6.9,6.9,4.4,6.6,6.6,6.6,6.6,6.6,4.9,5.4,5.4,6.2,5.6,5.6,5.6,8.1,8.1,6.6,6.6,7.0,7.0,7.3,6.9,6.9,6.9,8.7,8.7,5.9,7.1,7.1,7.1,8.3,8.3,7.6,7.6,7.6,7.1,7.1,7.9,7.9,7.9,4.8,4.8,4.8,6.2,6.2,5.0,7.2,7.2,7.2,5.4,5.4,5.3,5.3,5.3,7.2,7.2,7.2,6.7,6.7,4.4,4.4,4.4,8.1,8.1,8.1,6.8,6.8,6.8,6.8,6.8,6.1,6.1,8.2,8.2,8.2,5.1,5.1,5.1,6.8,6.8,5.5,5.5,5.0,5.0,5.0,6.4,6.4,6.4,4.3,4.3,5.3,5.3,5.3,6.3,6.3,8.3,6.1,4.4,4.4,7.3,7.3,7.0,7.0,6.1,6.1,6.1,7.2,7.2,7.2,7.1,7.1,7.1,6.4,6.4,6.4,5.3,6.9,6.9,5.6,5.8,5.8,5.8,3.9,5.8,5.8,5.8,3.4,3.4,3.4,4.8,4.8,4.8,7.1,4.1,4.1,4.1,7.2,7.2,7.2,8.0,8.0,5.5,6.5,6.5,8.0,7.5,7.5,5.6,5.6,5.6,7.3,7.3,7.3,7.0,7.9,7.9,4.9,7.1,7.7,7.7,4.9,4.9,4.9,6.3,7.4,6.3,6.9,6.9,6.6,6.4,6.4,6.4,4.5,4.5,7.3,7.3,7.3,6.6,6.6,6.6,6.3,6.3,6.3,7.2,7.2,7.3,7.3,5.5,7.1,4.4,5.2,5.2,6.7,3.4,7.4,7.4,6.6,6.6,6.6,6.7,6.7,6.8,6.8,6.6,6.6,6.6,5.4,5.4,5.4,5.7,7.4,7.4,7.4,3.5,3.5,3.5,6.2,6.2,6.8,5.3,5.3,5.3,6.5,6.5,6.0,6.0,5.6,5.6,6.2,6.2,6.2,6.8,6.8,6.8,6.1,6.1,6.8,6.8,6.8,7.3,7.5,6.1,6.1,6.1,7.6,7.6,7.6,6.5,8.2,8.2,7.2,7.2,7.2,3.6,3.6,3.6,5.2,5.2,5.2,4.3,4.3,6.8,6.8,6.8,6.8,6.8,5.2,5.2,5.2,4.3,4.3,5.3,5.3,5.3,6.3,6.3,6.2,6.2,7.9,7.9,8.2,8.2,8.2,6.9,7.0,7.0,4.4,4.4,4.4,7.0,7.0,7.1,7.1,7.1,3.4,3.4,3.4,6.7,6.7,4.9,4.9,6.3,6.3,6.3,5.2,5.2,7.6,7.6,3.7,4.8,9.3,6.5,6.5,6.5,4.3,7.5,7.5,7.5,7.3,7.3,5.4,5.4,8.8,4.3,5.4,5.4,5.4,5.6,2.9,2.9,6.0,6.0,5.9,6.4,8.2,8.2,6.9,6.9,6.9,5.3,5.3,3.8,4.3,4.3,4.3,6.0,6.0,6.0,4.2,6.5,6.5,6.5,7.2,7.4,7.4,4.2,4.8,5.9,5.9,6.4,4.5,4.5,4.5,6.5,5.7,5.7,5.7,6.0,6.0,6.0,6.0,6.0,7.2,7.9,7.9,7.9,5.9,6.2,6.2,6.2,5.1,5.1,5.1,6.2,6.2,6.2,7.3,7.3,7.3,8.7,3.6,7.0,7.0,6.2,6.2,5.1,6.4,6.4,6.2,5.5,5.5,5.5,7.6,7.2,7.2,7.2,7.2,7.2,7.2,5.0,5.0,7.1,5.7,5.7,5.7,8.8,6.4,6.4,6.4,2.1,8.3,8.3,6.4,6.4,6.4,5.1,5.1,5.1,5.4,5.4,5.4,6.9,6.9,6.9,4.9,4.9,4.9,4.2,4.2,4.2,5.2,5.2,5.2,4.8,4.8,2.1,2.1,2.1,5.7,5.7,5.7,6.1,7.3,7.0,6.2,6.0,6.0,6.0,6.4,6.4,6.4,5.3,5.3,5.3,6.2,6.2,7.2,7.2,7.2,6.1,3.2,3.2,3.2,6.4,5.1,5.1,6.8,6.8,6.8,7.3,7.3,7.3,3.2,3.2,6.6,6.6,6.6,7.3,7.3,7.3,6.4,6.4,6.4,6.3,6.5,6.5,6.5,7.7,7.7,7.7,7.5,7.5,7.5,6.7,6.7,6.7,7.1,7.1,7.3,4.8,5.9,5.9,6.9,6.9,6.9,8.0,8.0,2.7,2.7,2.7,2.7,2.7,2.7,6.1,6.1,6.1,6.3,6.3,6.3,8.2,6.2,6.2,3.3,3.5,3.5,3.5,5.0,5.0,5.0,6.7,6.7,7.0,7.0,7.0,4.9,4.9,4.9,6.7,6.7,6.3,6.3,6.3,3.6,3.6,3.6,6.0,5.8,5.8,5.8,8.0,8.0,4.5,4.5,4.5,6.9,5.4,5.4,4.4,4.4,4.4,5.4,5.4,6.7,6.2,7.8,7.8,7.8,7.6,7.6,7.4,7.4,7.4,4.7,4.8,4.8,6.0,6.0,6.0,2.5,4.3,4.3,4.6,4.6,7.1,6.6,6.1,6.1,6.1,5.9,7.7,6.4,6.4,7.2,7.4,7.4,5.5,4.7,5.7,7.1,7.1,7.6,7.6,7.1,8.8,6.0,6.5,6.5,6.5,6.5,6.5,6.3,6.8,6.7,6.7,6.7,7.3,7.3,7.3,7.4,7.4,7.4,9.3,5.3,5.3,5.3,7.2,7.2,7.2,7.7,8.0,8.0,8.0,2.7,2.7,4.2,2.3,7.3,5.6,5.6,6.8,6.9,6.9,6.9,8.1,7.5,5.6,4.3,4.3,3.6,6.0,6.0,6.0,7.2,6.1,6.1,3.2,4.2,6.7,6.7,6.1,7.2,7.2,7.2,5.1,5.1,5.1,4.8,4.8,4.8,7.2,7.2,7.2,7.1,7.1,5.8,5.8,7.9,6.2,6.2,7.7,7.7,7.7,7.1,7.1,7.1,6.1,6.1,6.1,7.6,7.6,7.6,5.9,5.9,5.6,5.6,5.6,4.5,4.5,5.1,5.1,4.9,4.9,4.9,5.9,5.9,5.9,3.7,6.0,6.2,6.2,6.8,6.8,6.8,5.6,5.6,5.9,5.9,5.9,5.6,5.6,5.6,8.1,8.1,8.1,4.9,5.1,5.1,6.0,6.0,6.0,4.7,4.7,4.7,7.3,7.3,7.7,7.7,7.7,5.4,5.4,6.3,6.3,6.9,6.9,6.9,3.7,5.9,5.9,5.9,3.7,3.7,3.7,6.8,6.8,6.5,6.5,6.5,7.1,7.1,7.1,6.8,6.8,7.2,7.2,7.2,7.5,7.5,2.8,6.0,6.3,6.3,7.0,8.0,8.0,8.0,6.9,6.9,6.8,6.8,7.3,7.3,4.8,3.1,3.1,3.1,4.8,4.8,4.8,3.9,3.9,5.6,7.1,7.1,7.1,5.1,5.1,3.9,3.9,3.9,5.6,5.6,5.6,5.6,5.9,2.8,2.8,2.8,6.9,6.9,3.7,3.7,4.6,4.6,4.6,7.0,7.0,6.8,6.8,6.8,4.4,4.4,4.4,7.3,7.3,5.3,5.3,6.1,6.1,6.2,6.2,6.8,6.8,6.8,6.3,6.3,6.3,5.4,5.4,3.6,3.6,3.6,6.3,6.3,6.6,6.6,4.4,4.4,4.8,4.8,5.8,6.8,6.8,6.8,7.6,7.6,5.1,5.1,4.4,4.4,5.6,5.6,4.9,6.3,5.5,5.5,5.5,5.2,6.7,6.7,6.7,6.1,6.1,6.1,7.0,7.0,7.3,7.3,4.0,4.0,5.2,5.2,5.2,8.2,8.2,8.2,3.6,4.1,4.1,4.1,6.7,5.4,5.4,8.3,8.3,2.5,6.0,6.0,6.0,6.5,6.5,6.5,4.6,5.6,5.6,6.1,6.1,6.1,4.3,4.3,8.7,6.0,6.0,6.0,4.4,5.1,5.1,4.9,4.9,3.8,5.7,5.7,5.7,3.2,3.2,6.0,6.0,5.8,4.6,7.8,7.8,7.8,5.3,5.3,5.3,7.1,7.1,7.1,7.5,7.5,7.5,4.6,4.6,4.6,4.6,6.2,5.5,5.1,6.0,6.0,6.0,6.2,6.2,6.8,4.9,4.9,4.9,5.7,5.7,5.7,6.6,6.6,6.6,6.8,5.8,5.8,5.8,7.6,7.6,7.6,4.3,4.3,4.3,6.6,6.6,4.3,3.4,4.9,6.4,6.2,6.2,6.2,7.6,7.6,4.7,4.7,6.2,6.1,6.1,6.1,5.9,4.9,4.9,4.9,7.0,4.8,5.0,7.1,7.1,7.3,7.3,7.3,5.3,5.3,5.3,6.5,6.5,6.5,5.8,5.8,5.8,6.5,6.5,6.5,4.0,2.5,2.5,2.5,5.4,5.4,5.4,6.6,6.6,6.6,6.3,6.3,6.3,6.5,7.1,7.2,8.0,8.0,8.0,7.8,6.7,4.6,4.6,4.6,5.6,5.6,5.6,7.4,7.5,7.5,5.0,5.0,5.0,6.5,6.5,6.5,7.0,3.8,3.8,3.8,6.4,4.4,7.5,7.5,7.5,4.5,4.5,4.5,6.2,6.2,6.9,5.7,5.7,5.7,3.8,3.8,3.8,6.0,4.5,5.1,5.1,3.9,7.6,5.9,6.2,5.5,5.5,5.5,7.1,4.1,6.9,5.8,5.8,5.7,5.7,5.7,7.0,7.0,8.2,6.2,6.2,6.2,6.7,6.7,6.7,8.5,8.5,8.5,7.4,7.4,6.6,6.6,6.6,8.6,5.4,5.4,6.7,6.7,6.7,4.1,4.1,4.1,7.1,7.1,6.2,6.2,5.0,5.0,5.0,3.7,3.7,3.7,5.7,5.7,5.7,6.5,7.7,7.7,7.7,6.5,6.6,6.6,6.6,7.1,7.1,7.1,5.5,5.5,5.5,4.8,4.7,4.7,4.7,6.3,6.3,5.5,5.5,6.1,6.1,6.1,7.9,6.0,4.8,6.1,5.2,5.2,5.2,6.4,6.4,7.0,7.0,7.0,4.5,4.5,4.5,6.9,6.9,6.5,6.5,6.5,6.0,6.0,6.0,6.7,4.6,4.6,4.6,6.8,6.8,6.8,5.6,5.6,5.6,5.1,5.1,2.3,2.3,4.2,4.2,4.2,8.0,8.0,8.0,7.9,7.9,7.9,2.9,5.1,5.1,5.1,6.4,7.5,7.6,7.6,6.9,6.9,6.9,6.9,5.2,5.2,5.2,5.7,5.7,5.7,6.3,6.3,6.3,6.2,6.2,6.2,3.9,3.9,3.9,6.5,6.5,6.5,7.6,7.3,7.2,7.2,7.2,6.7,6.7,2.6,7.0,7.0,7.0,7.6,7.6,7.6,7.4,7.4,7.4,5.4,5.4,6.6,6.6,6.6,6.8,7.8,6.9,6.9,6.9,3.6,3.6,5.0,5.0,5.0,6.0,6.1,6.1,6.1,4.8,6.8,6.8,6.2,6.2,6.2,6.1,6.1,5.4,5.4,5.4,5.4,5.4,5.4,4.1,4.1,4.1,7.3,7.3,7.3,5.8,5.8,5.8,3.4,3.4,3.4,4.5,5.7,5.7,5.7,4.2,6.8,6.8,6.8,5.6,4.2,4.2,4.2,6.5,6.5,7.0,7.0,7.7,7.7,7.7,7.0,6.8,6.8,6.8,7.2,7.2,5.7,5.7,5.7,3.4,3.4,3.4,4.1,4.1,4.1,7.9,7.8,3.5,5.5,5.5,3.9,3.9,3.9,6.8,6.8,6.8,5.8,6.1,6.1,4.0,4.0,4.0,7.7,4.1,4.1,4.5,8.6,5.9,5.9,5.8,5.8,5.8,7.4,7.4,7.4,7.9,7.9,4.7,5.6,5.6,5.6,8.2,8.2,8.2,5.6,5.6,5.6,6.8,4.2,6.8,6.8,6.8,6.4,6.4,6.4,3.8,4.6,4.6,4.6,4.9,4.7,4.7,6.1,6.1,7.0,7.0,7.0,6.1,6.1,8.6,6.5,5.9,6.8,6.8,4.4,4.4,4.4,6.0,6.0,6.6,6.6,5.7,5.7,8.0,8.0,8.0,7.0,7.0,6.6,6.6,6.6,7.0,7.5,7.5,7.5,4.0,4.0,4.0,4.3,4.3,4.3,5.5,5.5,5.5,4.7,4.7,4.7,6.8,6.4,6.4,6.4,6.8,6.8,6.7,5.0,5.0,5.0,4.7,4.8,4.6,6.7,6.8,6.8,6.8,7.6,7.6,6.9,4.0,4.0,4.0,4.3,4.3,4.3,4.1,8.3,6.9,7.1,7.1,7.1,8.1,6.7,6.7,5.6,5.6,5.6,8.0,6.5,6.5,6.5,5.3,5.3,5.3,7.1,7.1,4.5,4.9,4.9,4.9,5.4,5.4,8.0,8.0,8.0,5.9,1.7,1.7,1.7,6.8,3.9,3.9,3.9,6.5,6.4,6.8,6.8,6.8,5.7,5.7,5.7,5.8,3.8,6.1,6.1,6.1,7.5,7.7,7.7,6.0,6.0,6.0,6.2,3.1,7.6,7.6,7.6,6.8,6.8,6.8,6.8,6.8,7.4,7.4,5.1,5.1,6.3,8.3,8.3,7.1,7.1,8.3,8.3,4.6,4.6,5.7,5.7,5.7,6.2,5.5,6.5,6.5,6.5,5.2,5.2,5.2,5.7,5.7,5.7,3.7,5.5,5.5,5.5,4.7,4.7,4.7,6.6,6.1,6.1,8.3,8.3,6.7,6.7,4.6,4.6,4.6,8.4,8.4,8.4,5.3,5.6,5.6,5.6,6.4,6.4,6.4,7.2,6.7,6.7,6.7,7.5,7.5,7.5,6.6,6.6,6.6,7.1,7.1,7.1,6.8,4.6,4.0,4.0,4.0,6.0,6.0,7.8,7.8,6.8,6.5,7.5,7.5,3.9,3.9,3.9,7.3,7.3,7.3,4.8,4.8,4.8,5.8,7.4,6.5,6.5,6.9,6.9,6.9,4.7,6.1,6.1,6.5,6.5,6.5,4.2,4.2,4.2,6.5,6.5,6.5,4.5,4.5,5.8,5.8,5.8,7.7,7.7,7.7,4.8,4.8,4.8,5.0,5.0,5.4,5.4,5.4,7.0,7.0,7.0,5.3,5.3,7.1,7.4,7.4,3.1,6.1,6.8,6.8,5.3,4.9,2.4,2.4,6.8,6.8,6.8,8.3,8.3,8.3,5.4,5.4,5.4,3.7,3.7,3.7,6.7,7.4,7.4,6.8,6.8,5.8,5.8,5.8,2.3,2.3,2.3,3.5,3.5,3.5,7.3,6.9,6.9,6.9,6.3,6.3,6.3,5.9,7.0,7.0,7.0,5.6,7.7,7.7,4.2,4.2,4.2,6.2,6.2,6.2,5.3,5.3,5.3,5.7,5.7,5.7,7.9,7.9,7.9,7.1,7.1,7.1,6.5,9.0,9.0,4.0,4.0,4.0,6.2,5.4,5.4,6.6,6.6,6.6,6.6,6.6,6.6,6.7,6.7,6.7,2.9,2.9,2.9,6.5,4.8,4.8,4.8,7.7,6.8,5.3,5.6,5.6,5.6,6.2,6.2,3.1,3.1,3.1,5.7,5.7,5.7,5.1,5.1,5.1,7.3,7.3,7.3,6.9,6.1,6.1,8.3,8.3,6.8,6.8,6.8,4.4,4.4,4.4,4.6,4.6,4.6,6.2,6.2,6.2,6.5,7.0,7.0,7.0,7.0,7.0,4.8,4.8,4.8,6.0,6.0,3.9,3.1,3.1,5.1,5.1,4.5,4.5,4.5,7.1,6.1,6.1,6.1,6.3,6.3,6.3,6.2,6.2,6.2,4.8,4.8,4.8,3.0,3.0,3.0,6.5,6.5,5.0,5.0,5.0,4.8,7.2,7.2,6.4,6.4,6.4,3.8,3.8,7.7,4.9,4.9,6.2,6.2,6.2,7.4,6.3,5.5,5.5,5.5,5.3,5.3,4.7,4.7,3.9,3.9,3.9,3.8,5.0,5.0,5.0,4.9,4.9,3.3,3.3,3.3,7.0,4.0,4.0,4.0,7.8,7.8,6.7,6.1,6.1,6.1,6.6,6.6,2.6,2.6,2.6,3.9,3.9,3.9,3.7,8.4,8.4,8.4,3.9,3.9,3.9,5.7,5.7,7.0,8.3,5.4,5.4,5.4,7.5,6.1,6.1,7.0,5.2,5.1,6.5,5.6,3.8,3.8,3.8,7.2,6.3,5.4,7.7,7.7,7.7,7.1,7.1,7.8,7.8,7.8,4.9,4.9,6.0,4.3,5.3,5.3,5.3,6.4,6.4,3.8,3.8,6.9,6.9,6.9,4.7,4.7,7.1,6.8,6.8,6.8,7.8,7.8,7.4,5.9,5.9,5.9,6.1,6.1,6.1,5.7,5.7,5.7,6.2,6.2,6.2,7.2,6.5,6.5,6.5,8.1,7.3,7.2,7.2,5.5,5.5,5.5,6.6,6.6,6.6,4.1,4.1,4.1,6.4,6.4,6.3,6.3,6.3,6.3,5.8,5.8,7.8,6.6,6.6,7.5,7.5,7.5,7.1,7.1,7.1,4.3,4.3,7.6,7.6,4.6,4.6,6.5,6.5,6.5,8.1,8.1,8.1,6.9,6.9,6.9,2.4,2.4,2.4,6.7,6.7,5.7,5.7,5.7,5.0,5.0,4.7,4.7,5.3,5.3,5.3,6.6,6.6,6.6,6.4,4.5,4.5,4.5,7.4,7.4,6.1,5.6,5.6,5.9,7.6,7.6,7.6,6.2,6.2,5.6,5.6,5.6,6.1,5.9,3.1,3.1,3.1,6.2,6.2,6.2,4.9,5.5,1.4,1.4,6.0,6.0,6.0,3.6,3.6,3.6,5.7,5.7,4.0,6.4,7.7,7.7,7.7,6.2,6.2,6.2,6.9,8.0,8.0,4.2,7.2,7.2,7.2,7.1,7.1,7.6,7.6,7.6,6.2,6.2,7.9,7.9,7.9,6.6,6.6,6.6,7.8,5.8,5.8,5.8,5.2,2.6,2.6,2.6,5.7,5.7,3.5,5.5,3.7,3.7,5.1,5.1,4.5,4.5,6.5,6.5,4.4,4.4,4.4,7.3,7.3,7.3,5.4,5.4,5.4,6.5,5.0,5.0,3.4,3.4,3.4,7.3,7.3,7.3,4.3,4.3,4.4,6.0,6.0,3.5,3.5,6.3,6.7,6.7,6.7,7.0,7.0,5.8,5.8,5.8,5.8,5.8,6.7,6.7,6.7,7.3,7.0,7.0,7.0,6.4,6.4,7.8,7.8,7.0,7.0,6.5,7.0,6.2,6.2,6.2,6.3,6.3,6.3,6.3,6.3,4.5,4.5,4.5,6.7,6.7,6.7,6.7,6.5,6.5,6.5,5.4,5.4,5.4,3.4,3.4,3.4,5.6,5.6,7.2,4.5,8.1,8.1,7.2,6.9,6.9,6.9,7.2,7.2,7.2,2.4,2.4,2.4,8.9,8.9,8.9,6.1,6.1,6.1,6.1,6.1,3.6,7.6,7.6,7.0,6.7,6.7,6.7,5.0,5.0,5.5,5.5,5.5,6.1,6.6,6.6,6.6,4.6,4.6,4.6,8.1,8.1,8.1,7.0,7.0,6.9,6.9,6.9,6.2,6.2,6.4,6.4,6.4,3.5,3.5,3.5,7.0,7.0,7.0,6.7,6.7,6.7,3.1,3.1,3.1,7.3,7.3,7.3,5.3,5.3,7.1,7.1,7.1,5.1,5.1,4.6,4.6,5.3,3.7,3.7,5.7,5.7,4.8,4.8,4.8,5.3,5.3,5.3,5.7,5.7,4.9,4.9,5.3,5.3,5.1,5.1,5.1,5.2,5.2,4.4,4.4,7.0,7.0,4.8,4.8,5.0,5.0,7.6,7.6,5.1,5.1,5.1,7.0,7.0,5.0,5.0,7.0,7.0,7.0,5.8,5.8,5.8,6.5,6.5,5.0,5.3,5.3,5.3,5.5,3.8,3.8,4.5,4.5,4.5,6.7,5.1,5.1,5.8,5.8,5.8,7.4,7.4,5.3,5.3,5.3,6.3,6.3,6.3,3.7,3.7,7.1,7.1,7.1,3.7,3.7,3.7,5.7,5.7,5.7,5.1,5.1,5.1,8.1,8.1,7.2,4.0,4.0,4.0,2.5,6.4,6.4,6.4,7.0,7.0,7.0,5.2,5.2,5.1,5.1,5.1,5.7,5.7,3.8,3.8,6.9,6.9,6.9,8.4,8.4,8.4,7.0,7.0,7.0,6.2,6.2,6.2,8.4,6.3,6.3,5.3,6.0,6.0,7.5,7.5,7.2,7.2,6.1,6.1,6.1,6.5,6.5,6.5,3.6,3.6,6.5,6.5,6.5,7.1,7.1,7.1,7.2,7.2,3.8,6.0,6.0,6.7,6.7,6.7,5.7,5.7,4.4,4.4,7.0,7.0,6.3,3.3,7.1,7.1,7.1,6.4,7.1,3.7,3.7,3.2,3.2,6.5,7.2,7.2,6.4,6.4,4.5,4.5,5.4,5.4,4.9,4.9,7.2,7.2,7.2,7.8,7.8,7.8,7.1,7.1,7.1,4.7,4.7,3.9,3.9,3.9,6.7,6.7,6.7,4.6,4.6,4.6,4.0,8.2,8.2,7.7,6.0,6.2,6.2,7.0,7.0,7.0,6.9,6.9,7.9,5.3,5.3,5.3,7.0,5.2,8.4,8.4,8.4,5.7,5.7,3.3,5.5,5.5,4.2,3.8,3.8,3.8,8.2,7.0,6.0,6.8,6.8,6.8,3.8,1.9,5.3,8.1,8.1,7.0,7.0,6.2,6.2,6.2,5.2,7.1,8.2,8.2,8.2,3.5,3.5,3.5,7.6,7.6,5.9,5.9,5.9,4.6,6.5,6.5,5.2,6.5,6.5,7.1,7.1,7.1,4.2,4.2,4.2,5.1,5.1,5.1,6.7,6.7,6.7,5.1,5.1,5.1,7.9,7.9,7.9,6.6,5.6,5.6,5.6,7.5,7.5,7.5,6.2,6.2,6.2,7.0,7.0,7.0,7.0,6.9,6.3,6.3,3.7,3.7,5.6,5.6,5.6,6.5,6.2,6.2,6.2,4.6,3.8,3.8,5.7,6.6,6.6,6.6,5.6,5.6,5.6,6.9,6.9,6.9,6.9,6.9,5.4,5.4,7.1,4.0,5.0,5.0,4.9,4.9,4.9,7.1,7.0,7.0,7.0,6.1,6.1,6.1,7.7,7.7,7.7,4.3,7.4,7.4,4.5,4.5,7.4,7.4,4.7,4.7,4.7,7.2,7.2,7.2,5.6,5.6,6.8,6.8,6.8,6.5,6.5,7.8,7.7,5.2,5.2,5.2,5.7,6.7,6.3,6.3,6.6,6.6,5.5,5.5,6.7,7.0,7.0,7.0,6.3,8.5,4.7,4.7,7.1,7.3,7.3,7.3,2.9,6.6,3.8,6.4,6.4,6.4,3.9,7.1,8.3,8.3,7.5,7.5,7.5,6.4,7.2,2.5,5.4,5.4,5.4,7.5,7.5,7.5,5.8,5.8,5.8,3.4,7.0,7.0,6.5,6.5,6.3,6.3,6.3,5.7,5.7,5.7,6.5,6.5,5.7,5.7,5.5,5.5,5.5,6.9,5.7,5.7,5.7,6.1,4.0,4.0,4.0,6.8,6.8,6.8,3.7,3.7,3.7,6.9,6.8,6.8,6.8,6.6,6.6,6.6,5.8,5.8,5.8,6.8,7.3,7.3,7.3,8.2,8.2,4.9,4.9,4.9,7.0,7.0,7.0,4.4,4.4,4.3,4.3,4.3,6.6,6.6,5.7,6.9,4.0,4.0,3.9,3.9,5.5,5.5,5.5,5.7,5.7,5.7,6.9,4.4,5.2,5.2,4.7,4.7,4.7,6.9,5.9,5.9,5.7,6.0,6.1,6.1,6.1,5.8,8.0,8.0,8.0,5.3,5.3,5.3,6.0,6.0,6.0,4.4,4.4,6.2,4.2,4.2,4.2,6.5,6.5,5.7,5.7,5.7,6.1,6.1,6.1,6.1,7.8,7.8,7.8,4.3,4.3,4.3,6.2,6.2,6.2,7.1,5.9,5.9,5.9,4.7,4.7,4.7,3.4,3.4,3.4,4.6,4.6,4.5,4.5,5.3,5.3,7.3,7.3,7.3,6.5,6.5,6.5,6.0,6.0,6.0,7.1,7.1,7.1,8.4,8.4,5.6,5.6,5.6,4.9,7.0,7.0,7.0,7.2,7.2,7.2,6.9,6.9,6.9,6.1,6.1,4.5,4.5,4.7,4.7,4.7,4.1,4.1,5.1,5.1,6.2,6.2,6.2,4.3,8.0,8.0,6.9,6.9,5.6,5.6,5.6,4.6,4.6,6.2,6.2,6.6,5.7,5.7,5.7,5.4,6.2,6.2,6.2,5.5,5.5,5.5,6.4,6.4,6.4,5.8,5.8,4.7,4.7,5.5,5.5,5.5,6.1,6.1,6.1,3.3,3.3,5.5,5.5,5.8,5.8,5.8,5.1,7.3,6.9,5.7,5.7,5.7,7.4,7.4,7.4,4.4,4.4,7.2,7.2,7.7,7.7,6.8,4.4,6.2,6.2,7.0,7.0,4.8,5.3,5.3,5.3,5.4,5.4,6.1,6.1,6.1,6.0,5.1,5.1,5.1,8.3,8.3,6.0,6.3,3.4,3.4,3.4,7.5,7.5,7.5,5.0,5.0,5.3,5.3,5.3,6.5,6.5,6.5,6.2,6.2,6.2,6.4,7.5,4.6,4.6,4.6,4.7,5.2,5.2,5.2,4.3,4.3,4.9,4.9,4.9,4.9,6.8,6.6,6.6,6.6,6.5,6.5,6.5,7.1,2.8,2.8,2.8,5.2,5.2,5.4,5.4,4.7,4.7,6.9,6.9,6.9,8.3,8.3,8.3,6.5,7.2,7.2,7.2,3.1,6.2,8.3,6.0,6.0,5.8,5.8,5.8,7.1,7.1,7.1,4.8,7.2,7.2,7.2,4.6,4.6,4.6,7.2,3.7,3.7,5.3,5.3,5.3,5.0,5.0,3.5,5.1,5.1,5.1,7.3,7.1,4.5,4.5,4.5,6.5,6.5,6.5,5.0,5.0,5.0,5.1,5.1,5.1,5.2,5.2,5.2,5.3,5.3,5.3,6.5,6.5,7.1,5.8,8.0,8.0,8.0,2.5,2.5,2.5,7.3,7.3,7.3,4.6,7.6,7.6,7.6,7.6,7.6,6.1,6.1,6.1,3.6,3.6,5.2,4.7,4.7,4.7,6.4,5.4,5.4,5.7,4.6,4.6,4.6,7.8,7.8,7.8,7.3,7.3,8.2,8.2,8.2,7.1,7.1,7.1,5.3,5.3,5.3,6.8,6.8,6.8,4.5,7.3,5.8,5.8,5.8,6.7,3.4,3.4,7.4,7.4,7.4,8.1,7.3,7.0,6.5,6.5,3.5,3.5,3.5,8.8,6.0,6.0,6.0,2.7,5.6,4.2,4.2,4.2,5.9,6.9,6.9,6.9,6.0,6.8,6.8,5.4,5.4,5.4,6.1,6.1,6.1,6.7,5.3,5.3,4.9,4.9,4.9,6.1,6.1,7.3,7.3,7.3,5.8,5.8,5.8,7.0,7.0,5.8,5.8,4.4,4.4,4.4,7.1,5.5,4.9,4.9,7.6,7.6,4.0,4.0,6.0,5.8,5.8,5.9,6.6,6.6,6.6,5.7,5.7,4.7,4.7,4.7,7.1,7.1,7.1,6.9,6.9,4.6,6.7,6.7,7.4,7.4,6.9,6.9,7.6,7.6,7.6,6.3,6.3,6.3,6.8,6.8,6.8,5.4,5.4,9.4,9.4,5.5,5.4,5.4,5.4,2.3,5.0,5.0,4.3,4.3,7.3,7.3,7.3,6.2,6.2,6.6,6.6,6.6,6.6,6.6,7.2,7.2,6.3,6.3,4.9,6.8,5.7,5.7,5.7,5.6,5.6,3.2,2.1,5.6,2.7,2.7,2.7,6.7,6.7,6.7,8.1,8.1,9.3,3.6,3.6,3.6,7.0,7.1,6.7,6.7,6.7,7.3,7.3,7.3,6.3,6.3,6.3,5.9,5.9,5.9,5.5,5.5,5.0,5.0,5.0,5.1,5.1,5.1,7.4,7.4,7.4,7.0,7.0,3.8,3.8,6.9,6.4,6.4,6.4,5.8,5.8,5.8,7.6,7.6,7.0,7.0,7.0,6.9,7.0,7.0,7.0,5.5,5.5,5.5,5.9,5.9,7.4,5.0,5.0,5.0,4.9,4.9,4.9,7.4,7.4,6.7,6.7,6.7,6.1,5.1,5.1,6.8,6.8,4.4,4.4,4.4,3.6,3.6,3.6,5.7,6.9,6.9,7.2,7.2,7.2,4.2,4.2,4.7,5.3,5.3,4.2,4.2,6.7,5.4,8.4,8.4,8.4,5.4,5.4,2.4,2.4,2.4,6.1,6.1,8.1,8.1,8.1,7.5,6.3,6.3,8.0,8.0,8.0,7.0,7.0,7.0,3.7,3.7,7.8,7.8,7.8,6.9,6.9,6.2,6.2,6.2,4.7,4.7,3.3,3.3,3.3,5.6,5.8,5.1,4.9,6.7,6.7,6.7,7.3,7.3,7.3,4.2,2.4,2.4,2.4,4.1,7.6,7.6,7.6,5.3,5.3,5.3,6.8,3.5,3.5,7.3,7.3,7.3,6.5,6.5,5.5,6.7,6.7,6.7,5.6,7.7,7.1,7.1,2.7,6.0,6.0,4.9,4.9,4.9,6.6,6.7,6.7,6.7,7.5,7.5,5.8,3.4,3.4,3.7,3.7,3.7,7.6,7.6,7.6,5.7,6.3,6.3,6.2,6.9,6.9,6.9,5.4,5.4,5.4,4.2,4.2,4.2,7.3,7.3,7.3,5.8,5.8,5.8,4.3,5.3,5.3,4.9,8.4,6.1,2.5,8.1,8.1,8.1,5.3,5.3,4.9,4.9,4.9,6.1,6.1,6.1,7.1,7.1,7.1,6.8,6.8,6.8,4.4,4.4,9.7,9.7,7.4,7.4,7.4,7.2,7.2,6.1,6.1,7.9,7.9,6.4,6.7,5.6,5.6,5.6,7.8,7.5,7.5,7.5,6.7,6.7,5.3,5.3,5.3,7.8,7.1,7.1,7.1,6.4,6.4,6.7,6.7,6.0,6.0,6.0,8.5,8.5,7.7,7.6,5.7,7.6,5.4,5.4,7.4,7.4,7.4,6.5,6.5,5.4,5.4,5.9,5.9,3.2,3.2,5.0,5.0,5.0,4.5,7.8,7.8,7.8,4.6,4.6,4.6,4.6,4.6,4.4,5.2,5.2,5.2,6.6,6.6,6.6,6.4,7.9,6.4,6.4,7.7,7.7,7.7,6.5,6.5,6.5,7.2,7.2,5.5,5.5,5.5,7.5,6.2,6.2,1.9,1.9,1.9,5.7,5.7,6.9,6.9,6.9,6.8,6.8,4.4,6.2,6.2,6.2,6.7,6.7,6.7,5.4,5.4,5.4,4.7,5.3,5.3,4.4,4.4,4.5,4.5,3.3,3.3,3.3,7.9,6.0,6.0,5.6,5.6,5.6,4.2,4.2,4.2,6.9,6.9,6.9,4.1,4.1,4.1,5.6,4.1,6.3,6.3,6.3,6.7,6.2,3.3,3.3,3.3,7.4,7.4,7.4,5.5,5.5,2.7,2.7,2.7,6.2,6.2,6.5,7.1,7.9,5.1,5.1,5.1,7.0,7.0,7.0,5.1,5.1,4.0,4.0,4.0,3.4,5.6,3.3,3.3,4.7,4.7,4.7,5.6,2.7,2.7,6.3,6.3,3.8,3.8,3.8,6.0,6.0,4.3,4.3,6.4,6.4,6.4,6.8,6.8,6.8,8.2,8.2,8.2,5.3,6.7,6.7,6.7,3.5,3.5,3.5,4.8,4.8,4.8,6.2,6.2,6.2,6.2,6.2,6.2,5.5,5.5,5.5,5.1,5.3,5.3,2.9,2.9,2.9,7.9,7.9,7.9,6.3,6.0,6.0,7.5,7.5,4.2,4.2,4.2,5.4,5.4,5.4,7.6,7.6,7.6,3.7,3.7,6.8,6.8,6.8,6.4,6.4,6.4,4.5,4.5,4.5,5.0,5.0,5.0,5.1,5.1,4.5,4.5,4.5,4.3,1.7,1.7,1.7,6.6,6.6,7.9,7.9,6.2,6.2,6.2,5.3,5.9,5.4,5.4,5.4,2.9,2.9,2.9,5.4,5.4,5.4,6.1,6.1,6.1,3.8,3.8,4.3,4.3,4.3,7.4,7.4,5.9,5.9,7.2,7.2,7.0,7.0,3.1,3.1,6.6,6.5,6.5,6.5,5.6,5.6,6.1,6.1,6.1,6.3,6.3,6.3,3.5,4.2,4.7,4.7,4.7,5.2,5.2,5.2,5.1,5.0,5.0,5.0,6.2,6.2,5.8,3.8,3.8,7.6,7.6,7.6,7.1,7.1,5.5,5.8,7.3,7.3,6.4,5.5,5.5,5.3,5.3,5.3,5.0,5.0,5.0,3.5,3.5,3.5,6.9,6.9,6.4,6.1,6.1,4.6,4.6,4.6,7.1,7.1,7.1,7.0,7.0,7.0,6.4,6.4,6.8,6.8,6.8,5.7,5.7,7.5,7.5,7.5,5.8,5.8,5.8,5.7,7.5,7.5,7.5,6.6,6.6,6.6,7.5,7.5,7.5,6.3,6.3,6.3,7.1,6.2,4.8,4.8,4.8,5.5,5.5,5.5,7.4,7.4,7.4,4.2,4.2,4.2,3.6,3.6,3.6,4.4,4.4,4.4,7.2,7.2,7.2,6.5,5.6,5.6,5.6,5.3,5.3,6.5,6.5,5.7,5.7,6.3,6.3,3.5,3.5,3.5,6.0,4.5,4.5,4.5,5.8,2.7,2.7,2.7,7.0,7.0,7.0,4.7,4.7,4.7,4.6,5.9,6.4,6.4,5.3,5.3,5.3,3.6,3.6,3.6,5.4,5.4,7.5,7.5,4.9,4.9,4.9,1.7,6.7,6.7,6.7,5.2,5.2,4.8,4.8,6.9,6.0,6.0,6.0,6.4,6.4,6.4,5.3,6.1,6.1,6.1,1.8,1.8,1.8,7.5,7.5,7.5,7.0,7.0,6.9,6.9,6.9,7.2,7.2,7.2,6.8,5.2,6.1,6.1,6.1,6.8,6.0,6.0,6.5,8.0,8.0,8.0,5.7,5.7,7.2,7.2,8.6,5.4,5.4,5.4,7.3,6.0,5.6,5.6,5.6,3.5,3.4,3.4,4.1,4.1,4.1,4.6,4.6,4.6,6.9,5.4,5.4,5.9,5.9,5.9,4.5,4.5,6.5,3.6,3.6,4.7,4.7,6.0,6.0,6.1,6.1,6.1,9.2,7.4,5.4,5.4,5.4,5.7,5.7,5.3,5.3,5.3,7.4,7.4,7.1,7.1,5.9,7.1,7.1,7.1,7.1,7.1,5.4,5.4,5.4,8.2,8.2,8.2,6.9,6.9,6.9,4.5,4.5,4.5,7.0,3.0,3.0,7.3,6.0,6.0,7.2,7.2,6.0,6.0,6.9,6.9,6.0,6.0,6.0,5.8,5.8,5.8,7.4,5.7,5.7,5.7,4.7,4.7,4.8,4.8,4.2,4.2,4.2,3.9,3.9,5.4,5.4,5.4,6.8,6.8,6.8,6.5,6.5,6.4,6.4,4.6,4.6,4.6,3.0,3.0,3.0,7.4,7.4,7.4,4.6,6.8,6.9,6.9,6.9,6.2,6.2,6.8,6.8,6.8,5.1,5.1,5.1,3.8,3.8,3.8,2.6,2.6,5.0,5.0,6.5,6.5,4.8,4.8,4.8,5.8,8.1,8.1,4.7,4.7,6.3,6.3,6.3,6.7,6.7,5.0,5.4,4.7,6.5,6.5,6.5,2.6,7.3,7.3,3.8,3.8,6.9,6.9,6.9,4.0,3.1,5.8,5.8,6.8,6.8,5.7,5.5,5.5,5.5,6.0,6.0,4.8,4.1,4.1,7.3,7.3,7.3,5.7,5.7,5.7,5.4,5.4,5.4,6.4,7.5,4.4,4.4,4.4,6.7,4.5,4.5,6.7,6.7,7.3,7.3,7.3,6.8,5.0,5.0,3.5,3.5,3.5,6.9,6.9,4.5,4.5,4.5,4.3,7.4,7.4,7.4,4.5,4.5,4.5,7.2,7.2,7.2,7.0,7.0,5.8,5.8,5.0,5.0,5.0,5.3,4.1,4.1,6.5,6.5,6.5,4.2,4.2,7.2,7.2,5.8,5.8,5.8,6.9,4.1,4.1,4.1,7.3,7.3,7.3,4.1,4.1,4.1,5.6,5.9,4.7,6.6,5.3,5.3,5.3,5.9,5.9,4.6,4.8,4.8,8.4,8.4,8.4,2.7,2.7,2.7,3.3,3.3,3.3,3.8,3.8,3.8,4.8,7.5,7.5,7.5,6.5,6.8,6.8,6.8,6.1,6.1,6.1,5.8,5.8,5.8,6.1,6.1,6.1,2.8,2.8,2.8,5.0,5.0,6.0,6.0,6.0,6.3,6.3,6.3,4.2,4.2,5.3,5.3,5.3,6.9,6.9,6.8,6.8,6.8,6.2,6.2,6.7,6.7,5.6,7.9,7.9,7.9,6.5,6.5,4.4,4.4,4.4,7.5,7.5,2.0,2.0,8.1,6.1,6.1,6.6,6.5,6.5,6.5,6.4,6.4,6.4,5.1,5.1,5.1,6.8,6.8,6.8,3.9,3.9,3.9,6.4,6.4,6.1,7.8,5.6,5.6,5.1,5.1,5.2,5.2,7.9,7.9,7.9,5.2,5.2,5.2,5.1,5.1,7.2,3.6,3.6,3.6,6.2,6.2,5.3,3.6,3.6,3.6,5.0,6.2,5.3,5.3,5.6,5.6,5.2,5.2,5.2,5.8,5.8,5.8,6.7,5.7,6.0,6.0,5.7,5.7,7.0,7.1,7.1,7.1,6.6,6.6,7.5,7.5,7.1,7.1,4.0,4.0,4.0,4.0,4.4,4.4,2.9,2.9,2.9,6.2,6.2,6.7,6.7,2.7,4.2,4.2,4.2,5.9,6.2,6.2,6.2,2.8,6.9,6.9,6.9,6.5,6.5,6.5,7.0,7.0,6.0,6.0,6.0,3.9,3.9,3.9,5.8,5.6,5.6,5.6,6.6,6.6,5.2,5.2,5.2,7.6,6.0,5.6,2.9,2.9,2.9,4.6,5.0,5.6,5.6,5.3,5.3,5.3,5.8,5.8,5.8,4.2,5.5,5.5,5.5,5.4,4.8,4.8,4.4,4.4,4.8,6.7,4.6,4.6,5.9,6.9,6.9,5.9,5.7,5.7,4.8,4.1,4.1,4.1,3.8,6.6,6.6,4.9,4.9,6.3,6.3,7.1,7.1,7.1,7.3,5.1,5.1,5.1,8.0,8.0,8.0,6.1,6.1,7.2,6.5,6.5,6.5,7.2,7.2,7.2,6.9,6.9,6.9,7.1,7.2,7.2,8.2,8.2,6.3,5.9,5.9,3.7,3.7,3.7,5.7,5.7,6.1,6.1,6.1,4.7,6.6,4.6,4.6,7.0,7.0,7.0,5.9,5.9,4.4,5.2,5.2,4.9,2.5,2.5,6.4,3.4,8.6,4.9,4.9,4.9,7.4,7.4,7.4,5.2,5.2,5.2,3.0,3.0,3.0,3.6,3.6,3.6,5.7,5.7,5.7,8.2,8.2,8.2,7.6,7.6,7.6,6.1,3.5,3.5,3.5,5.8,5.8,7.4,7.4,7.4,6.2,6.2,7.3,7.3,6.4,6.4,6.4,6.8,6.8,6.8,6.8,6.8,6.8,6.8,5.6,5.6,5.6,7.5,7.5,7.5,7.8,7.8,7.8,6.0,6.0,4.9,4.9,7.3,7.3,7.3,2.4,2.4,2.4,7.5,7.5,7.2,7.2,5.1,5.1,5.1,9.0,6.2,6.2,6.2,6.2,6.2,5.7,5.7,5.7,4.6,4.6,4.6,2.1,2.1,2.1,3.1,3.1,6.6,6.1,6.1,6.1,5.9,5.9,3.9,3.9,5.9,5.9,5.9,6.1,6.1,6.1,3.6,3.6,6.2,6.5,6.5,6.5,6.1,6.1,6.1,4.0,4.0,2.3,2.3,2.3,3.7,9.4,4.0,4.0,4.0,4.2,4.2,4.2,5.6,5.6,6.1,6.1,6.1,6.2,7.3,7.3,7.3,5.6,5.6,5.6,3.1,7.6,5.6,5.6,5.6,4.2,4.2,5.6,5.6,5.6,5.4,5.4,5.4,6.8,6.8,5.4,4.6,4.6,7.9,5.3,5.3,5.3,5.6,5.6,5.6,5.8,5.8,5.8,4.2,4.2,7.6,7.6,8.0,5.9,5.0,5.0,5.0,7.1,7.1,7.1,6.5,9.1,9.1,9.1,6.1,6.1,7.1,7.1,7.6,7.6,7.6,3.9,8.0,8.9,6.2,6.2,6.2,4.6,4.6,4.6,6.7,6.7,7.7,7.7,7.7,4.2,4.2,4.2,6.4,6.4,6.3,6.3,3.4,3.4,3.4,5.0,6.8,6.8,3.3,3.3,3.3,2.7,6.4,4.6,4.6,6.6,6.6,4.2,4.2,4.2,7.3,3.8,3.8,6.5,6.5,6.5,4.8,6.3,5.0,3.6,5.4,6.8,6.8,6.8,6.6,6.2,6.2,6.2,6.1,6.1,7.8,7.8,7.8,7.4,7.4,7.4,4.3,4.3,4.3,6.2,6.2,7.4,7.4,7.1,7.1,7.1,4.8,4.8,3.7,3.1,6.8,6.8,6.8,7.8,5.9,5.9,5.9,6.4,6.4,6.0,6.0,6.0,6.1,6.1,7.0,7.0,7.0,6.6,5.3,5.3,5.3,6.8,6.8,6.8,7.1,7.1,6.8,8.1,5.8,5.7,5.7,8.1,8.1,6.6,6.6,5.8,5.8,6.9,5.2,5.2,6.0,6.0,5.6,5.6,5.6,5.7,5.7,5.7,7.5,6.9,6.9,6.9,6.3,6.3,7.8,7.8,5.4,6.2,6.2,6.6,2.8,2.8,2.8,7.9,7.9,7.9,6.9,6.9,6.9,6.7,7.9,7.9,7.9,6.2,3.6,3.6,3.6,6.3,6.3,6.3,6.0,6.0,6.0,5.5,5.5,7.4,7.4,7.4,5.7,5.7,7.1,7.1,7.1,5.6,6.4,6.4,6.4,6.3,6.3,6.3,3.6,3.6,6.3,6.3,5.8,5.8,5.8,6.2,5.7,5.7,8.0,6.7,6.7,6.7,5.1,5.1,6.7,7.2,7.8,6.5,6.5,6.5,5.2,4.1,4.1,6.5,6.5,3.9,3.9,3.9,7.4,7.4,7.4,7.1,7.2,5.1,5.8,5.8,5.8,6.0,6.0,8.2,6.2,6.2,6.8,6.6,6.7,6.7,6.7,3.7,3.7,5.8,7.9,7.9,7.9,3.1,3.1,5.6,5.6,5.6,6.3,4.6,4.6,7.3,7.3,6.9,8.2,8.2,8.2,7.7,7.7,7.7,5.5,5.5,5.5,7.1,7.1,7.1,4.0,6.8,6.8,6.8,4.2,6.2,6.2,6.2,6.5,6.5,4.8,6.1,6.1,6.5,6.5,2.7,2.7,6.7,6.7,7.4,7.4,7.4,2.9,5.0,5.0,5.0,4.4,4.4,4.4,7.0,7.0,7.1,7.1,7.1,5.1,5.1,3.0,3.0,7.7,7.7,7.7,7.6,7.6,7.6,7.5,7.5,7.5,3.9,3.9,3.9,2.1,2.1,2.1,6.6,5.1,5.1,4.5,5.1,5.1,5.1,5.7,5.7,4.3,4.3,5.9,5.9,7.0,5.4,5.4,5.4,6.7,6.7,7.1,7.1,7.1,6.0,6.0,6.0,6.9,6.9,7.8,7.8,5.6,6.9,6.9,7.2,7.2,7.2,6.4,6.4,6.4,7.8,7.8,5.6,4.9,4.9,4.9,5.1,5.9,5.9,3.2,3.2,3.2,6.1,6.1,6.1,3.8,3.8,5.5,5.5,5.5,7.8,7.8,6.4,7.1,7.1,6.7,6.7,5.0,5.0,5.0,6.9,6.9,6.8,5.7,5.7,5.7,3.3,3.3,4.7,4.7,4.7,5.7,7.4,7.4,7.4,8.1,8.1,2.3,2.3,2.3,5.6,5.6,5.6,5.9,5.6,7.4,7.4,7.4,7.2,7.2,7.2,5.7,5.7,5.7,4.0,4.0,4.0,3.7,3.7,3.7,6.3,4.6,4.6,7.5,7.5,7.7,3.3,3.3,7.7,7.7,3.5,3.5,7.5,7.5,7.5,4.0,4.0,4.0,5.9,5.9,5.9,6.2,6.2,6.5,6.5,4.0,4.0,6.9,6.9,7.2,5.8,5.1,5.0,5.0,5.2,5.2,5.2,4.8,4.8,7.5,7.5,5.7,5.7,5.7,4.4,4.4,4.4,6.6,6.6,5.8,7.0,8.1,6.4,6.4,6.4,4.0,4.0,4.0,7.5,7.5,7.5,6.2,6.2,5.2,5.2,7.2,7.2,5.8,5.8,5.8,7.2,7.2,7.2,7.2,7.2,5.2,5.2,5.2,4.3,4.3,6.0,6.0,6.0,6.8,6.8,7.2,7.2,7.2,7.1,7.1,6.8,6.8,6.8,5.1,5.1,5.3,5.3,5.3,6.4,6.4,5.7,5.7,6.6,6.6,6.6,4.8,4.8,4.8,4.1,6.1,6.1,2.7,6.2,6.2,5.6,4.1,5.5,2.8,8.3,8.3,8.3,4.7,6.2,6.2,6.2,7.5,6.3,6.3,7.6,7.6,7.6,6.5,6.5,6.5,7.4,7.4,7.4,8.1,3.2,3.2,3.2,6.9,6.9,5.1,5.1,5.1,5.8,5.8,5.8,5.8,5.8,4.1,7.1,7.1,4.4,4.4,4.4,4.6,5.5,5.5,5.5,5.9,5.9,5.9,7.8,4.1,4.1,4.1,5.8,5.8,5.3,5.3,5.3,4.6,4.6,4.6,4.3,4.3,4.3,6.3,6.3,6.3,6.7,6.7,7.1,7.1,6.3,6.3,6.3,5.1,5.1,5.1,6.3,6.3,7.5,7.5,2.5,2.5,2.5,5.7,5.7,5.6,5.3,5.3,5.3,6.1,6.1,6.1,6.3,5.9,5.9,5.9,5.1,5.1,5.1,3.7,3.7,5.2,5.2,5.2,7.4,6.1,6.1,6.1,4.2,4.2,4.2,4.2,4.2,4.5,4.5,4.5,4.6,7.1,3.3,3.3,3.3,4.6,4.6,4.6,7.4,7.4,7.4,6.1,6.1,6.1,4.5,4.5,6.0,6.0,6.0,6.8,6.8,6.8,4.5,4.5,6.7,6.7,6.7,5.5,5.4,5.4,5.4,5.2,5.2,5.2,2.4,2.4,3.5,7.9,7.9,4.7,4.7,3.5,3.5,3.5,7.1,7.1,7.1,6.3,6.3,7.4,7.4,7.4,7.4,7.3,8.6,3.8,6.9,6.9,6.9,5.4,5.4,6.2,6.2,6.2,7.2,7.2,7.2,3.8,3.8,6.3,6.3,6.3,7.4,7.4,7.4,4.6,4.6,4.6,4.2,4.2,4.2,5.8,7.8,5.7,4.7,4.7,4.7,6.6,6.5,6.5,6.5,5.2,5.2,6.5,6.5,6.5,5.1,5.1,5.1,4.4,4.4,4.4,6.5,6.5,6.5,6.4,6.4,6.4,5.2,5.2,5.2,5.9,5.9,5.9,6.7,4.3,4.2,4.2,8.5,3.8,4.6,4.6,4.6,7.6,7.6,7.6,2.5,2.5,5.4,5.4,5.4,4.3,5.6,5.6,5.6,7.5,3.4,3.4,3.7,6.9,6.9,6.9,4.5,4.5,4.5,5.1,8.5,5.3,5.3,6.6,6.6,6.6,6.5,6.5,5.8,5.8,5.1,5.1,5.1,7.2,7.2,5.7,4.2,4.2,4.2,5.7,5.7,5.7,6.0,6.0,6.0,4.7,4.7,4.7,4.3,8.9,7.4,7.4,7.4,5.9,5.9,3.6,3.6,3.6,6.1,6.1,6.1,3.9,3.9,6.1,6.1,1.9,4.9,5.4,5.4,5.4,5.6,5.6,4.2,4.2,4.2,5.8,5.8,5.8,5.4,5.4,5.4,7.3,7.3,7.3,8.0,8.0,8.0,3.4,3.4,3.4,3.2,3.2,3.2,7.1,7.1,7.1,4.4,4.4,4.4,6.4,3.6,5.8,3.6,6.0,6.0,6.0,5.9,6.2,6.2,5.2,5.2,5.2,8.1,8.1,8.1,8.0,8.0,8.0,6.5,7.2,7.2,7.2,4.5,4.5,6.3,6.3,6.3,2.8,2.8,2.8,6.1,6.1,3.4,3.4,8.0,7.8,7.8,6.7,6.7,6.7,7.3,7.3,6.9,6.9,4.4,4.4,5.4,6.8,6.8,6.8,7.0,7.0,4.7,5.0,7.9,7.9,7.9,7.9,3.2,3.2,5.7,6.2,6.5,6.3,6.7,6.7,6.7,7.4,4.6,4.6,4.6,5.0,5.0,5.0,7.4,7.4,7.4,7.3,5.8,5.8,5.8,5.8,5.8,5.8,6.0,8.8,8.8,3.4,3.4,3.4,6.6,6.5,6.5,6.5,6.0,6.0,6.0,6.6,5.2,2.4,2.4,2.4,6.2,5.3,5.3,5.3,7.3,7.3,7.3,6.6,6.6,8.9,8.9,4.9,4.9,7.5,7.5,7.5,6.7,6.7,6.7,5.1,5.1,5.1,6.1,6.1,6.1,5.7,5.7,5.7,6.3,5.7,5.7,6.8,6.8,6.8,8.2,5.9,5.9,5.9,4.4,7.4,7.4,7.4,5.4,5.4,5.5,5.3,5.3,5.8,5.8,7.1,7.1,6.6,7.9,7.9,7.9,6.4,6.4,5.9,5.9,7.1,8.4,8.4,5.6,5.6,5.6,8.0,8.0,6.8,6.8,6.6,8.6,5.1,5.1,5.1,6.1,6.1,5.8,5.1,5.1,5.1,6.5,6.5,5.2,5.2,5.2,5.8,5.8,6.1,6.1,6.0,6.0,6.0,5.5,7.8,7.0,7.0,4.4,4.4,4.4,3.8,3.8,3.8,6.4,6.4,6.4,5.3,5.3,5.7,7.7,7.7,7.7,6.8,6.8,6.8,3.3,3.3,3.3,7.6,7.6,7.3,7.3,5.1,5.1,5.1,7.0,7.0,5.9,5.9,5.9,5.7,5.7,4.7,4.7,6.8,6.8,6.8,7.4,7.4,7.4,7.4,3.8,3.8,5.1,5.8,5.8,5.8,5.2,5.3,5.3,6.0,4.3,4.3,6.5,6.5,3.1,3.1,3.1,3.6,3.6,3.6,6.8,6.8,6.8,4.2,6.6,6.0,6.0,6.0,5.7,5.7,5.7,5.5,5.5,7.6,7.2,7.2,10.0,10.0,4.4,4.4,7.4,9.3,9.3,9.3,6.5,6.5,6.5,2.6,2.6,2.6,5.8,5.3,5.3,3.0,3.0,3.0,5.3,5.3,6.0,6.0,4.5,4.5,5.1,7.1,7.1,7.1,7.5,7.5,7.5,4.8,4.8,4.8,7.1,7.1,6.2,6.2,6.2,5.1,4.7,4.7,4.7,7.6,7.6,7.6,6.3,6.3,5.6,5.6,6.4,6.4,4.8,4.8,4.7,6.6,5.3,5.3,5.5,5.5,6.2,5.6,5.6,5.6,3.9,3.9,5.1,5.1,7.9,7.9,7.9,5.0,5.0,5.0,5.9,5.9,7.2,7.2,6.5,6.5,7.5,6.6,6.6,5.1,4.4,4.6,3.5,3.5,7.8,7.8,7.8,7.0,5.7,5.4,5.4,3.1,3.1,3.1,3.7,6.3,6.3,6.3,8.6,5.4,5.4,4.5,5.8,5.8,5.8,8.6,8.6,2.3,2.7,2.7,2.7,7.6,7.6,7.6,4.6,3.7,3.7,3.7,5.3,5.3,6.2,6.2,6.2,6.2,6.3,6.3,6.3,4.6,4.6,4.6,3.2,8.0,8.0,8.0,5.4,5.4,7.0,7.0,7.0,3.6,3.6,7.7,7.7,7.7,5.1,5.0,6.5,6.4,6.4,6.4,5.7,5.7,6.1,6.1,6.1,6.9,6.9,6.9,7.3,7.3,7.3,5.3,5.3,5.3,6.8,6.8,6.8,4.9,4.9,4.9,7.1,7.1,7.1,6.6,6.6,6.6,7.6,4.1,4.1,4.1,5.0,5.0,7.1,7.1,7.1,5.6,5.6,5.6,7.7,8.0,6.3,6.2,6.2,6.7,6.7,6.8,6.8,4.3,4.3,4.8,4.8,4.8,6.3,6.3,6.3,6.6,6.6,5.2,5.2,5.2,5.2,7.2,5.8,7.4,7.4,7.0,7.0,7.0,7.3,6.5,6.5,5.3,5.3,5.3,4.2,4.0,4.0,4.0,4.5,4.5,6.5,6.5,6.5,5.1,5.1,5.1,4.7,6.7,6.7,6.8,4.1,4.1,7.8,7.2,7.2,7.2,3.7,3.7,5.5,5.5,5.5,5.1,5.4,2.8,7.7,8.1,5.3,5.3,5.3,5.2,5.2,5.2,6.0,6.0,6.0,7.0,6.5,6.5,6.5,6.6,6.6,6.6,7.7,6.8,6.8,5.7,5.7,5.2,5.2,6.9,7.3,7.3,5.2,6.5,6.5,6.5,7.5,7.5,5.9,5.9,5.9,6.6,6.6,6.6,6.2,6.2,6.5,6.5,3.6,3.6,3.6,6.4,6.4,6.4,8.0,8.0,8.0,7.2,7.2,6.7,6.7,6.7,7.1,7.1,7.1,7.1,7.6,7.6,7.6,6.8,6.8,6.8,7.4,7.4,6.0,6.0,6.0,6.0,6.9,6.9,6.9,4.2,8.1,8.1,8.1,5.9,5.9,6.2,6.2,6.2,4.2,7.4,7.4,7.3,7.3,7.3,7.4,7.4,7.4,7.2,4.8,4.8,4.8,6.4,6.4,6.4,3.6,3.6,3.6,3.5,3.5,4.9,5.1,5.4,4.9,4.9,6.1,6.1,6.8,6.8,6.8,7.1,7.1,8.2,8.2,5.2,5.2,4.1,4.1,4.1,6.2,7.3,7.3,7.3,5.3,5.3,5.3,5.8,5.8,5.8,5.2,5.2,5.2,8.4,5.8,5.8,5.8,7.2,5.4,5.4,5.4,5.2,5.2,5.2,6.8,6.8,6.8,4.8,6.5,6.5,6.5,6.2,6.2,6.2,5.1,5.1,5.1,3.3,2.4,4.8,4.8,7.7,7.7,5.6,5.6,7.7,8.1,8.1,4.7,4.7,4.7,2.8,4.3,4.2,5.4,5.4,3.5,4.7,4.7,4.7,7.0,5.4,5.4,5.4,6.5,6.5,6.9,5.9,5.9,5.9,2.7,6.7,8.5,6.5,6.5,5.7,3.6,3.6,3.6,7.9,6.7,6.9,6.9,7.2,6.2,6.2,6.2,6.6,6.6,5.5,7.2,7.2,5.3,5.3,6.6,6.1,6.7,6.7,6.7,6.5,6.5,3.5,3.5,3.4,5.9,5.9,5.9,7.2,6.6,7.5,7.5,7.5,6.8,6.8,3.8,3.8,3.8,6.4,6.4,7.2,7.2,7.2,7.4,7.4,7.6,7.6,7.2,6.1,3.6,3.6,4.4,4.4,5.6,4.8,7.0,7.0,4.7,5.8,5.8,8.0,8.0,4.1,3.8,3.8,4.6,4.6,4.6,8.8,4.9,7.6,7.6,7.6,3.9,5.2,4.7,4.7,5.5,7.4,6.6,5.4,5.4,5.4,5.6,5.6,5.8,5.8,5.8,6.4,6.4,6.4,5.0,3.5,6.7,6.7,7.0,7.0,6.4,6.4,6.9,6.9,6.9,3.5,3.5,3.5,5.6,5.6,5.6,6.9,6.9,6.9,6.1,6.3,6.3,7.3,7.3,5.3,5.3,5.3,6.6,6.6,6.6,5.1,5.1,5.1,5.1,3.9,3.9,3.9,6.5,6.5,5.6,7.3,7.3,3.2,3.2,3.2,7.1,5.0,6.0,6.0,6.0,5.7,5.7,5.7,5.3,5.3,6.0,6.0,6.2,6.8,6.8,6.8,5.0,5.0,6.0,6.0,6.0,4.1,4.1,6.6,2.5,2.5,2.5,7.5,7.5,7.5,6.2,6.2,6.2,6.5,6.5,6.5,7.7,7.7,3.9,6.1,6.1,6.1,7.0,7.0,7.0,4.1,7.3,4.6,4.6,4.6,7.1,7.1,4.3,4.3,4.3,6.1,7.5,6.4,6.4,6.4,6.3,4.5,5.4,5.4,5.4,3.2,7.6,7.6,5.8,5.8,5.8,4.3,3.4,3.4,3.4,6.7,6.7,6.7,6.5,6.5,3.8,7.1,7.1,7.1,6.8,6.9,5.3,5.3,4.7,4.7,6.4,6.4,8.0,6.5,6.5,6.5,5.6,5.6,5.6,5.5,5.3,5.3,4.5,6.7,6.7,3.5,3.5,5.3,5.3,5.3,7.1,7.1,7.1,6.8,6.8,7.1,7.1,6.8,5.7,5.7,5.7,7.0,7.0,7.0,5.3,5.3,4.2,6.2,6.2,6.2,4.8,4.8,7.3,7.3,7.3,5.9,5.9,5.9,2.7,2.7,5.5,5.5,5.5,3.3,3.3,3.3,6.6,6.6,6.6,7.4,7.4,7.4,5.8,4.4,4.4,4.4,9.0,6.7,6.7,4.7,7.9,4.3,4.3,8.0,8.0,8.0,4.8,4.8,7.0,7.0,7.0,3.6,3.6,3.6,5.3,3.6,3.6,7.2,7.2,7.2,6.4,6.4,6.4,4.2,4.2,4.2,5.4,4.3,4.3,4.3,4.0,4.0,4.0,7.8,7.8,7.8,6.8,6.8,6.8,4.8,6.6,6.6,6.6,5.5,5.5,5.5,6.7,6.7,7.4,4.2,3.3,3.3,3.3,5.5,5.5,5.5,7.0,3.8,3.8,3.8,6.3,6.3,6.3,5.8,6.6,2.5,2.5,2.5,7.3,7.3,6.5,6.5,4.8,4.8,4.8,6.6,6.6,6.6,6.7,6.7,6.7,5.8,5.8,5.8,2.5,2.5,5.5,5.5,8.6,8.6,7.2,3.9,6.0,6.0,6.0,6.5,6.5,6.6,6.6,6.6,5.0,5.0,6.1,6.9,6.9,6.9,6.7,6.7,6.9,6.9,6.9,7.0,7.2,7.2,7.2,6.9,4.8,6.8,6.8,6.8,2.7,2.7,2.7,1.6,4.8,5.9,5.7,5.7,5.2,5.2,7.7,4.9,4.9,4.9,6.1,6.1,3.3,3.3,3.3,6.6,6.4,5.2,5.2,5.2,4.9,4.9,7.4,7.4,7.4,5.3,8.1,8.1,3.2,3.3,3.3,3.3,4.0,4.0,4.0,6.5,6.5,6.5,4.2,4.2,4.2,5.5,5.5,4.8,4.8,4.8,7.5,7.5,5.4,5.4,5.4,6.2,6.2,6.2,4.9,4.9,4.9,7.4,5.5,5.5,5.5,4.8,6.3,6.3,4.4,4.4,7.0,7.0,5.7,7.1,7.1,7.6,7.6,7.6,5.5,6.7,5.5,7.2,7.2,6.2,6.2,7.4,7.4,7.4,7.5,7.5,7.5,4.7,4.7,4.7,6.2,4.6,4.4,4.4,5.3,5.3,5.3,6.4,3.1,6.9,8.0,6.1,6.1,6.1,6.5,5.7,5.7,7.2,7.2,7.2,5.4,5.0,5.0,5.0,4.2,4.2,4.2,4.1,5.8,5.6,5.6,5.6,4.4,5.5,5.5,6.0,6.0,7.5,7.5,7.5,5.9,5.9,5.9,5.9,4.3,4.3,6.3,6.3,4.5,4.5,5.8,4.5,4.5,4.5,6.7,6.7,4.8,6.7,7.1,7.9,7.9,6.8,5.6,5.6,6.7,6.7,6.7,6.3,6.3,6.3,6.5,6.5,6.3,6.3,7.4,6.3,6.3,4.3,4.3,4.3,6.8,6.8,7.5,6.4,6.4,6.4,5.9,5.9,3.3,3.3,3.3,5.0,5.0,5.0,6.1,6.1,6.1,4.1,4.1,4.1,7.3,7.3,7.3,7.3,2.2,2.2,2.2,7.1,7.1,7.1,7.4,7.6,7.6,5.4,5.4,5.4,8.2,6.0,6.0,6.0,6.2,6.2,6.2,5.9,5.9,5.9,5.4,5.4,5.4,8.6,7.4,7.4,5.5,5.5,6.8,7.0,6.5,6.5,6.5,7.1,7.1,7.1,5.3,5.3,5.3,5.6,5.6,3.8,3.2,3.2,5.1,5.1,6.2,6.2,6.2,4.9,4.9,6.2,6.8,6.8,6.8,2.5,2.5,5.4,5.6,6.6,7.4,7.4,6.4,6.4,6.2,6.2,6.5,6.5,6.5,5.8,5.8,5.8,7.1,6.5,6.5,6.5,4.4,4.4,5.8,8.0,8.0,8.0,5.5,5.5,5.5,7.0,7.0,4.4,6.9,6.9,7.8,7.8,7.8,5.4,6.3,3.9,4.7,4.7,4.7,6.9,6.9,6.9,7.8,3.2,3.2,3.2,6.8,7.7,7.7,7.7,6.8,6.8,6.8,6.1,7.4,6.5,6.5,7.6,7.6,7.6,5.5,5.5,3.8,3.8,3.8,5.4,3.2,7.6,7.6,7.6,7.7,7.7,7.4,7.4,7.4,7.7,7.7,6.8,6.8,6.8,7.7,7.7,2.7,6.1,6.1,5.2,5.2,5.2,4.3,4.3,6.2,6.2,8.3,8.3,7.5,7.5,7.5,4.9,4.9,4.0,4.0,3.9,3.9,3.9,7.7,9.1,5.5,5.9,9.1,6.3,6.3,6.3,5.4,4.9,5.9,5.9,2.9,2.9,2.9,7.6,7.6,4.2,4.2,4.2,6.6,6.6,6.6,6.3,6.3,6.3,7.2,7.2,7.2,4.3,4.3,4.3,7.3,7.3,7.3,5.8,7.2,7.2,3.9,3.9,3.9,6.0,6.0,6.0,6.0,6.0,6.0,5.0,5.0,5.0,6.9,6.9,7.6,7.6,5.6,5.6,6.3,6.3,6.3,4.3,4.3,4.3,5.7,5.1,5.3,5.3,5.3,3.3,3.3,6.2,6.6,5.1,7.5,7.5,8.2,5.4,8.0,8.0,6.3,4.2,5.4,5.4,5.2,5.2,7.1,5.5,5.5,6.7,6.7,6.7,7.2,7.2,7.2,8.1,8.1,8.1,8.1,8.1,8.1,4.9,4.9,7.0,7.0,6.7,7.4,7.4,7.4,4.6,4.6,4.6,5.4,5.4,5.4,4.2,4.2,4.2,7.5,7.5,5.0,5.0,5.0,5.6,7.0,3.1,3.1,5.3,5.3,6.1,6.1,6.4,6.4,7.4,7.4,7.4,6.9,6.9,6.2,3.5,3.5,5.5,5.5,5.5,8.0,8.0,4.7,4.7,4.7,7.0,7.0,7.0,6.6,7.0,7.0,7.0,8.5,3.3,3.3,3.3,4.8,7.7,7.7,7.7,3.9,3.9,6.8,6.8,6.8,7.2,7.2,6.5,8.2,8.2,8.2,7.7,7.7,6.2,6.2,4.1,4.1,5.1,5.1,5.1,5.0,5.0,5.0,5.2,5.4,3.8,7.6,4.9,4.9,3.3,3.3,3.3,6.7,7.9,7.9,7.1,7.1,7.0,7.0,7.0,2.4,8.1,8.1,8.1,7.2,3.2,3.2,5.8,5.8,3.9,3.9,7.3,6.9,6.9,6.7,4.5,4.5,4.5,7.6,7.6,6.5,6.5,6.5,7.0,7.0,6.4,6.4,6.4,6.3,6.5,4.1,4.1,4.1,4.9,4.9,4.9,6.5,6.5,4.6,4.6,4.6,6.5,6.5,5.5,5.5,5.5,7.6,7.6,5.3,5.3,5.3,6.5,6.5,6.4,6.4,6.4,5.9,3.9,3.9,3.9,8.6,7.3,6.8,6.8,5.2,5.2,6.8,6.8,5.3,5.3,5.3,3.7,4.6,5.5,7.6,7.6,2.2,2.2,6.5,6.5,6.5,6.0,5.9,5.9,5.9,6.7,6.5,6.5,6.5,5.7,5.7,5.7,5.0,5.0,6.2,6.2,6.4,6.4,6.4,4.3,4.3,6.2,6.2,7.6,6.4,7.1,7.1,7.1,7.0,7.0,7.0,7.0,7.0,7.0,6.2,8.1,4.8,4.8,6.6,6.6,6.6,7.5,7.5,7.5,7.2,7.8,7.8,7.8,7.2,7.2,7.2,6.3,6.3,7.6,7.6,7.6,6.6,5.8,5.8,5.8,7.2,6.8,6.8,6.9,6.9,6.9,6.8,6.8,2.2,2.2,2.2,7.6,7.6,6.9,6.9,7.2,7.2,7.2,5.7,5.7,7.1,6.2,5.5,5.5,5.5,6.4,6.4,4.1,4.6,6.2,6.2,6.2,7.1,7.1,5.7,5.7,4.0,5.6,5.6,7.8,5.8,4.3,3.8,4.6,6.6,6.6,5.6,5.6,5.6,6.6,6.6,6.6,8.0,7.0,5.6,4.4,4.4,4.4,5.5,5.5,5.5,7.1,7.1,7.1,4.2,4.2,2.8,2.8,7.2,7.2,7.0,7.0,6.4,6.4,7.4,7.4,4.4,4.4,4.4,5.7,4.9,4.9,4.9,6.4,6.4,6.4,4.4,5.5,6.2,6.2,6.2,4.8,4.8,4.8,8.3,8.3,8.3,7.1,7.1,6.3,6.3,6.6,6.6,6.0,7.3,7.3,7.3,3.8,3.8,3.8,6.7,6.7,5.9,5.9,5.9,7.5,7.5,7.5,4.8,4.8,5.0,5.0,5.0,6.1,6.1,6.1,7.2,6.2,6.2,6.2,7.0,7.0,6.2,6.1,5.4,7.5,7.5,2.7,5.8,5.8,6.6,6.6,6.6,6.9,6.9,6.9,6.5,5.4,5.4,5.8,5.8,5.8,6.3,6.3,6.3,6.2,6.2,4.4,5.7,5.7,3.9,3.9,3.9,3.2,3.2,3.2,7.6,6.9,6.9,6.0,6.0,5.4,5.8,5.8,6.2,6.3,6.3,6.1,6.1,6.1,6.7,6.7,7.6,7.6,8.0,7.9,8.1,8.1,8.1,8.4,8.7,5.9,6.3,6.3,5.0,5.0,6.7,6.7,6.7,4.5,4.5,4.5,8.3,2.7,2.7,6.2,8.1,8.1,8.1,5.5,5.5,4.1,4.1,4.1,3.7,3.7,3.7,5.4,4.1,4.1,4.1,3.1,3.1,6.5,6.5,5.2,5.2,5.2,4.5,4.5,4.5,3.4,6.6,6.6,4.1,4.1,4.1,4.1,5.0,5.0,4.6,4.6,7.0,7.0,7.0,5.2,6.8,6.8,6.8,7.8,7.8,7.8,4.0,4.0,4.0,6.4,6.4,5.4,6.9,5.6,5.6,5.6,8.0,8.0,8.0,4.9,6.2,6.2,4.3,4.3,4.3,6.8,5.9,5.9,5.5,6.0,6.0,7.8,7.8,7.8,7.0,7.0,7.0,5.5,4.9,4.9,4.9,7.4,7.4,6.5,6.7,6.2,6.2,4.1,4.1,4.1,1.7,1.7,5.2,5.2,5.2,7.7,5.9,5.9,5.9,6.6,6.6,6.6,6.3,6.3,6.3,7.6,7.6,5.9,5.9,6.9,6.9,6.9,2.1,2.1,4.4,4.4,4.4,7.2,7.2,7.2,6.5,6.5,6.1,6.1,6.1,6.1,5.7,5.7,5.7,3.5,5.5,5.5,5.5,4.2,4.2,4.2,4.4,4.4,4.4,7.7,5.8,4.6,4.6,4.6,6.7,6.7,6.7,7.4,7.4,7.4,7.0,7.0,7.0,6.2,6.6,6.6,6.6,6.4,6.6,7.4,7.4,7.4,4.7,4.7,4.7,6.0,6.0,6.0,6.3,6.3,6.3,7.8,7.8,7.8,7.4,7.4,6.4,6.4,6.4,8.4,8.4,8.4,5.2,6.3,6.3,6.5,6.5,5.9,3.9,3.9,3.9,4.6,4.6,7.6,7.6,7.6,7.2,7.2,7.2,6.1,4.3,4.3,6.4,6.4,3.6,6.7,6.7,6.7,6.1,6.1,6.7,6.7,6.7,3.3,3.3,3.3,6.1,6.1,6.1,6.7,6.7,6.7,5.7,5.7,5.7,5.9,6.5,6.5,6.5,8.4,8.4,8.4,3.3,3.3,5.3,7.4,7.4,6.3,6.3,6.9,6.3,6.3,6.3,3.8,3.8,3.8,6.1,6.5,6.5,6.8,6.8,6.8,6.2,6.2,6.2,4.4,6.2,6.2,5.6,5.6,5.6,5.6,5.6,5.6,7.4,7.4,7.4,6.1,6.1,3.6,3.6,7.1,7.1,3.3,3.3,3.3,6.8,6.8,6.8,5.0,5.7,5.7,5.7,6.1,6.1,7.1,7.1,4.0,6.0,6.0,6.0,5.2,3.1,7.0,7.0,6.0,6.0,6.0,7.5,7.5,7.5,4.7,4.7,4.7,5.1,5.1,5.1,8.2,8.2,8.2,5.8,5.8,5.8,7.0,7.0,7.0,5.2,5.2,5.2,4.7,4.7,4.7,5.1,5.1,5.1,5.4,5.4,8.1,8.1,8.1,6.5,6.5,7.4,6.2,6.2,7.5,7.5,7.5,3.6,3.6,3.6,6.3,6.3,6.3,7.6,7.6,4.9,4.9,5.7,5.7,7.1,7.3,7.3,7.3,7.6,7.6,5.2,5.2,6.3,6.3,4.3,4.3,5.4,5.4,5.4,6.2,6.2,5.2,5.2,5.2,6.5,6.5,6.5,4.0,4.0,4.0,4.4,4.4,4.4,5.6,5.6,5.6,7.8,7.8,7.8,7.2,7.2,7.2,4.3,4.3,6.7,6.7,6.7,5.4,5.4,5.4,1.9,1.9,1.9,4.8,7.3,7.9,1.8,1.8,1.8,2.9,2.9,2.9,6.8,6.8,6.8,3.6,3.4,3.4,3.4,6.9,6.9,4.3,4.3,4.9,4.9,4.9,3.8,7.6,7.6,5.6,6.8,7.0,5.8,5.4,7.4,7.4,7.4,8.0,8.0,7.2,7.2,7.2,7.5,7.5,7.9,7.9,7.6,7.6,6.2,6.2,6.2,6.1,6.1,6.1,5.3,5.3,5.3,4.3,6.9,6.9,6.9,6.3,6.3,6.3,3.7,3.7,6.0,6.2,6.2,6.2,3.7,3.7,3.4,3.4,3.4,6.1,6.1,6.3,4.6,4.6,2.9,2.9,2.9,2.3,2.3,4.5,4.5,4.5,7.0,7.0,7.0,5.8,5.8,5.8,7.1,7.1,7.1,7.3,7.3,3.3,6.4,6.4,3.1,6.8,6.8,6.8,5.1,5.1,5.1,6.5,6.5,6.6,6.6,6.6,3.7,3.7,7.6,7.6,7.6,6.5,6.5,6.5,3.1,2.9,4.7,5.8,5.8,7.6,4.7,4.7,5.3,5.3,5.3,6.5,7.4,7.4,7.4,6.3,6.3,6.3,6.7,1.7,1.7,1.7,5.4,5.4,5.4,6.6,6.8,6.8,6.8,7.2,7.2,7.2,3.7,8.0,5.8,6.0,6.7,6.7,6.7,3.9,3.9,3.9,3.4,3.4,3.4,7.5,7.5,5.7,5.7,5.7,4.5,4.5,4.5,5.9,5.9,5.9,4.7,4.7,4.7,6.7,6.7,6.7,5.4,6.4,6.4,6.4,7.6,7.6,6.8,6.9,6.1,6.1,6.1,3.6,7.3,4.8,4.8,7.1,8.1,8.1,8.1,6.2,6.2,7.5,7.5,7.5,2.3,5.0,5.0,5.0,5.6,5.6,5.6,5.1,5.1,6.7,6.7,6.7,5.8,5.8,7.2,6.9,6.9,6.9,6.2,6.2,6.2,7.7,7.7,7.7,5.7,5.7,4.2,4.2,4.2,4.3,4.3,4.3,2.9,2.9,2.9,5.7,5.7,5.7,7.2,7.2,3.5,5.9,5.9,5.9,4.8,4.8,4.8,6.8,6.8,6.4,6.4,6.4,6.3,6.3,6.3,2.8,2.8,2.8,3.3,3.3,3.3,9.0,3.9,9.3,5.4,5.4,5.4,5.5,5.9,7.6,7.6,3.2,8.0,8.0,7.7,5.2,5.2,5.2,4.5,7.0,7.0,6.8,6.8,6.8,4.9,4.6,4.6,7.0,8.4,5.1,8.5,4.5,4.5,4.5,6.9,6.9,6.4,6.4,6.4,6.7,7.6,3.5,3.5,3.5,6.5,6.5,4.6,4.6,6.6,6.6,6.6,7.0,6.8,6.8,6.7,4.6,4.6,4.6,6.4,8.7,5.6,6.1,7.4,7.4,6.8,6.8,6.8,5.2,5.2,5.2,7.8,5.6,5.6,5.6,4.2,4.2,4.2,5.0,5.0,7.7,7.7,7.5,7.5,7.4,7.4,7.7,7.7,7.7,6.9,6.9,3.9,3.9,3.9,6.8,6.8,6.8,5.2,5.2,5.2,4.2,4.2,4.2,6.9,6.6,6.6,6.6,3.9,4.3,4.3,2.6,2.6,2.6,3.5,4.9,4.9,4.9,6.1,6.1,6.1,6.2,6.2,6.8,6.8,6.8,6.3,6.9,6.9,6.9,5.8,5.8,5.8,6.8,6.0,6.0,5.7,5.7,5.7,3.3,3.3,3.3,5.5,5.5,5.5,7.2,2.7,2.7,2.7,6.5,6.5,6.5,7.7,6.4,6.4,4.8,4.8,4.8,5.7,7.5,7.5,7.5,6.5,6.5,6.5,6.6,6.6,4.0,4.0,4.0,5.4,5.4,5.4,3.7,3.7,6.3,7.1,7.1,7.1,6.2,6.2,6.2,6.2,6.2,6.4,6.4,6.4,5.7,5.7,5.4,7.1,7.1,7.2,7.2,7.2,7.2,6.4,6.4,6.4,6.0,6.0,4.9,7.6,7.6,7.6,6.3,6.3,7.7,7.7,8.2,8.2,5.8,3.1,3.1,8.2,7.1,7.1,5.6,6.5,6.5,6.5,5.9,5.9,5.7,7.1,7.2,7.2,6.2,6.2,6.2,6.8,6.8,6.8,5.1,6.7,2.8,2.8,2.8,5.2,5.2,5.2,5.1,5.8,5.8,5.8,5.1,5.1,5.1,5.7,5.7,5.7,4.8,4.4,3.5,3.5,6.5,6.5,3.4,3.4,6.9,6.0,6.0,6.0,6.8,2.9,7.5,7.5,7.5,6.7,6.7,6.7,7.3,7.3,7.3,4.5,4.5,8.6,8.6,5.8,6.5,6.5,6.5,1.1,1.1,7.1,7.1,7.1,7.2,6.6,6.6,4.5,4.5,8.4,8.4,7.2,7.2,6.1,6.4,5.6,5.6,6.0,6.0,6.0,6.6,6.6,7.2,7.2,7.2,4.4,4.4,4.4,6.8,6.8,6.8,4.7,4.8,4.8,4.8,8.3,8.3,5.7,5.7,4.2,4.2,4.2,6.1,6.1,6.1,6.7,6.7,7.1,7.1,7.1,4.1,6.6,6.6,6.6,5.4,5.4,5.8,5.8,5.8,5.8,8.0,8.0,6.2,6.2,6.2,6.4,5.1,5.1,5.1,7.6,7.6,3.6,5.6,7.3,6.9,6.6,6.6,6.6,6.2,7.5,7.1,7.1,6.7,6.7,6.7,6.9,6.9,6.9,5.4,6.7,7.8,7.8,7.8,7.4,7.4,7.4,5.8,5.8,5.8,6.2,6.2,6.1,6.1,6.1,6.0,6.0,5.5,5.5,5.5,4.8,4.8,4.8,5.4,5.4,3.2,3.2,4.8,4.8,4.8,7.4,7.4,7.4,6.9,6.3,6.3,6.3,5.4,5.4,7.5,7.5,7.5,7.3,7.3,7.3,4.2,4.2,5.6,5.6,6.8,6.8,6.8,6.7,3.2,3.2,7.0,7.0,6.9,6.9,6.2,6.2,6.2,7.0,7.7,7.7,7.7,6.2,6.2,6.2,5.0,5.0,6.4,6.4,6.6,6.6,7.3,7.9,8.1,6.5,6.5,6.7,2.8,2.8,2.8,5.8,5.8,6.7,6.7,7.1,7.1,6.8,3.3,3.3,7.2,5.2,5.2,5.2,7.2,6.8,4.5,4.5,4.5,7.3,7.3,7.3,6.4,6.4,7.3,7.3,4.7,4.7,4.7,7.9,7.9,7.9,4.1,4.1,4.1,6.6,5.2,8.1,8.1,6.8,6.8,6.9,6.9,6.2,7.5,3.9,3.9,7.0,7.6,7.6,7.6,4.9,4.9,4.9,6.7,6.7,6.7,4.8,4.8,5.3,5.4,5.4,6.7,6.3,6.3,5.0,5.0,5.3,5.3,5.3,6.8,6.8,7.2,7.2,7.2,8.2,8.2,8.2,5.9,5.9,5.9,5.9,7.2,7.2,8.2,7.1,7.1,5.2,5.2,5.7,5.7,5.7,4.0,4.0,7.2,7.2,3.8,7.2,7.2,6.8,6.8,6.8,5.8,5.8,5.8,3.8,4.7,6.0,6.2,6.1,6.1,6.1,6.5,6.5,6.5,6.3,6.3,7.6,7.6,7.6,6.3,6.3,5.5,7.6,7.6,7.6,6.2,6.2,2.5,5.3,6.0,6.0,4.1,4.1,4.1,6.5,3.8,3.8,7.5,7.8,7.8,9.3,9.3,8.1,8.1,8.1,6.8,6.8,7.5,7.5,6.8,6.8,6.8,6.8,4.4,4.4,4.4,6.8,6.8,7.7,7.7,7.7,6.9,6.8,6.8,5.3,5.2,4.1,4.1,4.1,5.1,6.9,5.6,5.6,7.6,7.6,3.5,4.1,4.1,4.1,4.9,6.0,6.0,7.1,7.1,7.1,3.5,3.5,3.5,5.4,5.4,5.4,5.1,5.1,6.6,6.6,6.6,6.2,6.2,6.2,5.6,5.6,5.6,7.4,7.1,7.1,7.1,7.2,7.2,7.9,7.9,7.9,6.8,6.8,6.8,6.3,6.3,4.6,8.2,8.2,6.9,6.9,6.9,7.4,5.0,5.0,7.1,5.4,5.4,5.4,7.2,7.2,7.2,4.3,4.8,4.9,4.9,4.9,2.3,2.3,2.3,3.2,3.2,6.8,6.8,6.0,6.0,7.7,7.7,7.7,2.6,2.6,2.6,6.7,6.1,6.1,6.3,6.3,6.3,3.5,3.5,6.5,6.5,6.5,6.6,6.6,6.8,6.8,6.8,5.2,5.2,5.2,7.2,7.2,7.2,6.5,5.6,5.6,5.6,5.5,5.5,5.5,6.0,6.0,6.0,4.3,5.5,7.4,7.4,7.4,6.6,6.6,6.6,7.1,7.1,5.8,4.9,4.9,4.9,6.8,4.6,4.6,4.6,5.5,5.5,4.9,7.0,7.0,7.0,6.7,6.7,6.4,6.4,6.4,3.5,3.5,4.6,4.6,6.1,6.1,6.9,6.9,6.9,7.2,6.1,6.1,7.3,7.3,7.3,7.4,7.2,3.9,6.5,4.2,8.5,8.5,5.4,5.4,5.4,4.0,5.1,4.5,4.5,4.5,3.6,3.6,6.6,6.6,3.8,3.8,3.8,4.6,4.6,4.6,5.7,5.7,5.7,5.6,5.6,7.0,4.9,5.6,5.6,4.6,4.6,8.1,7.0,7.0,4.8,4.8,4.2,8.1,8.1,8.1,3.9,3.9,3.9,4.6,4.6,4.6,4.7,4.7,4.7,6.2,6.2,6.2,4.2,4.2,6.2,6.2,5.2,7.3,7.3,6.5,6.5,6.5,8.2,8.2,8.2,7.7,7.7,7.7,6.8,5.0,7.1,7.1,7.1,5.9,5.9,5.9,7.2,7.2,7.2,6.6,5.7,2.3,2.3,2.3,6.4,6.4,6.4,3.4,3.4,6.5,3.6,3.6,3.6,7.3,7.3,6.3,6.3,8.0,8.0,8.0,7.5,7.5,7.5,7.0,7.0,7.0,7.2,4.8,4.8,8.2,8.2,7.0,7.0,7.0,6.4,6.4,6.4,6.6,6.6,5.0,5.0,6.3,6.3,6.9,6.9,5.8,5.8,4.5,6.0,6.0,6.0,7.9,7.9,7.9,6.4,5.1,5.1,5.1,7.2,6.6,6.2,6.2,7.5,7.3,6.4,6.4,6.4,3.9,3.9,4.5,4.5,2.9,6.2,6.6,6.6,4.0,7.3,7.3,7.3,2.5,2.5,2.5,7.1,7.1,8.5,8.5,5.6,5.6,5.6,5.1,5.1,5.1,9.3,9.3,9.3,5.1,5.1,6.5,6.5,5.0,5.0,5.7,5.7,5.7,5.6,5.6,6.8,6.8,6.8,5.5,5.5,5.7,5.7,5.7,5.1,5.1,5.1,4.2,4.2,4.2,7.7,7.7,6.2,6.2,6.2,3.4,5.8,5.1,5.1,6.5,6.5,7.5,7.5,7.5,5.5,6.9,6.3,6.3,6.3,5.3,6.6,6.6,6.6,7.1,7.1,6.5,6.5,6.5,6.5,6.5,5.9,5.9,5.9,4.3,4.3,4.3,7.4,7.4,7.4,7.2,7.2,6.1,6.1,6.1,5.9,5.9,6.9,6.2,6.2,6.2,7.0,7.0,7.0,6.0,5.1,5.1,5.1,5.5,5.5,2.8,4.0,4.0,3.5,3.5,3.5,5.3,5.3,8.1,8.1,8.1,6.0,6.0,4.8,4.8,7.2,7.2,6.7,6.7,6.7,7.1,7.1,9.1,7.4,7.4,7.4,5.6,6.3,6.3,6.1,6.1,6.1,5.8,5.6,5.6,5.6,7.1,7.1,5.8,5.8,5.7,5.7,5.7,5.3,5.3,4.7,6.1,5.9,8.0,8.0,8.0,2.9,2.9,2.9,6.5,6.5,4.9,4.9,4.9,7.8,7.8,4.6,4.6,8.5,8.5,4.4,4.4,7.8,7.8,7.8,6.3,6.3,6.3,7.5,7.5,7.5,8.2,8.2,6.2,6.2,5.6,6.2,6.2,5.8,5.8,4.9,4.9,4.9,7.5,7.6,7.6,3.6,3.6,5.2,3.7,3.7,3.7,6.3,6.9,6.9,6.9,6.5,5.3,5.3,5.3,2.2,2.2,2.2,2.6,2.6,2.6,6.7,6.7,6.7,5.4,6.5,6.5,6.5,8.2,8.2,8.2,7.2,3.7,3.7,3.7,4.0,4.0,4.0,6.7,6.7,6.7,5.7,5.7,5.7,4.8,4.8,6.1,6.4,6.4,6.8,6.8,7.3,7.3,7.1,7.1,3.2,3.2,3.2,5.6,5.6,7.0,7.0,7.0,6.2,6.2,6.2,7.1,7.1,6.9,6.3,6.3,6.3,5.4,5.4,5.9,5.9,5.9,5.3,5.3,5.3,6.6,6.8,6.8,6.8,5.4,5.4,5.4,6.1,6.1,5.6,5.6,4.5,2.5,2.5,2.5,8.6,6.5,6.8,4.3,4.3,4.3,5.9,8.0,8.0,1.9,1.9,1.9,4.6,4.6,4.6,5.5,5.5,4.5,4.5,4.5,8.0,6.0,6.0,6.4,6.4,6.4,6.8,6.8,6.8,6.7,6.7,6.7,5.7,5.7,5.9,7.3,7.3,7.3,4.1,4.1,4.1,6.3,6.3,6.3,5.4,5.4,5.4,4.5,4.5,7.3,8.2,6.5,6.8,6.3,6.3,6.7,5.5,5.5,5.5,6.7,7.4,7.4,7.4,6.1,6.1,3.4,3.4,3.4,4.2,4.2,8.7,5.6,5.6,5.6,6.7,6.7,6.7,7.3,7.3,4.8,4.8,4.5,4.5,4.5,4.4,7.2,7.2,7.2,4.7,5.6,4.7,4.7,5.7,5.7,5.7,5.4,5.4,5.4,5.3,5.3,7.5,7.5,6.6,6.6,6.7,6.7,6.7,5.0,5.0,5.0,5.7,5.7,6.1,4.6,4.6,4.6,5.4,6.7,7.2,7.2,7.2,4.7,4.7,4.7,4.3,4.3,6.6,6.6,5.5,5.5,5.5,5.4,5.4,5.4,8.2,8.2,8.2,4.0,4.0,4.4,4.4,6.8,7.6,7.3,7.3,7.3,5.1,5.6,5.6,5.6,8.4,8.4,6.0,6.0,6.0,7.6,7.6,7.6,8.7,7.5,7.5,7.5,6.8,6.8,6.8,7.6,7.6,7.6,7.2,7.2,6.0,6.3,6.3,4.2,4.2,4.2,6.5,6.5,6.5,7.3,5.5,6.9,6.9,6.9,4.5,4.5,4.5,7.6,4.6,4.6,4.6,5.0,5.0,7.2,7.2,8.1,3.8,5.6,5.6,5.6,3.8,4.5,4.5,4.5,3.9,3.9,3.9,6.9,6.9,4.4,4.4,4.4,2.6,2.6,7.4,7.1,7.1,7.1,5.2,5.2,6.9,6.9,6.3,7.3,7.3,7.3,6.4,6.4,6.4,7.3,7.3,7.3,4.0,4.0,6.8,5.8,5.8,5.8,6.9,6.9,4.1,4.1,4.1,6.3,6.3,6.3,6.4,7.5,2.6,2.6,6.3,6.3,6.3,5.2,5.2,6.4,6.4,2.6,2.6,2.6,7.9,7.9,7.9,7.7,7.7,7.7,5.9,6.3,6.3,6.3,2.5,2.5,2.5,5.5,5.5,5.5,5.4,1.8,1.8,3.0,3.0,6.0,6.0,6.0,4.9,4.0,2.6,2.6,2.6,7.2,7.2,4.3,5.1,7.4,7.4,7.4,2.4,5.3,5.3,5.3,5.3,5.3,5.3,7.2,7.2,6.2,6.2,6.2,5.8,5.8,5.8,5.9,6.2,6.2,6.1,3.1,3.1,7.0,5.7,5.7,5.7,6.7,5.0,5.4,5.4,5.4,4.7,4.7,4.7,5.3,5.3,6.8,6.8,6.8,6.2,4.0,4.0,4.0,7.0,7.0,7.0,3.9,3.9,3.9,5.2,5.2,5.9,5.9,5.9,5.7,5.7,5.6,5.6,5.6,6.1,6.1,4.7,7.9,7.9,6.8,6.7,6.7,6.7,4.2,4.8,4.8,4.8,6.3,6.3,6.0,6.0,7.3,7.1,7.1,5.7,6.8,6.8,6.8,6.9,6.9,6.9,6.4,6.4,6.4,6.1,6.1,6.1,7.4,7.4,7.4,5.6,5.6,5.4,5.4,8.0,8.0,8.0,5.9,6.8,6.8,7.6,7.6,7.6,7.7,6.4,7.2,7.2,7.2,5.9,6.1,6.1,6.1,2.4,6.6,6.6,6.6,3.6,6.0,6.0,6.0,7.5,7.5,7.5,5.1,6.9,6.9,6.4,6.4,6.4,6.0,6.0,6.0,3.4,3.4,3.4,6.2,5.4,9.2,5.0,5.0,5.0,5.2,5.2,7.6,7.6,7.6,4.4,4.4,4.4,7.1,7.1,7.1,6.1,6.5,6.5,6.5,6.2,7.1,7.1,7.1,6.5,6.5,4.1,4.1,4.1,5.3,5.3,5.3,3.5,8.0,8.0,7.2,6.8,6.8,7.3,7.3,7.2,6.4,6.4,6.4,6.0,6.6,6.1,4.7,4.7,4.7,7.9,5.9,7.3,7.3,7.3,8.1,8.1,8.1,2.0,2.0,2.0,7.2,7.2,6.2,6.2,7.8,7.8,7.9,7.9,7.9,4.6,4.6,4.6,7.8,7.8,4.4,4.4,7.0,4.0,4.0,5.8,5.8,6.4,6.2,6.2,6.2,5.3,3.5,3.5,5.7,8.7,8.7,8.7,5.7,5.7,5.7,6.8,6.8,6.8,6.8,4.5,4.5,8.6,7.3,7.3,7.3,9.4,2.9,6.9,7.0,7.0,7.0,6.6,6.6,6.6,8.0,8.0,4.9,6.7,7.7,7.7,7.7,7.3,6.4,6.4,6.4,6.8,6.8,7.6,7.6,5.9,5.7,5.7,5.7,7.2,7.2,7.2,7.4,7.4,7.4,7.1,7.8,7.8,7.8,7.3,8.1,8.1,6.4,6.4,6.4,4.4,4.3,4.3,4.3,5.7,5.7,4.6,5.7,5.7,5.7,6.5,6.5,6.5,6.9,6.9,6.0,6.0,6.0,6.7,6.7,7.4,7.4,7.4,5.2,7.1,7.1,4.5,4.5,4.5,7.0,7.0,6.8,6.8,5.9,5.9,3.3,3.3,7.3,7.3,7.3,4.2,4.2,4.2,6.6,6.6,6.6,5.5,5.5,4.4,4.4,4.4,4.9,4.9,4.9,7.0,7.0,7.0,5.9,5.9,5.9,7.3,7.3,6.4,6.6,5.9,5.8,5.8,5.8,7.1,7.1,7.1,4.1,4.1,6.4,5.9,5.9,5.9,7.3,7.9,5.9,5.9,5.9,4.1,1.8,1.8,5.4,6.3,6.9,6.9,6.9,5.0,5.0,5.0,4.1,4.1,7.6,7.6,7.6,4.3,4.3,6.7,6.7,6.7,4.4,4.4,4.4,6.9,6.9,5.1,5.1,5.2,5.2,5.5,5.5,7.2,7.2,3.2,3.2,3.2,7.9,4.9,4.9,5.7,5.7,3.4,4.2,4.2,4.2,5.7,5.4,2.6,2.6,6.8,6.8,6.8,4.2,4.2,4.2,5.0,5.0,5.0,7.6,6.3,6.3,6.7,6.7,6.7,6.5,5.6,5.6,5.6,6.7,6.7,7.6,7.6,5.3,5.3,5.3,6.1,6.1,6.3,6.3,6.3,7.0,4.8,4.8,5.1,2.4,2.4,7.3,7.2,6.0,7.7,7.7,7.7,5.2,5.2,5.2,7.3,8.0,5.2,5.2,5.2,3.8,3.8,4.5,4.5,4.5,6.4,6.2,6.2,6.6,6.6,6.0,4.8,4.8,7.5,7.5,7.0,7.0,3.9,4.7,4.7,4.7,5.0,5.0,5.6,5.6,4.6,4.6,4.6,2.4,2.4,2.4,8.3,8.3,8.3,5.6,5.6,6.1,7.0,7.0,5.6,5.6,5.6,7.0,7.0,4.5,4.5,6.5,6.5,6.5,5.9,5.9,5.1,5.1,5.1,8.1,5.5,5.5,5.0,6.9,4.8,6.8,5.9,5.9,5.8,6.6,4.5,4.5,4.5,8.1,3.5,5.0,5.0,7.8,7.8,7.8,8.0,8.0,8.0,3.7,3.7,6.8,6.8,6.8,6.2,6.2,6.9,6.5,7.0,7.0,7.0,4.4,4.4,5.5,5.5,5.5,4.2,4.2,4.2,6.6,5.5,5.5,5.5,5.5,6.6,6.6,8.2,6.6,6.6,5.8,5.1,5.1,5.1,5.7,5.7,5.7,4.2,4.2,7.3,6.5,6.5,6.5,3.3,3.3,3.3,7.0,7.0,7.8,7.2,7.5,7.5,7.5,6.7,7.4,7.4,7.4,8.2,8.2,8.2,7.1,7.1,6.9,6.8,6.8,6.8,5.2,3.8,3.8,3.8,7.4,7.4,7.4,4.4,4.4,5.6,6.9,6.9,6.9,6.0,6.0,4.2,4.2,4.1,4.1,4.1,4.8,4.8,4.9,4.9,6.9,6.9,6.9,5.6,5.6,5.6,4.8,4.5,4.5,4.5,5.8,5.8,5.8,8.0,8.0,8.0,5.0,5.0,5.3,6.8,6.8,8.5,8.5,8.5,7.7,7.7,7.7,7.3,7.3,5.5,5.5,5.5,7.0,7.0,7.0,7.0,4.7,8.2,6.0,6.0,6.0,7.4,4.5,4.5,4.5,5.1,3.7,3.7,4.5,4.5,4.5,7.0,7.0,7.0,6.8,6.8,7.2,7.2,7.2,6.6,6.6,6.5,6.4,6.4,6.4,6.6,6.6,6.6,5.3,5.3,5.3,3.2,2.8,2.8,5.7,5.7,6.0,5.8,5.0,7.8,7.8,7.8,6.7,6.7,6.0,6.7,6.7,6.7,5.4,5.4,5.4,6.7,6.7,6.7,6.9,6.9,7.8,7.8,7.1,7.1,7.1,5.3,5.3,5.3,3.8,3.8,7.2,7.2,5.2,5.2,6.5,7.1,7.2,5.6,5.6,5.6,5.0,5.0,5.0,7.3,6.1,6.1,6.1,7.3,7.3,7.3,3.7,3.7,6.2,5.3,5.3,5.3,5.6,8.9,7.5,7.5,7.5,2.9,2.9,4.3,7.1,7.1,4.9,4.9,4.9,5.1,5.1,5.1,7.2,7.2,7.2,8.1,8.1,5.9,5.9,5.3,6.5,6.5,6.5,6.6,6.6,6.6,6.6,6.6,5.6,5.6,5.4,5.4,5.4,6.6,6.6,6.6,3.7,3.7,3.7,6.7,3.8,3.8,3.8,3.7,3.7,3.7,4.5,4.5,5.4,5.5,5.5,5.5,7.2,7.2,4.4,4.4,4.4,6.9,6.9,6.9,6.7,7.6,7.6,7.6,6.6,6.6,6.6,6.6,6.5,6.5,6.5,4.5,4.5,7.8,7.8,6.0,6.0,6.0,6.3,6.3,6.3,5.9,5.9,5.9,6.8,6.8,6.8,6.5,6.5,6.5,5.4,5.4,6.8,6.8,6.4,6.4,4.6,4.6,7.1,7.1,4.1,4.1,5.7,5.7,5.7,7.7,7.1,7.1,7.1,5.6,5.6,5.6,4.8,4.9,3.8,3.8,6.9,6.9,4.3,4.3,4.3,4.2,4.2,4.2,7.5,7.5,7.5,6.0,6.0,6.0,7.9,5.2,5.2,5.2,1.6,1.6,6.9,6.9,7.3,5.4,6.5,5.0,5.0,5.0,4.6,4.6,4.6,4.9,4.9,7.3,7.3,7.3,4.9,5.8,5.8,5.8,5.5,6.8,5.1,5.1,3.9,3.9,6.0,6.0,4.5,9.0,9.0,6.4,6.4,6.4,4.8,6.2,6.2,7.6,7.6,4.6,7.6,7.6,7.6,6.4,6.4,6.4,7.1,6.4,3.3,7.6,7.6,8.1,3.9,3.9,2.7,5.2,5.2,5.2,5.7,7.7,7.7,7.7,5.9,5.9,5.9,6.5,6.5,4.4,4.4,4.4,5.4,3.5,3.5,3.7,3.7,4.2,4.2,4.2,6.3,6.3,6.3,5.6,7.1,7.1,7.1,2.7,2.7,7.0,6.0,6.6,5.1,7.2,7.2,7.2,7.0,7.0,7.0,5.1,5.1,3.3,3.3,3.3,5.4,5.4,5.4,6.7,3.2,3.2,3.4,3.4,4.5,4.5,4.5,4.7,4.7,4.7,5.4,6.1,4.4,4.4,4.4,6.3,6.3,6.4,4.6,3.4,3.4,3.4,7.6,5.8,5.8,3.9,3.9,4.3,4.3,5.4,5.4,6.4,6.4,6.4,6.0,6.0,6.0,4.7,4.7,6.8,6.8,3.6,3.6,6.6,5.2,5.2,5.2,4.7,4.7,4.7,4.4,4.4,4.4,3.3,7.1,7.1,7.1,5.2,4.4,6.1,3.8,3.8,3.8,3.7,3.7,3.7,4.9,4.9,4.1,4.1,4.1,3.4,6.0,6.0,6.0,8.0,8.0,8.0,7.5,7.5,7.5,8.6,6.5,6.5,6.5,7.2,7.2,7.2,3.0,3.0,5.2,5.2,5.2,4.8,6.4,6.4,6.8,6.8,6.8,7.2,7.2,7.2,4.6,4.6,7.8,7.8,5.1,5.1,5.7,5.7,5.9,7.0,6.2,6.2,6.2,7.7,7.7,7.7,7.4,7.4,7.4,4.8,4.8,4.8,4.1,4.1,4.1,4.9,4.9,5.3,5.3,4.6,4.6,7.9,6.2,6.2,4.0,4.0,4.0,5.0,4.7,4.7,4.7,5.6,5.6,6.0,6.0,4.9,4.9,4.9,3.8,3.8,3.8,6.8,6.8,6.3,6.3,6.3,5.5,5.5,5.5,5.3,5.3,5.3,6.0,6.0,6.0,5.5,5.5,6.2,6.2,3.0,3.0,3.3,7.6,7.6,7.6,3.2,3.2,3.2,7.6,7.6,7.6,6.3,7.7,7.7,7.7,6.4,6.4,5.4,5.4,5.4,7.1,7.1,5.4,5.4,5.4,4.7,4.7,4.4,4.4,4.4,6.9,6.9,5.8,5.8,3.6,3.6,3.6,4.8,4.8,4.8,5.3,4.9,4.9,4.9,7.1,7.1,3.9,7.1,6.5,6.5,6.5,7.0,6.8,6.8,2.8,2.7,2.7,6.0,8.2,8.2,8.2,3.7,5.5,5.5,8.2,8.2,4.4,6.0,5.7,4.0,4.0,4.0,5.7,4.3,4.3,4.3,5.6,5.6,5.6,6.1,6.2,6.2,6.2,5.8,5.8,5.8,4.5,4.5,6.2,6.2],\"xaxis\":\"x\",\"yaxis\":\"y\",\"type\":\"histogram\"}],                        {\"template\":{\"data\":{\"histogram2dcontour\":[{\"type\":\"histogram2dcontour\",\"colorbar\":{\"outlinewidth\":0,\"ticks\":\"\"},\"colorscale\":[[0.0,\"#0d0887\"],[0.1111111111111111,\"#46039f\"],[0.2222222222222222,\"#7201a8\"],[0.3333333333333333,\"#9c179e\"],[0.4444444444444444,\"#bd3786\"],[0.5555555555555556,\"#d8576b\"],[0.6666666666666666,\"#ed7953\"],[0.7777777777777778,\"#fb9f3a\"],[0.8888888888888888,\"#fdca26\"],[1.0,\"#f0f921\"]]}],\"choropleth\":[{\"type\":\"choropleth\",\"colorbar\":{\"outlinewidth\":0,\"ticks\":\"\"}}],\"histogram2d\":[{\"type\":\"histogram2d\",\"colorbar\":{\"outlinewidth\":0,\"ticks\":\"\"},\"colorscale\":[[0.0,\"#0d0887\"],[0.1111111111111111,\"#46039f\"],[0.2222222222222222,\"#7201a8\"],[0.3333333333333333,\"#9c179e\"],[0.4444444444444444,\"#bd3786\"],[0.5555555555555556,\"#d8576b\"],[0.6666666666666666,\"#ed7953\"],[0.7777777777777778,\"#fb9f3a\"],[0.8888888888888888,\"#fdca26\"],[1.0,\"#f0f921\"]]}],\"heatmap\":[{\"type\":\"heatmap\",\"colorbar\":{\"outlinewidth\":0,\"ticks\":\"\"},\"colorscale\":[[0.0,\"#0d0887\"],[0.1111111111111111,\"#46039f\"],[0.2222222222222222,\"#7201a8\"],[0.3333333333333333,\"#9c179e\"],[0.4444444444444444,\"#bd3786\"],[0.5555555555555556,\"#d8576b\"],[0.6666666666666666,\"#ed7953\"],[0.7777777777777778,\"#fb9f3a\"],[0.8888888888888888,\"#fdca26\"],[1.0,\"#f0f921\"]]}],\"heatmapgl\":[{\"type\":\"heatmapgl\",\"colorbar\":{\"outlinewidth\":0,\"ticks\":\"\"},\"colorscale\":[[0.0,\"#0d0887\"],[0.1111111111111111,\"#46039f\"],[0.2222222222222222,\"#7201a8\"],[0.3333333333333333,\"#9c179e\"],[0.4444444444444444,\"#bd3786\"],[0.5555555555555556,\"#d8576b\"],[0.6666666666666666,\"#ed7953\"],[0.7777777777777778,\"#fb9f3a\"],[0.8888888888888888,\"#fdca26\"],[1.0,\"#f0f921\"]]}],\"contourcarpet\":[{\"type\":\"contourcarpet\",\"colorbar\":{\"outlinewidth\":0,\"ticks\":\"\"}}],\"contour\":[{\"type\":\"contour\",\"colorbar\":{\"outlinewidth\":0,\"ticks\":\"\"},\"colorscale\":[[0.0,\"#0d0887\"],[0.1111111111111111,\"#46039f\"],[0.2222222222222222,\"#7201a8\"],[0.3333333333333333,\"#9c179e\"],[0.4444444444444444,\"#bd3786\"],[0.5555555555555556,\"#d8576b\"],[0.6666666666666666,\"#ed7953\"],[0.7777777777777778,\"#fb9f3a\"],[0.8888888888888888,\"#fdca26\"],[1.0,\"#f0f921\"]]}],\"surface\":[{\"type\":\"surface\",\"colorbar\":{\"outlinewidth\":0,\"ticks\":\"\"},\"colorscale\":[[0.0,\"#0d0887\"],[0.1111111111111111,\"#46039f\"],[0.2222222222222222,\"#7201a8\"],[0.3333333333333333,\"#9c179e\"],[0.4444444444444444,\"#bd3786\"],[0.5555555555555556,\"#d8576b\"],[0.6666666666666666,\"#ed7953\"],[0.7777777777777778,\"#fb9f3a\"],[0.8888888888888888,\"#fdca26\"],[1.0,\"#f0f921\"]]}],\"mesh3d\":[{\"type\":\"mesh3d\",\"colorbar\":{\"outlinewidth\":0,\"ticks\":\"\"}}],\"scatter\":[{\"fillpattern\":{\"fillmode\":\"overlay\",\"size\":10,\"solidity\":0.2},\"type\":\"scatter\"}],\"parcoords\":[{\"type\":\"parcoords\",\"line\":{\"colorbar\":{\"outlinewidth\":0,\"ticks\":\"\"}}}],\"scatterpolargl\":[{\"type\":\"scatterpolargl\",\"marker\":{\"colorbar\":{\"outlinewidth\":0,\"ticks\":\"\"}}}],\"bar\":[{\"error_x\":{\"color\":\"#2a3f5f\"},\"error_y\":{\"color\":\"#2a3f5f\"},\"marker\":{\"line\":{\"color\":\"#E5ECF6\",\"width\":0.5},\"pattern\":{\"fillmode\":\"overlay\",\"size\":10,\"solidity\":0.2}},\"type\":\"bar\"}],\"scattergeo\":[{\"type\":\"scattergeo\",\"marker\":{\"colorbar\":{\"outlinewidth\":0,\"ticks\":\"\"}}}],\"scatterpolar\":[{\"type\":\"scatterpolar\",\"marker\":{\"colorbar\":{\"outlinewidth\":0,\"ticks\":\"\"}}}],\"histogram\":[{\"marker\":{\"pattern\":{\"fillmode\":\"overlay\",\"size\":10,\"solidity\":0.2}},\"type\":\"histogram\"}],\"scattergl\":[{\"type\":\"scattergl\",\"marker\":{\"colorbar\":{\"outlinewidth\":0,\"ticks\":\"\"}}}],\"scatter3d\":[{\"type\":\"scatter3d\",\"line\":{\"colorbar\":{\"outlinewidth\":0,\"ticks\":\"\"}},\"marker\":{\"colorbar\":{\"outlinewidth\":0,\"ticks\":\"\"}}}],\"scattermapbox\":[{\"type\":\"scattermapbox\",\"marker\":{\"colorbar\":{\"outlinewidth\":0,\"ticks\":\"\"}}}],\"scatterternary\":[{\"type\":\"scatterternary\",\"marker\":{\"colorbar\":{\"outlinewidth\":0,\"ticks\":\"\"}}}],\"scattercarpet\":[{\"type\":\"scattercarpet\",\"marker\":{\"colorbar\":{\"outlinewidth\":0,\"ticks\":\"\"}}}],\"carpet\":[{\"aaxis\":{\"endlinecolor\":\"#2a3f5f\",\"gridcolor\":\"white\",\"linecolor\":\"white\",\"minorgridcolor\":\"white\",\"startlinecolor\":\"#2a3f5f\"},\"baxis\":{\"endlinecolor\":\"#2a3f5f\",\"gridcolor\":\"white\",\"linecolor\":\"white\",\"minorgridcolor\":\"white\",\"startlinecolor\":\"#2a3f5f\"},\"type\":\"carpet\"}],\"table\":[{\"cells\":{\"fill\":{\"color\":\"#EBF0F8\"},\"line\":{\"color\":\"white\"}},\"header\":{\"fill\":{\"color\":\"#C8D4E3\"},\"line\":{\"color\":\"white\"}},\"type\":\"table\"}],\"barpolar\":[{\"marker\":{\"line\":{\"color\":\"#E5ECF6\",\"width\":0.5},\"pattern\":{\"fillmode\":\"overlay\",\"size\":10,\"solidity\":0.2}},\"type\":\"barpolar\"}],\"pie\":[{\"automargin\":true,\"type\":\"pie\"}]},\"layout\":{\"autotypenumbers\":\"strict\",\"colorway\":[\"#636efa\",\"#EF553B\",\"#00cc96\",\"#ab63fa\",\"#FFA15A\",\"#19d3f3\",\"#FF6692\",\"#B6E880\",\"#FF97FF\",\"#FECB52\"],\"font\":{\"color\":\"#2a3f5f\"},\"hovermode\":\"closest\",\"hoverlabel\":{\"align\":\"left\"},\"paper_bgcolor\":\"white\",\"plot_bgcolor\":\"#E5ECF6\",\"polar\":{\"bgcolor\":\"#E5ECF6\",\"angularaxis\":{\"gridcolor\":\"white\",\"linecolor\":\"white\",\"ticks\":\"\"},\"radialaxis\":{\"gridcolor\":\"white\",\"linecolor\":\"white\",\"ticks\":\"\"}},\"ternary\":{\"bgcolor\":\"#E5ECF6\",\"aaxis\":{\"gridcolor\":\"white\",\"linecolor\":\"white\",\"ticks\":\"\"},\"baxis\":{\"gridcolor\":\"white\",\"linecolor\":\"white\",\"ticks\":\"\"},\"caxis\":{\"gridcolor\":\"white\",\"linecolor\":\"white\",\"ticks\":\"\"}},\"coloraxis\":{\"colorbar\":{\"outlinewidth\":0,\"ticks\":\"\"}},\"colorscale\":{\"sequential\":[[0.0,\"#0d0887\"],[0.1111111111111111,\"#46039f\"],[0.2222222222222222,\"#7201a8\"],[0.3333333333333333,\"#9c179e\"],[0.4444444444444444,\"#bd3786\"],[0.5555555555555556,\"#d8576b\"],[0.6666666666666666,\"#ed7953\"],[0.7777777777777778,\"#fb9f3a\"],[0.8888888888888888,\"#fdca26\"],[1.0,\"#f0f921\"]],\"sequentialminus\":[[0.0,\"#0d0887\"],[0.1111111111111111,\"#46039f\"],[0.2222222222222222,\"#7201a8\"],[0.3333333333333333,\"#9c179e\"],[0.4444444444444444,\"#bd3786\"],[0.5555555555555556,\"#d8576b\"],[0.6666666666666666,\"#ed7953\"],[0.7777777777777778,\"#fb9f3a\"],[0.8888888888888888,\"#fdca26\"],[1.0,\"#f0f921\"]],\"diverging\":[[0,\"#8e0152\"],[0.1,\"#c51b7d\"],[0.2,\"#de77ae\"],[0.3,\"#f1b6da\"],[0.4,\"#fde0ef\"],[0.5,\"#f7f7f7\"],[0.6,\"#e6f5d0\"],[0.7,\"#b8e186\"],[0.8,\"#7fbc41\"],[0.9,\"#4d9221\"],[1,\"#276419\"]]},\"xaxis\":{\"gridcolor\":\"white\",\"linecolor\":\"white\",\"ticks\":\"\",\"title\":{\"standoff\":15},\"zerolinecolor\":\"white\",\"automargin\":true,\"zerolinewidth\":2},\"yaxis\":{\"gridcolor\":\"white\",\"linecolor\":\"white\",\"ticks\":\"\",\"title\":{\"standoff\":15},\"zerolinecolor\":\"white\",\"automargin\":true,\"zerolinewidth\":2},\"scene\":{\"xaxis\":{\"backgroundcolor\":\"#E5ECF6\",\"gridcolor\":\"white\",\"linecolor\":\"white\",\"showbackground\":true,\"ticks\":\"\",\"zerolinecolor\":\"white\",\"gridwidth\":2},\"yaxis\":{\"backgroundcolor\":\"#E5ECF6\",\"gridcolor\":\"white\",\"linecolor\":\"white\",\"showbackground\":true,\"ticks\":\"\",\"zerolinecolor\":\"white\",\"gridwidth\":2},\"zaxis\":{\"backgroundcolor\":\"#E5ECF6\",\"gridcolor\":\"white\",\"linecolor\":\"white\",\"showbackground\":true,\"ticks\":\"\",\"zerolinecolor\":\"white\",\"gridwidth\":2}},\"shapedefaults\":{\"line\":{\"color\":\"#2a3f5f\"}},\"annotationdefaults\":{\"arrowcolor\":\"#2a3f5f\",\"arrowhead\":0,\"arrowwidth\":1},\"geo\":{\"bgcolor\":\"white\",\"landcolor\":\"#E5ECF6\",\"subunitcolor\":\"white\",\"showland\":true,\"showlakes\":true,\"lakecolor\":\"white\"},\"title\":{\"x\":0.05},\"mapbox\":{\"style\":\"light\"}}},\"xaxis\":{\"anchor\":\"y\",\"domain\":[0.0,1.0],\"title\":{\"text\":\"Rating\"}},\"yaxis\":{\"anchor\":\"x\",\"domain\":[0.0,1.0],\"title\":{\"text\":\"Probability density\"}},\"legend\":{\"tracegroupgap\":0},\"margin\":{\"t\":60},\"barmode\":\"relative\",\"title\":{\"text\":\"distribution of rating\",\"x\":0.5,\"pad\":{\"t\":20},\"font\":{\"size\":20}}},                        {\"responsive\": true}                    ).then(function(){\n",
              "                            \n",
              "var gd = document.getElementById('b156a4c3-9232-4dd0-b6fb-9729baf9a932');\n",
              "var x = new MutationObserver(function (mutations, observer) {{\n",
              "        var display = window.getComputedStyle(gd).display;\n",
              "        if (!display || display === 'none') {{\n",
              "            console.log([gd, 'removed!']);\n",
              "            Plotly.purge(gd);\n",
              "            observer.disconnect();\n",
              "        }}\n",
              "}});\n",
              "\n",
              "// Listen for the removal of the full notebook cells\n",
              "var notebookContainer = gd.closest('#notebook-container');\n",
              "if (notebookContainer) {{\n",
              "    x.observe(notebookContainer, {childList: true});\n",
              "}}\n",
              "\n",
              "// Listen for the clearing of the current output cell\n",
              "var outputEl = gd.closest('.output');\n",
              "if (outputEl) {{\n",
              "    x.observe(outputEl, {childList: true});\n",
              "}}\n",
              "\n",
              "                        })                };                            </script>        </div>\n",
              "</body>\n",
              "</html>"
            ]
          },
          "metadata": {}
        }
      ]
    },
    {
      "cell_type": "code",
      "source": [
        "from sklearn.model_selection import train_test_split, cross_val_score\n",
        "from sklearn.linear_model import LinearRegression\n",
        "from sklearn.metrics import accuracy_score, mean_squared_error, mean_absolute_error, r2_score\n",
        "\n"
      ],
      "metadata": {
        "id": "8trvd0HpNw5V"
      },
      "execution_count": null,
      "outputs": []
    },
    {
      "cell_type": "code",
      "source": [
        "df_movie.drop('Name', axis = 1,inplace = True)\n"
      ],
      "metadata": {
        "id": "OlUWqiusN1BG"
      },
      "execution_count": null,
      "outputs": []
    },
    {
      "cell_type": "code",
      "source": [
        "genre_mean_rating = df_movie.groupby('Genre')['Rating'].transform('mean')\n",
        "df_movie['Genre_mean_rating'] = genre_mean_rating\n",
        "director_mean_rating= df_movie.groupby('Director')['Rating'].transform('mean')\n",
        "df_movie['Director_encoded'] = director_mean_rating\n",
        "actor1_mean_rating= df_movie.groupby('Actor 1')['Rating'].transform('mean')\n",
        "df_movie['Actor1_encoded'] = actor1_mean_rating\n",
        "actor2_mean_rating= df_movie.groupby('Actor 2')['Rating'].transform('mean')\n",
        "df_movie['Actor2_encoded'] = actor2_mean_rating\n",
        "actor3_mean_rating= df_movie.groupby('Actor 3')['Rating'].transform('mean')\n",
        "df_movie['Actor3_encoded'] = actor3_mean_rating\n"
      ],
      "metadata": {
        "id": "l7JaQMBuN4Yd"
      },
      "execution_count": null,
      "outputs": []
    },
    {
      "cell_type": "code",
      "source": [
        "x = df_movie[['Year','Votes','Duration','Genre_mean_rating','Director_encoded','Actor1_encoded','Actor2_encoded','Actor3_encoded']]\n",
        "y = df_movie['Rating']\n"
      ],
      "metadata": {
        "id": "0d89oVSTN8pl"
      },
      "execution_count": null,
      "outputs": []
    },
    {
      "cell_type": "code",
      "source": [
        "x_train, x_test, y_train, y_test = train_test_split(x,y,test_size=0.2,random_state=42)"
      ],
      "metadata": {
        "id": "MdVwBrEkOCSh"
      },
      "execution_count": null,
      "outputs": []
    },
    {
      "cell_type": "code",
      "source": [
        "Model = LinearRegression()\n",
        "Model.fit(x_train,y_train)\n",
        "Model_pred = Model.predict(x_test)"
      ],
      "metadata": {
        "id": "yDZjrRFPOGet"
      },
      "execution_count": null,
      "outputs": []
    },
    {
      "cell_type": "code",
      "source": [
        "print('The performance evaluation of logistic regression is below:')\n",
        "print('mean squared error:',mean_squared_error(y_test,Model_pred))\n",
        "print('mean absolute error:',mean_absolute_error(y_test,Model_pred))\n",
        "print('r2 score:',r2_score(y_test,Model_pred))\n"
      ],
      "metadata": {
        "colab": {
          "base_uri": "https://localhost:8080/"
        },
        "id": "E1pLWfVHOLGl",
        "outputId": "60223278-3ae7-4753-e5e0-219cbe76826a"
      },
      "execution_count": null,
      "outputs": [
        {
          "output_type": "stream",
          "name": "stdout",
          "text": [
            "The performance evaluation of logistic regression is below:\n",
            "mean squared error: 0.4463977880886115\n",
            "mean absolute error: 0.4921055068501125\n",
            "r2 score: 0.7641906900948995\n"
          ]
        }
      ]
    },
    {
      "cell_type": "code",
      "source": [
        "\n",
        "x.head()"
      ],
      "metadata": {
        "colab": {
          "base_uri": "https://localhost:8080/",
          "height": 206
        },
        "id": "_8ZLy_hBOQn8",
        "outputId": "fc0a4ce5-c6c8-41b5-c3a2-5207bdcd2ea5"
      },
      "execution_count": null,
      "outputs": [
        {
          "output_type": "execute_result",
          "data": {
            "text/plain": [
              "     Year  Votes  Duration  Genre_mean_rating  Director_encoded  \\\n",
              "1 -2019.0      8       109           6.248697          7.000000   \n",
              "3 -2019.0     35       110           5.838423          4.400000   \n",
              "3 -2019.0     35       110           5.838739          4.400000   \n",
              "5 -1997.0    827       147           5.838423          5.335135   \n",
              "5 -1997.0    827       147           5.875793          5.335135   \n",
              "\n",
              "   Actor1_encoded  Actor2_encoded  Actor3_encoded  \n",
              "1        6.850000            7.00            7.00  \n",
              "3        5.250000            4.40            4.46  \n",
              "3        5.250000            4.40            4.46  \n",
              "5        4.793617            5.73            5.93  \n",
              "5        4.793617            5.73            5.93  "
            ],
            "text/html": [
              "\n",
              "  <div id=\"df-dad9b668-fd68-4091-8cd0-db14aeed4d75\" class=\"colab-df-container\">\n",
              "    <div>\n",
              "<style scoped>\n",
              "    .dataframe tbody tr th:only-of-type {\n",
              "        vertical-align: middle;\n",
              "    }\n",
              "\n",
              "    .dataframe tbody tr th {\n",
              "        vertical-align: top;\n",
              "    }\n",
              "\n",
              "    .dataframe thead th {\n",
              "        text-align: right;\n",
              "    }\n",
              "</style>\n",
              "<table border=\"1\" class=\"dataframe\">\n",
              "  <thead>\n",
              "    <tr style=\"text-align: right;\">\n",
              "      <th></th>\n",
              "      <th>Year</th>\n",
              "      <th>Votes</th>\n",
              "      <th>Duration</th>\n",
              "      <th>Genre_mean_rating</th>\n",
              "      <th>Director_encoded</th>\n",
              "      <th>Actor1_encoded</th>\n",
              "      <th>Actor2_encoded</th>\n",
              "      <th>Actor3_encoded</th>\n",
              "    </tr>\n",
              "  </thead>\n",
              "  <tbody>\n",
              "    <tr>\n",
              "      <th>1</th>\n",
              "      <td>-2019.0</td>\n",
              "      <td>8</td>\n",
              "      <td>109</td>\n",
              "      <td>6.248697</td>\n",
              "      <td>7.000000</td>\n",
              "      <td>6.850000</td>\n",
              "      <td>7.00</td>\n",
              "      <td>7.00</td>\n",
              "    </tr>\n",
              "    <tr>\n",
              "      <th>3</th>\n",
              "      <td>-2019.0</td>\n",
              "      <td>35</td>\n",
              "      <td>110</td>\n",
              "      <td>5.838423</td>\n",
              "      <td>4.400000</td>\n",
              "      <td>5.250000</td>\n",
              "      <td>4.40</td>\n",
              "      <td>4.46</td>\n",
              "    </tr>\n",
              "    <tr>\n",
              "      <th>3</th>\n",
              "      <td>-2019.0</td>\n",
              "      <td>35</td>\n",
              "      <td>110</td>\n",
              "      <td>5.838739</td>\n",
              "      <td>4.400000</td>\n",
              "      <td>5.250000</td>\n",
              "      <td>4.40</td>\n",
              "      <td>4.46</td>\n",
              "    </tr>\n",
              "    <tr>\n",
              "      <th>5</th>\n",
              "      <td>-1997.0</td>\n",
              "      <td>827</td>\n",
              "      <td>147</td>\n",
              "      <td>5.838423</td>\n",
              "      <td>5.335135</td>\n",
              "      <td>4.793617</td>\n",
              "      <td>5.73</td>\n",
              "      <td>5.93</td>\n",
              "    </tr>\n",
              "    <tr>\n",
              "      <th>5</th>\n",
              "      <td>-1997.0</td>\n",
              "      <td>827</td>\n",
              "      <td>147</td>\n",
              "      <td>5.875793</td>\n",
              "      <td>5.335135</td>\n",
              "      <td>4.793617</td>\n",
              "      <td>5.73</td>\n",
              "      <td>5.93</td>\n",
              "    </tr>\n",
              "  </tbody>\n",
              "</table>\n",
              "</div>\n",
              "    <div class=\"colab-df-buttons\">\n",
              "\n",
              "  <div class=\"colab-df-container\">\n",
              "    <button class=\"colab-df-convert\" onclick=\"convertToInteractive('df-dad9b668-fd68-4091-8cd0-db14aeed4d75')\"\n",
              "            title=\"Convert this dataframe to an interactive table.\"\n",
              "            style=\"display:none;\">\n",
              "\n",
              "  <svg xmlns=\"http://www.w3.org/2000/svg\" height=\"24px\" viewBox=\"0 -960 960 960\">\n",
              "    <path d=\"M120-120v-720h720v720H120Zm60-500h600v-160H180v160Zm220 220h160v-160H400v160Zm0 220h160v-160H400v160ZM180-400h160v-160H180v160Zm440 0h160v-160H620v160ZM180-180h160v-160H180v160Zm440 0h160v-160H620v160Z\"/>\n",
              "  </svg>\n",
              "    </button>\n",
              "\n",
              "  <style>\n",
              "    .colab-df-container {\n",
              "      display:flex;\n",
              "      gap: 12px;\n",
              "    }\n",
              "\n",
              "    .colab-df-convert {\n",
              "      background-color: #E8F0FE;\n",
              "      border: none;\n",
              "      border-radius: 50%;\n",
              "      cursor: pointer;\n",
              "      display: none;\n",
              "      fill: #1967D2;\n",
              "      height: 32px;\n",
              "      padding: 0 0 0 0;\n",
              "      width: 32px;\n",
              "    }\n",
              "\n",
              "    .colab-df-convert:hover {\n",
              "      background-color: #E2EBFA;\n",
              "      box-shadow: 0px 1px 2px rgba(60, 64, 67, 0.3), 0px 1px 3px 1px rgba(60, 64, 67, 0.15);\n",
              "      fill: #174EA6;\n",
              "    }\n",
              "\n",
              "    .colab-df-buttons div {\n",
              "      margin-bottom: 4px;\n",
              "    }\n",
              "\n",
              "    [theme=dark] .colab-df-convert {\n",
              "      background-color: #3B4455;\n",
              "      fill: #D2E3FC;\n",
              "    }\n",
              "\n",
              "    [theme=dark] .colab-df-convert:hover {\n",
              "      background-color: #434B5C;\n",
              "      box-shadow: 0px 1px 3px 1px rgba(0, 0, 0, 0.15);\n",
              "      filter: drop-shadow(0px 1px 2px rgba(0, 0, 0, 0.3));\n",
              "      fill: #FFFFFF;\n",
              "    }\n",
              "  </style>\n",
              "\n",
              "    <script>\n",
              "      const buttonEl =\n",
              "        document.querySelector('#df-dad9b668-fd68-4091-8cd0-db14aeed4d75 button.colab-df-convert');\n",
              "      buttonEl.style.display =\n",
              "        google.colab.kernel.accessAllowed ? 'block' : 'none';\n",
              "\n",
              "      async function convertToInteractive(key) {\n",
              "        const element = document.querySelector('#df-dad9b668-fd68-4091-8cd0-db14aeed4d75');\n",
              "        const dataTable =\n",
              "          await google.colab.kernel.invokeFunction('convertToInteractive',\n",
              "                                                    [key], {});\n",
              "        if (!dataTable) return;\n",
              "\n",
              "        const docLinkHtml = 'Like what you see? Visit the ' +\n",
              "          '<a target=\"_blank\" href=https://colab.research.google.com/notebooks/data_table.ipynb>data table notebook</a>'\n",
              "          + ' to learn more about interactive tables.';\n",
              "        element.innerHTML = '';\n",
              "        dataTable['output_type'] = 'display_data';\n",
              "        await google.colab.output.renderOutput(dataTable, element);\n",
              "        const docLink = document.createElement('div');\n",
              "        docLink.innerHTML = docLinkHtml;\n",
              "        element.appendChild(docLink);\n",
              "      }\n",
              "    </script>\n",
              "  </div>\n",
              "\n",
              "\n",
              "<div id=\"df-a48455e7-671f-4370-843d-14f84ac6ab6c\">\n",
              "  <button class=\"colab-df-quickchart\" onclick=\"quickchart('df-a48455e7-671f-4370-843d-14f84ac6ab6c')\"\n",
              "            title=\"Suggest charts\"\n",
              "            style=\"display:none;\">\n",
              "\n",
              "<svg xmlns=\"http://www.w3.org/2000/svg\" height=\"24px\"viewBox=\"0 0 24 24\"\n",
              "     width=\"24px\">\n",
              "    <g>\n",
              "        <path d=\"M19 3H5c-1.1 0-2 .9-2 2v14c0 1.1.9 2 2 2h14c1.1 0 2-.9 2-2V5c0-1.1-.9-2-2-2zM9 17H7v-7h2v7zm4 0h-2V7h2v10zm4 0h-2v-4h2v4z\"/>\n",
              "    </g>\n",
              "</svg>\n",
              "  </button>\n",
              "\n",
              "<style>\n",
              "  .colab-df-quickchart {\n",
              "      --bg-color: #E8F0FE;\n",
              "      --fill-color: #1967D2;\n",
              "      --hover-bg-color: #E2EBFA;\n",
              "      --hover-fill-color: #174EA6;\n",
              "      --disabled-fill-color: #AAA;\n",
              "      --disabled-bg-color: #DDD;\n",
              "  }\n",
              "\n",
              "  [theme=dark] .colab-df-quickchart {\n",
              "      --bg-color: #3B4455;\n",
              "      --fill-color: #D2E3FC;\n",
              "      --hover-bg-color: #434B5C;\n",
              "      --hover-fill-color: #FFFFFF;\n",
              "      --disabled-bg-color: #3B4455;\n",
              "      --disabled-fill-color: #666;\n",
              "  }\n",
              "\n",
              "  .colab-df-quickchart {\n",
              "    background-color: var(--bg-color);\n",
              "    border: none;\n",
              "    border-radius: 50%;\n",
              "    cursor: pointer;\n",
              "    display: none;\n",
              "    fill: var(--fill-color);\n",
              "    height: 32px;\n",
              "    padding: 0;\n",
              "    width: 32px;\n",
              "  }\n",
              "\n",
              "  .colab-df-quickchart:hover {\n",
              "    background-color: var(--hover-bg-color);\n",
              "    box-shadow: 0 1px 2px rgba(60, 64, 67, 0.3), 0 1px 3px 1px rgba(60, 64, 67, 0.15);\n",
              "    fill: var(--button-hover-fill-color);\n",
              "  }\n",
              "\n",
              "  .colab-df-quickchart-complete:disabled,\n",
              "  .colab-df-quickchart-complete:disabled:hover {\n",
              "    background-color: var(--disabled-bg-color);\n",
              "    fill: var(--disabled-fill-color);\n",
              "    box-shadow: none;\n",
              "  }\n",
              "\n",
              "  .colab-df-spinner {\n",
              "    border: 2px solid var(--fill-color);\n",
              "    border-color: transparent;\n",
              "    border-bottom-color: var(--fill-color);\n",
              "    animation:\n",
              "      spin 1s steps(1) infinite;\n",
              "  }\n",
              "\n",
              "  @keyframes spin {\n",
              "    0% {\n",
              "      border-color: transparent;\n",
              "      border-bottom-color: var(--fill-color);\n",
              "      border-left-color: var(--fill-color);\n",
              "    }\n",
              "    20% {\n",
              "      border-color: transparent;\n",
              "      border-left-color: var(--fill-color);\n",
              "      border-top-color: var(--fill-color);\n",
              "    }\n",
              "    30% {\n",
              "      border-color: transparent;\n",
              "      border-left-color: var(--fill-color);\n",
              "      border-top-color: var(--fill-color);\n",
              "      border-right-color: var(--fill-color);\n",
              "    }\n",
              "    40% {\n",
              "      border-color: transparent;\n",
              "      border-right-color: var(--fill-color);\n",
              "      border-top-color: var(--fill-color);\n",
              "    }\n",
              "    60% {\n",
              "      border-color: transparent;\n",
              "      border-right-color: var(--fill-color);\n",
              "    }\n",
              "    80% {\n",
              "      border-color: transparent;\n",
              "      border-right-color: var(--fill-color);\n",
              "      border-bottom-color: var(--fill-color);\n",
              "    }\n",
              "    90% {\n",
              "      border-color: transparent;\n",
              "      border-bottom-color: var(--fill-color);\n",
              "    }\n",
              "  }\n",
              "</style>\n",
              "\n",
              "  <script>\n",
              "    async function quickchart(key) {\n",
              "      const quickchartButtonEl =\n",
              "        document.querySelector('#' + key + ' button');\n",
              "      quickchartButtonEl.disabled = true;  // To prevent multiple clicks.\n",
              "      quickchartButtonEl.classList.add('colab-df-spinner');\n",
              "      try {\n",
              "        const charts = await google.colab.kernel.invokeFunction(\n",
              "            'suggestCharts', [key], {});\n",
              "      } catch (error) {\n",
              "        console.error('Error during call to suggestCharts:', error);\n",
              "      }\n",
              "      quickchartButtonEl.classList.remove('colab-df-spinner');\n",
              "      quickchartButtonEl.classList.add('colab-df-quickchart-complete');\n",
              "    }\n",
              "    (() => {\n",
              "      let quickchartButtonEl =\n",
              "        document.querySelector('#df-a48455e7-671f-4370-843d-14f84ac6ab6c button');\n",
              "      quickchartButtonEl.style.display =\n",
              "        google.colab.kernel.accessAllowed ? 'block' : 'none';\n",
              "    })();\n",
              "  </script>\n",
              "</div>\n",
              "\n",
              "    </div>\n",
              "  </div>\n"
            ],
            "application/vnd.google.colaboratory.intrinsic+json": {
              "type": "dataframe",
              "variable_name": "x",
              "summary": "{\n  \"name\": \"x\",\n  \"rows\": 11979,\n  \"fields\": [\n    {\n      \"column\": \"Year\",\n      \"properties\": {\n        \"dtype\": \"number\",\n        \"std\": 19.31400800311214,\n        \"min\": -2021.0,\n        \"max\": -1931.0,\n        \"num_unique_values\": 91,\n        \"samples\": [\n          -1990.0,\n          -1974.0,\n          -1970.0\n        ],\n        \"semantic_type\": \"\",\n        \"description\": \"\"\n      }\n    },\n    {\n      \"column\": \"Votes\",\n      \"properties\": {\n        \"dtype\": \"number\",\n        \"std\": 15305,\n        \"min\": 5,\n        \"max\": 591417,\n        \"num_unique_values\": 2027,\n        \"samples\": [\n          2534,\n          8372,\n          21773\n        ],\n        \"semantic_type\": \"\",\n        \"description\": \"\"\n      }\n    },\n    {\n      \"column\": \"Duration\",\n      \"properties\": {\n        \"dtype\": \"number\",\n        \"std\": 25,\n        \"min\": 21,\n        \"max\": 321,\n        \"num_unique_values\": 174,\n        \"samples\": [\n          197,\n          247,\n          86\n        ],\n        \"semantic_type\": \"\",\n        \"description\": \"\"\n      }\n    },\n    {\n      \"column\": \"Genre_mean_rating\",\n      \"properties\": {\n        \"dtype\": \"number\",\n        \"std\": 0.34438751723805816,\n        \"min\": 4.333333333333333,\n        \"max\": 8.0,\n        \"num_unique_values\": 40,\n        \"samples\": [\n          6.327197802197802,\n          5.1000000000000005,\n          6.181904761904762\n        ],\n        \"semantic_type\": \"\",\n        \"description\": \"\"\n      }\n    },\n    {\n      \"column\": \"Director_encoded\",\n      \"properties\": {\n        \"dtype\": \"number\",\n        \"std\": 1.097723217523055,\n        \"min\": 1.6,\n        \"max\": 10.0,\n        \"num_unique_values\": 654,\n        \"samples\": [\n          6.270588235294118,\n          5.400000000000001,\n          5.455555555555556\n        ],\n        \"semantic_type\": \"\",\n        \"description\": \"\"\n      }\n    },\n    {\n      \"column\": \"Actor1_encoded\",\n      \"properties\": {\n        \"dtype\": \"number\",\n        \"std\": 1.0018932461598078,\n        \"min\": 1.4,\n        \"max\": 10.0,\n        \"num_unique_values\": 496,\n        \"samples\": [\n          5.199999999999999,\n          8.0,\n          6.400000000000001\n        ],\n        \"semantic_type\": \"\",\n        \"description\": \"\"\n      }\n    },\n    {\n      \"column\": \"Actor2_encoded\",\n      \"properties\": {\n        \"dtype\": \"number\",\n        \"std\": 1.033033590425124,\n        \"min\": 1.6,\n        \"max\": 10.0,\n        \"num_unique_values\": 593,\n        \"samples\": [\n          6.1,\n          8.0,\n          6.74\n        ],\n        \"semantic_type\": \"\",\n        \"description\": \"\"\n      }\n    },\n    {\n      \"column\": \"Actor3_encoded\",\n      \"properties\": {\n        \"dtype\": \"number\",\n        \"std\": 1.0460841819887676,\n        \"min\": 1.7,\n        \"max\": 10.0,\n        \"num_unique_values\": 624,\n        \"samples\": [\n          6.975,\n          6.9750000000000005,\n          5.136363636363637\n        ],\n        \"semantic_type\": \"\",\n        \"description\": \"\"\n      }\n    }\n  ]\n}"
            }
          },
          "metadata": {},
          "execution_count": 32
        }
      ]
    },
    {
      "cell_type": "code",
      "source": [
        "y.head()"
      ],
      "metadata": {
        "colab": {
          "base_uri": "https://localhost:8080/"
        },
        "id": "sZf_pIgzOUWI",
        "outputId": "ad530f55-2d74-4719-af4e-db4a31847255"
      },
      "execution_count": null,
      "outputs": [
        {
          "output_type": "execute_result",
          "data": {
            "text/plain": [
              "1    7.0\n",
              "3    4.4\n",
              "3    4.4\n",
              "5    4.7\n",
              "5    4.7\n",
              "Name: Rating, dtype: float64"
            ]
          },
          "metadata": {},
          "execution_count": 33
        }
      ]
    },
    {
      "cell_type": "code",
      "source": [
        "#just took an data as an example to show how the model works\n",
        "data = {'Year': [2019], 'Votes': [35], 'Duration':[110], 'Genre_mean_rating': [5.8], 'Director_encoded': [4.4], 'Actor1_encoded':[5.25],'Actor2_encoded':[4.40], 'Actor3_encoded':[4.46] }\n",
        "trail = pd.DataFrame(data)"
      ],
      "metadata": {
        "id": "OZqusnDqOX6U"
      },
      "execution_count": null,
      "outputs": []
    },
    {
      "cell_type": "code",
      "source": [
        "rating_predicted = Model.predict(trail)\n",
        "print('predicted rating:',rating_predicted[0])"
      ],
      "metadata": {
        "colab": {
          "base_uri": "https://localhost:8080/"
        },
        "id": "jYDsSaSQOcw6",
        "outputId": "e21a8bec-3514-40e7-f7ff-b3a40f81fb62"
      },
      "execution_count": null,
      "outputs": [
        {
          "output_type": "stream",
          "name": "stdout",
          "text": [
            "predicted rating: -0.6759121179860181\n"
          ]
        }
      ]
    }
  ]
}